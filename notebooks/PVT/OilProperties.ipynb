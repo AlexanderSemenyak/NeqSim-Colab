{
  "nbformat": 4,
  "nbformat_minor": 0,
  "metadata": {
    "colab": {
      "name": "OilProperties.ipynb",
      "provenance": [],
      "collapsed_sections": [],
      "include_colab_link": true
    },
    "kernelspec": {
      "name": "python3",
      "display_name": "Python 3"
    }
  },
  "cells": [
    {
      "cell_type": "markdown",
      "metadata": {
        "id": "view-in-github",
        "colab_type": "text"
      },
      "source": [
        "<a href=\"https://colab.research.google.com/github/EvenSol/NeqSim-Colab/blob/master/notebooks/PVT/OilProperties.ipynb\" target=\"_parent\"><img src=\"https://colab.research.google.com/assets/colab-badge.svg\" alt=\"Open In Colab\"/></a>"
      ]
    },
    {
      "cell_type": "code",
      "metadata": {
        "id": "c7oLiYgcEV2Y",
        "colab_type": "code",
        "cellView": "form",
        "colab": {}
      },
      "source": [
        "#@title Calculation of properties of reservoir fluids\n",
        "#@markdown This section gives an introduction to the calculation of properties of reservoir fluids.\n",
        "%%capture\n",
        "!git clone https://github.com/EvenSol/NeqSim-Colab.git\n",
        "!cd NeqSim-Colab\n",
        "!pip install NeqSim-Colab/lib/neqsim-*.whl\n",
        "import neqsim\n",
        "from neqsim.thermo.thermoTools import *\n",
        "import matplotlib\n",
        "import numpy as np\n",
        "import matplotlib.pyplot as plt\n",
        "import math\n",
        "%matplotlib inline"
      ],
      "execution_count": 0,
      "outputs": []
    },
    {
      "cell_type": "code",
      "metadata": {
        "id": "9Kkz5ZeLEyRv",
        "colab_type": "code",
        "cellView": "form",
        "outputId": "2aceb435-1d32-4021-cd87-3413940de8d6",
        "colab": {
          "base_uri": "https://localhost:8080/",
          "height": 421
        }
      },
      "source": [
        "#@title  Formation volume factor and dissolved gas oil ratio\n",
        "#@markdown Introduction to formation volume factor and dissolved gas oil ratio. Oil formation volume factor  is defined as the ratio of the volume of oil at reservoir (in-situ) conditions to that at stock tank (surface) conditions.  This factor, is used to convert the flow rate of oil (at stock tank conditions) to reservoir conditions.\n",
        "from IPython.display import YouTubeVideo\n",
        "YouTubeVideo('QHgjMlyePvU', width=600, height=400)"
      ],
      "execution_count": 2,
      "outputs": [
        {
          "output_type": "execute_result",
          "data": {
            "text/html": [
              "\n",
              "        <iframe\n",
              "            width=\"600\"\n",
              "            height=\"400\"\n",
              "            src=\"https://www.youtube.com/embed/QHgjMlyePvU\"\n",
              "            frameborder=\"0\"\n",
              "            allowfullscreen\n",
              "        ></iframe>\n",
              "        "
            ],
            "text/plain": [
              "<IPython.lib.display.YouTubeVideo at 0x7f873a564b70>"
            ],
            "image/jpeg": "[encoded data removed]"
          },
          "metadata": {
            "tags": []
          },
          "execution_count": 2
        }
      ]
    },
    {
      "cell_type": "markdown",
      "metadata": {
        "id": "x10sjbYhnzKG",
        "colab_type": "text"
      },
      "source": [
        "# Oil Formation Volume Factor (Bo)\n",
        "In pressure transient analysis the flow rate used in the calculations is defined assuming reservoir conditions.  Since the oil flow rate is generally measured at the surface, in stock tank barrels, this rate must be converted to reservoir conditions by multiplying the surface rate by the oil formation volume factor.\n",
        "\n",
        "Below the bubble point pressure, the oil formation volume factor increases with pressure.  This is because more gas goes into solution as the pressure is increased causing the oil to swell.  Above the bubble point pressure, the oil formation volume factor decreases as the pressure is increased, because there is no more gas available to go into solution and the oil is compressed.\n",
        "\n",
        "The value of the oil formation volume factor is generally between 1 and 2 Rbbl / stbbl (R m3 / st m3).  It is readily obtained from laboratory PVT measurements or may be calculated from correlations such as Vasquez and Beggs.  It is recommended that the value be evaluated at reservoir conditions at the average reservoir pressure at the time of the test.\n",
        "\n",
        " \n",
        "\n",
        "Note that when calculating the oil formation volume factor from correlations, the solution gas oil ratio (Rs) has a significant effect on the value."
      ]
    },
    {
      "cell_type": "code",
      "metadata": {
        "id": "EeJ3zgxwP9mv",
        "colab_type": "code",
        "cellView": "both",
        "outputId": "69210e8c-9894-4dde-cf10-a6922d0eb2d8",
        "colab": {
          "base_uri": "https://localhost:8080/",
          "height": 317
        }
      },
      "source": [
        "#@title  Calculation of formation volume factor and dissolved gas oil ratio\n",
        "#@markdown Select temperature of reservoir, minimum and maximum pressure and composition of reservoir fluid.\n",
        "\n",
        "temperature = 358.0   #@param {type:\"number\"}\n",
        "minPressure = 10.0  #@param {type:\"number\"}\n",
        "maxPressure = 550.0  #@param {type:\"number\"}\n",
        "\n",
        "from neqsim.thermo import fluid, TPflash\n",
        "\n",
        "nitrogen = 0.20 #@param {type:\"number\"}\n",
        "CO2 = 1.3 #@param {type:\"number\"}\n",
        "methane = 20.3  #@param {type:\"number\"}\n",
        "ethane = 5.0  #@param {type:\"number\"}\n",
        "propane =  2.5 #@param {type:\"number\"}\n",
        "ibutane =  1.25 #@param {type:\"number\"}\n",
        "nbutane =  1.25 #@param {type:\"number\"}\n",
        "ipentane =  1.25 #@param {type:\"number\"}\n",
        "npentane =  1.25 #@param {type:\"number\"}\n",
        "C6 =  5.1 #@param {type:\"number\"}\n",
        "C7 =  7.1 #@param {type:\"number\"}\n",
        "C8 =  10.1 #@param {type:\"number\"}\n",
        "C9 =  12.1 #@param {type:\"number\"}\n",
        "C10plus =  20.1 #@param {type:\"number\"}\n",
        "\n",
        "fluid1 = fluid('srk')\n",
        "fluid1.addComponent(\"nitrogen\", nitrogen)\n",
        "fluid1.addComponent(\"CO2\", CO2)\n",
        "fluid1.addComponent(\"methane\", methane)\n",
        "fluid1.addComponent(\"ethane\", ethane)\n",
        "fluid1.addComponent(\"propane\", propane)\n",
        "fluid1.addComponent(\"i-butane\", ibutane)\n",
        "fluid1.addComponent(\"n-butane\", nbutane)\n",
        "fluid1.addComponent(\"i-pentane\", ipentane)\n",
        "fluid1.addComponent(\"n-pentane\", npentane)\n",
        "fluid1.addTBPfraction(\"C6\", C6, 0.08, 0.61)\n",
        "fluid1.addTBPfraction(\"C7\", C7, 0.1, 0.7)\n",
        "fluid1.addTBPfraction(\"C8\", C8, 0.11, 0.72)\n",
        "fluid1.addTBPfraction(\"C9\", C9, 0.15, 0.74)\n",
        "fluid1.addPlusFraction(\"C10\", C10plus, 0.25, 0.82)\n",
        "fluid1.setMixingRule(\"classic\")\n",
        "\n",
        "def oilVolume(pressure, temperature):\n",
        "    fluid1.setPressure(pressure)\n",
        "    fluid1.setTemperature(temperature)\n",
        "    TPflash(fluid1)\n",
        "    fluid1.initPhysicalProperties();\n",
        "    if(fluid1.hasPhaseType(\"oil\")):\n",
        "      return fluid1.getPhase(\"oil\").getVolume()\n",
        "    else:\n",
        "      return fluid1.getVolume()\n",
        "\n",
        "stdVol = oilVolume(1.01325, 288.15)\n",
        "\n",
        "pressure = np.arange(minPressure, maxPressure, int((maxPressure-minPressure)/100)+1)\n",
        "realdensity = [oilVolume(P,temperature)/stdVol for P in pressure]\n",
        "\n",
        "TPflash(fluid1)\n",
        "print(\"density \"+str(fluid1.getDensity()))\n",
        "\n",
        "plt.figure()\n",
        "plt.plot(pressure, realdensity)\n",
        "plt.xlabel('Pressure [bara]')\n",
        "plt.ylabel('Bo [m3/Sm3]')"
      ],
      "execution_count": 56,
      "outputs": [
        {
          "output_type": "stream",
          "text": [
            "density 611.3822752633173\n"
          ],
          "name": "stdout"
        },
        {
          "output_type": "execute_result",
          "data": {
            "text/plain": [
              "Text(0, 0.5, 'Bo [m3/Sm3]')"
            ]
          },
          "metadata": {
            "tags": []
          },
          "execution_count": 56
        },
        {
          "output_type": "display_data",
          "data": {
            "image/png": "[encoded data removed]",
            "text/plain": [
              "<Figure size 432x288 with 1 Axes>"
            ]
          },
          "metadata": {
            "tags": []
          }
        }
      ]
    },
    {
      "cell_type": "markdown",
      "metadata": {
        "id": "FEJM2yM_BV7F",
        "colab_type": "text"
      },
      "source": [
        "# Solution Gas-Oil Ratio (Rs)\n",
        "The solution gas-oil ratio is the amount of gas dissolved in the oil at any pressure. It increases approximately linearly with pressure and is a function of the oil and gas composition. A heavy oil contains less dissolved gas than a light oil. In general, the solution gas-oil ratio varies from 0 (dead oil) to approximately 2000 scf/bbl (very light oil). The solution gas-oil ratio increases with pressure until the bubble point pressure is reached, after which it is a constant, and the oil is said to be undersaturated.\n",
        "\n",
        "The solution gas-oil ratio is a significant component of the PVT correlations. It has a very significant influence on the oil formation volume factor, the oil viscosity, and the oil compressibility."
      ]
    },
    {
      "cell_type": "code",
      "metadata": {
        "id": "4mEjeLfexCuk",
        "colab_type": "code",
        "colab": {
          "base_uri": "https://localhost:8080/",
          "height": 317
        },
        "outputId": "e5c89b64-2cd1-48d3-8931-21e5019e0b27"
      },
      "source": [
        "#@title  Calculation of formation volume factor and dissolved gas oil ratio\n",
        "#@markdown Select temperature of reservoir, minimum and maximum pressure and composition of reservoir fluid.\n",
        "\n",
        "temperature = 358.0   #@param {type:\"number\"}\n",
        "minPressure = 1.0  #@param {type:\"number\"}\n",
        "maxPressure = 550.0  #@param {type:\"number\"}\n",
        "\n",
        "from neqsim.thermo import fluid, TPflash\n",
        "\n",
        "nitrogen = 0.20 #@param {type:\"number\"}\n",
        "CO2 = 1.3 #@param {type:\"number\"}\n",
        "methane = 10.3  #@param {type:\"number\"}\n",
        "ethane = 5.0  #@param {type:\"number\"}\n",
        "propane =  2.5 #@param {type:\"number\"}\n",
        "ibutane =  1.25 #@param {type:\"number\"}\n",
        "nbutane =  1.25 #@param {type:\"number\"}\n",
        "ipentane =  1.25 #@param {type:\"number\"}\n",
        "npentane =  1.25 #@param {type:\"number\"}\n",
        "C6 =  5.1 #@param {type:\"number\"}\n",
        "C7 =  7.1 #@param {type:\"number\"}\n",
        "C8 =  10.1 #@param {type:\"number\"}\n",
        "C9 =  12.1 #@param {type:\"number\"}\n",
        "C10plus =  20.1 #@param {type:\"number\"}\n",
        "\n",
        "fluid1 = fluid('srk')\n",
        "fluid1.addComponent(\"nitrogen\", nitrogen)\n",
        "fluid1.addComponent(\"CO2\", CO2)\n",
        "fluid1.addComponent(\"methane\", methane)\n",
        "fluid1.addComponent(\"ethane\", ethane)\n",
        "fluid1.addComponent(\"propane\", propane)\n",
        "fluid1.addComponent(\"i-butane\", ibutane)\n",
        "fluid1.addComponent(\"n-butane\", nbutane)\n",
        "fluid1.addComponent(\"i-pentane\", ipentane)\n",
        "fluid1.addComponent(\"n-pentane\", npentane)\n",
        "fluid1.addTBPfraction(\"C6\", C6, 0.08, 0.61)\n",
        "fluid1.addTBPfraction(\"C7\", C7, 0.1, 0.7)\n",
        "fluid1.addTBPfraction(\"C8\", C8, 0.11, 0.72)\n",
        "fluid1.addTBPfraction(\"C9\", C9, 0.15, 0.74)\n",
        "fluid1.addPlusFraction(\"C10\", C10plus, 0.25, 0.82)\n",
        "fluid1.setMixingRule(\"classic\")\n",
        "\n",
        "\n",
        "stdVol = oilVolume(1.01325, 288.15)\n",
        "\n",
        "def gasVolume(pressure, temperature):\n",
        "    fluid1.setPressure(pressure)\n",
        "    fluid1.setTemperature(temperature)\n",
        "    TPflash(fluid1)\n",
        "    if(fluid1.getNumberOfPhases()>1):\n",
        "      fluid1.removePhase(0)\n",
        "    fluid1.setPressure(1.01325)\n",
        "    fluid1.setTemperature(288.15)\n",
        "    TPflash(fluid1)\n",
        "    fluid1.initPhysicalProperties();\n",
        "    if(fluid1.hasPhaseType(\"gas\")):\n",
        "      return fluid1.getPhase(\"gas\").getVolume()\n",
        "    else:\n",
        "      return 0.0\n",
        "\n",
        "\n",
        "pressure = np.arange(maxPressure, minPressure, int((minPressure-maxPressure)/100)+1)\n",
        "Rs = [gasVolume(P,temperature)/stdVol for P in pressure]\n",
        "\n",
        "TPflash(fluid1)\n",
        "print(\"density \"+str(fluid1.getDensity()))\n",
        "\n",
        "plt.figure()\n",
        "plt.plot(pressure, Rs)\n",
        "plt.xlabel('Pressure [bara]')\n",
        "plt.ylabel('Rs [Sm3 gas/Sm3 oil]')"
      ],
      "execution_count": 60,
      "outputs": [
        {
          "output_type": "stream",
          "text": [
            "density 631.106945023889\n"
          ],
          "name": "stdout"
        },
        {
          "output_type": "execute_result",
          "data": {
            "text/plain": [
              "Text(0, 0.5, 'Rs [Sm3 gas/Sm3 oil]')"
            ]
          },
          "metadata": {
            "tags": []
          },
          "execution_count": 60
        },
        {
          "output_type": "display_data",
          "data": {
            "image/png": "[encoded data removed]",
            "text/plain": [
              "<Figure size 432x288 with 1 Axes>"
            ]
          },
          "metadata": {
            "tags": []
          }
        }
      ]
    }
  ]
}