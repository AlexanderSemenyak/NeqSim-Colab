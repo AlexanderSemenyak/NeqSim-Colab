{
  "nbformat": 4,
  "nbformat_minor": 0,
  "metadata": {
    "colab": {
      "name": "PVTexperiments.ipynb",
      "provenance": [],
      "collapsed_sections": [],
      "include_colab_link": true
    },
    "kernelspec": {
      "name": "python3",
      "display_name": "Python 3"
    }
  },
  "cells": [
    {
      "cell_type": "markdown",
      "metadata": {
        "id": "view-in-github",
        "colab_type": "text"
      },
      "source": [
        "<a href=\"https://colab.research.google.com/github/EvenSol/NeqSim-Colab/blob/master/notebooks/PVT/PVTreports.ipynb\" target=\"_parent\"><img src=\"https://colab.research.google.com/assets/colab-badge.svg\" alt=\"Open In Colab\"/></a>"
      ]
    },
    {
      "cell_type": "code",
      "metadata": {
        "id": "c7oLiYgcEV2Y",
        "colab_type": "code",
        "cellView": "form",
        "colab": {}
      },
      "source": [
        "#@title PVT reports and fluid characterization\n",
        "#@markdown This chapter reviews the standard experiments performed by pressure/volume/temperature (PVT) laboratories on reservoir fluid\n",
        "#@markdown samples: compositional analysis, multistage surface separation,\n",
        "#@markdown constant composition expansion (CCE), differential liberation expansion (DLE), and constant volume depletion (CVD).\n",
        "%%capture\n",
        "!pip install neqsim\n",
        "import neqsim\n",
        "from neqsim.thermo.thermoTools import *\n",
        "import matplotlib\n",
        "import numpy as np\n",
        "import matplotlib.pyplot as plt\n",
        "import math\n",
        "import pandas as pd\n",
        "%matplotlib inline"
      ],
      "execution_count": 0,
      "outputs": []
    },
    {
      "cell_type": "markdown",
      "metadata": {
        "id": "HI8mcwg3MvKt",
        "colab_type": "text"
      },
      "source": [
        "# Litterature\n",
        "1. [Whitson and Brule](http://www.ipt.ntnu.no/~curtis/courses/PhD-PVT/PVT-HOT-Vienna-May-2016x/e-notes/PVT-Papers/SPEPBM-Ch6.pdf)\n",
        "2. https://www.slb.com/-/media/files/oilfield-review/1-pvt\n",
        "3. http://www.ipt.ntnu.no/~curtis/courses/PVT-Flow/2018-TPG4145/e-notes/PVT-Papers/SPEPBM-Ch6.pdf\n",
        "4. https://petrowiki.org/Calculating_PVT_properties\n",
        "\n"
      ]
    },
    {
      "cell_type": "markdown",
      "metadata": {
        "id": "G2I5Qi0hQSKr",
        "colab_type": "text"
      },
      "source": [
        "# Definitions\n",
        "## Bubble Point\n",
        "To understand the drive mechanics of the fluids in an oil well, a test is performed to determine the bubble point of the sample fluid. This test and the subsequent understanding of the bubble test is a crucial component to understanding the characteristics of the reservoir.\n",
        "\n",
        "A bubble test communicates important information to the geologist about the expected recovery of the oil in a well. If the oil that will be recovered is undersaturated (containing very little dissolved gas), only a small percentage of the oil is recoverable without the use of some advanced recovery method.\n",
        "\n",
        "## Flash Liberation\n",
        "Flash liberation is a process involving a sudden pressure change that causes the crude oil to quickly separate or “flash” into in an oil and gas mixture.\n",
        "\n",
        "## Differential Liberation\n",
        "In the differential liberation process, the gas that is liberated from the liquid solution is continuously removed from the test sample, as opposed to the flash liberation process that allows the sample solution to reach equilibrium.\n",
        "\n",
        "## Reservoir to Surface Volume Relations\n",
        "Determining the bubble point is only one step involved in a thorough PVT analysis. Flash and differential liberation tests yield three other important factors needed to determine the relationship between reservoir to surface volume – oil formation volume factor (Bo), gas formation volume factor (Bg) and solution gas-oil ration (Rs).\n",
        "\n",
        "## Oil Formation Volume Factor (Bo)\n",
        "Bο is the ratio of the volume of oil at reservoir conditions to that of surface conditions. It is used to convert the flow rate of oil at the surface to that of reservoir conditions.\n",
        "\n",
        "## Gas Formation Volume Factor (Bg)\n",
        "Bg is the ratio of the volume of gas at the reservoir temperature and pressure to the volume at the surface temperature and pressure.\n",
        "\n",
        "## Solution Gas-Oil Ratio (Rs)\n",
        "Rs is the amount of gas dissolved in the oil (or water) at any pressure. It increases approximately linearly with pressure, and it is a function of the oil (or water) and gas composition. A heavy oil contains less dissolved gas than a light oil."
      ]
    },
    {
      "cell_type": "code",
      "metadata": {
        "id": "9Kkz5ZeLEyRv",
        "colab_type": "code",
        "cellView": "form",
        "outputId": "15015ba0-098e-4755-94dc-59e696327da4",
        "colab": {
          "base_uri": "https://localhost:8080/",
          "height": 421
        }
      },
      "source": [
        "#@title  PVT of reservoir fluids\n",
        "#@markdown \n",
        "from IPython.display import YouTubeVideo\n",
        "YouTubeVideo('pe71rV92GY8', width=600, height=400)"
      ],
      "execution_count": 2,
      "outputs": [
        {
          "output_type": "execute_result",
          "data": {
            "text/html": [
              "\n",
              "        <iframe\n",
              "            width=\"600\"\n",
              "            height=\"400\"\n",
              "            src=\"https://www.youtube.com/embed/pe71rV92GY8\"\n",
              "            frameborder=\"0\"\n",
              "            allowfullscreen\n",
              "        ></iframe>\n",
              "        "
            ],
            "text/plain": [
              "<IPython.lib.display.YouTubeVideo at 0x7fc1b9407588>"
            ],
            "image/jpeg": "[encoded data removed]"
          },
          "metadata": {
            "tags": []
          },
          "execution_count": 2
        }
      ]
    },
    {
      "cell_type": "markdown",
      "metadata": {
        "id": "y35yrHpJvrro",
        "colab_type": "text"
      },
      "source": [
        "# Simulation of PVT experiments using NeqSim\n",
        "In the following sections we will demonstrate examples of PVT studies for oil and gas, and demostrate how to implement the data into NeqSim.\n",
        "\n",
        "\n"
      ]
    },
    {
      "cell_type": "markdown",
      "metadata": {
        "id": "w2S2PYjcT2tn",
        "colab_type": "text"
      },
      "source": [
        "# Fluid sampling\n",
        "Wireline sampling\n",
        "Separator tests\n",
        "\n",
        "# Fluid comppsition analyses\n",
        "- Gas Chromotography\n",
        "- Destillation\n",
        "- Analysis of molecular weight\n",
        "\n",
        "# Examples of reservoir fluids\n",
        "In the following data frames various fluids are represented.\n",
        "\n"
      ]
    },
    {
      "cell_type": "markdown",
      "metadata": {
        "id": "M2v2dwZy81Z_",
        "colab_type": "text"
      },
      "source": [
        "## Dry Natural Gas Reservoir Fluid"
      ]
    },
    {
      "cell_type": "code",
      "metadata": {
        "colab_type": "code",
        "outputId": "75674571-20a2-4368-822e-6953e762e294",
        "id": "3sYexu-z9E8M",
        "colab": {
          "base_uri": "https://localhost:8080/",
          "height": 584
        }
      },
      "source": [
        "# Create a gas-condensate fluid\n",
        "naturalgas = {'ComponentName':  [\"nitrogen\", \"CO2\", \"methane\", \"ethane\", \"propane\", \"i-butane\", \"n-butane\", \"i-pentane\", \"n-pentane\", \"n-hexane\"], \n",
        "        'MolarComposition[-]':  [0.34, 0.84, 90.4, 5.199, 2.06, 0.36, 0.55, 0.14, 0.097, 0.014]\n",
        "  } \n",
        "\n",
        "naturalgasdf = pd.DataFrame(naturalgas) \n",
        "print(\"Natural Gas Fluid:\\n\")\n",
        "print(naturalgasdf.head(30).to_string())\n",
        "naturalgasFluid = fluid_df(naturalgasdf)\n",
        "print(\"\\nPhase envelope of Natural Gas Fluid:\\n\")\n",
        "phaseenvelope(naturalgasFluid, True)"
      ],
      "execution_count": 3,
      "outputs": [
        {
          "output_type": "stream",
          "text": [
            "Natural Gas Fluid:\n",
            "\n",
            "  ComponentName  MolarComposition[-]\n",
            "0      nitrogen                0.340\n",
            "1           CO2                0.840\n",
            "2       methane               90.400\n",
            "3        ethane                5.199\n",
            "4       propane                2.060\n",
            "5      i-butane                0.360\n",
            "6      n-butane                0.550\n",
            "7     i-pentane                0.140\n",
            "8     n-pentane                0.097\n",
            "9      n-hexane                0.014\n",
            "\n",
            "Phase envelope of Natural Gas Fluid:\n",
            "\n"
          ],
          "name": "stdout"
        },
        {
          "output_type": "display_data",
          "data": {
            "image/png": "[encoded data removed]",
            "text/plain": [
              "<Figure size 432x288 with 1 Axes>"
            ]
          },
          "metadata": {
            "tags": [],
            "needs_background": "light"
          }
        },
        {
          "output_type": "execute_result",
          "data": {
            "text/plain": [
              "JavaObject id=o3"
            ]
          },
          "metadata": {
            "tags": []
          },
          "execution_count": 3
        }
      ]
    },
    {
      "cell_type": "markdown",
      "metadata": {
        "id": "qISeQBK66vN3",
        "colab_type": "text"
      },
      "source": [
        "## Gas Condensate Reservoir Fluid"
      ]
    },
    {
      "cell_type": "code",
      "metadata": {
        "id": "Ix2XS1D3UXbG",
        "colab_type": "code",
        "outputId": "efff617e-ef8b-4b63-b392-e2488a83de6d",
        "colab": {
          "base_uri": "https://localhost:8080/",
          "height": 822
        }
      },
      "source": [
        "# Create a gas-condensate fluid\n",
        "gascondensate = {'ComponentName':  [\"nitrogen\", \"CO2\", \"methane\", \"ethane\", \"propane\", \"i-butane\", \"n-butane\", \"i-pentane\", \"n-pentane\", \"n-hexane\", \"C7\", \"C8\", \"C9\", \"C10\", \"C11\", \"C12\", \"C13\", \"C14\", \"C15\", \"C16\", \"C17\", \"C18\", \"C19\", \"C20\"], \n",
        "        'MolarComposition[-]':  [0.53, 3.3, 72.98, 7.68, 4.1, 0.7, 1.42, 0.54, 0.67, 0.85, 1.33, 1.33, 0.78, 0.61, 0.42, 0.33, 0.42, 0.24, 0.3, 0.17, 0.21, 0.15, 0.15, 0.8], \n",
        "        'MolarMass[kg/mol]': [None,None, None,None,None,None,None,None,None,None,0.0913, 0.1041, 0.1188, 0.136, 0.150, 0.164, 0.179, 0.188, 0.204, 0.216, 0.236, 0.253, 0.27, 0.391],\n",
        "        'RelativeDensity[-]': [None,None, None,None,None,None,None,None,None,None, 0.746, 0.768, 0.79, 0.787, 0.793, 0.804, 0.817, 0.83, 0.835, 0.843, 0.837, 0.84, 0.85, 0.877]\n",
        "  } \n",
        "\n",
        "gascondensatedf = pd.DataFrame(gascondensate) \n",
        "print(\"Gas Condensate Fluid:\\n\")\n",
        "print(gascondensatedf.head(30).to_string())\n",
        "gascondensateFluid = fluid_df(gascondensatedf, lastIsPlusFraction=True)\n",
        "print(\"\\nPhase envelope of Gas Condensate Fluid:\\n\")\n",
        "phaseenvelope(gascondensateFluid, True)\n",
        "\n",
        "\n",
        "\n"
      ],
      "execution_count": 4,
      "outputs": [
        {
          "output_type": "stream",
          "text": [
            "Gas Condensate Fluid:\n",
            "\n",
            "   ComponentName  MolarComposition[-]  MolarMass[kg/mol]  RelativeDensity[-]\n",
            "0       nitrogen                 0.53                NaN                 NaN\n",
            "1            CO2                 3.30                NaN                 NaN\n",
            "2        methane                72.98                NaN                 NaN\n",
            "3         ethane                 7.68                NaN                 NaN\n",
            "4        propane                 4.10                NaN                 NaN\n",
            "5       i-butane                 0.70                NaN                 NaN\n",
            "6       n-butane                 1.42                NaN                 NaN\n",
            "7      i-pentane                 0.54                NaN                 NaN\n",
            "8      n-pentane                 0.67                NaN                 NaN\n",
            "9       n-hexane                 0.85                NaN                 NaN\n",
            "10            C7                 1.33             0.0913               0.746\n",
            "11            C8                 1.33             0.1041               0.768\n",
            "12            C9                 0.78             0.1188               0.790\n",
            "13           C10                 0.61             0.1360               0.787\n",
            "14           C11                 0.42             0.1500               0.793\n",
            "15           C12                 0.33             0.1640               0.804\n",
            "16           C13                 0.42             0.1790               0.817\n",
            "17           C14                 0.24             0.1880               0.830\n",
            "18           C15                 0.30             0.2040               0.835\n",
            "19           C16                 0.17             0.2160               0.843\n",
            "20           C17                 0.21             0.2360               0.837\n",
            "21           C18                 0.15             0.2530               0.840\n",
            "22           C19                 0.15             0.2700               0.850\n",
            "23           C20                 0.80             0.3910               0.877\n",
            "\n",
            "Phase envelope of Gas Condensate Fluid:\n",
            "\n"
          ],
          "name": "stdout"
        },
        {
          "output_type": "display_data",
          "data": {
            "image/png": "[encoded data removed]",
            "text/plain": [
              "<Figure size 432x288 with 1 Axes>"
            ]
          },
          "metadata": {
            "tags": [],
            "needs_background": "light"
          }
        },
        {
          "output_type": "execute_result",
          "data": {
            "text/plain": [
              "JavaObject id=o25"
            ]
          },
          "metadata": {
            "tags": []
          },
          "execution_count": 4
        }
      ]
    },
    {
      "cell_type": "markdown",
      "metadata": {
        "id": "3QOLpG507V9n",
        "colab_type": "text"
      },
      "source": [
        "## Black Oil Reservoir Fluid"
      ]
    },
    {
      "cell_type": "code",
      "metadata": {
        "id": "FdyAXhVh7WMX",
        "colab_type": "code",
        "outputId": "850060e5-0d7f-4ba9-b3f4-26c3f70a780e",
        "colab": {
          "base_uri": "https://localhost:8080/",
          "height": 652
        }
      },
      "source": [
        "# Create a black oil fluid\n",
        "blackoil = {'ComponentName':  [\"nitrogen\", \"CO2\", \"methane\", \"ethane\", \"propane\", \"i-butane\", \"n-butane\", \"i-pentane\", \"n-pentane\", \"n-hexane\", \"C7\", \"C8\", \"C9\", \"C10\"], \n",
        "        'MolarComposition[-]':  [0.04, 0.069, 39.24, 1.59, 0.25, 0.11, 0.1, 0.11, 0.03, 0.2, 0.69, 1.31, 0.75, 54.89], \n",
        "        'MolarMass[kg/mol]': [None,None, None,None,None,None,None,None,None,None,0.0852, 0.1048, 0.1215, 0.322],\n",
        "        'RelativeDensity[-]': [None,None, None,None,None,None,None,None,None,None,0.769, 0.769, 0.765, 0.936]\n",
        "  } \n",
        "\n",
        "blackoildf = pd.DataFrame(blackoil) \n",
        "print(\"Black oil fluid:\\n\")\n",
        "print(blackoildf.head(30).to_string())\n",
        "blackoilFluid = fluid_df(blackoildf, lastIsPlusFraction=True)\n",
        "print(\"\\nPhase envelope of a black oil fluid:\\n\")\n",
        "phaseenvelope(blackoilFluid, True)\n"
      ],
      "execution_count": 5,
      "outputs": [
        {
          "output_type": "stream",
          "text": [
            "Black oil fluid:\n",
            "\n",
            "   ComponentName  MolarComposition[-]  MolarMass[kg/mol]  RelativeDensity[-]\n",
            "0       nitrogen                0.040                NaN                 NaN\n",
            "1            CO2                0.069                NaN                 NaN\n",
            "2        methane               39.240                NaN                 NaN\n",
            "3         ethane                1.590                NaN                 NaN\n",
            "4        propane                0.250                NaN                 NaN\n",
            "5       i-butane                0.110                NaN                 NaN\n",
            "6       n-butane                0.100                NaN                 NaN\n",
            "7      i-pentane                0.110                NaN                 NaN\n",
            "8      n-pentane                0.030                NaN                 NaN\n",
            "9       n-hexane                0.200                NaN                 NaN\n",
            "10            C7                0.690             0.0852               0.769\n",
            "11            C8                1.310             0.1048               0.769\n",
            "12            C9                0.750             0.1215               0.765\n",
            "13           C10               54.890             0.3220               0.936\n",
            "\n",
            "Phase envelope of a black oil fluid:\n",
            "\n"
          ],
          "name": "stdout"
        },
        {
          "output_type": "display_data",
          "data": {
            "image/png": "[encoded data removed]",
            "text/plain": [
              "<Figure size 432x288 with 1 Axes>"
            ]
          },
          "metadata": {
            "tags": [],
            "needs_background": "light"
          }
        },
        {
          "output_type": "execute_result",
          "data": {
            "text/plain": [
              "JavaObject id=o51"
            ]
          },
          "metadata": {
            "tags": []
          },
          "execution_count": 5
        }
      ]
    },
    {
      "cell_type": "markdown",
      "metadata": {
        "id": "bJ9uy6aeyYXF",
        "colab_type": "text"
      },
      "source": [
        "## 1. Separator test\n",
        "\n",
        "Separator Test experiments are carried out for both oil and gas condensate mixtures. A sample of reservoir liquid is placed in the laboratory cell and brought to reservoir temperature and bubble-point pressure. Then the liquid is expelled from the cell through a number of stages of separation.  Usually, two or three stages of separation are used, with the last stage at atmospheric pressure and near-ambient temperature (60 to 80°F).\n",
        "\n",
        "The gas is let out of the separator through the top and is transferred to standard conditions, where its volume is measured. As for the differential liberation experiment, liquid dropping out from the gas is converted to an equivalent gas volume at standard conditions.\n",
        "\n",
        "The liquid from the ﬁrst separator is let into a second separator at a lower pressure and temperature than the ﬁrst one. At which conditions, more gas will be liberated as sketched in the figure below. As with the gas from the ﬁrst separator, this gas is transferred to standard conditions.\n",
        "\n",
        "An example of a separator test and a fluid compositoion is given in the following script."
      ]
    },
    {
      "cell_type": "code",
      "metadata": {
        "id": "pHhKs34QyxIU",
        "colab_type": "code",
        "colab": {
          "base_uri": "https://localhost:8080/",
          "height": 1000
        },
        "outputId": "5e576ef4-605e-4676-fe84-ed5b55dd2398"
      },
      "source": [
        "fluid1 = createfluid('black oil')\n",
        "print('phase envelope for black oil')\n",
        "TPflash(fluid1)\n",
        "printFrame(fluid1)\n",
        "phaseenvelope(fluid1, True)"
      ],
      "execution_count": 6,
      "outputs": [
        {
          "output_type": "stream",
          "text": [
            "phase envelope for black oil\n",
            "                           total          gas          oil                     \n",
            "           nitrogen    1.0846E-2     2.363E-2   4.54855E-5      [mole fraction]\n",
            "                CO2    2.1692E-2   4.64874E-2   7.43596E-4      [mole fraction]\n",
            "            methane   2.38612E-1    5.1726E-1   3.19633E-3      [mole fraction]\n",
            "             ethane   1.19306E-1   2.50389E-1   8.56108E-3      [mole fraction]\n",
            "            propane   5.42299E-2   1.03527E-1   1.25815E-2      [mole fraction]\n",
            "           i-butane    1.0846E-2   1.74482E-2   5.26817E-3      [mole fraction]\n",
            "           n-butane   1.30152E-2   1.88211E-2   8.11005E-3      [mole fraction]\n",
            "          i-pentane    1.0846E-2    1.0258E-2   1.13428E-2      [mole fraction]\n",
            "          n-pentane    1.0846E-2   8.65841E-3   1.26942E-2      [mole fraction]\n",
            "           n-hexane    1.0846E-2   3.50153E-3   1.70509E-2      [mole fraction]\n",
            "         C10-C15_PC    2.1692E-1   1.93814E-5   4.00167E-1      [mole fraction]\n",
            "         C16-C19_PC    1.0846E-1   2.57037E-7   2.00092E-1      [mole fraction]\n",
            "         C20-C30_PC    1.0846E-1   6.32309E-9   2.00092E-1      [mole fraction]\n",
            "         C31-C50_PC   5.42299E-2  4.88103E-11   1.00046E-1      [mole fraction]\n",
            "         C51-C80_PC    1.0846E-2  7.71906E-13   2.00092E-2      [mole fraction]\n",
            "                                                                               \n",
            "            Density                 1.08971E0       7.61E2             [kg/m^3]\n",
            "      PhaseFraction                 4.5795E-1    5.4205E-1      [mole fraction]\n",
            "          MolarMass     1.4185E2    2.68793E1    2.38983E2            [kg/kmol]\n",
            "           Z factor                9.95127E-1   1.60083E-2                  [-]\n",
            " Heat Capacity (Cp)                 1.79503E0    2.26373E0            [kJ/kg*K]\n",
            " Heat Capacity (Cv)                 1.47895E0    2.15102E0            [kJ/kg*K]\n",
            "     Speed of Sound                 3.32936E2    1.34245E3              [m/sec]\n",
            "           Enthalpy   -2.64126E2    4.22173E1   -2.93236E2              [kJ/kg]\n",
            "            Entropy  -3.80682E-1   5.88904E-1  -4.72815E-1            [kJ/kg*K]\n",
            "     JT coefficient                8.08363E-1  -6.30781E-2              [K/bar]\n",
            "                                                                               \n",
            "          Viscosity                1.05644E-5   1.05651E-2           [kg/m*sec]\n",
            "       Conductivity                2.64048E-2   9.91398E-2              [W/m*K]\n",
            "     SurfaceTension                 1.4893E-2    1.4893E-2                [N/m]\n",
            "                                                                               \n",
            "                                                                               \n",
            "                                                                               \n",
            "           Pressure                       1.0          1.0                [bar]\n",
            "        Temperature                    298.15       298.15                  [K]\n",
            "                                                                               \n",
            "              Model                   SRK-EOS      SRK-EOS                    -\n",
            "        Mixing Rule                   classic      classic                    -\n",
            "                                                                               \n",
            "             Stream                                                           -\n",
            "                                                                               \n",
            "                                                                               \n",
            "                                                                               \n",
            "                                                                               \n"
          ],
          "name": "stdout"
        },
        {
          "output_type": "display_data",
          "data": {
            "image/png": "[encoded data removed]",
            "text/plain": [
              "<Figure size 432x288 with 1 Axes>"
            ]
          },
          "metadata": {
            "tags": [],
            "needs_background": "light"
          }
        },
        {
          "output_type": "execute_result",
          "data": {
            "text/plain": [
              "JavaObject id=o116"
            ]
          },
          "metadata": {
            "tags": []
          },
          "execution_count": 6
        }
      ]
    },
    {
      "cell_type": "code",
      "metadata": {
        "id": "c3sy0D5Bm9u3",
        "colab_type": "code",
        "colab": {}
      },
      "source": [
        ""
      ],
      "execution_count": 0,
      "outputs": []
    },
    {
      "cell_type": "markdown",
      "metadata": {
        "id": "InUokQTyUU_8",
        "colab_type": "text"
      },
      "source": [
        "## 2. Simulation of gas and oil viscosity\n",
        "The principal factors affecting viscosity are:\n",
        "\n",
        "* Oil composition\n",
        "* Temperature\n",
        "* Dissolved gas\n",
        "* Pressure\n",
        "\n",
        "Viscosity increases with decreases in crude oil API gravity (assuming a constant Watson characterization factor) and decreases in temperature. The effect of solution gas is to reduce viscosity. Above saturation pressure, viscosity increases almost linearly with pressure."
      ]
    },
    {
      "cell_type": "code",
      "metadata": {
        "id": "I8BbPPj30Umc",
        "colab_type": "code",
        "colab": {
          "base_uri": "https://localhost:8080/",
          "height": 586
        },
        "outputId": "86e59e55-ee64-437e-dc9d-ca34a073513f"
      },
      "source": [
        "fluid1 = createfluid('black oil')\n",
        "pressure = [300.0, 250.0, 200.0, 150.0, 100.0, 70.0, 50.0, 30.0, 10.0, 1.01325]\n",
        "temperature = [301.0, 301.0, 301.0, 301.0, 301.0, 301.0, 301.0, 301.0, 301.0, 301.0]\n",
        "\n",
        "gasviscosity = []\n",
        "oilviscosity = []\n",
        "\n",
        "viscositysim(fluid1,pressure,temperature,gasviscosity,oilviscosity)\n",
        "\n",
        "plt.figure()\n",
        "plt.plot(pressure, gasviscosity, \"o\")\n",
        "plt.xlabel('Pressure [bara]')\n",
        "plt.ylabel('gasviscosity [kg/msec]')\n",
        "plt.figure()\n",
        "plt.plot(pressure, oilviscosity, \"o\")\n",
        "plt.xlabel('Pressure [bara]')\n",
        "plt.ylabel('oilviscosity [kg/msec]')\n",
        "plt.figure()"
      ],
      "execution_count": 7,
      "outputs": [
        {
          "output_type": "execute_result",
          "data": {
            "text/plain": [
              "<Figure size 432x288 with 0 Axes>"
            ]
          },
          "metadata": {
            "tags": []
          },
          "execution_count": 7
        },
        {
          "output_type": "display_data",
          "data": {
            "image/png": "[encoded data removed]",
            "text/plain": [
              "<Figure size 432x288 with 1 Axes>"
            ]
          },
          "metadata": {
            "tags": [],
            "needs_background": "light"
          }
        },
        {
          "output_type": "display_data",
          "data": {
            "image/png": "[encoded data removed]",
            "text/plain": [
              "<Figure size 432x288 with 1 Axes>"
            ]
          },
          "metadata": {
            "tags": [],
            "needs_background": "light"
          }
        },
        {
          "output_type": "display_data",
          "data": {
            "text/plain": [
              "<Figure size 432x288 with 0 Axes>"
            ]
          },
          "metadata": {
            "tags": []
          }
        }
      ]
    },
    {
      "cell_type": "markdown",
      "metadata": {
        "id": "pBoW7A5xdDGK",
        "colab_type": "text"
      },
      "source": [
        "## 3. Differential liberation\n",
        "In differential liberation, gas comes out of solution as pressure is gradually decreased, but is removed from the oil. When reservoir pressure drops below the bubblepoint, flash liberation dominates."
      ]
    },
    {
      "cell_type": "code",
      "metadata": {
        "id": "jG21DtJ2dSCI",
        "colab_type": "code",
        "colab": {
          "base_uri": "https://localhost:8080/",
          "height": 715
        },
        "outputId": "33719d1e-2e26-4f6e-c7df-29fcaa45b165"
      },
      "source": [
        "fluid1 = createfluid('black oil')\n",
        "pressure = [300.0, 250.0, 200.0, 150.0, 100.0, 70.0, 50.0, 30.0, 10.0]\n",
        "temperature = 301.0\n",
        "\n",
        "Bo = []\n",
        "Bg = []\n",
        "relativegravity = []\n",
        "Zgas =  []\n",
        "gasstandardvolume = []\n",
        "Rs = []\n",
        "oildensity = []\n",
        "relativegravity = []\n",
        "\n",
        "difflib(fluid1,pressure,temperature,Bo, Bg,relativegravity,Zgas,gasstandardvolume,Rs, oildensity, relativegravity)\n",
        "\n",
        "\n",
        "plt.figure(figsize=(20, 5))\n",
        "plt.subplot(131)\n",
        "plt.plot(pressure, Bo, \"o\")\n",
        "plt.xlabel('Pressure [bara]')\n",
        "plt.ylabel('Bo [m3/Sm3]')\n",
        "plt.subplot(132)\n",
        "plt.plot(pressure, Rs, \"o\")\n",
        "plt.xlabel('Pressure [bara]')\n",
        "plt.ylabel('Rs [m3/Sm3]')\n",
        "plt.subplot(133)\n",
        "plt.plot(pressure, oildensity, \"o\")\n",
        "plt.xlabel('Pressure [bara]')\n",
        "plt.ylabel('oil density [kg/m3]')\n",
        "plt.show()"
      ],
      "execution_count": 8,
      "outputs": [
        {
          "output_type": "error",
          "ename": "Py4JJavaError",
          "evalue": "ignored",
          "traceback": [
            "\u001b[0;31m---------------------------------------------------------------------------\u001b[0m",
            "\u001b[0;31mPy4JJavaError\u001b[0m                             Traceback (most recent call last)",
            "\u001b[0;32m<ipython-input-8-0fcfd841258c>\u001b[0m in \u001b[0;36m<module>\u001b[0;34m()\u001b[0m\n\u001b[1;32m     12\u001b[0m \u001b[0mrelativegravity\u001b[0m \u001b[0;34m=\u001b[0m \u001b[0;34m[\u001b[0m\u001b[0;34m]\u001b[0m\u001b[0;34m\u001b[0m\u001b[0;34m\u001b[0m\u001b[0m\n\u001b[1;32m     13\u001b[0m \u001b[0;34m\u001b[0m\u001b[0m\n\u001b[0;32m---> 14\u001b[0;31m \u001b[0mdifflib\u001b[0m\u001b[0;34m(\u001b[0m\u001b[0mfluid1\u001b[0m\u001b[0;34m,\u001b[0m\u001b[0mpressure\u001b[0m\u001b[0;34m,\u001b[0m\u001b[0mtemperature\u001b[0m\u001b[0;34m,\u001b[0m\u001b[0mBo\u001b[0m\u001b[0;34m,\u001b[0m \u001b[0mBg\u001b[0m\u001b[0;34m,\u001b[0m\u001b[0mrelativegravity\u001b[0m\u001b[0;34m,\u001b[0m\u001b[0mZgas\u001b[0m\u001b[0;34m,\u001b[0m\u001b[0mgasstandardvolume\u001b[0m\u001b[0;34m,\u001b[0m\u001b[0mRs\u001b[0m\u001b[0;34m,\u001b[0m \u001b[0moildensity\u001b[0m\u001b[0;34m,\u001b[0m \u001b[0mrelativegravity\u001b[0m\u001b[0;34m)\u001b[0m\u001b[0;34m\u001b[0m\u001b[0;34m\u001b[0m\u001b[0m\n\u001b[0m\u001b[1;32m     15\u001b[0m \u001b[0;34m\u001b[0m\u001b[0m\n\u001b[1;32m     16\u001b[0m \u001b[0;34m\u001b[0m\u001b[0m\n",
            "\u001b[0;32m/usr/local/lib/python3.6/dist-packages/neqsim/thermo/thermoTools.py\u001b[0m in \u001b[0;36mdifflib\u001b[0;34m(fluid, pressure, temperature, relativeVolume, Bo, Bg, relativegravity, Zgas, gasstandardvolume, Rs, oildensity, gasgravity, display)\u001b[0m\n\u001b[1;32m    246\u001b[0m     \u001b[0mcvdSim\u001b[0m\u001b[0;34m.\u001b[0m\u001b[0msetPressures\u001b[0m\u001b[0;34m(\u001b[0m\u001b[0mpressureJavaArray\u001b[0m\u001b[0;34m)\u001b[0m\u001b[0;34m\u001b[0m\u001b[0;34m\u001b[0m\u001b[0m\n\u001b[1;32m    247\u001b[0m     \u001b[0mcvdSim\u001b[0m\u001b[0;34m.\u001b[0m\u001b[0msetTemperature\u001b[0m\u001b[0;34m(\u001b[0m\u001b[0mtemperature\u001b[0m\u001b[0;34m)\u001b[0m\u001b[0;34m\u001b[0m\u001b[0;34m\u001b[0m\u001b[0m\n\u001b[0;32m--> 248\u001b[0;31m     \u001b[0mcvdSim\u001b[0m\u001b[0;34m.\u001b[0m\u001b[0mrunCalc\u001b[0m\u001b[0;34m(\u001b[0m\u001b[0;34m)\u001b[0m\u001b[0;34m\u001b[0m\u001b[0;34m\u001b[0m\u001b[0m\n\u001b[0m\u001b[1;32m    249\u001b[0m     \u001b[0;32mfor\u001b[0m \u001b[0mi\u001b[0m \u001b[0;32min\u001b[0m \u001b[0mrange\u001b[0m\u001b[0;34m(\u001b[0m\u001b[0;36m0\u001b[0m\u001b[0;34m,\u001b[0m\u001b[0mlength\u001b[0m\u001b[0;34m)\u001b[0m\u001b[0;34m:\u001b[0m\u001b[0;34m\u001b[0m\u001b[0;34m\u001b[0m\u001b[0m\n\u001b[1;32m    250\u001b[0m         \u001b[0mZgas\u001b[0m\u001b[0;34m.\u001b[0m\u001b[0mappend\u001b[0m\u001b[0;34m(\u001b[0m\u001b[0mcvdSim\u001b[0m\u001b[0;34m.\u001b[0m\u001b[0mgetZgas\u001b[0m\u001b[0;34m(\u001b[0m\u001b[0;34m)\u001b[0m\u001b[0;34m[\u001b[0m\u001b[0mi\u001b[0m\u001b[0;34m]\u001b[0m\u001b[0;34m)\u001b[0m\u001b[0;34m\u001b[0m\u001b[0;34m\u001b[0m\u001b[0m\n",
            "\u001b[0;32m/usr/local/lib/python3.6/dist-packages/py4j/java_gateway.py\u001b[0m in \u001b[0;36m__call__\u001b[0;34m(self, *args)\u001b[0m\n\u001b[1;32m   1303\u001b[0m         \u001b[0manswer\u001b[0m \u001b[0;34m=\u001b[0m \u001b[0mself\u001b[0m\u001b[0;34m.\u001b[0m\u001b[0mgateway_client\u001b[0m\u001b[0;34m.\u001b[0m\u001b[0msend_command\u001b[0m\u001b[0;34m(\u001b[0m\u001b[0mcommand\u001b[0m\u001b[0;34m)\u001b[0m\u001b[0;34m\u001b[0m\u001b[0;34m\u001b[0m\u001b[0m\n\u001b[1;32m   1304\u001b[0m         return_value = get_return_value(\n\u001b[0;32m-> 1305\u001b[0;31m             answer, self.gateway_client, self.target_id, self.name)\n\u001b[0m\u001b[1;32m   1306\u001b[0m \u001b[0;34m\u001b[0m\u001b[0m\n\u001b[1;32m   1307\u001b[0m         \u001b[0;32mfor\u001b[0m \u001b[0mtemp_arg\u001b[0m \u001b[0;32min\u001b[0m \u001b[0mtemp_args\u001b[0m\u001b[0;34m:\u001b[0m\u001b[0;34m\u001b[0m\u001b[0;34m\u001b[0m\u001b[0m\n",
            "\u001b[0;32m/usr/local/lib/python3.6/dist-packages/py4j/protocol.py\u001b[0m in \u001b[0;36mget_return_value\u001b[0;34m(answer, gateway_client, target_id, name)\u001b[0m\n\u001b[1;32m    326\u001b[0m                 raise Py4JJavaError(\n\u001b[1;32m    327\u001b[0m                     \u001b[0;34m\"An error occurred while calling {0}{1}{2}.\\n\"\u001b[0m\u001b[0;34m.\u001b[0m\u001b[0;34m\u001b[0m\u001b[0;34m\u001b[0m\u001b[0m\n\u001b[0;32m--> 328\u001b[0;31m                     format(target_id, \".\", name), value)\n\u001b[0m\u001b[1;32m    329\u001b[0m             \u001b[0;32melse\u001b[0m\u001b[0;34m:\u001b[0m\u001b[0;34m\u001b[0m\u001b[0;34m\u001b[0m\u001b[0m\n\u001b[1;32m    330\u001b[0m                 raise Py4JError(\n",
            "\u001b[0;31mPy4JJavaError\u001b[0m: An error occurred while calling o165.runCalc.\n: java.lang.RuntimeException: neqsim.util.exception.InvalidInputException\n\tat neqsim.thermo.phase.Phase.addMolesChemReac(Phase.java:150)\n\tat neqsim.thermo.phase.PhaseSrkEos.addMolesChemReac(PhaseSrkEos.java:1)\n\tat neqsim.thermo.system.SystemThermo.addComponent(SystemThermo.java:910)\n\tat neqsim.thermo.system.SystemSrkEos.addComponent(SystemSrkEos.java:1)\n\tat neqsim.PVTsimulation.simulation.DifferentialLiberation.runCalc(DifferentialLiberation.java:134)\n\tat java.base/jdk.internal.reflect.NativeMethodAccessorImpl.invoke0(Native Method)\n\tat java.base/jdk.internal.reflect.NativeMethodAccessorImpl.invoke(NativeMethodAccessorImpl.java:62)\n\tat java.base/jdk.internal.reflect.DelegatingMethodAccessorImpl.invoke(DelegatingMethodAccessorImpl.java:43)\n\tat java.base/java.lang.reflect.Method.invoke(Method.java:566)\n\tat py4j.reflection.MethodInvoker.invoke(MethodInvoker.java:244)\n\tat py4j.reflection.ReflectionEngine.invoke(ReflectionEngine.java:357)\n\tat py4j.Gateway.invoke(Gateway.java:282)\n\tat py4j.commands.AbstractCommand.invokeMethod(AbstractCommand.java:132)\n\tat py4j.commands.CallCommand.execute(CallCommand.java:79)\n\tat py4j.GatewayConnection.run(GatewayConnection.java:238)\n\tat java.base/java.lang.Thread.run(Thread.java:834)\nCaused by: neqsim.util.exception.InvalidInputException\n\tat neqsim.thermo.phase.Phase.addMolesChemReac(Phase.java:149)\n\t... 15 more\n"
          ]
        }
      ]
    },
    {
      "cell_type": "markdown",
      "metadata": {
        "id": "8Ck0HLppeB6J",
        "colab_type": "text"
      },
      "source": [
        "## 4. Constant-volume depletion (CVD)\n",
        "Constant-volume depletion (CVD) experiments are performed on gas condensates and volatile oils to simulate reservoir depletion performance and compositional variation. ... The temperature of the PVT cell is maintained at the reservoir temperature T throughout the experiment."
      ]
    },
    {
      "cell_type": "code",
      "metadata": {
        "id": "K8QPOFjKeNMl",
        "colab_type": "code",
        "colab": {}
      },
      "source": [
        "fluid1 = createfluid('black oil')\n",
        "pressure = [300.0, 250.0, 200.0, 150.0, 100.0, 70.0, 50.0, 30.0, 10.0]\n",
        "temperature = 301.0\n",
        "\n",
        "relativevolume = []\n",
        "liquidrelativevolume = []\n",
        "Zgas =  []\n",
        "Zmix = []\n",
        "cummulativemolepercdepleted = []\n",
        "\n",
        "CVD(fluid1,pressure,temperature,relativevolume, liquidrelativevolume,Zgas,Zmix,cummulativemolepercdepleted)\n",
        "plt.figure(figsize=(20, 5))\n",
        "plt.subplot(131)\n",
        "plt.plot(pressure, relativevolume, \"o\")\n",
        "plt.xlabel('Pressure [bara]')\n",
        "plt.ylabel('relative volume [-]')\n",
        "plt.subplot(132)\n",
        "plt.plot(pressure, cummulativemolepercdepleted, \"o\")\n",
        "plt.xlabel('Pressure [bara]')\n",
        "plt.ylabel('cummulative depleted [-]')\n",
        "plt.show()\n"
      ],
      "execution_count": 0,
      "outputs": []
    },
    {
      "cell_type": "markdown",
      "metadata": {
        "id": "AA0qIRXIevpy",
        "colab_type": "text"
      },
      "source": [
        "## 5. Constant mass expansion (CME)\n",
        "The bubble point pressure is determined by an experiment called Constant Composition Expansion (CCE). It's also called Constant Mass Expansion (CME) experiment or Pressure-Volume (PV) relationship. ... The cell pressure is controlled by a positive displacement pump and recorded on an accurate pressure gauge."
      ]
    },
    {
      "cell_type": "code",
      "metadata": {
        "id": "lhD7g4HufFe5",
        "colab_type": "code",
        "colab": {}
      },
      "source": [
        "fluid1 = createfluid('black oil')\n",
        "pressure = [300.0, 250.0, 200.0, 150.0, 100.0, 70.0, 50.0, 30.0, 10.0]\n",
        "temperature = [301.0, 301.0, 301.0, 301.0, 301.0, 301.0, 301.0, 301.0, 301.0]\n",
        "\n",
        "relativevolume = []\n",
        "liquidrelativevolume = []\n",
        "Zgas =  []\n",
        "Yfactor = []\n",
        "isothermalcompressibility = []\n",
        "satPressure = None\n",
        "CME(fluid1,pressure,temperature,satPressure,relativevolume, liquidrelativevolume,Zgas,Yfactor,isothermalcompressibility)\n",
        "\n",
        "plt.figure(figsize=(20, 5))\n",
        "plt.subplot(131)\n",
        "plt.plot(pressure, relativevolume, \"o\")\n",
        "plt.xlabel('Pressure [bara]')\n",
        "plt.ylabel('relative volume [-]')\n",
        "plt.subplot(132)\n",
        "plt.plot(pressure, Yfactor, \"o\")\n",
        "plt.xlabel('Pressure [bara]')\n",
        "plt.ylabel('Yfactor [-]')\n",
        "plt.subplot(133)\n",
        "plt.plot(pressure, isothermalcompressibility, \"o\")\n",
        "plt.xlabel('Pressure [bara]')\n",
        "plt.ylabel('isothermalcompressibility [1/bar]')\n",
        "plt.show()"
      ],
      "execution_count": 0,
      "outputs": []
    },
    {
      "cell_type": "markdown",
      "metadata": {
        "id": "tB7Uv-MMU01j",
        "colab_type": "text"
      },
      "source": [
        "## 6. Gas Oil Ratio\n",
        "....."
      ]
    },
    {
      "cell_type": "code",
      "metadata": {
        "id": "oT32umptVSqq",
        "colab_type": "code",
        "colab": {}
      },
      "source": [
        "fluid1 = createfluid('black oil')\n",
        "pressure = [300.0, 250.0, 200.0, 150.0, 100.0, 70.0, 50.0, 30.0, 10.0, 1.01325]\n",
        "temperature = [301.0, 301.0, 301.0, 301.0, 301.0, 301.0, 301.0, 301.0, 301.0, 301.0]\n",
        "\n",
        "GORdata = []\n",
        "Bo = []\n",
        "GOR(fluid1, pressure, temperature, GORdata, Bo)\n",
        "\n",
        "plt.figure(figsize=(20, 5))\n",
        "plt.subplot(131)\n",
        "plt.plot(pressure, GORdata, \"o\")\n",
        "plt.xlabel('Pressure [bara]')\n",
        "plt.ylabel('GORdata [Sm3 gas/Sm3 oil]')\n",
        "plt.subplot(132)\n",
        "plt.plot(pressure, Bo, \"o\")\n",
        "plt.xlabel('Pressure [bara]')\n",
        "plt.ylabel('Bo[m3/Sm3]')\n",
        "plt.show()"
      ],
      "execution_count": 0,
      "outputs": []
    },
    {
      "cell_type": "markdown",
      "metadata": {
        "id": "VJGJ73MxYjm2",
        "colab_type": "text"
      },
      "source": [
        "## 7. Swelling test\n",
        "A swelling/extraction test is a common phase behavior experiment to determine reservoir fluid volume and composition changes due to CO2 dissolution at reservoir temperature. The test is usually conducted in a constant volume, high pressure view cell initially filled with a predetermined amount of stock-tank oil."
      ]
    },
    {
      "cell_type": "code",
      "metadata": {
        "id": "pxa0bFg7Yp4s",
        "colab_type": "code",
        "colab": {}
      },
      "source": [
        "fluid1 = createfluid('black oil')\n",
        "injectiongas = createfluid('CO2')\n",
        "relativeoilvolume = []\n",
        "pressure = []\n",
        "fluid1.setPressure(100.0)\n",
        "TPflash(fluid1)\n",
        "temperature = 301.0\n",
        "molPercentInjected = [0.0, 1.0, 5.0, 8.0, 10.0, 15.0, 20.0]\n",
        "swellingtest(fluid1,injectiongas,temperature, molPercentInjected, pressure,relativeoilvolume)\n",
        "\n",
        "plt.figure()\n",
        "plt.plot(pressure, relativeoilvolume, \"o\")\n",
        "plt.xlabel('Pressure [bara]')\n",
        "plt.ylabel('swollen volume/initial volume [-]')\n",
        "plt.show()"
      ],
      "execution_count": 0,
      "outputs": []
    }
  ]
}