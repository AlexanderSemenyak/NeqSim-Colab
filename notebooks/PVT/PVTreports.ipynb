{
  "nbformat": 4,
  "nbformat_minor": 0,
  "metadata": {
    "colab": {
      "name": "PVTexperiments.ipynb",
      "provenance": [],
      "collapsed_sections": [],
      "include_colab_link": true
    },
    "kernelspec": {
      "name": "python3",
      "display_name": "Python 3"
    }
  },
  "cells": [
    {
      "cell_type": "markdown",
      "metadata": {
        "id": "view-in-github",
        "colab_type": "text"
      },
      "source": [
        "<a href=\"https://colab.research.google.com/github/EvenSol/NeqSim-Colab/blob/master/notebooks/PVT/PVTreports.ipynb\" target=\"_parent\"><img src=\"https://colab.research.google.com/assets/colab-badge.svg\" alt=\"Open In Colab\"/></a>"
      ]
    },
    {
      "cell_type": "code",
      "metadata": {
        "id": "c7oLiYgcEV2Y",
        "colab_type": "code",
        "cellView": "form",
        "colab": {}
      },
      "source": [
        "#@title PVT reports and fluid characterization\n",
        "#@markdown This chapter reviews the standard experiments performed by pressure/volume/temperature (PVT) laboratories on reservoir fluid\n",
        "#@markdown samples: compositional analysis, multistage surface separation,\n",
        "#@markdown constant composition expansion (CCE), differential liberation expansion (DLE), and constant volume depletion (CVD).\n",
        "%%capture\n",
        "!pip install neqsim\n",
        "import neqsim\n",
        "from neqsim.thermo.thermoTools import *\n",
        "import matplotlib\n",
        "import numpy as np\n",
        "import matplotlib.pyplot as plt\n",
        "import math\n",
        "import pandas as pd\n",
        "%matplotlib inline"
      ],
      "execution_count": 0,
      "outputs": []
    },
    {
      "cell_type": "markdown",
      "metadata": {
        "id": "HI8mcwg3MvKt",
        "colab_type": "text"
      },
      "source": [
        "# Litterature\n",
        "1. [Whitson and Brule](http://www.ipt.ntnu.no/~curtis/courses/PhD-PVT/PVT-HOT-Vienna-May-2016x/e-notes/PVT-Papers/SPEPBM-Ch6.pdf)\n",
        "2. https://www.slb.com/-/media/files/oilfield-review/1-pvt\n",
        "3. http://www.ipt.ntnu.no/~curtis/courses/PVT-Flow/2018-TPG4145/e-notes/PVT-Papers/SPEPBM-Ch6.pdf\n",
        "4. https://petrowiki.org/Calculating_PVT_properties\n",
        "\n"
      ]
    },
    {
      "cell_type": "markdown",
      "metadata": {
        "id": "G2I5Qi0hQSKr",
        "colab_type": "text"
      },
      "source": [
        "# Definitions\n",
        "## Bubble Point\n",
        "To understand the drive mechanics of the fluids in an oil well, a test is performed to determine the bubble point of the sample fluid. This test and the subsequent understanding of the bubble test is a crucial component to understanding the characteristics of the reservoir.\n",
        "\n",
        "A bubble test communicates important information to the geologist about the expected recovery of the oil in a well. If the oil that will be recovered is undersaturated (containing very little dissolved gas), only a small percentage of the oil is recoverable without the use of some advanced recovery method.\n",
        "\n",
        "## Flash Liberation\n",
        "Flash liberation is a process involving a sudden pressure change that causes the crude oil to quickly separate or “flash” into in an oil and gas mixture.\n",
        "\n",
        "## Differential Liberation\n",
        "In the differential liberation process, the gas that is liberated from the liquid solution is continuously removed from the test sample, as opposed to the flash liberation process that allows the sample solution to reach equilibrium.\n",
        "\n",
        "## Reservoir to Surface Volume Relations\n",
        "Determining the bubble point is only one step involved in a thorough PVT analysis. Flash and differential liberation tests yield three other important factors needed to determine the relationship between reservoir to surface volume – oil formation volume factor (Bo), gas formation volume factor (Bg) and solution gas-oil ration (Rs).\n",
        "\n",
        "## Oil Formation Volume Factor (Bo)\n",
        "Bο is the ratio of the volume of oil at reservoir conditions to that of surface conditions. It is used to convert the flow rate of oil at the surface to that of reservoir conditions.\n",
        "\n",
        "## Gas Formation Volume Factor (Bg)\n",
        "Bg is the ratio of the volume of gas at the reservoir temperature and pressure to the volume at the surface temperature and pressure.\n",
        "\n",
        "## Solution Gas-Oil Ratio (Rs)\n",
        "Rs is the amount of gas dissolved in the oil (or water) at any pressure. It increases approximately linearly with pressure, and it is a function of the oil (or water) and gas composition. A heavy oil contains less dissolved gas than a light oil."
      ]
    },
    {
      "cell_type": "code",
      "metadata": {
        "id": "9Kkz5ZeLEyRv",
        "colab_type": "code",
        "cellView": "form",
        "outputId": "9badca7d-6b33-4924-d891-8292eee78884",
        "colab": {
          "base_uri": "https://localhost:8080/",
          "height": 421
        }
      },
      "source": [
        "#@title  PVT of reservoir fluids\n",
        "#@markdown \n",
        "from IPython.display import YouTubeVideo\n",
        "YouTubeVideo('pe71rV92GY8', width=600, height=400)"
      ],
      "execution_count": 2,
      "outputs": [
        {
          "output_type": "execute_result",
          "data": {
            "text/html": [
              "\n",
              "        <iframe\n",
              "            width=\"600\"\n",
              "            height=\"400\"\n",
              "            src=\"https://www.youtube.com/embed/pe71rV92GY8\"\n",
              "            frameborder=\"0\"\n",
              "            allowfullscreen\n",
              "        ></iframe>\n",
              "        "
            ],
            "text/plain": [
              "<IPython.lib.display.YouTubeVideo at 0x7ff3d85093c8>"
            ],
            "image/jpeg": "[encoded data removed]"
          },
          "metadata": {
            "tags": []
          },
          "execution_count": 2
        }
      ]
    },
    {
      "cell_type": "markdown",
      "metadata": {
        "id": "y35yrHpJvrro",
        "colab_type": "text"
      },
      "source": [
        "# Simulation of PVT experiments using NeqSim\n",
        "In the following sections we will demonstrate examples of PVT studies for oil and gas, and demostrate how to implement the data into NeqSim.\n",
        "\n",
        "\n"
      ]
    },
    {
      "cell_type": "markdown",
      "metadata": {
        "id": "w2S2PYjcT2tn",
        "colab_type": "text"
      },
      "source": [
        "# Fluid sampling\n",
        "Wireline sampling\n",
        "Separator tests\n",
        "\n",
        "# Fluid comppsition analyses\n",
        "- Gas Chromotography\n",
        "- Destillation\n",
        "- Analysis of molecular weight\n",
        "\n",
        "# Examples of reservoir fluids\n",
        "In the following data frames various fluids are represented.\n",
        "\n"
      ]
    },
    {
      "cell_type": "code",
      "metadata": {
        "id": "Ix2XS1D3UXbG",
        "colab_type": "code",
        "outputId": "0da4e8b6-520b-47d9-d3cb-6ad3964d70c6",
        "colab": {
          "base_uri": "https://localhost:8080/",
          "height": 840
        }
      },
      "source": [
        "# Create a gas-condensate fluid\n",
        "gascondensate = {'ComponentName':  [\"nitrogen\", \"CO2\", \"methane\", \"ethane\", \"propane\", \"i-butane\", \"n-butane\", \"i-pentane\", \"n-pentane\", \"n-hexane\", \"C7\", \"C8\", \"C9\", \"C10\", \"C11\", \"C12\", \"C13\", \"C14\", \"C15\", \"C16\", \"C17\", \"C18\", \"C19\", \"C20\"], \n",
        "        'MolarComposition[-]':  [0.53, 3.3, 72.98, 7.68, 4.1, 0.7, 1.42, 0.54, 0.67, 0.85, 1.33, 1.33, 0.78, 0.61, 0.42, 0.33, 0.42, 0.24, 0.3, 0.17, 0.21, 0.15, 0.15, 0.8], \n",
        "        'MolarMass[kg/mol]': [None,None, None,None,None,None,None,None,None,None,0.0913, 0.1041, 0.1188, 0.136, 0.150, 0.164, 0.179, 0.188, 0.204, 0.216, 0.236, 0.253, 0.27, 0.391],\n",
        "        'RelativeDensity[-]': [None,None, None,None,None,None,None,None,None,None, 0.746, 0.768, 0.79, 0.787, 0.793, 0.804, 0.817, 0.83, 0.835, 0.843, 0.837, 0.84, 0.85, 0.877]\n",
        "  } \n",
        "\n",
        "gascondensatedf = pd.DataFrame(gascondensate) \n",
        "print(\"Gas Condensate Fluid:\\n\")\n",
        "print(gascondensatedf.head(30).to_string())\n",
        "gascondensateFluid = fluid_df(gascondensatedf, lastIsPlusFraction=True)\n",
        "print(\"\\nPhase envelope of Gas Condensate Fluid:\\n\")\n",
        "phaseenvelope(gascondensateFluid, True)\n",
        "\n",
        "\n",
        "\n"
      ],
      "execution_count": 9,
      "outputs": [
        {
          "output_type": "stream",
          "text": [
            "Gas Condensate Fluid:\n",
            "\n",
            "   ComponentName  MolarComposition[-]  MolarMass[kg/mol]  RelativeDensity[-]\n",
            "0       nitrogen                 0.53                NaN                 NaN\n",
            "1            CO2                 3.30                NaN                 NaN\n",
            "2        methane                72.98                NaN                 NaN\n",
            "3         ethane                 7.68                NaN                 NaN\n",
            "4        propane                 4.10                NaN                 NaN\n",
            "5       i-butane                 0.70                NaN                 NaN\n",
            "6       n-butane                 1.42                NaN                 NaN\n",
            "7      i-pentane                 0.54                NaN                 NaN\n",
            "8      n-pentane                 0.67                NaN                 NaN\n",
            "9       n-hexane                 0.85                NaN                 NaN\n",
            "10            C7                 1.33             0.0913               0.746\n",
            "11            C8                 1.33             0.1041               0.768\n",
            "12            C9                 0.78             0.1188               0.790\n",
            "13           C10                 0.61             0.1360               0.787\n",
            "14           C11                 0.42             0.1500               0.793\n",
            "15           C12                 0.33             0.1640               0.804\n",
            "16           C13                 0.42             0.1790               0.817\n",
            "17           C14                 0.24             0.1880               0.830\n",
            "18           C15                 0.30             0.2040               0.835\n",
            "19           C16                 0.17             0.2160               0.843\n",
            "20           C17                 0.21             0.2360               0.837\n",
            "21           C18                 0.15             0.2530               0.840\n",
            "22           C19                 0.15             0.2700               0.850\n",
            "23           C20                 0.80             0.3910               0.877\n",
            "\n",
            "Phase envelope of Gas Condensate Fluid:\n",
            "\n"
          ],
          "name": "stdout"
        },
        {
          "output_type": "display_data",
          "data": {
            "image/png": "[encoded data removed]",
            "text/plain": [
              "<Figure size 432x288 with 1 Axes>"
            ]
          },
          "metadata": {
            "tags": [],
            "needs_background": "light"
          }
        },
        {
          "output_type": "execute_result",
          "data": {
            "text/plain": [
              "JavaObject id=o230"
            ]
          },
          "metadata": {
            "tags": []
          },
          "execution_count": 9
        }
      ]
    },
    {
      "cell_type": "markdown",
      "metadata": {
        "id": "bJ9uy6aeyYXF",
        "colab_type": "text"
      },
      "source": [
        "## 1. Separator test\n",
        "\n",
        "Separator Test experiments are carried out for both oil and gas condensate mixtures. A sample of reservoir liquid is placed in the laboratory cell and brought to reservoir temperature and bubble-point pressure. Then the liquid is expelled from the cell through a number of stages of separation.  Usually, two or three stages of separation are used, with the last stage at atmospheric pressure and near-ambient temperature (60 to 80°F).\n",
        "\n",
        "The gas is let out of the separator through the top and is transferred to standard conditions, where its volume is measured. As for the differential liberation experiment, liquid dropping out from the gas is converted to an equivalent gas volume at standard conditions.\n",
        "\n",
        "The liquid from the ﬁrst separator is let into a second separator at a lower pressure and temperature than the ﬁrst one. At which conditions, more gas will be liberated as sketched in the figure below. As with the gas from the ﬁrst separator, this gas is transferred to standard conditions.\n",
        "\n",
        "An example of a separator test and a fluid compositoion is given in the following script."
      ]
    },
    {
      "cell_type": "code",
      "metadata": {
        "id": "pHhKs34QyxIU",
        "colab_type": "code",
        "colab": {}
      },
      "source": [
        "fluid1 = createfluid('black oil')\n",
        "print('phase envelope for black oil')\n",
        "TPflash(fluid1)\n",
        "printFrame(fluid1)\n",
        "phaseenvelope(fluid1, True)"
      ],
      "execution_count": 0,
      "outputs": []
    },
    {
      "cell_type": "code",
      "metadata": {
        "id": "c3sy0D5Bm9u3",
        "colab_type": "code",
        "colab": {}
      },
      "source": [
        ""
      ],
      "execution_count": 0,
      "outputs": []
    },
    {
      "cell_type": "markdown",
      "metadata": {
        "id": "InUokQTyUU_8",
        "colab_type": "text"
      },
      "source": [
        "## 2. Simulation of gas and oil viscosity\n",
        "The principal factors affecting viscosity are:\n",
        "\n",
        "* Oil composition\n",
        "* Temperature\n",
        "* Dissolved gas\n",
        "* Pressure\n",
        "\n",
        "Viscosity increases with decreases in crude oil API gravity (assuming a constant Watson characterization factor) and decreases in temperature. The effect of solution gas is to reduce viscosity. Above saturation pressure, viscosity increases almost linearly with pressure."
      ]
    },
    {
      "cell_type": "code",
      "metadata": {
        "id": "I8BbPPj30Umc",
        "colab_type": "code",
        "colab": {}
      },
      "source": [
        "fluid1 = createfluid('black oil')\n",
        "pressure = [300.0, 250.0, 200.0, 150.0, 100.0, 70.0, 50.0, 30.0, 10.0, 1.01325]\n",
        "temperature = [301.0, 301.0, 301.0, 301.0, 301.0, 301.0, 301.0, 301.0, 301.0, 301.0]\n",
        "\n",
        "gasviscosity = []\n",
        "oilviscosity = []\n",
        "\n",
        "viscositysim(fluid1,pressure,temperature,gasviscosity,oilviscosity)\n",
        "\n",
        "plt.figure()\n",
        "plt.plot(pressure, gasviscosity, \"o\")\n",
        "plt.xlabel('Pressure [bara]')\n",
        "plt.ylabel('gasviscosity [kg/msec]')\n",
        "plt.figure()\n",
        "plt.plot(pressure, oilviscosity, \"o\")\n",
        "plt.xlabel('Pressure [bara]')\n",
        "plt.ylabel('oilviscosity [kg/msec]')\n",
        "plt.figure()"
      ],
      "execution_count": 0,
      "outputs": []
    },
    {
      "cell_type": "markdown",
      "metadata": {
        "id": "pBoW7A5xdDGK",
        "colab_type": "text"
      },
      "source": [
        "## 3. Differential liberation\n",
        "In differential liberation, gas comes out of solution as pressure is gradually decreased, but is removed from the oil. When reservoir pressure drops below the bubblepoint, flash liberation dominates."
      ]
    },
    {
      "cell_type": "code",
      "metadata": {
        "id": "jG21DtJ2dSCI",
        "colab_type": "code",
        "colab": {}
      },
      "source": [
        "fluid1 = createfluid('black oil')\n",
        "pressure = [300.0, 250.0, 200.0, 150.0, 100.0, 70.0, 50.0, 30.0, 10.0]\n",
        "temperature = 301.0\n",
        "\n",
        "Bo = []\n",
        "Bg = []\n",
        "relativegravity = []\n",
        "Zgas =  []\n",
        "gasstandardvolume = []\n",
        "Rs = []\n",
        "oildensity = []\n",
        "relativegravity = []\n",
        "\n",
        "difflib(fluid1,pressure,temperature,Bo, Bg,relativegravity,Zgas,gasstandardvolume,Rs, oildensity, relativegravity)\n",
        "\n",
        "\n",
        "plt.figure(figsize=(20, 5))\n",
        "plt.subplot(131)\n",
        "plt.plot(pressure, Bo, \"o\")\n",
        "plt.xlabel('Pressure [bara]')\n",
        "plt.ylabel('Bo [m3/Sm3]')\n",
        "plt.subplot(132)\n",
        "plt.plot(pressure, Rs, \"o\")\n",
        "plt.xlabel('Pressure [bara]')\n",
        "plt.ylabel('Rs [m3/Sm3]')\n",
        "plt.subplot(133)\n",
        "plt.plot(pressure, oildensity, \"o\")\n",
        "plt.xlabel('Pressure [bara]')\n",
        "plt.ylabel('oil density [kg/m3]')\n",
        "plt.show()"
      ],
      "execution_count": 0,
      "outputs": []
    },
    {
      "cell_type": "markdown",
      "metadata": {
        "id": "8Ck0HLppeB6J",
        "colab_type": "text"
      },
      "source": [
        "## 4. Constant-volume depletion (CVD)\n",
        "Constant-volume depletion (CVD) experiments are performed on gas condensates and volatile oils to simulate reservoir depletion performance and compositional variation. ... The temperature of the PVT cell is maintained at the reservoir temperature T throughout the experiment."
      ]
    },
    {
      "cell_type": "code",
      "metadata": {
        "id": "K8QPOFjKeNMl",
        "colab_type": "code",
        "colab": {}
      },
      "source": [
        "fluid1 = createfluid('black oil')\n",
        "pressure = [300.0, 250.0, 200.0, 150.0, 100.0, 70.0, 50.0, 30.0, 10.0]\n",
        "temperature = 301.0\n",
        "\n",
        "relativevolume = []\n",
        "liquidrelativevolume = []\n",
        "Zgas =  []\n",
        "Zmix = []\n",
        "cummulativemolepercdepleted = []\n",
        "\n",
        "CVD(fluid1,pressure,temperature,relativevolume, liquidrelativevolume,Zgas,Zmix,cummulativemolepercdepleted)\n",
        "plt.figure(figsize=(20, 5))\n",
        "plt.subplot(131)\n",
        "plt.plot(pressure, relativevolume, \"o\")\n",
        "plt.xlabel('Pressure [bara]')\n",
        "plt.ylabel('relative volume [-]')\n",
        "plt.subplot(132)\n",
        "plt.plot(pressure, cummulativemolepercdepleted, \"o\")\n",
        "plt.xlabel('Pressure [bara]')\n",
        "plt.ylabel('cummulative depleted [-]')\n",
        "plt.show()\n"
      ],
      "execution_count": 0,
      "outputs": []
    },
    {
      "cell_type": "markdown",
      "metadata": {
        "id": "AA0qIRXIevpy",
        "colab_type": "text"
      },
      "source": [
        "## 5. Constant mass expansion (CME)\n",
        "The bubble point pressure is determined by an experiment called Constant Composition Expansion (CCE). It's also called Constant Mass Expansion (CME) experiment or Pressure-Volume (PV) relationship. ... The cell pressure is controlled by a positive displacement pump and recorded on an accurate pressure gauge."
      ]
    },
    {
      "cell_type": "code",
      "metadata": {
        "id": "lhD7g4HufFe5",
        "colab_type": "code",
        "colab": {}
      },
      "source": [
        "fluid1 = createfluid('black oil')\n",
        "pressure = [300.0, 250.0, 200.0, 150.0, 100.0, 70.0, 50.0, 30.0, 10.0]\n",
        "temperature = [301.0, 301.0, 301.0, 301.0, 301.0, 301.0, 301.0, 301.0, 301.0]\n",
        "\n",
        "relativevolume = []\n",
        "liquidrelativevolume = []\n",
        "Zgas =  []\n",
        "Yfactor = []\n",
        "isothermalcompressibility = []\n",
        "satPressure = None\n",
        "CME(fluid1,pressure,temperature,satPressure,relativevolume, liquidrelativevolume,Zgas,Yfactor,isothermalcompressibility)\n",
        "\n",
        "plt.figure(figsize=(20, 5))\n",
        "plt.subplot(131)\n",
        "plt.plot(pressure, relativevolume, \"o\")\n",
        "plt.xlabel('Pressure [bara]')\n",
        "plt.ylabel('relative volume [-]')\n",
        "plt.subplot(132)\n",
        "plt.plot(pressure, Yfactor, \"o\")\n",
        "plt.xlabel('Pressure [bara]')\n",
        "plt.ylabel('Yfactor [-]')\n",
        "plt.subplot(133)\n",
        "plt.plot(pressure, isothermalcompressibility, \"o\")\n",
        "plt.xlabel('Pressure [bara]')\n",
        "plt.ylabel('isothermalcompressibility [1/bar]')\n",
        "plt.show()"
      ],
      "execution_count": 0,
      "outputs": []
    },
    {
      "cell_type": "markdown",
      "metadata": {
        "id": "tB7Uv-MMU01j",
        "colab_type": "text"
      },
      "source": [
        "## 6. Gas Oil Ratio\n",
        "....."
      ]
    },
    {
      "cell_type": "code",
      "metadata": {
        "id": "oT32umptVSqq",
        "colab_type": "code",
        "colab": {}
      },
      "source": [
        "fluid1 = createfluid('black oil')\n",
        "pressure = [300.0, 250.0, 200.0, 150.0, 100.0, 70.0, 50.0, 30.0, 10.0, 1.01325]\n",
        "temperature = [301.0, 301.0, 301.0, 301.0, 301.0, 301.0, 301.0, 301.0, 301.0, 301.0]\n",
        "\n",
        "GORdata = []\n",
        "Bo = []\n",
        "GOR(fluid1, pressure, temperature, GORdata, Bo)\n",
        "\n",
        "plt.figure(figsize=(20, 5))\n",
        "plt.subplot(131)\n",
        "plt.plot(pressure, GORdata, \"o\")\n",
        "plt.xlabel('Pressure [bara]')\n",
        "plt.ylabel('GORdata [Sm3 gas/Sm3 oil]')\n",
        "plt.subplot(132)\n",
        "plt.plot(pressure, Bo, \"o\")\n",
        "plt.xlabel('Pressure [bara]')\n",
        "plt.ylabel('Bo[m3/Sm3]')\n",
        "plt.show()"
      ],
      "execution_count": 0,
      "outputs": []
    },
    {
      "cell_type": "markdown",
      "metadata": {
        "id": "VJGJ73MxYjm2",
        "colab_type": "text"
      },
      "source": [
        "## 7. Swelling test\n",
        "A swelling/extraction test is a common phase behavior experiment to determine reservoir fluid volume and composition changes due to CO2 dissolution at reservoir temperature. The test is usually conducted in a constant volume, high pressure view cell initially filled with a predetermined amount of stock-tank oil."
      ]
    },
    {
      "cell_type": "code",
      "metadata": {
        "id": "pxa0bFg7Yp4s",
        "colab_type": "code",
        "colab": {}
      },
      "source": [
        "fluid1 = createfluid('black oil')\n",
        "injectiongas = createfluid('CO2')\n",
        "relativeoilvolume = []\n",
        "pressure = []\n",
        "fluid1.setPressure(100.0)\n",
        "TPflash(fluid1)\n",
        "temperature = 301.0\n",
        "molPercentInjected = [0.0, 1.0, 5.0, 8.0, 10.0, 15.0, 20.0]\n",
        "swellingtest(fluid1,injectiongas,temperature, molPercentInjected, pressure,relativeoilvolume)\n",
        "\n",
        "plt.figure()\n",
        "plt.plot(pressure, relativeoilvolume, \"o\")\n",
        "plt.xlabel('Pressure [bara]')\n",
        "plt.ylabel('swollen volume/initial volume [-]')\n",
        "plt.show()"
      ],
      "execution_count": 0,
      "outputs": []
    }
  ]
}