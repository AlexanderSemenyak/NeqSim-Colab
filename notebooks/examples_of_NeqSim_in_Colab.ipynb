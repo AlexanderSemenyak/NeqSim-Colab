{
  "nbformat": 4,
  "nbformat_minor": 0,
  "metadata": {
    "colab": {
      "name": "examples of NeqSim in Colab.ipynb",
      "version": "0.3.2",
      "provenance": [],
      "include_colab_link": true
    },
    "kernelspec": {
      "name": "python3",
      "display_name": "Python 3"
    }
  },
  "cells": [
    {
      "cell_type": "markdown",
      "metadata": {
        "id": "view-in-github",
        "colab_type": "text"
      },
      "source": [
        "<a href=\"https://colab.research.google.com/github/EvenSol/NeqSim-Colab/blob/master/notebooks/examples_of_NeqSim_in_Colab.ipynb\" target=\"_parent\"><img src=\"https://colab.research.google.com/assets/colab-badge.svg\" alt=\"Open In Colab\"/></a>"
      ]
    },
    {
      "cell_type": "code",
      "metadata": {
        "id": "SA8ZWE3zpKGR",
        "colab_type": "code",
        "colab": {}
      },
      "source": [
        ""
      ],
      "execution_count": 0,
      "outputs": []
    },
    {
      "cell_type": "markdown",
      "metadata": {
        "id": "_eRtkQnHpL70",
        "colab_type": "text"
      },
      "source": [
        "# How to use NeqSim in Colab (Python)"
      ]
    },
    {
      "cell_type": "markdown",
      "metadata": {
        "id": "kHt6u-utpvYf",
        "colab_type": "text"
      },
      "source": [
        "In the sections below you will find examples of calculations with NeqSim in Colab. The scripts can be run directly in the browser."
      ]
    },
    {
      "cell_type": "markdown",
      "metadata": {
        "id": "9VqtmS_MpS6M",
        "colab_type": "text"
      },
      "source": [
        "**Thermodynamics**\n",
        "1. [PVT/density of gases](https://colab.research.google.com/github/EvenSol/NeqSim-Colab/blob/master/notebooks/thermodynamics/density_of_gas.ipynb)\n",
        "2. [Phase envelopes of oil and gas](https://colab.research.google.com/github/EvenSol/NeqSim-Colab/blob/master/notebooks/thermodynamics/Phase_envelopes_of_oil_and_gas.ipynb)\n",
        "3. [Solubility of gases in water](https://colab.research.google.com/github/EvenSol/NeqSim-Colab/blob/master/notebooks/thermodynamics/solubility_of_gases_in_water.ipynb)\n",
        "\n",
        "**Gas processing**\n",
        "1. [Freezing point in LNG](https://colab.research.google.com/github/EvenSol/NeqSim-Colab/blob/master/notebooks/thermodynamics/freezing_in_LNG.ipynb)\n",
        "2. [Mercury in natural gas](https://colab.research.google.com/github/EvenSol/NeqSim-Colab/blob/master/notebooks/thermodynamics/mercury_in_gas.ipynb)\n",
        "\n",
        "**Flow assurance**\n",
        "1. [Thermodynamics of natural gas hydrates](https://colab.research.google.com/github/EvenSol/NeqSim-Colab/blob/master/notebooks/thermodynamics/thermodynamics_of_natural_gas_hydrates.ipynb)\n",
        "\n"
      ]
    }
  ]
}