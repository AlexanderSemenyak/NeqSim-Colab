{
  "nbformat": 4,
  "nbformat_minor": 0,
  "metadata": {
    "colab": {
      "name": "examples of NeqSim in Colab.ipynb",
      "provenance": [],
      "include_colab_link": true
    },
    "kernelspec": {
      "name": "python3",
      "display_name": "Python 3"
    }
  },
  "cells": [
    {
      "cell_type": "markdown",
      "metadata": {
        "id": "view-in-github",
        "colab_type": "text"
      },
      "source": [
        "<a href=\"https://colab.research.google.com/github/EvenSol/NeqSim-Colab/blob/master/notebooks/examples_of_NeqSim_in_Colab.ipynb\" target=\"_parent\"><img src=\"https://colab.research.google.com/assets/colab-badge.svg\" alt=\"Open In Colab\"/></a>"
      ]
    },
    {
      "cell_type": "markdown",
      "metadata": {
        "id": "_eRtkQnHpL70",
        "colab_type": "text"
      },
      "source": [
        "# Introduction to Gas Processing using NeqSim in Colab"
      ]
    },
    {
      "cell_type": "markdown",
      "metadata": {
        "id": "kHt6u-utpvYf",
        "colab_type": "text"
      },
      "source": [
        "[NeqSim (Non-Equilibrium Simulator)](https://equinor.github.io/neqsimhome/) is a library for estimation of fluid behaviour for oil and gas production. Colaboratory (Colab) is a free Jupyter notebook environment that requires no setup and runs entirely in the cloud. In the notebooks listed in this page you will find examples of typical gas processing calculations using NeqSim in Colab, and will serve both as introduction to natural gas processing and to interactive use of NeqSim in a Python based notebook. The notebooks serves as a theoretical introduction and as a simulation tool for many processes found in the gas industry.\n",
        "\n",
        "---\n",
        "\n",
        "This module gives an interactive intruduction to gas processing using NeqSim and Colaboratory. The notebooks use the NeqSim package in Python and calculations are run directly from the web browser (by selecting Runtime and Run all in the main menu). The user will need to log on using their google account. To learn more about Colab see the [Welcome To Colaboratory page](https://colab.research.google.com/notebooks/welcome.ipynb).\n",
        "\n",
        "\n",
        "\n",
        "---\n",
        "\n",
        "***Learn to use NeqSim in Colab and contribute with new material***\n",
        "\n",
        "Users are welcome to contribute with their own NeqSim Colab pages. [This template](https://colab.research.google.com/github/EvenSol/NeqSim-Colab/blob/master/notebooks/template.ipynb) can be used as a basis for a new notebook. An introduction to how to use Neqsim in Colab is given in [this page](https://colab.research.google.com/github/EvenSol/NeqSim-Colab/blob/master/notebooks/howtouseneqsim.ipynb). A Python script as basis for a notebook can be seen and modified by right clicking a form and trigger show code."
      ]
    },
    {
      "cell_type": "markdown",
      "metadata": {
        "id": "9VqtmS_MpS6M",
        "colab_type": "text"
      },
      "source": [
        "**Thermodynamics**\n",
        "1. [The laws of thermodynamics](https://colab.research.google.com/github/EvenSol/NeqSim-Colab/blob/master/notebooks/thermodynamics/LawsOfThermodynamics.ipynb)\n",
        "2. [Equations of State](https://colab.research.google.com/github/EvenSol/NeqSim-Colab/blob/master/notebooks/thermodynamics/EquationsOfState.ipynb)\n",
        "3. [Phase equilibrium](https://colab.research.google.com/github/EvenSol/NeqSim-Colab/blob/master/notebooks/thermodynamics/PhaseEquilibrium.ipynb) \n",
        "4. [Thermodynamic property charts](https://colab.research.google.com/github/EvenSol/NeqSim-Colab/blob/master/notebooks/thermodynamics/ThermoPropertyCharts.ipynb)\n",
        "5. [Physical porperty charts](https://colab.research.google.com/github/EvenSol/NeqSim-Colab/blob/master/notebooks/thermodynamics/physiclaPropertyChart.ipynb)\n",
        "6. [Thermodynamc Cycles](https://colab.research.google.com/github/EvenSol/NeqSim-Colab/blob/master/notebooks/thermodynamics/ThermodynamicCycles.ipynb)\n",
        "\n",
        "**Thermodynamics of gas processing**\n",
        "1. [PVT/density of gases](https://colab.research.google.com/github/EvenSol/NeqSim-Colab/blob/master/notebooks/thermodynamics/density_of_gas.ipynb)\n",
        "2. [Phase envelopes of oil and gas](https://colab.research.google.com/github/EvenSol/NeqSim-Colab/blob/master/notebooks/thermodynamics/Phase_envelopes_of_oil_and_gas.ipynb)\n",
        "3. [Solubility of gases in water](https://colab.research.google.com/github/EvenSol/NeqSim-Colab/blob/master/notebooks/thermodynamics/solubility_of_gases_in_water.ipynb)\n",
        "4. [Freezing point in LNG](https://colab.research.google.com/github/EvenSol/NeqSim-Colab/blob/master/notebooks/thermodynamics/freezing_in_LNG.ipynb)\n",
        "5. [Phase behaviour of CO2](https://colab.research.google.com/github/EvenSol/NeqSim-Colab/blob/master/notebooks/thermodynamics/PhaseBEhaviourCO2.ipynb)\n",
        "5. [Mercury in natural gas](https://colab.research.google.com/github/EvenSol/NeqSim-Colab/blob/master/notebooks/thermodynamics/mercury_in_gas.ipynb)\n",
        "\n",
        "\n",
        "**Characterization of reservoir fluids**\n",
        "1. [PVT of reservoir fluids](https://colab.research.google.com/github/EvenSol/NeqSim-Colab/blob/master/notebooks/PVT/OilProperties.ipynb)\n",
        "2. [Characterization of a well fluid](https://colab.research.google.com/github/EvenSol/NeqSim-Colab/blob/master/notebooks/PVT/fluidcharacterization.ipynb)\n",
        "3. [PVT experiments](https://colab.research.google.com/github/EvenSol/NeqSim-Colab/blob/master/notebooks/PVT/PVTexperiments.ipynb)\n",
        "\n",
        "**Gas processing design**\n",
        "1. [Design of a gas-liquid separator](https://colab.research.google.com/github/EvenSol/NeqSim-Colab/blob/master/notebooks/process/gas_oil_separation.ipynb)\n",
        "2. [Design of a TEG-dehydration process](https://colab.research.google.com/github/EvenSol/NeqSim-Colab/blob/master/notebooks/process/TEGdehydration.ipynb)\n",
        "3. [Design of a shell and tube heat exchanger](https://colab.research.google.com/github/EvenSol/NeqSim-Colab/blob/master/notebooks/process/heatexchanger.ipynb)\n",
        "4. [Calculation of a top side process](https://colab.research.google.com/github/EvenSol/NeqSim-Colab/blob/master/notebooks/process/topsideprocess.ipynb)\n",
        "5. [Calculation of a NGL-extraction process](https://github.com/EvenSol/NeqSim-Colab/blob/master/notebooks/process/NGLextractionprocess.ipynb)\n",
        "6. [Calculation of a Gas compression Train](https://colab.research.google.com/github/EvenSol/NeqSim-Colab/blob/master/notebooks/process/GasCompressorTrain.ipynb)\n",
        "\n",
        "\n",
        "**CO2 removal and handling**\n",
        "1. CO2 removal processes\n",
        "2. CO2 recompression systems\n",
        "3. CO2 depressurization\n",
        "\n",
        "**Gas and oil transport**\n",
        "1. [Design of a gas pipeline](https://github.com/EvenSol/NeqSim-Colab/blob/master/notebooks/fluidflow/gaspipeline.ipynb)\n",
        "2. [Design of a multi-phase pipeline](https://github.com/EvenSol/NeqSim-Colab/blob/master/notebooks/fluidflow/twophasepipeline.ipynb)\n",
        "\n",
        "**Flow assurance**\n",
        "1. [Thermodynamics of natural gas hydrates](https://colab.research.google.com/github/EvenSol/NeqSim-Colab/blob/master/notebooks/thermodynamics/thermodynamics_of_natural_gas_hydrates.ipynb)\n",
        "2. Thermodynamics of wax formation in reservoir fluids\n",
        "3. [Thermodynamics of mineral scale formation](https://colab.research.google.com/github/EvenSol/NeqSim-Colab/blob/master/notebooks/thermodynamics/ThermodynamicsOfMineralScale.ipynb)\n",
        "\n",
        "**Natural gas quality**\n",
        "1. [Calorific value of natural gas (ISO6976)](https://colab.research.google.com/github/EvenSol/NeqSim-Colab/blob/master/notebooks/gasquality/CalorificValueNaturalGas.ipynb)\n",
        "\n",
        "\n",
        "**Excercise**\n",
        "1. Excercise 1 - [Phase behaviour of reservoir fluids](https://colab.research.google.com/github/EvenSol/NeqSim-Colab/blob/master/notebooks/excercise/Excercise_Phase_Behaviour_of_Reservoir_Fluids%20(1).ipynb)\n",
        "2. Excercise 2 - [Design of a oil separation process](https://colab.research.google.com/github/EvenSol/NeqSim-Colab/blob/master/notebooks/excercise/Design_of_a_separation_process_in_HYSYS.ipynb)\n"
      ]
    }
  ]
}