{
  "nbformat": 4,
  "nbformat_minor": 0,
  "metadata": {
    "colab": {
      "name": "examples of NeqSim in Colab.ipynb",
      "version": "0.3.2",
      "provenance": [],
      "include_colab_link": true
    },
    "kernelspec": {
      "name": "python3",
      "display_name": "Python 3"
    }
  },
  "cells": [
    {
      "cell_type": "markdown",
      "metadata": {
        "id": "view-in-github",
        "colab_type": "text"
      },
      "source": [
        "<a href=\"https://colab.research.google.com/github/EvenSol/NeqSim-Colab/blob/master/notebooks/examples_of_NeqSim_in_Colab.ipynb\" target=\"_parent\"><img src=\"https://colab.research.google.com/assets/colab-badge.svg\" alt=\"Open In Colab\"/></a>"
      ]
    },
    {
      "cell_type": "markdown",
      "metadata": {
        "id": "_eRtkQnHpL70",
        "colab_type": "text"
      },
      "source": [
        "# How to use NeqSim in Colab"
      ]
    },
    {
      "cell_type": "markdown",
      "metadata": {
        "id": "kHt6u-utpvYf",
        "colab_type": "text"
      },
      "source": [
        "[NeqSim (Non-Equilibrium Simulator)](https://equinor.github.io/neqsimhome/) is a library for estimation of fluid behaviour for oil and gas production. NeqSim toolboxes are avalable for programming languages such as Matlab and Python. \n",
        "\n",
        "In the sections below you will find examples of calculations with NeqSim in Colaboratory (Colab). The scripts can be run directly in the browser.\n",
        "Colaboratory is a free Jupyter notebook environment that requires no setup and runs entirely in the cloud. To learn more about Colab see the [Welcome To Colaboratory page](https://colab.research.google.com/notebooks/welcome.ipynb). "
      ]
    },
    {
      "cell_type": "markdown",
      "metadata": {
        "id": "9VqtmS_MpS6M",
        "colab_type": "text"
      },
      "source": [
        "**Thermodynamics of gas processing**\n",
        "1. [PVT/density of gases](https://colab.research.google.com/github/EvenSol/NeqSim-Colab/blob/master/notebooks/thermodynamics/density_of_gas.ipynb)\n",
        "2. [Phase envelopes of oil and gas](https://colab.research.google.com/github/EvenSol/NeqSim-Colab/blob/master/notebooks/thermodynamics/Phase_envelopes_of_oil_and_gas.ipynb)\n",
        "3. [Solubility of gases in water](https://colab.research.google.com/github/EvenSol/NeqSim-Colab/blob/master/notebooks/thermodynamics/solubility_of_gases_in_water.ipynb)\n",
        "4. [Freezing point in LNG](https://colab.research.google.com/github/EvenSol/NeqSim-Colab/blob/master/notebooks/thermodynamics/freezing_in_LNG.ipynb)\n",
        "5. [Mercury in natural gas](https://colab.research.google.com/github/EvenSol/NeqSim-Colab/blob/master/notebooks/thermodynamics/mercury_in_gas.ipynb)\n",
        "\n",
        "**Characterization of oil and gas**\n",
        "1. [Characterization of a well fluid](https://colab.research.google.com/drive/1CKgIui-xRHfdFAjOOdgGsIG0Dw1LO9M0)\n",
        "\n",
        "**Gas processing design**\n",
        "1. [Design of a gas-liquid separator](https://colab.research.google.com/github/EvenSol/NeqSim-Colab/blob/master/notebooks/process/gas_oil_separation.ipynb)\n",
        "2. [Design of a TEG-dehydration process](https://colab.research.google.com/drive/1Sc-GsIOJQDhmly6ujRrnL0U-gdkqTjc2)\n",
        "3. [Design of a shell and tube heat exchanger](https://colab.research.google.com/drive/1v_kTQO0YKgAkMTtakuBGS94PknXPiKkj)\n",
        "4. [Calculation of a top side process](https://colab.research.google.com/drive/1Jk1GQRf-Xn3RZdhSvAxLzGoqmh1bXjCT)\n",
        "5. [Calculation of a NGL-extraction process](https://colab.research.google.com/drive/1k1J8kEd7tT_R1zlIOYrlW87sF8y73tSW)\n",
        "\n",
        "**Gas and oil transport**\n",
        "1. [Design of a gas pipeline](https://colab.research.google.com/drive/1v9PaHRQbHWKzloe7AaEtCV4feeKoxD8Q)\n",
        "2. [Design of a multi-phase pipeline](https://colab.research.google.com/drive/10mvAVAKYm_3YF0uJDGr6gMs5TYM1eZh1)\n",
        "\n",
        "**Flow assurance**\n",
        "1. [Thermodynamics of natural gas hydrates](https://colab.research.google.com/github/EvenSol/NeqSim-Colab/blob/master/notebooks/thermodynamics/thermodynamics_of_natural_gas_hydrates.ipynb)\n",
        "\n",
        "**Natural gas quality**\n",
        "1. [Calorific value of natural gas (ISO6976)](https://colab.research.google.com/github/EvenSol/NeqSim-Colab/blob/master/notebooks/gasquality/CalorificValueNaturalGas.ipynb)\n",
        "\n"
      ]
    }
  ]
}