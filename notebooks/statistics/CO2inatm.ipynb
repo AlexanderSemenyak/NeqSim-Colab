{
  "nbformat": 4,
  "nbformat_minor": 0,
  "metadata": {
    "colab": {
      "name": "CO2inatm.ipynb",
      "provenance": [],
      "authorship_tag": "ABX9TyOeTQmkghHznUgTQtwsVJyg",
      "include_colab_link": true
    },
    "kernelspec": {
      "name": "python3",
      "display_name": "Python 3"
    }
  },
  "cells": [
    {
      "cell_type": "markdown",
      "metadata": {
        "id": "view-in-github",
        "colab_type": "text"
      },
      "source": [
        "<a href=\"https://colab.research.google.com/github/EvenSol/NeqSim-Colab/blob/master/notebooks/statistics/CO2inatm.ipynb\" target=\"_parent\"><img src=\"https://colab.research.google.com/assets/colab-badge.svg\" alt=\"Open In Colab\"/></a>"
      ]
    },
    {
      "cell_type": "code",
      "metadata": {
        "id": "De2MJy2tivvT",
        "cellView": "form"
      },
      "source": [
        "#@title CO2 in atomsphere calculations\n",
        "#@markdown <br><br>This document is part of the module [\"Introduction to Gas Processing using NeqSim in Colab\"](https://colab.research.google.com/github/EvenSol/NeqSim-Colab/blob/master/notebooks/examples_of_NeqSim_in_Colab.ipynb#scrollTo=_eRtkQnHpL70).\n",
        "%%capture\n",
        "!pip install neqsim\n",
        "import neqsim\n",
        "from neqsim.thermo.thermoTools import *\n",
        "import matplotlib\n",
        "import numpy as np\n",
        "import matplotlib.pyplot as plt\n",
        "import math\n",
        "import pandas as pd\n",
        "%matplotlib inline"
      ],
      "execution_count": null,
      "outputs": []
    },
    {
      "cell_type": "markdown",
      "metadata": {
        "id": "mBiRL-2XiiaE"
      },
      "source": [
        "#Atmospheric CO2 Concentration"
      ]
    },
    {
      "cell_type": "code",
      "metadata": {
        "id": "BilqgSBZiTlN",
        "outputId": "b0927ba7-b00c-4dbb-e016-d9886f8d7743",
        "colab": {
          "base_uri": "https://localhost:8080/",
          "height": 459
        }
      },
      "source": [
        "import altair as alt\n",
        "from vega_datasets import data\n",
        "\n",
        "source = data.co2_concentration.url\n",
        "\n",
        "base = alt.Chart(\n",
        "    source,\n",
        "    title=\"Carbon Dioxide in the Atmosphere\"\n",
        ").transform_calculate(\n",
        "    year=\"year(datum.Date)\"\n",
        ").transform_calculate(\n",
        "    decade=\"floor(datum.year / 10)\"\n",
        ").transform_calculate(\n",
        "    scaled_date=\"(datum.year % 10) + (month(datum.Date)/12)\"\n",
        ").transform_window(\n",
        "    first_date='first_value(scaled_date)',\n",
        "    last_date='last_value(scaled_date)',\n",
        "    sort=[{\"field\": \"scaled_date\", \"order\": \"ascending\"}],\n",
        "    groupby=['decade'],\n",
        "    frame=[None, None]\n",
        ").transform_calculate(\n",
        "  end=\"datum.first_date === datum.scaled_date ? 'first' : datum.last_date === datum.scaled_date ? 'last' : null\"\n",
        ").encode(\n",
        "    x=alt.X(\n",
        "        \"scaled_date:Q\",\n",
        "        axis=alt.Axis(title=\"Year into Decade\", tickCount=11)\n",
        "    ),\n",
        "    y=alt.Y(\n",
        "        \"CO2:Q\",\n",
        "        title=\"CO2 concentration in ppm\",\n",
        "        scale=alt.Scale(zero=False)\n",
        "    )\n",
        ")\n",
        "\n",
        "line = base.mark_line().encode(\n",
        "    color=alt.Color(\n",
        "        \"decade:O\",\n",
        "        scale=alt.Scale(scheme=\"magma\"),\n",
        "        legend=None\n",
        "    )\n",
        ")\n",
        "\n",
        "text = base.encode(text=\"year:N\")\n",
        "\n",
        "start_year = text.transform_filter(\n",
        "  alt.datum.end == 'first'\n",
        ").mark_text(baseline=\"top\")\n",
        "\n",
        "end_year = text.transform_filter(\n",
        "  alt.datum.end == 'last'\n",
        ").mark_text(baseline=\"bottom\")\n",
        "\n",
        "(line + start_year + end_year).configure_text(\n",
        "    align=\"left\",\n",
        "    dx=1,\n",
        "    dy=3\n",
        ").properties(width=600, height=375)\n"
      ],
      "execution_count": 1,
      "outputs": [
        {
          "output_type": "execute_result",
          "data": {
            "text/plain": [
              "alt.LayerChart(...)"
            ],
            "text/html": [
              "\n",
              "<div id=\"altair-viz-aa0a6517d56c47ada7fcdbaea64cdbb1\"></div>\n",
              "<script type=\"text/javascript\">\n",
              "  (function(spec, embedOpt){\n",
              "    let outputDiv = document.currentScript.previousElementSibling;\n",
              "    if (outputDiv.id !== \"altair-viz-aa0a6517d56c47ada7fcdbaea64cdbb1\") {\n",
              "      outputDiv = document.getElementById(\"altair-viz-aa0a6517d56c47ada7fcdbaea64cdbb1\");\n",
              "    }\n",
              "    const paths = {\n",
              "      \"vega\": \"https://cdn.jsdelivr.net/npm//vega@5?noext\",\n",
              "      \"vega-lib\": \"https://cdn.jsdelivr.net/npm//vega-lib?noext\",\n",
              "      \"vega-lite\": \"https://cdn.jsdelivr.net/npm//vega-lite@4.8.1?noext\",\n",
              "      \"vega-embed\": \"https://cdn.jsdelivr.net/npm//vega-embed@6?noext\",\n",
              "    };\n",
              "\n",
              "    function loadScript(lib) {\n",
              "      return new Promise(function(resolve, reject) {\n",
              "        var s = document.createElement('script');\n",
              "        s.src = paths[lib];\n",
              "        s.async = true;\n",
              "        s.onload = () => resolve(paths[lib]);\n",
              "        s.onerror = () => reject(`Error loading script: ${paths[lib]}`);\n",
              "        document.getElementsByTagName(\"head\")[0].appendChild(s);\n",
              "      });\n",
              "    }\n",
              "\n",
              "    function showError(err) {\n",
              "      outputDiv.innerHTML = `<div class=\"error\" style=\"color:red;\">${err}</div>`;\n",
              "      throw err;\n",
              "    }\n",
              "\n",
              "    function displayChart(vegaEmbed) {\n",
              "      vegaEmbed(outputDiv, spec, embedOpt)\n",
              "        .catch(err => showError(`Javascript Error: ${err.message}<br>This usually means there's a typo in your chart specification. See the javascript console for the full traceback.`));\n",
              "    }\n",
              "\n",
              "    if(typeof define === \"function\" && define.amd) {\n",
              "      requirejs.config({paths});\n",
              "      require([\"vega-embed\"], displayChart, err => showError(`Error loading script: ${err.message}`));\n",
              "    } else if (typeof vegaEmbed === \"function\") {\n",
              "      displayChart(vegaEmbed);\n",
              "    } else {\n",
              "      loadScript(\"vega\")\n",
              "        .then(() => loadScript(\"vega-lite\"))\n",
              "        .then(() => loadScript(\"vega-embed\"))\n",
              "        .catch(showError)\n",
              "        .then(() => displayChart(vegaEmbed));\n",
              "    }\n",
              "  })({\"config\": {\"view\": {\"continuousWidth\": 400, \"continuousHeight\": 300}, \"text\": {\"align\": \"left\", \"dx\": 1, \"dy\": 3}}, \"layer\": [{\"mark\": \"line\", \"encoding\": {\"color\": {\"type\": \"ordinal\", \"field\": \"decade\", \"legend\": null, \"scale\": {\"scheme\": \"magma\"}}, \"x\": {\"type\": \"quantitative\", \"axis\": {\"tickCount\": 11, \"title\": \"Year into Decade\"}, \"field\": \"scaled_date\"}, \"y\": {\"type\": \"quantitative\", \"field\": \"CO2\", \"scale\": {\"zero\": false}, \"title\": \"CO2 concentration in ppm\"}}, \"title\": \"Carbon Dioxide in the Atmosphere\", \"transform\": [{\"calculate\": \"year(datum.Date)\", \"as\": \"year\"}, {\"calculate\": \"floor(datum.year / 10)\", \"as\": \"decade\"}, {\"calculate\": \"(datum.year % 10) + (month(datum.Date)/12)\", \"as\": \"scaled_date\"}, {\"window\": [{\"op\": \"first_value\", \"field\": \"scaled_date\", \"as\": \"first_date\"}, {\"op\": \"last_value\", \"field\": \"scaled_date\", \"as\": \"last_date\"}], \"frame\": [null, null], \"groupby\": [\"decade\"], \"sort\": [{\"field\": \"scaled_date\", \"order\": \"ascending\"}]}, {\"calculate\": \"datum.first_date === datum.scaled_date ? 'first' : datum.last_date === datum.scaled_date ? 'last' : null\", \"as\": \"end\"}]}, {\"mark\": {\"type\": \"text\", \"baseline\": \"top\"}, \"encoding\": {\"text\": {\"type\": \"nominal\", \"field\": \"year\"}, \"x\": {\"type\": \"quantitative\", \"axis\": {\"tickCount\": 11, \"title\": \"Year into Decade\"}, \"field\": \"scaled_date\"}, \"y\": {\"type\": \"quantitative\", \"field\": \"CO2\", \"scale\": {\"zero\": false}, \"title\": \"CO2 concentration in ppm\"}}, \"title\": \"Carbon Dioxide in the Atmosphere\", \"transform\": [{\"calculate\": \"year(datum.Date)\", \"as\": \"year\"}, {\"calculate\": \"floor(datum.year / 10)\", \"as\": \"decade\"}, {\"calculate\": \"(datum.year % 10) + (month(datum.Date)/12)\", \"as\": \"scaled_date\"}, {\"window\": [{\"op\": \"first_value\", \"field\": \"scaled_date\", \"as\": \"first_date\"}, {\"op\": \"last_value\", \"field\": \"scaled_date\", \"as\": \"last_date\"}], \"frame\": [null, null], \"groupby\": [\"decade\"], \"sort\": [{\"field\": \"scaled_date\", \"order\": \"ascending\"}]}, {\"calculate\": \"datum.first_date === datum.scaled_date ? 'first' : datum.last_date === datum.scaled_date ? 'last' : null\", \"as\": \"end\"}, {\"filter\": \"(datum.end === 'first')\"}]}, {\"mark\": {\"type\": \"text\", \"baseline\": \"bottom\"}, \"encoding\": {\"text\": {\"type\": \"nominal\", \"field\": \"year\"}, \"x\": {\"type\": \"quantitative\", \"axis\": {\"tickCount\": 11, \"title\": \"Year into Decade\"}, \"field\": \"scaled_date\"}, \"y\": {\"type\": \"quantitative\", \"field\": \"CO2\", \"scale\": {\"zero\": false}, \"title\": \"CO2 concentration in ppm\"}}, \"title\": \"Carbon Dioxide in the Atmosphere\", \"transform\": [{\"calculate\": \"year(datum.Date)\", \"as\": \"year\"}, {\"calculate\": \"floor(datum.year / 10)\", \"as\": \"decade\"}, {\"calculate\": \"(datum.year % 10) + (month(datum.Date)/12)\", \"as\": \"scaled_date\"}, {\"window\": [{\"op\": \"first_value\", \"field\": \"scaled_date\", \"as\": \"first_date\"}, {\"op\": \"last_value\", \"field\": \"scaled_date\", \"as\": \"last_date\"}], \"frame\": [null, null], \"groupby\": [\"decade\"], \"sort\": [{\"field\": \"scaled_date\", \"order\": \"ascending\"}]}, {\"calculate\": \"datum.first_date === datum.scaled_date ? 'first' : datum.last_date === datum.scaled_date ? 'last' : null\", \"as\": \"end\"}, {\"filter\": \"(datum.end === 'last')\"}]}], \"data\": {\"url\": \"https://vega.github.io/vega-datasets/data/co2-concentration.csv\"}, \"height\": 375, \"width\": 600, \"$schema\": \"https://vega.github.io/schema/vega-lite/v4.8.1.json\"}, {\"mode\": \"vega-lite\"});\n",
              "</script>"
            ]
          },
          "metadata": {
            "tags": []
          },
          "execution_count": 1
        }
      ]
    }
  ]
}