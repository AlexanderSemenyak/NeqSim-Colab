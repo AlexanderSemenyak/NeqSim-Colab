{
  "nbformat": 4,
  "nbformat_minor": 0,
  "metadata": {
    "colab": {
      "name": "worldOilandGasProduction.ipynb",
      "provenance": [],
      "authorship_tag": "ABX9TyOou+QgRBVfvl2ZPtpmgGub",
      "include_colab_link": true
    },
    "kernelspec": {
      "name": "python3",
      "display_name": "Python 3"
    }
  },
  "cells": [
    {
      "cell_type": "markdown",
      "metadata": {
        "id": "view-in-github",
        "colab_type": "text"
      },
      "source": [
        "<a href=\"https://colab.research.google.com/github/EvenSol/NeqSim-Colab/blob/master/notebooks/statistics/worldOilandGasProduction.ipynb\" target=\"_parent\"><img src=\"https://colab.research.google.com/assets/colab-badge.svg\" alt=\"Open In Colab\"/></a>"
      ]
    },
    {
      "cell_type": "code",
      "metadata": {
        "id": "wHUvzddBlN9X"
      },
      "source": [
        ""
      ],
      "execution_count": null,
      "outputs": []
    },
    {
      "cell_type": "markdown",
      "metadata": {
        "id": "86vDjtAZlRkN"
      },
      "source": [
        "#Litterature\n",
        "https://www.eia.gov/outlooks/steo/report/global_oil.php\n",
        "\n",
        "https://www.iea.org/reports/oil-information-overview\n",
        "\n",
        "https://colab.research.google.com/github/pythonbravo/oil_price/blob/master/A_Tour_of_the_Oil_Industry.ipynb\n",
        "\n",
        "https://medium.com/pursuitnotes/python-based-oil-gas-price-analysis-1fe5e10a23b0\n",
        "\n"
      ]
    }
  ]
}