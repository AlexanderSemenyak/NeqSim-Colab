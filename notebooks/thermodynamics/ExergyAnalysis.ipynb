{
  "nbformat": 4,
  "nbformat_minor": 0,
  "metadata": {
    "colab": {
      "name": "ExergyAnalysis.ipynb",
      "provenance": [],
      "collapsed_sections": [],
      "include_colab_link": true
    },
    "kernelspec": {
      "name": "python3",
      "display_name": "Python 3"
    }
  },
  "cells": [
    {
      "cell_type": "markdown",
      "metadata": {
        "id": "view-in-github",
        "colab_type": "text"
      },
      "source": [
        "<a href=\"https://colab.research.google.com/github/EvenSol/NeqSim-Colab/blob/master/notebooks/thermodynamics/ExergyAnalysis.ipynb\" target=\"_parent\"><img src=\"https://colab.research.google.com/assets/colab-badge.svg\" alt=\"Open In Colab\"/></a>"
      ]
    },
    {
      "cell_type": "code",
      "metadata": {
        "id": "eUg61ouJY8I-",
        "colab_type": "code",
        "cellView": "form",
        "colab": {}
      },
      "source": [
        "#@title Exergy analysis\n",
        "#@markdown Exergy analysis is a thermodynamic analysis technique based on the second law of thermodynamics which provides an alternative and illuminating means of assessing and comparing processes and systems rationally and meaningfully.\n",
        "%%capture\n",
        "!pip install neqsim"
      ],
      "execution_count": 0,
      "outputs": []
    },
    {
      "cell_type": "code",
      "metadata": {
        "id": "pytbPaqwZluA",
        "colab_type": "code",
        "cellView": "form",
        "outputId": "0d951fe3-9f8f-449f-9dee-35d415fa905b",
        "colab": {
          "base_uri": "https://localhost:8080/",
          "height": 421
        }
      },
      "source": [
        "#@title  Exergy Analysis:\n",
        "#@markdown integrating the 1st and 2nd laws of thermodynamics. https://www.youtube.com/watch?v=cD3nFnzviqA\n",
        "from IPython.display import YouTubeVideo\n",
        "YouTubeVideo('cD3nFnzviqA', width=600, height=400)\n"
      ],
      "execution_count": 0,
      "outputs": [
        {
          "output_type": "execute_result",
          "data": {
            "text/html": [
              "\n",
              "        <iframe\n",
              "            width=\"600\"\n",
              "            height=\"400\"\n",
              "            src=\"https://www.youtube.com/embed/cD3nFnzviqA\"\n",
              "            frameborder=\"0\"\n",
              "            allowfullscreen\n",
              "        ></iframe>\n",
              "        "
            ],
            "text/plain": [
              "<IPython.lib.display.YouTubeVideo at 0x7f9afd2bc320>"
            ],
            "image/jpeg": "[encoded data removed]"
          },
          "metadata": {
            "tags": []
          },
          "execution_count": 1
        }
      ]
    },
    {
      "cell_type": "markdown",
      "metadata": {
        "id": "iq_j5n-ynD44",
        "colab_type": "text"
      },
      "source": [
        "# Exergy\n",
        "In thermodynamics, the exergy of a system is the maximum useful work possible during a process that brings the system into equilibrium with a heat reservoir, reaching maximum entropy.[1] When the surroundings are the reservoir, exergy is the potential of a system to cause a change as it achieves equilibrium with its environment. Exergy is the energy that is available to be used. After the system and surroundings reach equilibrium, the exergy is zero. Determining exergy was also the first goal of thermodynamics. The term \"exergy\" was coined in 1956 by Zoran Rant (1904–1972) by using the Greek ex and ergon meaning \"from work\"[1][3], but the concept was developed by J. Willard Gibbs in 1873.[4]\n",
        "\n",
        "Energy is neither created nor destroyed during a process. Energy changes from one form to another (see First Law of Thermodynamics). In contrast, exergy is always destroyed when a process is irreversible, for example loss of heat to the environment (see Second Law of Thermodynamics). This destruction is proportional to the entropy increase of the system together with its surroundings (see Entropy production). The destroyed exergy has been called anergy.[2] For an isothermal process, exergy and energy are interchangeable terms, and there is no anergy.\n",
        "\n",
        "https://en.wikipedia.org/wiki/Exergy"
      ]
    },
    {
      "cell_type": "markdown",
      "metadata": {
        "id": "_fdXWsWH0YiG",
        "colab_type": "text"
      },
      "source": [
        "#Example of Exergy Calculation using NeqSim\n",
        "THe exergy of a stream can be directly calculated in neasim. THe Exergy is defined as \n",
        "\n",
        "$e_x=(h_1 - h_0) - T_0(s_1-s_o)  $\n",
        "\n",
        "Where $T_0$ is the temperature of the surroundings.\n",
        "\n",
        "http://www.ivt.ntnu.no/ept/fag/tep4120/innhold/Exergy%20Light%20Version%203.pdf"
      ]
    },
    {
      "cell_type": "code",
      "metadata": {
        "id": "DzOXhiqvP2Ep",
        "colab_type": "code",
        "outputId": "c13b92d5-177e-4f3b-acee-b05c58ff0e48",
        "colab": {
          "base_uri": "https://localhost:8080/",
          "height": 592
        }
      },
      "source": [
        "import neqsim\n",
        "from neqsim.thermo.thermoTools import *\n",
        "from neqsim.process import stream,clearProcess,runProcess, pump, heater, cooler, expander, valve, compressor, heater\n",
        "\n",
        "Tsurr = 20.0\n",
        "\n",
        "Tgas = 50.0\n",
        "P_in = 20.0\n",
        "P-out = 10.0\n",
        "\n",
        "\n",
        "\n",
        "fluid_1 = fluid(\"srk\")\n",
        "fluid_1.addComponent(\"methane\", 1.0, \"kg/sec\")\n",
        "fluid_1.addComponent(\"ethane\", 0.10, \"kg/sec\")\n",
        "fluid_1.setTemperature(Tgas, \"C\")\n",
        "fluid_1.setPressure(P_in, \"bara\")\n",
        "TPflash(fluid_1)\n",
        "T1 = fluid_1.getTemperature(\"C\")\n",
        "H1 = fluid_1.getEnthalpy(\"kJ/kg\")\n",
        "U1 = fluid_1.getInternalEnergy(\"kJ/kg\")\n",
        "S1 = fluid_1.getEntropy(\"kJ/kgK\")\n",
        "V1 = fluid_1.getVolume(\"m3\")\n",
        "E1 = fluid_1.getExergy(\"kJ/kg\")\n",
        "\n",
        "\n",
        "\n",
        "# The Carnot cycle when acting as a heat engine consists of the following steps:¨\n",
        "# 1-2: Isothermal Expansion. Heat is transferred reversibly from high temperature reservoir at constant temperature TH (isothermal heat addition or absorption). \n",
        "V2 = V1*1.5\n",
        "TVflash(fluid_1, V2, \"m3\")\n",
        "T2 = fluid_1.getTemperature(\"C\")\n",
        "P2 = fluid_1.getPressure(\"bara\")\n",
        "H2 = fluid_1.getEnthalpy(\"kJ/kg\")\n",
        "U2 = fluid_1.getInternalEnergy(\"kJ/kg\")\n",
        "S2 = fluid_1.getEntropy(\"kJ/kgK\")\n",
        "\n",
        "# 2-3: Isentropic (reversible adiabatic) expansion of the gas (isentropic work output).\n",
        "fluid_1.setTemperature(T_cold, \"C\")\n",
        "TSflash(fluid_1, S2, \"kJ/kgK\")\n",
        "\n",
        "T3 = fluid_1.getTemperature(\"C\")\n",
        "P3 = fluid_1.getPressure()\n",
        "H3 = fluid_1.getEnthalpy(\"kJ/kg\")\n",
        "U3 = fluid_1.getInternalEnergy(\"kJ/kg\")\n",
        "S3 = fluid_1.getEntropy(\"kJ/kgK\")\n",
        "V3 = fluid_1.getVolume(\"m3\")\n",
        "\n",
        "# 3-4 Isothermal compression. Heat transferred reversibly to low temperature reservoir at constant temperature TC. (isothermal heat rejection)\n",
        "TSflash(fluid_1, S1, \"kJ/kgK\")\n",
        "\n",
        "T4 = fluid_1.getTemperature(\"C\")\n",
        "P4 = fluid_1.getPressure(\"bara\")\n",
        "H4 = fluid_1.getEnthalpy(\"kJ/kg\")\n",
        "U4 = fluid_1.getInternalEnergy(\"kJ/kg\")\n",
        "S4 = fluid_1.getEntropy(\"kJ/kgK\")\n",
        "V4 = fluid_1.getVolume(\"m3\")\n",
        "\n",
        "# 4-1 Adiabatic reversible compression.\n",
        "\n",
        "VSflash(fluid_1, V1, S4, \"m3\", \"kJ/kgK\")\n",
        "T5 = fluid_1.getTemperature(\"C\")\n",
        "P5 = fluid_1.getPressure(\"bara\")\n",
        "H5 = fluid_1.getEnthalpy(\"kJ/kg\")\n",
        "U5 = fluid_1.getInternalEnergy(\"kJ/kg\")\n",
        "S5 = fluid_1.getEntropy(\"kJ/kgK\")\n",
        "V5 = fluid_1.getVolume(\"m3\")\n",
        "\n",
        "dS = S2-S1\n",
        "QH = (T_hot+273.15)*dS\n",
        "QC = (T_cold+273.15)*dS\n",
        "efficiency = (QH-QC)/QH\n",
        "\n",
        "volumes = [V1, V2,V3,V4, V5]\n",
        "pressures = [P1, P2, P3, P4, P5]\n",
        "entropy = [S1, S2,S3, S4, S5]\n",
        "temperature = [T1, T2, T3, T4, T5]\n",
        "\n",
        "print(\"Carnot efficiency: \", efficiency)\n",
        "\n",
        "efficiency2 = 1.0 - (T_cold+273.15)/(T_hot+273.15)\n",
        "print(\"T_hot \", T_hot, \" T_cold \", T_cold, \" C\")\n",
        "print(\"best Carnot efficiency (1-Tc/Th) \",  efficiency2)\n",
        "\n",
        "\n",
        "import matplotlib\n",
        "import numpy as np\n",
        "import matplotlib.pyplot as plt\n",
        "\n",
        "plt.plot(volumes, pressures);\n",
        "plt.xlabel('Volume [m3]');\n",
        "plt.ylabel('Pressure [bara]');\n",
        "plt.show()\n",
        "\n",
        "plt.plot(entropy, temperature);\n",
        "plt.xlabel('Entropy [kJ/kgK]');\n",
        "plt.ylabel('Temperature [C]');\n",
        "plt.show()\n"
      ],
      "execution_count": 0,
      "outputs": [
        {
          "output_type": "stream",
          "text": [
            "Carnot efficiency:  0.10567473317129872\n",
            "T_hot  200.0  T_cold  150.0  C\n",
            "best Carnot efficiency (1-Tc/Th)  0.10567473317129872\n"
          ],
          "name": "stdout"
        },
        {
          "output_type": "display_data",
          "data": {
            "image/png": "[encoded data removed]",
            "text/plain": [
              "<Figure size 432x288 with 1 Axes>"
            ]
          },
          "metadata": {
            "tags": []
          }
        },
        {
          "output_type": "display_data",
          "data": {
            "image/png": "[encoded data removed]",
            "text/plain": [
              "<Figure size 432x288 with 1 Axes>"
            ]
          },
          "metadata": {
            "tags": []
          }
        }
      ]
    },
    {
      "cell_type": "markdown",
      "metadata": {
        "id": "KAp3akqKZ9Va",
        "colab_type": "text"
      },
      "source": [
        "# The Rankin Cycle\n",
        "The Rankine cycle is a model used to predict the performance of steam turbine systems. It was also used to study the performance of reciprocating steam engines. The Rankine cycle is an idealized thermodynamic cycle of a heat engine that converts heat into mechanical work while undergoing phase change. It is an idealized cycle in which friction losses in each of the four components are neglected. The heat is supplied externally to a closed loop, which usually uses water as the working fluid. It is named after William John Macquorn Rankine, a Scottish polymath and Glasgow University professor.\n",
        "\n",
        "https://en.wikipedia.org/wiki/Rankine_cycle\n"
      ]
    },
    {
      "cell_type": "code",
      "metadata": {
        "id": "WPyOZBqfjVyM",
        "colab_type": "code",
        "outputId": "7d91dfd1-e7bb-46a1-de91-d32c919555bf",
        "colab": {
          "base_uri": "https://localhost:8080/",
          "height": 347
        }
      },
      "source": [
        "#There are four processes in the Rankine cycle.\n",
        "P_cold = 0.06 #bara\n",
        "P_hot = 50.0 #bara\n",
        "T_hot_superheat = 350.0 #C\n",
        "\n",
        "import neqsim\n",
        "from neqsim.thermo.thermoTools import *\n",
        "\n",
        "fluid_1 = fluid(\"cpa-statoil\")\n",
        "fluid_1.addComponent(\"water\", 1.0)\n",
        "fluid_1.setPressure(P_cold, \"bara\")\n",
        "fluid_1.setTotalFlowRate(1000.0, \"kg/hr\")\n",
        "bubt(fluid_1)\n",
        "fluid_1.initProperties()\n",
        "#TPflash(fluid_1)\n",
        "#The starting point of the cycle is liuqid at the boiling point \n",
        "T1 = fluid_1.getTemperature(\"C\")\n",
        "H1 = fluid_1.getEnthalpy(\"kJ/kg\")\n",
        "U1 = fluid_1.getInternalEnergy(\"kJ/kg\")\n",
        "S1 = fluid_1.getEntropy(\"kJ/kgK\")\n",
        "V1 = fluid_1.getVolume(\"m3\")\n",
        "\n",
        "#Process 1–2: The working fluid is pumped from low to high pressure. \n",
        "fluid_1.setPressure(P_hot, \"bara\")\n",
        "PSflash(fluid_1, S1, \"kJ/kgK\")\n",
        "T2 = fluid_1.getTemperature(\"C\")\n",
        "H2 = fluid_1.getEnthalpy(\"kJ/kg\")\n",
        "U2 = fluid_1.getInternalEnergy(\"kJ/kg\")\n",
        "S2 = fluid_1.getEntropy(\"kJ/kgK\")\n",
        "V2 = fluid_1.getVolume(\"m3\")\n",
        "\n",
        "#Process 2–3: The high-pressure liquid enters a boiler, where it is heated at constant pressure by an external heat source to become a dry saturated vapour.\n",
        "fluid_1.setTemperature(T_hot_superheat, \"C\")\n",
        "TPflash(fluid_1)\n",
        "T3 = fluid_1.getTemperature(\"C\")\n",
        "H3 = fluid_1.getEnthalpy(\"kJ/kg\")\n",
        "U3 = fluid_1.getInternalEnergy(\"kJ/kg\")\n",
        "S3 = fluid_1.getEntropy(\"kJ/kgK\")\n",
        "V3 = fluid_1.getVolume(\"m3\")\n",
        "\n",
        "#Process 3–4: The dry saturated vapour expands through a turbine, generating power. \n",
        "fluid_1.setPressure(P_cold, \"bara\")\n",
        "PSflash(fluid_1, S3, \"kJ/kgK\")\n",
        "T4 = fluid_1.getTemperature(\"C\")\n",
        "H4 = fluid_1.getEnthalpy(\"kJ/kg\")\n",
        "U4 = fluid_1.getInternalEnergy(\"kJ/kg\")\n",
        "S4 = fluid_1.getEntropy(\"kJ/kgK\")\n",
        "V4 = fluid_1.getVolume(\"m3\")\n",
        "\n",
        "#Process 4–1: The wet vapour then enters a condenser, where it is condensed at a constant pressure to become a saturated liquid.\n",
        "fluid_1.setPressure(P_cold, \"bara\")\n",
        "bubt(fluid_1)\n",
        "fluid_1.initProperties()\n",
        "T5 = fluid_1.getTemperature(\"C\")\n",
        "H5 = fluid_1.getEnthalpy(\"kJ/kg\")\n",
        "U5 = fluid_1.getInternalEnergy(\"kJ/kg\")\n",
        "S5 = fluid_1.getEntropy(\"kJ/kgK\")\n",
        "V5 = fluid_1.getVolume(\"m3\")\n",
        "\n",
        "#estimating efficiency\n",
        "QH = H3-H2\n",
        "QC = H4-H5\n",
        "pumpWork = H2-H1\n",
        "expanderWork= H3-H4\n",
        "efficiency = (QH-QC)/QH\n",
        "print(\"turbine power generated \", expanderWork, \" kJ/kg\")\n",
        "print(\"pump power used \", pumpWork, \" kJ/kg\")\n",
        "print(\"Efficiency: \", efficiency)\n",
        "efficiency2 = 1.0 - (T1+273.15)/(T3+273.15)\n",
        "print(\"Carnot efficiency \",  efficiency2)\n",
        "\n",
        "#plot results in Ts-diagram\n",
        "entropy = [S1, S2,S3, S4, S5]\n",
        "temperature = [T1, T2, T3, T4, T5]\n",
        "import matplotlib\n",
        "import matplotlib.pyplot as plt\n",
        "plt.plot(entropy, temperature);\n",
        "plt.xlabel('Entropy [kJ/kgK]');\n",
        "plt.ylabel('Temperature [C]');\n",
        "plt.show()\n",
        "\n"
      ],
      "execution_count": 0,
      "outputs": [
        {
          "output_type": "stream",
          "text": [
            "turbine power generated  1070.2132602579172  kJ/kg\n",
            "pump power used  5.004176667031061  kJ/kg\n",
            "Efficiency:  0.37215135279874334\n",
            "Carnot efficiency  0.5035681213877901\n"
          ],
          "name": "stdout"
        },
        {
          "output_type": "display_data",
          "data": {
            "image/png": "[encoded data removed]",
            "text/plain": [
              "<Figure size 432x288 with 1 Axes>"
            ]
          },
          "metadata": {
            "tags": []
          }
        }
      ]
    },
    {
      "cell_type": "markdown",
      "metadata": {
        "id": "NvNv-7kHVwYu",
        "colab_type": "text"
      },
      "source": [
        "#Formulating the Ranking Cycle as a neqsim process"
      ]
    },
    {
      "cell_type": "code",
      "metadata": {
        "id": "c1E0J8DgaQqO",
        "colab_type": "code",
        "outputId": "c7c014b8-513d-4879-84ee-fdf5ecc283f0",
        "colab": {
          "base_uri": "https://localhost:8080/",
          "height": 153
        }
      },
      "source": [
        "import neqsim\n",
        "from neqsim.thermo.thermoTools import *\n",
        "from neqsim.process import stream,clearProcess,runProcess, pump, heater, cooler, expander\n",
        "fluid_1 = fluid(\"cpa\")\n",
        "fluid_1.addComponent(\"water\", 1.0)\n",
        "\n",
        "fluid_1.setPressure(0.05, \"bara\")\n",
        "fluid_1.setTotalFlowRate(1000.0, \"kg/hr\")\n",
        "\n",
        "clearProcess()\n",
        "stream_1 = stream(fluid_1)\n",
        "stream_1.setSpecification(\"bubP\");\n",
        "stream_1.run();\n",
        "\n",
        "pump_1 = pump(stream_1, 50.0)\n",
        "\n",
        "heater_1 = cooler(pump_1.getOutStream())\n",
        "heater_1.setSpecification(\"out stream\");\n",
        "\n",
        "stream_2 = stream(heater_1.getOutStream())\n",
        "#stream_2.setSpecification(\"dewP\");\n",
        "stream_2.getThermoSystem().setTemperature(535.49)\n",
        "stream_2.getThermoSystem().setPressure(50.0)\n",
        "\n",
        "expander_1 = expander(stream_2, 0.05)\n",
        "runProcess()\n",
        "\n",
        "print(\"low pressure \", stream_1.getPressure(), \" bara\")\n",
        "print(\"low temperature \", (stream_1.getTemperature()-273.15), \" C\")\n",
        "\n",
        "print(\"pump power \", pump_1.getPower(), \" W\")\n",
        "print(\"heater duty \", heater_1.getDuty(), \" W\")\n",
        "print(\"high pressure \", stream_2.getPressure(), \" bara\")\n",
        "print(\"high temperature \", (stream_2.getTemperature()-273.15), \" C\")\n",
        "\n",
        "print(\"expander power \", expander_1.getPower(), \" W\")\n",
        "\n",
        "dewt(stream_2.getThermoSystem())"
      ],
      "execution_count": 0,
      "outputs": [
        {
          "output_type": "stream",
          "text": [
            "low pressure  0.05  bara\n",
            "low temperature  37.424466596529896  C\n",
            "pump power  1429.2425561369164  W\n",
            "heater duty  -0.5117018767050467  W\n",
            "high pressure  50.0  bara\n",
            "high temperature  262.34000000000003  C\n",
            "expander power  -330958.4563702864  W\n"
          ],
          "name": "stdout"
        },
        {
          "output_type": "execute_result",
          "data": {
            "text/plain": [
              "535.4902930730977"
            ]
          },
          "metadata": {
            "tags": []
          },
          "execution_count": 5
        }
      ]
    },
    {
      "cell_type": "markdown",
      "metadata": {
        "id": "PkTmtmcLV8Fj",
        "colab_type": "text"
      },
      "source": [
        "#Brayton cycle\n",
        "The Brayton cycle is a thermodynamic cycle named after George Brayton that describes the workings of a constant-pressure heat engine. The original Brayton engines used a piston compressor and piston expander, but more modern gas turbine engines and airbreathing jet engines also follow the Brayton cycle. Although the cycle is usually run as an open system (and indeed must be run as such if internal combustion is used), it is conventionally assumed for the purposes of thermodynamic analysis that the exhaust gases are reused in the intake, enabling analysis as a closed system.\n",
        "\n",
        "The efficiency of the ideal Brayton cycle is\n",
        "\n",
        "$\\eta = 1 - \\frac {T_1}{T_2} = 1 - \\left(\\frac{P_1}{P_2}\\right)^{(\\gamma-1)/\\gamma} $\n",
        "\n",
        "\n",
        "https://en.wikipedia.org/wiki/Brayton_cycle\n",
        "\n",
        "Ideal Brayton cycle:\n",
        "1. isentropic process – ambient air is drawn into the compressor, where it is pressurized.\n",
        "2. isobaric process – the compressed air then runs through a combustion chamber, where fuel is burned, heating that air—a constant-pressure process, since the chamber is open to flow in and out.\n",
        "3. isentropic process – the heated, pressurized air then gives up its energy, expanding through a turbine (or series of turbines). Some of the work extracted by the turbine is used to drive the compressor.\n",
        "4. isobaric process – heat rejection (in the atmosphere).\n"
      ]
    },
    {
      "cell_type": "code",
      "metadata": {
        "id": "73oWGArkWRqb",
        "colab_type": "code",
        "outputId": "217fb036-77a9-48b7-f746-6fa9924f7e83",
        "colab": {
          "base_uri": "https://localhost:8080/",
          "height": 993
        }
      },
      "source": [
        "#@markdown Simulation of a Braiton Cycle in neqsim\n",
        "import neqsim\n",
        "from neqsim.thermo.thermoTools import *\n",
        "from neqsim.standards import ISO6976\n",
        "\n",
        "T1 = 15.0\n",
        "P1 = 1.01325\n",
        "\n",
        "T2 = 30.0\n",
        "P2 = 15.4\n",
        "\n",
        "drygas = createfluid('dry gas')\n",
        "drygas.setPressure(P2, \"bara\")\n",
        "drygas.setTemperature(T2, \"C\")\n",
        "drygas.setTotalFlowRate(14.8, \"kg/sec\")\n",
        "TPflash(drygas)\n",
        "\n",
        "#printFrame(drygas)\n",
        "\n",
        "air =  createfluid('air')\n",
        "air.setPressure(P1, \"bara\")\n",
        "air.setTemperature(T1, \"C\")\n",
        "air.setTotalFlowRate(630.0, \"kg/sec\")\n",
        "TPflash(air)\n",
        "\n",
        "S1 = air.getEntropy(\"kJ/kgK\")\n",
        "H1 = air.getEnthalpy(\"kJ/kg\")\n",
        "V1 = air.getVolume(\"m3\")\n",
        "P1 = air.getPressure(\"bara\")\n",
        "T1 = air.getTemperature(\"C\")\n",
        "\n",
        "# 1. adiabatic process – compression\n",
        "air.setPressure(P2, \"bara\")\n",
        "PSflash(air, S1, \"kJ/kgK\")\n",
        "printFrame(air)\n",
        "\n",
        "S2 = air.getEntropy(\"kJ/kgK\")\n",
        "H2 = air.getEnthalpy(\"kJ/kg\")\n",
        "V2 = air.getVolume(\"m3\")\n",
        "P2 = air.getPressure(\"bara\")\n",
        "T2 = air.getTemperature(\"C\")\n",
        "\n",
        "\n",
        "# 2. isobaric process – heat addition\n",
        "GCVgas = GCV(drygas, 'kJ/kg')\n",
        "energyCombustion = GCVgas*1000.0*drygas.getFlowRate(\"kg/sec\")\n",
        "air.setTemperature(1400.0)\n",
        "PHflash(air, air.getEnthalpy()+energyCombustion, \"J\")\n",
        "\n",
        "S3 = air.getEntropy(\"kJ/kgK\")\n",
        "H3 = air.getEnthalpy(\"kJ/kg\")\n",
        "V3 = air.getVolume(\"m3\")\n",
        "P3 = air.getPressure(\"bara\")\n",
        "T3 = air.getTemperature(\"C\")\n",
        "\n",
        "# 3. adiabatic process – expansion\n",
        "air.setPressure(P1, \"bara\")\n",
        "PSflash(air, S3,\"kJ/kgK\")\n",
        "\n",
        "S4 = air.getEntropy(\"kJ/kgK\")\n",
        "H4 = air.getEnthalpy(\"kJ/kg\")\n",
        "V4 = air.getVolume(\"m3\")\n",
        "P4 = air.getPressure(\"bara\")\n",
        "T4 = air.getTemperature(\"C\")\n",
        "\n",
        "# 4. isobaric process – heat rejection\n",
        "PHflash(air, H1, \"kJ/kg\")\n",
        "\n",
        "S5 = air.getEntropy(\"kJ/kgK\")\n",
        "H5 = air.getEnthalpy(\"kJ/kg\")\n",
        "V5 = air.getVolume(\"m3\")\n",
        "P5 = air.getPressure(\"bara\")\n",
        "T5 = air.getTemperature(\"C\")\n",
        "\n",
        "idealBrytonEff = 1.0 - T1/T2\n",
        "airMassFlow = air.getFlowRate(\"kg/sec\")\n",
        "fuelMassFLow = drygas.getFlowRate(\"kg/sec\")\n",
        "AFR = airMassFlow/fuelMassFLow\n",
        "print(\"air fuel ratio \", AFR, \" kg/kg\")\n",
        "\n",
        "print(\"air inlet flow \", V1 , \" m3/sec\")\n",
        "print(\"fuel inlet flow \", drygas.getFlowRate(\"kg/sec\") , \" kg/sec\")\n",
        "print(\"compressor power \", (H2-H1)*airMassFlow/1e3 , \" MW\")\n",
        "print(\"Heat of combustion \", GCVgas/1e3, \" MJ/kg\")\n",
        "print(\"Turbine power \", (H3-H4)*airMassFlow/1e3, \" MW\")\n",
        "print(\"Temperature of air to turbine \", T3, \" C\")\n",
        "print(\"Temperature of exhaust air \", T4, \" C\")\n",
        "\n",
        "powerOutput = (H3-H4)*airMassFlow/1e3 - (H2-H1)*airMassFlow/1e3\n",
        "print(\"plant net output \", powerOutput, \" MW\")\n",
        "netEfficiency = powerOutput/(energyCombustion/1e6)\n",
        "print(\"efficiency \", netEfficiency)\n",
        "#plot results in Ts-diagram\n",
        "entropy = [S1, S2,S3, S4, S5]\n",
        "temperature = [T1, T2, T3, T4, T5]\n",
        "import matplotlib\n",
        "import matplotlib.pyplot as plt\n",
        "plt.plot(entropy, temperature);\n",
        "plt.xlabel('Entropy [kJ/kgK]');\n",
        "plt.ylabel('Temperature [C]');\n",
        "plt.show()"
      ],
      "execution_count": 0,
      "outputs": [
        {
          "output_type": "stream",
          "text": [
            "                          total                gas                       \n",
            "           nitrogen      7.8E-1             7.8E-1        [mole fraction]\n",
            "             oxygen      2.2E-1             2.2E-1        [mole fraction]\n",
            "                                                                         \n",
            "            Density                      8.60489E0               [kg/m^3]\n",
            "      PhaseFraction                            1E0        [mole fraction]\n",
            "          MolarMass   2.88903E1          2.88903E1              [kg/kmol]\n",
            "           Z factor                      1.00661E0                    [-]\n",
            " Heat Capacity (Cp)                      1.06589E0              [kJ/kg*K]\n",
            " Heat Capacity (Cv)                     7.75476E-1              [kJ/kg*K]\n",
            "     Speed of Sound                       4.9768E2                [m/sec]\n",
            "           Enthalpy   3.55314E2          3.55314E2                [kJ/kg]\n",
            "            Entropy  2.04762E-1         2.04762E-1              [kJ/kg*K]\n",
            "     JT coefficient                    -2.24209E-2                [K/bar]\n",
            "                                                                         \n",
            "          Viscosity                            NaN             [kg/m*sec]\n",
            "       Conductivity                     5.08851E-2                [W/m*K]\n",
            "     SurfaceTension                                                 [N/m]\n",
            "                                                                         \n",
            "                                                                         \n",
            "                                                                         \n",
            "           Pressure                           15.4                  [bar]\n",
            "        Temperature              617.9377173058747                    [K]\n",
            "                                                                         \n",
            "              Model                        SRK-EOS                      -\n",
            "        Mixing Rule                        classic                      -\n",
            "                                                                         \n",
            "             Stream                                                     -\n",
            "                                                                         \n",
            "                                                                         \n",
            "                                                                         \n",
            "                                                                         \n",
            "air fuel ratio  42.567567567567565  kg/kg\n",
            "air inlet flow  515.4785672939337  m3/sec\n",
            "fuel inlet flow  14.799999999999997  kg/sec\n",
            "compressor power  214.47537733770724  MW\n",
            "Heat of combustion  51.037102597635254  MJ/kg\n",
            "Turbine power  686.3264605749495  MW\n",
            "Temperature of air to turbine  1836.8499999999985  C\n",
            "Temperature of exhaust air  688.8826534561944  C\n",
            "plant net output  471.8510832372422  MW\n",
            "efficiency  0.624679465051363\n"
          ],
          "name": "stdout"
        },
        {
          "output_type": "display_data",
          "data": {
            "image/png": "[encoded data removed]",
            "text/plain": [
              "<Figure size 432x288 with 1 Axes>"
            ]
          },
          "metadata": {
            "tags": []
          }
        }
      ]
    },
    {
      "cell_type": "markdown",
      "metadata": {
        "id": "-n6P-MFXuX8m",
        "colab_type": "text"
      },
      "source": [
        "#Stirling cycle\n",
        "The Stirling cycle is a thermodynamic cycle that describes the general class of Stirling devices. This includes the original Stirling engine that was invented, developed and patented in 1816 by Robert Stirling.\n",
        "\n",
        "The idealized Stirling[5] cycle consists of four thermodynamic processes acting on the working fluid (See diagram to right):\n",
        "\n",
        "* 1-2 Isothermal heat addition (expansion).\n",
        "* 2-3 Isochoric heat removal (constant volume).\n",
        "* 3-4 Isothermal heat removal (compression).\n",
        "* 4-1 Isochoric heat addition (constant volume)."
      ]
    },
    {
      "cell_type": "code",
      "metadata": {
        "id": "n4MbAgtZvHWN",
        "colab_type": "code",
        "outputId": "401dd27a-ba0f-4fe9-fb78-3a4d729e61c6",
        "colab": {
          "base_uri": "https://localhost:8080/",
          "height": 541
        }
      },
      "source": [
        "#@markdown Simulation of a Stirling Cycle in neqsim\n",
        "import neqsim\n",
        "from neqsim.thermo.thermoTools import *\n",
        "from neqsim.process import stream,clearProcess,runProcess, pump, heater, cooler, expander, valve, compressor, heater\n",
        "\n",
        "# The starting point is a fluid at termodynamic equilibrium\n",
        "P1 = 200.0\n",
        "T_hot = 200.0\n",
        "T_cold = 50.0\n",
        "\n",
        "fluid_1 = fluid(\"srk\")\n",
        "fluid_1.addComponent(\"methane\", 1.0, \"kg/sec\")\n",
        "fluid_1.addComponent(\"ethane\", 0.10, \"kg/sec\")\n",
        "fluid_1.setTemperature(T_hot, \"C\")\n",
        "fluid_1.setPressure(P1, \"bara\")\n",
        "TPflash(fluid_1)\n",
        "T1 = fluid_1.getTemperature(\"C\")\n",
        "H1 = fluid_1.getEnthalpy(\"kJ/kg\")\n",
        "U1 = fluid_1.getInternalEnergy(\"kJ/kg\")\n",
        "S1 = fluid_1.getEntropy(\"kJ/kgK\")\n",
        "V1 = fluid_1.getVolume(\"m3\")\n",
        "\n",
        "# 1-2: Isothermal Expansion. Heat is transferred reversibly from high temperature reservoir at constant temperature TH (isothermal heat addition or absorption). \n",
        "V2 = V1*2.5\n",
        "TVflash(fluid_1, V2, \"m3\")\n",
        "T2 = fluid_1.getTemperature(\"C\")\n",
        "P2 = fluid_1.getPressure(\"bara\")\n",
        "H2 = fluid_1.getEnthalpy(\"kJ/kg\")\n",
        "U2 = fluid_1.getInternalEnergy(\"kJ/kg\")\n",
        "S2 = fluid_1.getEntropy(\"kJ/kgK\")\n",
        "\n",
        "# 2-3: Isochoric heat removal (constant volume).\n",
        "fluid_1.setTemperature(T_cold, \"C\")\n",
        "TVflash(fluid_1, V2, \"m3\")\n",
        "\n",
        "T3 = fluid_1.getTemperature(\"C\")\n",
        "P3 = fluid_1.getPressure()\n",
        "H3 = fluid_1.getEnthalpy(\"kJ/kg\")\n",
        "U3 = fluid_1.getInternalEnergy(\"kJ/kg\")\n",
        "S3 = fluid_1.getEntropy(\"kJ/kgK\")\n",
        "V3 = fluid_1.getVolume(\"m3\")\n",
        "\n",
        "# 3-4  Isothermal heat removal (compression)\n",
        "V4 = V1\n",
        "TVflash(fluid_1, V4, \"m3\")\n",
        "T4 = fluid_1.getTemperature(\"C\")\n",
        "P4 = fluid_1.getPressure(\"bara\")\n",
        "H4 = fluid_1.getEnthalpy(\"kJ/kg\")\n",
        "U4 = fluid_1.getInternalEnergy(\"kJ/kg\")\n",
        "S4 = fluid_1.getEntropy(\"kJ/kgK\")\n",
        "\n",
        "# 4-1  Isochoric heat addition (constant volume).\n",
        "fluid_1.setTemperature(T_hot, \"C\")\n",
        "TVflash(fluid_1, V1, \"m3\")\n",
        "T5 = fluid_1.getTemperature(\"C\")\n",
        "P5 = fluid_1.getPressure(\"bara\")\n",
        "H5 = fluid_1.getEnthalpy(\"kJ/kg\")\n",
        "U5 = fluid_1.getInternalEnergy(\"kJ/kg\")\n",
        "S5 = fluid_1.getEntropy(\"kJ/kgK\")\n",
        "V5 = fluid_1.getVolume(\"m3\")\n",
        "\n",
        "\n",
        "volumes = [V1, V2,V3,V4, V5]\n",
        "pressures = [P1, P2, P3, P4, P5]\n",
        "entropy = [S1, S2,S3, S4, S5]\n",
        "temperature = [T1, T2, T3, T4, T5]\n",
        "\n",
        "import matplotlib\n",
        "import numpy as np\n",
        "import matplotlib.pyplot as plt\n",
        "\n",
        "plt.plot(volumes, pressures);\n",
        "plt.xlabel('Volume [m3]');\n",
        "plt.ylabel('Pressure [bara]');\n",
        "plt.show()\n",
        "\n",
        "plt.plot(entropy, temperature);\n",
        "plt.xlabel('Entropy [kJ/kgK]');\n",
        "plt.ylabel('Temperature [C]');\n",
        "plt.show()"
      ],
      "execution_count": 0,
      "outputs": [
        {
          "output_type": "display_data",
          "data": {
            "image/png": "[encoded data removed]",
            "text/plain": [
              "<Figure size 432x288 with 1 Axes>"
            ]
          },
          "metadata": {
            "tags": []
          }
        },
        {
          "output_type": "display_data",
          "data": {
            "image/png": "[encoded data removed]",
            "text/plain": [
              "<Figure size 432x288 with 1 Axes>"
            ]
          },
          "metadata": {
            "tags": []
          }
        }
      ]
    },
    {
      "cell_type": "markdown",
      "metadata": {
        "id": "1W8W80bYXdmw",
        "colab_type": "text"
      },
      "source": [
        "#Otto cycle\n",
        "An Otto cycle is an idealized thermodynamic cycle that describes the functioning of a typical spark ignition piston engine. It is the thermodynamic cycle most commonly found in automobile engines.\n",
        "\n",
        "https://en.wikipedia.org/wiki/Otto_cycle"
      ]
    },
    {
      "cell_type": "code",
      "metadata": {
        "id": "4sbs8o6MXp5q",
        "colab_type": "code",
        "outputId": "849f2526-647d-4678-82b7-75a4c12584e8",
        "colab": {
          "base_uri": "https://localhost:8080/",
          "height": 232
        }
      },
      "source": [
        "#@markdown Simulation of a Otto cycle in neqsim\n",
        "\n",
        "import neqsim\n",
        "from neqsim.thermo.thermoTools import *\n",
        "from neqsim.standards import ISO6976\n",
        "\n",
        "T1 = 15.0\n",
        "P1 = 1.01325\n",
        "\n",
        "compressionRatio = 14\n",
        "T2 = 30.0\n",
        "P2 = 15.4\n",
        "\n",
        "petrol = createfluid('dry gas')\n",
        "petrol.setPressure(P2, \"bara\")\n",
        "petrol.setTemperature(T2, \"C\")\n",
        "petrol.setTotalFlowRate(22.2, \"kg/hr\")\n",
        "TPflash(petrol)\n",
        "\n",
        "#Process 0–1 intake stroke (green arrow)\n",
        "air =  createfluid('air')\n",
        "air.setPressure(P1, \"bara\")\n",
        "air.setTemperature(T1, \"C\")\n",
        "air.setTotalFlowRate(3100.0, \"kg/hr\")\n",
        "TPflash(air)\n",
        "\n",
        "S1 = air.getEntropy(\"kJ/kgK\")\n",
        "H1 = air.getEnthalpy(\"kJ/kg\")\n",
        "V1 = air.getVolume(\"m3\")\n",
        "P1 = air.getPressure(\"bara\")\n",
        "T1 = air.getTemperature(\"C\")\n",
        "\n",
        "# Process 1–2 compression stroke (B on diagrams)\n",
        "V2 = V1/compressionRatio\n",
        "VSflash(air, V2, S1, \"m3\", \"kJ/kgK\")\n",
        "\n",
        "S2 = air.getEntropy(\"kJ/kgK\")\n",
        "H2 = air.getEnthalpy(\"kJ/kg\")\n",
        "V2 = air.getVolume(\"m3\")\n",
        "P2 = air.getPressure(\"bara\")\n",
        "T2 = air.getTemperature(\"C\")\n",
        "\n",
        "\n",
        "# Process 2–3 ignition phase\n",
        "GCVgas = GCV(petrol, 'kJ/kg')\n",
        "energyCombustion = GCVgas*1000.0*petrol.getFlowRate(\"kg/sec\")\n",
        "VHflash(air, V2, air.getEnthalpy()+energyCombustion, \"m3\", \"J\")\n",
        "#need to implement this in java/python\n",
        "S3 = air.getEntropy(\"kJ/kgK\")\n",
        "H3 = air.getEnthalpy(\"kJ/kg\")\n",
        "V3 = air.getVolume(\"m3\")\n",
        "P3 = air.getPressure(\"bara\")\n",
        "T3 = air.getTemperature(\"C\")\n",
        "\n",
        "# Process 3–4 expansion stroke \n",
        "VSflash(air, V1, S3, \"m3\", \"kJ/kgK\")\n",
        "\n",
        "S4 = air.getEntropy(\"kJ/kgK\")\n",
        "H4 = air.getEnthalpy(\"kJ/kg\")\n",
        "V4 = air.getVolume(\"m3\")\n",
        "P4 = air.getPressure(\"bara\")\n",
        "T4 = air.getTemperature(\"C\")\n",
        "\n",
        "# Process 4–1 idealized heat rejection\n",
        "VSflash(air, V1, S1, \"m3\", \"kJ/kgK\")\n",
        "\n",
        "S5 = air.getEntropy(\"kJ/kgK\")\n",
        "H5 = air.getEnthalpy(\"kJ/kg\")\n",
        "V5 = air.getVolume(\"m3\")\n",
        "P5 = air.getPressure(\"bara\")\n",
        "T5 = air.getTemperature(\"C\")\n",
        "\n",
        "airMassFlow = air.getFlowRate(\"kg/sec\")\n",
        "fuelMassFLow = petrol.getFlowRate(\"kg/sec\")\n",
        "AFR = airMassFlow/fuelMassFLow\n",
        "print(\"air fuel ratio \", AFR, \" kg/kg\")\n",
        "print(\"air inlet flow \", V1 , \" m3/sec\")\n",
        "print(\"fuel inlet flow \", petrol.getFlowRate(\"kg/sec\") , \" kg/sec\")\n",
        "print(\"pistion power \", (H3-H4)*airMassFlow , \" kW\")\n",
        "print(\"Heat of combustion \", GCVgas, \" kJ/kg\")\n",
        "\n",
        "powerOutput = (H3-H4)*airMassFlow - (H2-H1)*airMassFlow\n",
        "print(\"power output \", powerOutput, \" kW, \", (powerOutput*1.3596216173),\" hp\" )\n",
        "\n",
        "#plot results in Ts-diagram\n",
        "entropy = [S1, S2,S3, S4, S5]\n",
        "temperature = [T1, T2, T3, T4, T5]\n",
        "volumes = [V1, V2,V3, V4, V5]\n",
        "pressures = [P1, P2, P3, P4, P5]\n",
        "import matplotlib\n",
        "import matplotlib.pyplot as plt\n",
        "plt.plot(entropy, temperature);\n",
        "plt.xlabel('Entropy [kJ/kgK]');\n",
        "plt.ylabel('Temperature [C]');\n",
        "plt.show()\n",
        "\n",
        "plt.plot(volumes, pressures);\n",
        "plt.xlabel('Volume [m3]');\n",
        "plt.ylabel('Pressure [bara]');\n",
        "plt.show()"
      ],
      "execution_count": 0,
      "outputs": [
        {
          "output_type": "error",
          "ename": "NameError",
          "evalue": "ignored",
          "traceback": [
            "\u001b[0;31m---------------------------------------------------------------------------\u001b[0m",
            "\u001b[0;31mNameError\u001b[0m                                 Traceback (most recent call last)",
            "\u001b[0;32m<ipython-input-8-b8026b08c999>\u001b[0m in \u001b[0;36m<module>\u001b[0;34m()\u001b[0m\n\u001b[1;32m     43\u001b[0m \u001b[0mGCVgas\u001b[0m \u001b[0;34m=\u001b[0m \u001b[0mGCV\u001b[0m\u001b[0;34m(\u001b[0m\u001b[0mpetrol\u001b[0m\u001b[0;34m,\u001b[0m \u001b[0;34m'kJ/kg'\u001b[0m\u001b[0;34m)\u001b[0m\u001b[0;34m\u001b[0m\u001b[0;34m\u001b[0m\u001b[0m\n\u001b[1;32m     44\u001b[0m \u001b[0menergyCombustion\u001b[0m \u001b[0;34m=\u001b[0m \u001b[0mGCVgas\u001b[0m\u001b[0;34m*\u001b[0m\u001b[0;36m1000.0\u001b[0m\u001b[0;34m*\u001b[0m\u001b[0mpetrol\u001b[0m\u001b[0;34m.\u001b[0m\u001b[0mgetFlowRate\u001b[0m\u001b[0;34m(\u001b[0m\u001b[0;34m\"kg/sec\"\u001b[0m\u001b[0;34m)\u001b[0m\u001b[0;34m\u001b[0m\u001b[0;34m\u001b[0m\u001b[0m\n\u001b[0;32m---> 45\u001b[0;31m \u001b[0mVHflash\u001b[0m\u001b[0;34m(\u001b[0m\u001b[0mair\u001b[0m\u001b[0;34m,\u001b[0m \u001b[0mV2\u001b[0m\u001b[0;34m,\u001b[0m \u001b[0mair\u001b[0m\u001b[0;34m.\u001b[0m\u001b[0mgetEnthalpy\u001b[0m\u001b[0;34m(\u001b[0m\u001b[0;34m)\u001b[0m\u001b[0;34m+\u001b[0m\u001b[0menergyCombustion\u001b[0m\u001b[0;34m,\u001b[0m \u001b[0;34m\"m3\"\u001b[0m\u001b[0;34m,\u001b[0m \u001b[0;34m\"J\"\u001b[0m\u001b[0;34m)\u001b[0m\u001b[0;34m\u001b[0m\u001b[0;34m\u001b[0m\u001b[0m\n\u001b[0m\u001b[1;32m     46\u001b[0m \u001b[0;31m#need to implement this in java/python\u001b[0m\u001b[0;34m\u001b[0m\u001b[0;34m\u001b[0m\u001b[0;34m\u001b[0m\u001b[0m\n\u001b[1;32m     47\u001b[0m \u001b[0mS3\u001b[0m \u001b[0;34m=\u001b[0m \u001b[0mair\u001b[0m\u001b[0;34m.\u001b[0m\u001b[0mgetEntropy\u001b[0m\u001b[0;34m(\u001b[0m\u001b[0;34m\"kJ/kgK\"\u001b[0m\u001b[0;34m)\u001b[0m\u001b[0;34m\u001b[0m\u001b[0;34m\u001b[0m\u001b[0m\n",
            "\u001b[0;31mNameError\u001b[0m: name 'VHflash' is not defined"
          ]
        }
      ]
    },
    {
      "cell_type": "code",
      "metadata": {
        "id": "SsgVITXWiAPq",
        "colab_type": "code",
        "colab": {}
      },
      "source": [
        "import neqsim\n",
        "from neqsim.thermo.thermoTools import *\n",
        "from neqsim.process import stream,clearProcess,runProcess, pump, heater, cooler, expander, valve, compressor, heater\n",
        "fluid_1 = fluid(\"srk\")\n",
        "fluid_1.addComponent(\"propane\", 1.0)\n",
        "\n",
        "fluid_1.setPressure(15.0, \"bara\")\n",
        "fluid_1.setTemperature(30.0, \"C\")\n",
        "fluid_1.setTotalFlowRate(1000.0, \"kg/hr\")\n",
        "\n",
        "clearProcess()\n",
        "stream_1 = stream(fluid_1)\n",
        "stream_1.setSpecification(\"bubT\");\n",
        "stream_1.run();\n",
        "\n",
        "JTvalve = valve(stream_1, 1.0)\n",
        "\n",
        "cooler_1 = cooler(JTvalve.getOutStream())\n",
        "cooler_1.setSpecification(\"out stream\");\n",
        "\n",
        "stream_2 = stream(cooler_1.getOutStream())\n",
        "stream_2.setSpecification(\"dewT\");\n",
        "stream_2.getThermoSystem().setTemperature(273.15  - 30.0);\n",
        "stream_2.run()\n",
        "\n",
        "cooler_1.setOutStream(stream_2);\n",
        "JTvalve.setOutletPressure(stream_2.getPressure());\n",
        "\n",
        "compressor_1 = compressor(stream_2, 10.0);\n",
        "compressor_1.setSpecification(\"out stream\")\n",
        "compressor_1.setOutletPressure(stream_1.getPressure())\n",
        "\n",
        "heater = heater(compressor_1.getOutStream())\n",
        "heater.setPressureDrop(0.07);\n",
        "heater.setSpecification(\"out stream\");\n",
        "heater.setOutStream(stream_1);\n",
        "\n",
        "runProcess()\n",
        "\n",
        "print(\"compressor work \", compressor_1.getEnergy(), \" W\");\n",
        "print(\"compressor isentropic ef \", compressor_1.getIsentropicEfficiency()*100.0, \" %\");\n",
        "print(\"cooler duty \", cooler_1.getEnergyInput(), \" W\");\n",
        "print(\"heater duty \", heater.getEnergyInput(), \"W\");\n"
      ],
      "execution_count": 0,
      "outputs": []
    }
  ]
}