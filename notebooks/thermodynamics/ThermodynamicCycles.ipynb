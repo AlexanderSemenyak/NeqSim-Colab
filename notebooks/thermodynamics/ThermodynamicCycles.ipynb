{
  "nbformat": 4,
  "nbformat_minor": 0,
  "metadata": {
    "colab": {
      "name": "ThermodynamicCycles.ipynb",
      "provenance": [],
      "collapsed_sections": [],
      "include_colab_link": true
    },
    "kernelspec": {
      "name": "python3",
      "display_name": "Python 3"
    }
  },
  "cells": [
    {
      "cell_type": "markdown",
      "metadata": {
        "id": "view-in-github",
        "colab_type": "text"
      },
      "source": [
        "<a href=\"https://colab.research.google.com/github/EvenSol/NeqSim-Colab/blob/master/notebooks/thermodynamics/ThermodynamicCycles.ipynb\" target=\"_parent\"><img src=\"https://colab.research.google.com/assets/colab-badge.svg\" alt=\"Open In Colab\"/></a>"
      ]
    },
    {
      "cell_type": "code",
      "metadata": {
        "id": "eUg61ouJY8I-",
        "colab_type": "code",
        "cellView": "form",
        "colab": {}
      },
      "source": [
        "#@title Thermodynamic Cycles\n",
        "#@markdown A thermodynamic cycle consists of a linked sequence of thermodynamic processes that involve transfer of heat and work into and out of the system, while varying pressure, temperature, and other state variables within the system, and that eventually returns the system to its initial state.[1] In the process of passing through a cycle, the working fluid (system) may convert heat from a warm source into useful work, and dispose of the remaining heat to a cold sink, thereby acting as a heat engine. Conversely, the cycle may be reversed and use work to move heat from a cold source and transfer it to a warm sink thereby acting as a heat pump. At every point in the cycle, the system is in thermodynamic equilibrium, so the cycle is reversible (its entropy change is zero, as entropy is a state function).\n",
        "%%capture\n",
        "!pip install neqsim"
      ],
      "execution_count": 0,
      "outputs": []
    },
    {
      "cell_type": "code",
      "metadata": {
        "id": "pytbPaqwZluA",
        "colab_type": "code",
        "cellView": "form",
        "outputId": "eeb5c4df-4c1d-404a-9fbc-be74c4578dbd",
        "colab": {
          "base_uri": "https://localhost:8080/",
          "height": 421
        }
      },
      "source": [
        "#@title  Introduction to Thermodynamic Cycles\n",
        "#@markdown How a series of thermodynamic changes can produce a cyclical process as seen in the combustion engine.\n",
        "from IPython.display import YouTubeVideo\n",
        "YouTubeVideo('OmhXb-miAhw', width=600, height=400)\n"
      ],
      "execution_count": 0,
      "outputs": [
        {
          "output_type": "execute_result",
          "data": {
            "text/html": [
              "\n",
              "        <iframe\n",
              "            width=\"600\"\n",
              "            height=\"400\"\n",
              "            src=\"https://www.youtube.com/embed/OmhXb-miAhw\"\n",
              "            frameborder=\"0\"\n",
              "            allowfullscreen\n",
              "        ></iframe>\n",
              "        "
            ],
            "text/plain": [
              "<IPython.lib.display.YouTubeVideo at 0x7f2e35550d68>"
            ],
            "image/jpeg": "[encoded data removed]"
          },
          "metadata": {
            "tags": []
          },
          "execution_count": 4
        }
      ]
    },
    {
      "cell_type": "markdown",
      "metadata": {
        "id": "KAp3akqKZ9Va",
        "colab_type": "text"
      },
      "source": [
        "# The Rankin Cycle\n",
        "The Rankine cycle is a model used to predict the performance of steam turbine systems. It was also used to study the performance of reciprocating steam engines. The Rankine cycle is an idealized thermodynamic cycle of a heat engine that converts heat into mechanical work while undergoing phase change. It is an idealized cycle in which friction losses in each of the four components are neglected. The heat is supplied externally to a closed loop, which usually uses water as the working fluid. It is named after William John Macquorn Rankine, a Scottish polymath and Glasgow University professor."
      ]
    },
    {
      "cell_type": "code",
      "metadata": {
        "id": "c1E0J8DgaQqO",
        "colab_type": "code",
        "outputId": "93bc285e-8886-451e-d9a6-85773b19585c",
        "colab": {
          "base_uri": "https://localhost:8080/",
          "height": 153
        }
      },
      "source": [
        "import neqsim\n",
        "from neqsim.thermo.thermoTools import *\n",
        "from neqsim.process import stream,clearProcess,runProcess, pump, heater, cooler, expander\n",
        "fluid_1 = fluid(\"cpa\")\n",
        "fluid_1.addComponent(\"water\", 1.0)\n",
        "\n",
        "fluid_1.setPressure(0.05, \"bara\")\n",
        "fluid_1.setTotalFlowRate(1000.0, \"kg/hr\")\n",
        "\n",
        "clearProcess()\n",
        "stream_1 = stream(fluid_1)\n",
        "stream_1.setSpecification(\"bubP\");\n",
        "stream_1.run();\n",
        "\n",
        "pump_1 = pump(stream_1, 50.0)\n",
        "\n",
        "heater_1 = cooler(pump_1.getOutStream())\n",
        "heater_1.setSpecification(\"out stream\");\n",
        "\n",
        "stream_2 = stream(heater_1.getOutStream())\n",
        "#stream_2.setSpecification(\"dewP\");\n",
        "stream_2.getThermoSystem().setTemperature(535.49)\n",
        "stream_2.getThermoSystem().setPressure(50.0)\n",
        "\n",
        "expander_1 = expander(stream_2, 0.05)\n",
        "runProcess()\n",
        "\n",
        "print(\"low pressure \", stream_1.getPressure(), \" bara\")\n",
        "print(\"low temperature \", (stream_1.getTemperature()-273.15), \" C\")\n",
        "\n",
        "print(\"pump power \", pump_1.getPower(), \" W\")\n",
        "print(\"heater duty \", heater_1.getDuty(), \" W\")\n",
        "print(\"high pressure \", stream_2.getPressure(), \" bara\")\n",
        "print(\"high temperature \", (stream_2.getTemperature()-273.15), \" C\")\n",
        "\n",
        "print(\"expander power \", expander_1.getPower(), \" W\")\n",
        "\n",
        "dewt(stream_2.getThermoSystem())"
      ],
      "execution_count": 0,
      "outputs": [
        {
          "output_type": "stream",
          "text": [
            "low pressure  0.05  bara\n",
            "low temperature  37.424466596529896  C\n",
            "pump power  1429.2425561369164  W\n",
            "heater duty  -0.5117018767050467  W\n",
            "high pressure  50.0  bara\n",
            "high temperature  262.34000000000003  C\n",
            "expander power  -330958.4563702864  W\n"
          ],
          "name": "stdout"
        },
        {
          "output_type": "execute_result",
          "data": {
            "text/plain": [
              "535.4902930730977"
            ]
          },
          "metadata": {
            "tags": []
          },
          "execution_count": 64
        }
      ]
    },
    {
      "cell_type": "markdown",
      "metadata": {
        "id": "iq_j5n-ynD44",
        "colab_type": "text"
      },
      "source": [
        "# Carnot Cycle\n",
        "The Carnot cycle is a theoretical ideal thermodynamic cycle proposed by French physicist Sadi Carnot in 1824 and expanded upon by others in the 1830s and 1840s. It provides an upper limit on the efficiency that any classical thermodynamic engine can achieve during the conversion of heat into work, or conversely, the efficiency of a refrigeration system in creating a temperature difference by the application of work to the system. It is not an actual thermodynamic cycle but is a theoretical construct.\n",
        "\n",
        "https://en.wikipedia.org/wiki/Carnot_cycle\n",
        "\n",
        "The Carnot efficiency is defined to be:\n",
        "\n",
        "$\\eta=\\frac{W}{Q_H}=\\frac{Q_H-Q_C}{Q_H}=1-\\frac{T_C}{T_H}$"
      ]
    },
    {
      "cell_type": "code",
      "metadata": {
        "id": "8aTsKoskGUnR",
        "colab_type": "code",
        "colab": {
          "base_uri": "https://localhost:8080/",
          "height": 33
        },
        "outputId": "2be8cff9-255a-4897-e497-e51e54d204e3"
      },
      "source": [
        "T_hot = 100 # C\n",
        "T_cold = 20 # C\n",
        "\n",
        "efficiency = 1.0-T_cold/T_hot\n",
        "\n",
        "print(\"Carnot efficiency: \", efficiency)"
      ],
      "execution_count": 2,
      "outputs": [
        {
          "output_type": "stream",
          "text": [
            "Carnot efficiency:  0.8\n"
          ],
          "name": "stdout"
        }
      ]
    },
    {
      "cell_type": "code",
      "metadata": {
        "id": "DzOXhiqvP2Ep",
        "colab_type": "code",
        "colab": {}
      },
      "source": [
        "import neqsim\n",
        "from neqsim.thermo.thermoTools import *\n",
        "from neqsim.process import stream,clearProcess,runProcess, pump, heater, cooler, expander, valve, compressor, heater\n",
        "\n",
        "# The starting point is a fluid at termodynamic equilibrium\n",
        "fluid_1 = fluid(\"srk\")\n",
        "fluid_1.addComponent(\"methane\", 1.0, \"kg/sec\")\n",
        "TPflash(fluid_1)\n",
        "fluid_1.initProperties()\n",
        "enthalpy_1 = fluid_1.getEnthalpy(\"kJ/kg\")\n",
        "entropy_1 = fluid_1.getEntropy(\"kJ/kgK\")\n",
        "volume = fluid_1.getVolume(\"m3/kg\")\n",
        "\n",
        "\n",
        "# The Carnot cycle when acting as a heat engine consists of the following steps:¨\n",
        "# Isothermal Expansion. Heat is transferred reversibly from high temperature reservoir at constant temperature TH (isothermal heat addition or absorption). \n",
        "\n"
      ],
      "execution_count": 0,
      "outputs": []
    },
    {
      "cell_type": "code",
      "metadata": {
        "id": "SsgVITXWiAPq",
        "colab_type": "code",
        "outputId": "9c0fcc4e-5e6c-4822-f3bc-001d07047cb8",
        "colab": {
          "base_uri": "https://localhost:8080/",
          "height": 85
        }
      },
      "source": [
        "import neqsim\n",
        "from neqsim.thermo.thermoTools import *\n",
        "from neqsim.process import stream,clearProcess,runProcess, pump, heater, cooler, expander, valve, compressor, heater\n",
        "fluid_1 = fluid(\"srk\")\n",
        "fluid_1.addComponent(\"propane\", 1.0)\n",
        "\n",
        "fluid_1.setPressure(15.0, \"bara\")\n",
        "fluid_1.setTemperature(30.0, \"C\")\n",
        "fluid_1.setTotalFlowRate(1000.0, \"kg/hr\")\n",
        "\n",
        "clearProcess()\n",
        "stream_1 = stream(fluid_1)\n",
        "stream_1.setSpecification(\"bubT\");\n",
        "stream_1.run();\n",
        "\n",
        "JTvalve = valve(stream_1, 1.0)\n",
        "\n",
        "cooler_1 = cooler(JTvalve.getOutStream())\n",
        "cooler_1.setSpecification(\"out stream\");\n",
        "\n",
        "stream_2 = stream(cooler_1.getOutStream())\n",
        "stream_2.setSpecification(\"dewT\");\n",
        "stream_2.getThermoSystem().setTemperature(273.15  - 30.0);\n",
        "stream_2.run()\n",
        "\n",
        "cooler_1.setOutStream(stream_2);\n",
        "JTvalve.setOutletPressure(stream_2.getPressure());\n",
        "\n",
        "compressor_1 = compressor(stream_2, 10.0);\n",
        "compressor_1.setSpecification(\"out stream\")\n",
        "compressor_1.setOutletPressure(stream_1.getPressure())\n",
        "\n",
        "heater = heater(compressor_1.getOutStream())\n",
        "heater.setPressureDrop(0.07);\n",
        "heater.setSpecification(\"out stream\");\n",
        "heater.setOutStream(stream_1);\n",
        "\n",
        "runProcess()\n",
        "\n",
        "print(\"compressor work \", compressor_1.getEnergy(), \" W\");\n",
        "print(\"compressor isentropic ef \", compressor_1.getIsentropicEfficiency()*100.0, \" %\");\n",
        "print(\"cooler duty \", cooler_1.getEnergyInput(), \" W\");\n",
        "print(\"heater duty \", heater.getEnergyInput(), \"W\");\n"
      ],
      "execution_count": 0,
      "outputs": [
        {
          "output_type": "stream",
          "text": [
            "compressor work  24632.123659926747  W\n",
            "compressor isentropic ef  100.0  %\n",
            "cooler duty  72875.21619975152  W\n",
            "heater duty  -97507.33985967825 W\n"
          ],
          "name": "stdout"
        }
      ]
    }
  ]
}