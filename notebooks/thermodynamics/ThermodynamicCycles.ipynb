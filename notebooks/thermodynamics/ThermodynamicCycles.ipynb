{
  "nbformat": 4,
  "nbformat_minor": 0,
  "metadata": {
    "colab": {
      "name": "ThermodynamicCycles.ipynb",
      "provenance": [],
      "collapsed_sections": [],
      "include_colab_link": true
    },
    "kernelspec": {
      "name": "python3",
      "display_name": "Python 3"
    }
  },
  "cells": [
    {
      "cell_type": "markdown",
      "metadata": {
        "id": "view-in-github",
        "colab_type": "text"
      },
      "source": [
        "<a href=\"https://colab.research.google.com/github/EvenSol/NeqSim-Colab/blob/master/notebooks/thermodynamics/ThermodynamicCycles.ipynb\" target=\"_parent\"><img src=\"https://colab.research.google.com/assets/colab-badge.svg\" alt=\"Open In Colab\"/></a>"
      ]
    },
    {
      "cell_type": "code",
      "metadata": {
        "id": "eUg61ouJY8I-",
        "colab_type": "code",
        "cellView": "form",
        "colab": {}
      },
      "source": [
        "#@title Thermodynamic Cycles\n",
        "#@markdown A thermodynamic cycle consists of a linked sequence of thermodynamic processes that involve transfer of heat and work into and out of the system, while varying pressure, temperature, and other state variables within the system, and that eventually returns the system to its initial state.[1] In the process of passing through a cycle, the working fluid (system) may convert heat from a warm source into useful work, and dispose of the remaining heat to a cold sink, thereby acting as a heat engine. Conversely, the cycle may be reversed and use work to move heat from a cold source and transfer it to a warm sink thereby acting as a heat pump. At every point in the cycle, the system is in thermodynamic equilibrium, so the cycle is reversible (its entropy change is zero, as entropy is a state function).\n",
        "%%capture\n",
        "!pip install neqsim"
      ],
      "execution_count": 0,
      "outputs": []
    },
    {
      "cell_type": "code",
      "metadata": {
        "id": "pytbPaqwZluA",
        "colab_type": "code",
        "cellView": "form",
        "outputId": "4ceec227-0ae5-4c27-a7e9-05dc9b94ebe6",
        "colab": {
          "base_uri": "https://localhost:8080/",
          "height": 421
        }
      },
      "source": [
        "#@title  Introduction to Thermodynamic Cycles\n",
        "#@markdown How a series of thermodynamic changes can produce a cyclical process as seen in the combustion engine.\n",
        "from IPython.display import YouTubeVideo\n",
        "YouTubeVideo('OmhXb-miAhw', width=600, height=400)\n"
      ],
      "execution_count": 0,
      "outputs": [
        {
          "output_type": "execute_result",
          "data": {
            "text/html": [
              "\n",
              "        <iframe\n",
              "            width=\"600\"\n",
              "            height=\"400\"\n",
              "            src=\"https://www.youtube.com/embed/OmhXb-miAhw\"\n",
              "            frameborder=\"0\"\n",
              "            allowfullscreen\n",
              "        ></iframe>\n",
              "        "
            ],
            "text/plain": [
              "<IPython.lib.display.YouTubeVideo at 0x7fddd2e3b978>"
            ],
            "image/jpeg": "[encoded data removed]"
          },
          "metadata": {
            "tags": []
          },
          "execution_count": 2
        }
      ]
    },
    {
      "cell_type": "markdown",
      "metadata": {
        "id": "iq_j5n-ynD44",
        "colab_type": "text"
      },
      "source": [
        "# Carnot Cycle\n",
        "The Carnot cycle is a theoretical ideal thermodynamic cycle proposed by French physicist Sadi Carnot in 1824 and expanded upon by others in the 1830s and 1840s. It provides an upper limit on the efficiency that any classical thermodynamic engine can achieve during the conversion of heat into work, or conversely, the efficiency of a refrigeration system in creating a temperature difference by the application of work to the system. It is not an actual thermodynamic cycle but is a theoretical construct.\n",
        "\n",
        "https://en.wikipedia.org/wiki/Carnot_cycle\n",
        "\n",
        "The Carnot efficiency is defined to be:\n",
        "\n",
        "$\\eta=\\frac{W}{Q_H}=\\frac{Q_H-Q_C}{Q_H}=1-\\frac{T_C}{T_H}$"
      ]
    },
    {
      "cell_type": "code",
      "metadata": {
        "id": "DzOXhiqvP2Ep",
        "colab_type": "code",
        "outputId": "defd732b-9b77-4020-be15-187de30caa96",
        "colab": {
          "base_uri": "https://localhost:8080/",
          "height": 590
        }
      },
      "source": [
        "import neqsim\n",
        "from neqsim.thermo.thermoTools import *\n",
        "from neqsim.process import stream,clearProcess,runProcess, pump, heater, cooler, expander, valve, compressor, heater\n",
        "\n",
        "# The starting point is a fluid at termodynamic equilibrium\n",
        "P1 = 200.0\n",
        "T_hot = 200.0\n",
        "T_cold = 150.0\n",
        "\n",
        "fluid_1 = fluid(\"srk\")\n",
        "fluid_1.addComponent(\"methane\", 1.0, \"kg/sec\")\n",
        "fluid_1.addComponent(\"ethane\", 0.10, \"kg/sec\")\n",
        "fluid_1.setTemperature(T_hot, \"C\")\n",
        "fluid_1.setPressure(P1, \"bara\")\n",
        "TPflash(fluid_1)\n",
        "T1 = fluid_1.getTemperature(\"C\")\n",
        "H1 = fluid_1.getEnthalpy(\"kJ/kg\")\n",
        "U1 = fluid_1.getInternalEnergy(\"kJ/kg\")\n",
        "S1 = fluid_1.getEntropy(\"kJ/kgK\")\n",
        "V1 = fluid_1.getVolume(\"m3\")\n",
        "\n",
        "# The Carnot cycle when acting as a heat engine consists of the following steps:¨\n",
        "# 1-2: Isothermal Expansion. Heat is transferred reversibly from high temperature reservoir at constant temperature TH (isothermal heat addition or absorption). \n",
        "V2 = V1*1.5\n",
        "TVflash(fluid_1, V2, \"m3\")\n",
        "T2 = fluid_1.getTemperature(\"C\")\n",
        "P2 = fluid_1.getPressure(\"bara\")\n",
        "H2 = fluid_1.getEnthalpy(\"kJ/kg\")\n",
        "U2 = fluid_1.getInternalEnergy(\"kJ/kg\")\n",
        "S2 = fluid_1.getEntropy(\"kJ/kgK\")\n",
        "\n",
        "# 2-3: Isentropic (reversible adiabatic) expansion of the gas (isentropic work output).\n",
        "fluid_1.setTemperature(T_cold, \"C\")\n",
        "TSflash(fluid_1, S2, \"kJ/kgK\")\n",
        "\n",
        "T3 = fluid_1.getTemperature(\"C\")\n",
        "P3 = fluid_1.getPressure()\n",
        "H3 = fluid_1.getEnthalpy(\"kJ/kg\")\n",
        "U3 = fluid_1.getInternalEnergy(\"kJ/kg\")\n",
        "S3 = fluid_1.getEntropy(\"kJ/kgK\")\n",
        "V3 = fluid_1.getVolume(\"m3\")\n",
        "\n",
        "# 3-4 Isothermal compression. Heat transferred reversibly to low temperature reservoir at constant temperature TC. (isothermal heat rejection)\n",
        "TSflash(fluid_1, S1, \"kJ/kgK\")\n",
        "\n",
        "T4 = fluid_1.getTemperature(\"C\")\n",
        "P4 = fluid_1.getPressure(\"bara\")\n",
        "H4 = fluid_1.getEnthalpy(\"kJ/kg\")\n",
        "U4 = fluid_1.getInternalEnergy(\"kJ/kg\")\n",
        "S4 = fluid_1.getEntropy(\"kJ/kgK\")\n",
        "V4 = fluid_1.getVolume(\"m3\")\n",
        "\n",
        "# 4-1 Adiabatic reversible compression.\n",
        "\n",
        "VSflash(fluid_1, V1, S4, \"m3\", \"kJ/kgK\")\n",
        "T5 = fluid_1.getTemperature(\"C\")\n",
        "P5 = fluid_1.getPressure(\"bara\")\n",
        "H5 = fluid_1.getEnthalpy(\"kJ/kg\")\n",
        "U5 = fluid_1.getInternalEnergy(\"kJ/kg\")\n",
        "S5 = fluid_1.getEntropy(\"kJ/kgK\")\n",
        "V5 = fluid_1.getVolume(\"m3\")\n",
        "\n",
        "dS = S2-S1\n",
        "QH = (T_hot+273.15)*dS\n",
        "QC = (T_cold+273.15)*dS\n",
        "efficiency = (QH-QC)/QH\n",
        "\n",
        "volumes = [V1, V2,V3,V4, V5]\n",
        "pressures = [P1, P2, P3, P4, P5]\n",
        "entropy = [S1, S2,S3, S4, S5]\n",
        "temperature = [T1, T2, T3, T4, T5]\n",
        "\n",
        "print(\"Carnot efficiency: \", efficiency)\n",
        "\n",
        "efficiency2 = 1.0 - (T_cold+273.15)/(T_hot+273.15)\n",
        "print(\"T_hot \", T_hot, \" T_cold \", T_cold, \" C\")\n",
        "print(\"best Carnot efficiency (1-Tc/Th) \",  efficiency2)\n",
        "\n",
        "\n",
        "import matplotlib\n",
        "import numpy as np\n",
        "import matplotlib.pyplot as plt\n",
        "\n",
        "plt.plot(volumes, pressures);\n",
        "plt.xlabel('Volume [m3]');\n",
        "plt.ylabel('Pressure [bara]');\n",
        "plt.show()\n",
        "\n",
        "plt.plot(entropy, temperature);\n",
        "plt.xlabel('Entropy [kJ/kgK]');\n",
        "plt.ylabel('Temperature [C]');\n",
        "plt.show()\n"
      ],
      "execution_count": 0,
      "outputs": [
        {
          "output_type": "stream",
          "text": [
            "Carnot efficiency:  0.10567473317129872\n",
            "T_hot  200.0  T_cold  150.0  C\n",
            "best Carnot efficiency (1-Tc/Th)  0.10567473317129872\n"
          ],
          "name": "stdout"
        },
        {
          "output_type": "display_data",
          "data": {
            "image/png": "[encoded data removed]",
            "text/plain": [
              "<Figure size 432x288 with 1 Axes>"
            ]
          },
          "metadata": {
            "tags": []
          }
        },
        {
          "output_type": "display_data",
          "data": {
            "image/png": "[encoded data removed]",
            "text/plain": [
              "<Figure size 432x288 with 1 Axes>"
            ]
          },
          "metadata": {
            "tags": []
          }
        }
      ]
    },
    {
      "cell_type": "markdown",
      "metadata": {
        "id": "KAp3akqKZ9Va",
        "colab_type": "text"
      },
      "source": [
        "# The Rankin Cycle\n",
        "The Rankine cycle is a model used to predict the performance of steam turbine systems. It was also used to study the performance of reciprocating steam engines. The Rankine cycle is an idealized thermodynamic cycle of a heat engine that converts heat into mechanical work while undergoing phase change. It is an idealized cycle in which friction losses in each of the four components are neglected. The heat is supplied externally to a closed loop, which usually uses water as the working fluid. It is named after William John Macquorn Rankine, a Scottish polymath and Glasgow University professor."
      ]
    },
    {
      "cell_type": "code",
      "metadata": {
        "id": "WPyOZBqfjVyM",
        "colab_type": "code",
        "colab": {
          "base_uri": "https://localhost:8080/",
          "height": 223
        },
        "outputId": "7cc1036d-26b8-450b-e535-1153e6cfbb10"
      },
      "source": [
        "#There are four processes in the Rankine cycle.\n",
        "P_cold = 0.06 #bara\n",
        "P_hot = 50.0 #bara\n",
        "T_hot_superheat = 350.0 #C\n",
        "\n",
        "import neqsim\n",
        "from neqsim.thermo.thermoTools import *\n",
        "\n",
        "fluid_1 = fluid(\"cpa-statoil\")\n",
        "fluid_1.addComponent(\"water\", 1.0)\n",
        "fluid_1.setPressure(P_cold, \"bara\")\n",
        "fluid_1.setTotalFlowRate(1000.0, \"kg/hr\")\n",
        "bubt(fluid_1)\n",
        "fluid_1.initProperties()\n",
        "#TPflash(fluid_1)\n",
        "#The starting point of the cycle is liuqid at the boiling point \n",
        "T1 = fluid_1.getTemperature(\"C\")\n",
        "H1 = fluid_1.getEnthalpy(\"kJ/kg\")\n",
        "U1 = fluid_1.getInternalEnergy(\"kJ/kg\")\n",
        "S1 = fluid_1.getEntropy(\"kJ/kgK\")\n",
        "V1 = fluid_1.getVolume(\"m3\")\n",
        "\n",
        "#Process 1–2: The working fluid is pumped from low to high pressure. \n",
        "fluid_1.setPressure(P_hot, \"bara\")\n",
        "PSflash(fluid_1, S1, \"kJ/kgK\")\n",
        "T2 = fluid_1.getTemperature(\"C\")\n",
        "H2 = fluid_1.getEnthalpy(\"kJ/kg\")\n",
        "U2 = fluid_1.getInternalEnergy(\"kJ/kg\")\n",
        "S2 = fluid_1.getEntropy(\"kJ/kgK\")\n",
        "V2 = fluid_1.getVolume(\"m3\")\n",
        "fluid_1.display()\n",
        "\n",
        "#Process 2–3: The high-pressure liquid enters a boiler, where it is heated at constant pressure by an external heat source to become a dry saturated vapour.\n",
        "fluid_1.setTemperature(T_hot_superheat, \"C\")\n",
        "TPflash(fluid_1)\n",
        "T3 = fluid_1.getTemperature(\"C\")\n",
        "H3 = fluid_1.getEnthalpy(\"kJ/kg\")\n",
        "U3 = fluid_1.getInternalEnergy(\"kJ/kg\")\n",
        "S3 = fluid_1.getEntropy(\"kJ/kgK\")\n",
        "V3 = fluid_1.getVolume(\"m3\")\n",
        "fluid_1.display()\n",
        "\n",
        "#Process 3–4: The dry saturated vapour expands through a turbine, generating power. \n",
        "fluid_1.setPressure(P_cold, \"bara\")\n",
        "PSflash(fluid_1, S3, \"kJ/kgK\")\n",
        "T4 = fluid_1.getTemperature(\"C\")\n",
        "H4 = fluid_1.getEnthalpy(\"kJ/kg\")\n",
        "U4 = fluid_1.getInternalEnergy(\"kJ/kg\")\n",
        "S4 = fluid_1.getEntropy(\"kJ/kgK\")\n",
        "V4 = fluid_1.getVolume(\"m3\")\n",
        "fluid_1.display()\n",
        "\n",
        "#Process 4–1: The wet vapour then enters a condenser, where it is condensed at a constant pressure to become a saturated liquid.\n",
        "fluid_1.setPressure(P_cold, \"bara\")\n",
        "bubt(fluid_1)\n",
        "fluid_1.initProperties()\n",
        "T5 = fluid_1.getTemperature(\"C\")\n",
        "H5 = fluid_1.getEnthalpy(\"kJ/kg\")\n",
        "U5 = fluid_1.getInternalEnergy(\"kJ/kg\")\n",
        "S5 = fluid_1.getEntropy(\"kJ/kgK\")\n",
        "V5 = fluid_1.getVolume(\"m3\")\n",
        "\n",
        "#estimating efficiency\n",
        "QH = H3-H2\n",
        "QC = H4-H5\n",
        "pumpWork = H2-H1\n",
        "expanderWork= H3-H4\n",
        "efficiency = (QH-QC)/QH\n",
        "print(\"turbine power generated \", expanderWork, \" kJ/kg\")\n",
        "print(\"pump power used \", pumpWork, \" kJ/kg\")\n",
        "print(\"Efficiency: \", efficiency)\n",
        "efficiency2 = 1.0 - (T1+273.15)/(T3+273.15)\n",
        "print(\"Carnot efficiency \",  efficiency2)\n",
        "\n",
        "#plot results in Ts-diagram\n",
        "entropy = [S1, S2,S3, S4, S5]\n",
        "temperature = [T1, T2, T3, T4, T5]\n",
        "import matplotlib\n",
        "import matplotlib.pyplot as plt\n",
        "plt.plot(entropy, temperature);\n",
        "plt.xlabel('Entropy [kJ/kgK]');\n",
        "plt.ylabel('Temperature [C]');\n",
        "plt.show()\n",
        "\n"
      ],
      "execution_count": 22,
      "outputs": [
        {
          "output_type": "error",
          "ename": "TypeError",
          "evalue": "ignored",
          "traceback": [
            "\u001b[0;31m---------------------------------------------------------------------------\u001b[0m",
            "\u001b[0;31mTypeError\u001b[0m                                 Traceback (most recent call last)",
            "\u001b[0;32m<ipython-input-22-224e2159301d>\u001b[0m in \u001b[0;36m<module>\u001b[0;34m()\u001b[0m\n\u001b[1;32m     23\u001b[0m \u001b[0;31m#Process 1–2: The working fluid is pumped from low to high pressure.\u001b[0m\u001b[0;34m\u001b[0m\u001b[0;34m\u001b[0m\u001b[0;34m\u001b[0m\u001b[0m\n\u001b[1;32m     24\u001b[0m \u001b[0mfluid_1\u001b[0m\u001b[0;34m.\u001b[0m\u001b[0msetPressure\u001b[0m\u001b[0;34m(\u001b[0m\u001b[0mP_hot\u001b[0m\u001b[0;34m,\u001b[0m \u001b[0;34m\"bara\"\u001b[0m\u001b[0;34m)\u001b[0m\u001b[0;34m\u001b[0m\u001b[0;34m\u001b[0m\u001b[0m\n\u001b[0;32m---> 25\u001b[0;31m \u001b[0mPSflash\u001b[0m\u001b[0;34m(\u001b[0m\u001b[0mfluid_1\u001b[0m\u001b[0;34m,\u001b[0m \u001b[0mS1\u001b[0m\u001b[0;34m,\u001b[0m \u001b[0;34m\"kJ/kgK\"\u001b[0m\u001b[0;34m)\u001b[0m\u001b[0;34m\u001b[0m\u001b[0;34m\u001b[0m\u001b[0m\n\u001b[0m\u001b[1;32m     26\u001b[0m \u001b[0mT2\u001b[0m \u001b[0;34m=\u001b[0m \u001b[0mfluid_1\u001b[0m\u001b[0;34m.\u001b[0m\u001b[0mgetTemperature\u001b[0m\u001b[0;34m(\u001b[0m\u001b[0;34m\"C\"\u001b[0m\u001b[0;34m)\u001b[0m\u001b[0;34m\u001b[0m\u001b[0;34m\u001b[0m\u001b[0m\n\u001b[1;32m     27\u001b[0m \u001b[0mH2\u001b[0m \u001b[0;34m=\u001b[0m \u001b[0mfluid_1\u001b[0m\u001b[0;34m.\u001b[0m\u001b[0mgetEnthalpy\u001b[0m\u001b[0;34m(\u001b[0m\u001b[0;34m\"kJ/kg\"\u001b[0m\u001b[0;34m)\u001b[0m\u001b[0;34m\u001b[0m\u001b[0;34m\u001b[0m\u001b[0m\n",
            "\u001b[0;31mTypeError\u001b[0m: PSflash() takes 2 positional arguments but 3 were given"
          ]
        }
      ]
    },
    {
      "cell_type": "code",
      "metadata": {
        "id": "c1E0J8DgaQqO",
        "colab_type": "code",
        "outputId": "37c16488-6763-43c0-9e26-6dc35c923d20",
        "colab": {
          "base_uri": "https://localhost:8080/",
          "height": 147
        }
      },
      "source": [
        "import neqsim\n",
        "from neqsim.thermo.thermoTools import *\n",
        "from neqsim.process import stream,clearProcess,runProcess, pump, heater, cooler, expander\n",
        "fluid_1 = fluid(\"cpa\")\n",
        "fluid_1.addComponent(\"water\", 1.0)\n",
        "\n",
        "fluid_1.setPressure(0.05, \"bara\")\n",
        "fluid_1.setTotalFlowRate(1000.0, \"kg/hr\")\n",
        "\n",
        "clearProcess()\n",
        "stream_1 = stream(fluid_1)\n",
        "stream_1.setSpecification(\"bubP\");\n",
        "stream_1.run();\n",
        "\n",
        "pump_1 = pump(stream_1, 50.0)\n",
        "\n",
        "heater_1 = cooler(pump_1.getOutStream())\n",
        "heater_1.setSpecification(\"out stream\");\n",
        "\n",
        "stream_2 = stream(heater_1.getOutStream())\n",
        "#stream_2.setSpecification(\"dewP\");\n",
        "stream_2.getThermoSystem().setTemperature(535.49)\n",
        "stream_2.getThermoSystem().setPressure(50.0)\n",
        "\n",
        "expander_1 = expander(stream_2, 0.05)\n",
        "runProcess()\n",
        "\n",
        "print(\"low pressure \", stream_1.getPressure(), \" bara\")\n",
        "print(\"low temperature \", (stream_1.getTemperature()-273.15), \" C\")\n",
        "\n",
        "print(\"pump power \", pump_1.getPower(), \" W\")\n",
        "print(\"heater duty \", heater_1.getDuty(), \" W\")\n",
        "print(\"high pressure \", stream_2.getPressure(), \" bara\")\n",
        "print(\"high temperature \", (stream_2.getTemperature()-273.15), \" C\")\n",
        "\n",
        "print(\"expander power \", expander_1.getPower(), \" W\")\n",
        "\n",
        "dewt(stream_2.getThermoSystem())"
      ],
      "execution_count": 0,
      "outputs": [
        {
          "output_type": "stream",
          "text": [
            "low pressure  0.05  bara\n",
            "low temperature  37.424466596529896  C\n",
            "pump power  1429.2425561369164  W\n",
            "heater duty  -0.5117018767050467  W\n",
            "high pressure  50.0  bara\n",
            "high temperature  262.34000000000003  C\n",
            "expander power  -330958.4563702864  W\n"
          ],
          "name": "stdout"
        },
        {
          "output_type": "execute_result",
          "data": {
            "text/plain": [
              "535.4902930730977"
            ]
          },
          "metadata": {
            "tags": []
          },
          "execution_count": 5
        }
      ]
    },
    {
      "cell_type": "code",
      "metadata": {
        "id": "SsgVITXWiAPq",
        "colab_type": "code",
        "outputId": "e5a68c69-a615-4f1b-9ef2-4773c4df3485",
        "colab": {
          "base_uri": "https://localhost:8080/",
          "height": 82
        }
      },
      "source": [
        "import neqsim\n",
        "from neqsim.thermo.thermoTools import *\n",
        "from neqsim.process import stream,clearProcess,runProcess, pump, heater, cooler, expander, valve, compressor, heater\n",
        "fluid_1 = fluid(\"srk\")\n",
        "fluid_1.addComponent(\"propane\", 1.0)\n",
        "\n",
        "fluid_1.setPressure(15.0, \"bara\")\n",
        "fluid_1.setTemperature(30.0, \"C\")\n",
        "fluid_1.setTotalFlowRate(1000.0, \"kg/hr\")\n",
        "\n",
        "clearProcess()\n",
        "stream_1 = stream(fluid_1)\n",
        "stream_1.setSpecification(\"bubT\");\n",
        "stream_1.run();\n",
        "\n",
        "JTvalve = valve(stream_1, 1.0)\n",
        "\n",
        "cooler_1 = cooler(JTvalve.getOutStream())\n",
        "cooler_1.setSpecification(\"out stream\");\n",
        "\n",
        "stream_2 = stream(cooler_1.getOutStream())\n",
        "stream_2.setSpecification(\"dewT\");\n",
        "stream_2.getThermoSystem().setTemperature(273.15  - 30.0);\n",
        "stream_2.run()\n",
        "\n",
        "cooler_1.setOutStream(stream_2);\n",
        "JTvalve.setOutletPressure(stream_2.getPressure());\n",
        "\n",
        "compressor_1 = compressor(stream_2, 10.0);\n",
        "compressor_1.setSpecification(\"out stream\")\n",
        "compressor_1.setOutletPressure(stream_1.getPressure())\n",
        "\n",
        "heater = heater(compressor_1.getOutStream())\n",
        "heater.setPressureDrop(0.07);\n",
        "heater.setSpecification(\"out stream\");\n",
        "heater.setOutStream(stream_1);\n",
        "\n",
        "runProcess()\n",
        "\n",
        "print(\"compressor work \", compressor_1.getEnergy(), \" W\");\n",
        "print(\"compressor isentropic ef \", compressor_1.getIsentropicEfficiency()*100.0, \" %\");\n",
        "print(\"cooler duty \", cooler_1.getEnergyInput(), \" W\");\n",
        "print(\"heater duty \", heater.getEnergyInput(), \"W\");\n"
      ],
      "execution_count": 0,
      "outputs": [
        {
          "output_type": "stream",
          "text": [
            "compressor work  24632.12365992675  W\n",
            "compressor isentropic ef  100.0  %\n",
            "cooler duty  72875.21619975152  W\n",
            "heater duty  -97507.33985967825 W\n"
          ],
          "name": "stdout"
        }
      ]
    }
  ]
}