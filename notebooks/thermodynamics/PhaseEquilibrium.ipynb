{
  "nbformat": 4,
  "nbformat_minor": 0,
  "metadata": {
    "colab": {
      "name": "PhaseEquilibrium.ipynb",
      "provenance": [],
      "collapsed_sections": [],
      "include_colab_link": true
    },
    "kernelspec": {
      "name": "python3",
      "display_name": "Python 3"
    }
  },
  "cells": [
    {
      "cell_type": "markdown",
      "metadata": {
        "id": "view-in-github",
        "colab_type": "text"
      },
      "source": [
        "<a href=\"https://colab.research.google.com/github/EvenSol/NeqSim-Colab/blob/master/notebooks/thermodynamics/PhaseEquilibrium.ipynb\" target=\"_parent\"><img src=\"https://colab.research.google.com/assets/colab-badge.svg\" alt=\"Open In Colab\"/></a>"
      ]
    },
    {
      "cell_type": "code",
      "metadata": {
        "id": "Wa0_UNp0V5Z6",
        "colab_type": "code",
        "colab": {}
      },
      "source": [
        "%%capture\n",
        "!pip install neqsim\n",
        "import neqsim\n",
        "from neqsim.thermo.thermoTools import *"
      ],
      "execution_count": 0,
      "outputs": []
    },
    {
      "cell_type": "markdown",
      "metadata": {
        "id": "rXjLlKCGgfAL",
        "colab_type": "text"
      },
      "source": [
        "# Phase equilibrium\n",
        "Phase equilibrium is the study of the equilibrium which exists between or within different states of matter namely solid, liquid and gas. Equilibrium is defined as a stage when chemical potential of any component present in the system stays steady with time.\n",
        "\n",
        "http://www.jmcampbell.com/tip-of-the-month/2006/09/how-to-determine-k-values/\n",
        "\n",
        "\n",
        "Modeling and design of many types of equipment for separating gas and liquids such as flash separators at the well head, distillation columns and even a pipeline are based on the phases present being in vapor-liquid equilibrium. The thermodynamic equilibrium between vapor and liquid phases is expressed in terms equality of fugacity of component i in the vapor phase, fiV, and the fugacity of component i in the liquid phase, fiL, is written as\n",
        "\n"
      ]
    },
    {
      "cell_type": "markdown",
      "metadata": {
        "id": "vmsz4pjiWBQY",
        "colab_type": "text"
      },
      "source": [
        "# Flash calculations #\n",
        "\n",
        "https://slideplayer.com/slide/6136276/\n",
        "\n",
        "## The TP-flash##\n",
        "The TP flash is done at constant temperature and pressure. "
      ]
    },
    {
      "cell_type": "code",
      "metadata": {
        "id": "Q4Dn05c_WTjx",
        "colab_type": "code",
        "colab": {
          "base_uri": "https://localhost:8080/",
          "height": 68
        },
        "outputId": "f59f1ba3-061b-47b3-c5a0-9a8ed1b3cd87"
      },
      "source": [
        "# Creating a fluid in neqsim\n",
        "fluid1 = fluid('srk') #create a fluid using the SRK-EoS\n",
        "fluid1.addComponent('methane', 1.0) #adding 1 mole to the fluid\n",
        "fluid1.addComponent('nC10', 1.0) #adding 1 mole to the fluid\n",
        "fluid1.setTemperature(150.0, 'K')\n",
        "fluid1.setPressure(4.0, 'bara')\n",
        "TPflash(fluid1)\n",
        "fluid1.initProperties()\n",
        "print(\"number of phases \", fluid1.getNumberOfPhases())\n",
        "print(\"gas density \", fluid1.getPhase(\"gas\").getDensity(\"kg/m3\"), \" kg/m3\")\n",
        "print(\"oil density \", fluid1.getPhase(\"oil\").getDensity(\"kg/m3\"), \" kg/m3\")"
      ],
      "execution_count": 7,
      "outputs": [
        {
          "output_type": "stream",
          "text": [
            "number of phases  2\n",
            "gas density  5.476376833072058  kg/m3\n",
            "oil density  784.1305064913755  kg/m3\n"
          ],
          "name": "stdout"
        }
      ]
    }
  ]
}