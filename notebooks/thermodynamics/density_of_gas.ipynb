{
  "nbformat": 4,
  "nbformat_minor": 0,
  "metadata": {
    "colab": {
      "name": "density-of-gas.ipynb",
      "version": "0.3.2",
      "provenance": [],
      "collapsed_sections": [],
      "include_colab_link": true
    },
    "kernelspec": {
      "name": "python3",
      "display_name": "Python 3"
    }
  },
  "cells": [
    {
      "cell_type": "markdown",
      "metadata": {
        "id": "view-in-github",
        "colab_type": "text"
      },
      "source": [
        "<a href=\"https://colab.research.google.com/github/EvenSol/NeqSim-Colab/blob/master/notebooks/thermodynamics/density_of_gas.ipynb\" target=\"_parent\"><img src=\"https://colab.research.google.com/assets/colab-badge.svg\" alt=\"Open In Colab\"/></a>"
      ]
    },
    {
      "cell_type": "code",
      "metadata": {
        "id": "9zm3luRxnQXr",
        "colab_type": "code",
        "cellView": "both",
        "colab": {}
      },
      "source": [
        "#@title Calculation of density of gases\n",
        "#@markdown Demonstration of ideal gas law and equations of state. An introduction to equations of state can be seen in the [EoS Wikipedia pages](https://en.wikipedia.org/wiki/Equation_of_state).\n",
        "%%capture\n",
        "!pip install py4j\n",
        "!pip install --upgrade -q gspread\n",
        "!rm -rf testneqsim\n",
        "!git clone https://github.com/EvenSol/NeqSim-Colab.git\n",
        "!cd NeqSim-Colab\n",
        "!pip install NeqSim-Colab/lib/neqsim-*.whl\n",
        "import neqsim\n",
        "from neqsim.thermo.thermoTools import *\n",
        "import matplotlib\n",
        "import numpy as np\n",
        "import matplotlib.pyplot as plt\n",
        "import math\n",
        "plt.style.use('classic')\n",
        "%matplotlib inline"
      ],
      "execution_count": 0,
      "outputs": []
    },
    {
      "cell_type": "code",
      "metadata": {
        "id": "mruccT7JaGZT",
        "colab_type": "code",
        "cellView": "form",
        "outputId": "bf4ae6a9-a34b-4dcc-d8fa-dfdd27169886",
        "colab": {
          "base_uri": "https://localhost:8080/",
          "height": 421
        }
      },
      "source": [
        "#@title Introduction to Gas Laws\n",
        "#@markdown This video gives an intriduction to behavour of gases as function of pressure and temperature\n",
        "from IPython.display import YouTubeVideo\n",
        "YouTubeVideo('QhnlyHV8evY', width=600, height=400)"
      ],
      "execution_count": 2,
      "outputs": [
        {
          "output_type": "execute_result",
          "data": {
            "text/html": [
              "\n",
              "        <iframe\n",
              "            width=\"600\"\n",
              "            height=\"400\"\n",
              "            src=\"https://www.youtube.com/embed/QhnlyHV8evY\"\n",
              "            frameborder=\"0\"\n",
              "            allowfullscreen\n",
              "        ></iframe>\n",
              "        "
            ],
            "text/plain": [
              "<IPython.lib.display.YouTubeVideo at 0x7f73095f12e8>"
            ],
            "image/jpeg": "[encoded data removed]"
          },
          "metadata": {
            "tags": []
          },
          "execution_count": 2
        }
      ]
    },
    {
      "cell_type": "markdown",
      "metadata": {
        "id": "PDd0WZz9jB-s",
        "colab_type": "text"
      },
      "source": [
        "# Comparison of ideal and real gas behaviour\n",
        "\n",
        "In the following example we use the ideal gas law and the PR/SRK-EOS to calculate the density of a pure component gas.  At low pressure we see that the ideal gas and the real density are the same, at higher pressures the real gas density is higher, while at very high pressures the ideal gas density is the highest. The reason for this is that at intermediate pressures, the atractive forces is dominating, while at very high pressures repulsive forces starts to dominate.\n",
        "\n",
        "The ideal gas equation of state is $pV=nRT$ where $R$ is the gas constant $8.314kJ/mol$. The real gas equation of state is given on the form $pV=ZnRT$ where $Z$ is the gas compressibility factor. THe density can be calculated from $\\rho=n/V\\times M$ where $M$is the molar mass.\n",
        "\n",
        "Use the form to select molecule, temperature and pressure range, and calculate the density and compressibility of the gas. Can you find a gas that shifts from gas to liquid when pressure is increased?"
      ]
    },
    {
      "cell_type": "code",
      "metadata": {
        "id": "XmRyGw9WnemV",
        "colab_type": "code",
        "outputId": "ad74c562-0af2-4abd-e9a9-3440bdb533b5",
        "cellView": "both",
        "colab": {
          "base_uri": "https://localhost:8080/",
          "height": 322
        }
      },
      "source": [
        "componentName = \"methane\" #@param [\"methane\", \"ethane\", \"propane\", \"CO2\", \"nitrogen\"]\n",
        "temperature = 298.0   #@param {type:\"number\"}\n",
        "minPressure = 1.0  #@param {type:\"number\"}\n",
        "maxPressure = 150.0  #@param {type:\"number\"}\n",
        "eosname = \"pr\" #@param [\"srk\", \"pr\"]\n",
        "R = 8.314 # J/mol/K\n",
        "\n",
        "# Creating a fluid in neqsim\n",
        "fluid1 = fluid(eosname) #create a fluid using the SRK-EoS\n",
        "fluid1.addComponent(componentName, 1.0) #adding 1 mole to the fluid\n",
        "fluid1.init(0); \n",
        "\n",
        "print('molar mass of ', componentName, ' is ', fluid1.getMolarMass()*1000 , ' kg/mol')\n",
        "\n",
        "def idealgasdensity(pressure, temperature):\n",
        "  m3permol = R*temperature/(pressure*1e5)\n",
        "  m3perkg = m3permol/fluid1.getMolarMass()\n",
        "  return 1.0/m3perkg\n",
        "\n",
        "def realgasdensity(pressure, temperature):\n",
        "    fluid1.setPressure(pressure)\n",
        "    fluid1.setTemperature(temperature)\n",
        "    TPflash(fluid1)\n",
        "    fluid1.initPhysicalProperties();\n",
        "    return fluid1.getDensity('kg/m3')\n",
        "\n",
        "def compressibility(pressure, temperature):\n",
        "    fluid1.setPressure(pressure)\n",
        "    fluid1.setTemperature(temperature)\n",
        "    TPflash(fluid1)\n",
        "    fluid1.initPhysicalProperties();\n",
        "    return fluid1.getZ()\n",
        "\n",
        "pressure = np.arange(minPressure, maxPressure, int((maxPressure-minPressure)/100)+1)\n",
        "idealdensity = [idealgasdensity(P,temperature) for P in pressure]\n",
        "realdensity = [realgasdensity(P,temperature) for P in pressure]\n",
        "compressibility = [compressibility(P,temperature) for P in pressure]\n",
        "\n",
        "plt.figure()\n",
        "plt.subplot(2, 1, 1)\n",
        "plt.plot(pressure, idealdensity, '--')\n",
        "plt.plot(pressure, realdensity, '-')\n",
        "plt.xlabel('Pressure [bara]')\n",
        "plt.ylabel('Density [kg/m3]')\n",
        "plt.legend(['ideal', 'real'])\n",
        "\n",
        "plt.subplot(2, 1, 2)\n",
        "plt.plot(pressure, compressibility, '-')\n",
        "plt.xlabel('Pressure [bara]')\n",
        "plt.ylabel('Z [-]')\n",
        "plt.legend(['compressibility factor'])"
      ],
      "execution_count": 21,
      "outputs": [
        {
          "output_type": "stream",
          "text": [
            "molar mass of  methane  is  16.043  kg/mol\n"
          ],
          "name": "stdout"
        },
        {
          "output_type": "execute_result",
          "data": {
            "text/plain": [
              "<matplotlib.legend.Legend at 0x7f73043837b8>"
            ]
          },
          "metadata": {
            "tags": []
          },
          "execution_count": 21
        },
        {
          "output_type": "display_data",
          "data": {
            "image/png": "[encoded data removed]",
            "text/plain": [
              "<Figure size 432x288 with 2 Axes>"
            ]
          },
          "metadata": {
            "tags": []
          }
        }
      ]
    },
    {
      "cell_type": "markdown",
      "metadata": {
        "id": "_NBQYd6h5lip",
        "colab_type": "text"
      },
      "source": [
        "# Pressure of gas as function of volume\n",
        "\n",
        "1 m3 methane at 1 bar and 25 C is compressed to 200 bar and cooled to 25 C. What is\n",
        "the volume of the gas? What is the density of the compressed gas?"
      ]
    },
    {
      "cell_type": "code",
      "metadata": {
        "id": "C0-TETkB58hU",
        "colab_type": "code",
        "outputId": "56e14b87-17d2-4959-96d2-4812d4c13384",
        "cellView": "form",
        "colab": {
          "base_uri": "https://localhost:8080/",
          "height": 136
        }
      },
      "source": [
        "componentName = \"methane\" #@param [\"methane\", \"ethane\", \"propane\", \"CO2\", \"nitrogen\"]\n",
        "temperature = 288.15   #@param {type:\"number\"}\n",
        "initialVolume = 1.0  #@param {type:\"number\"}\n",
        "initialPressure = 1.0  #@param {type:\"number\"}\n",
        "endPressure = 200.0  #@param {type:\"number\"}\n",
        "R = 8.314 # J/mol/K\n",
        "\n",
        "initialMoles = initialPressure*1e5*1.0/(R*temperature)\n",
        "\n",
        "# Creating a fluid in neqsim\n",
        "fluid1 = fluid('srk') #create a fluid using the SRK-EoS\n",
        "fluid1.addComponent(componentName, initialMoles) #adding 1 Sm3 to the fluid\n",
        "fluid1.setTemperature(temperature)\n",
        "fluid1.setPressure(initialPressure)\n",
        "TPflash(fluid1)\n",
        "fluid1.initPhysicalProperties()\n",
        "startVolume = fluid1.getVolume('m3/sec')\n",
        "\n",
        "\n",
        "print('initialVolume ', startVolume, 'm3')\n",
        "print('initial gas density ', fluid1.getDensity('kg/m3'))\n",
        "print('initial gas compressiility ', fluid1.getZ())\n",
        "      \n",
        "fluid1.setPressure(endPressure)\n",
        "TPflash(fluid1)\n",
        "fluid1.initPhysicalProperties()\n",
        "\n",
        "endVolume = fluid1.getVolume('m3/sec')\n",
        "print('end volume ', fluid1.getVolume('Sm3/sec'), 'm3')\n",
        "print('volume ratio ', endVolume/startVolume)\n",
        "print('end gas density ', fluid1.getDensity('kg/m3'))\n",
        "print('end gas compressibility ', fluid1.getZ())"
      ],
      "execution_count": 4,
      "outputs": [
        {
          "output_type": "stream",
          "text": [
            "initialVolume  0.9981148410194175 m3\n",
            "initial gas density  0.6709479366456967\n",
            "initial gas compressiility  0.9980593679337882\n",
            "end volume  0.004184485063379671 m3\n",
            "volume ratio  0.004192388381988066\n",
            "end gas density  161.13193946161053\n",
            "end gas compressibility  0.8368504997319933\n"
          ],
          "name": "stdout"
        }
      ]
    },
    {
      "cell_type": "markdown",
      "metadata": {
        "id": "_s47uG_3BbQd",
        "colab_type": "text"
      },
      "source": [
        "# Calculation of density of LNG\n",
        "The density of liquified methane at the boiling point at atomspheric pressure can be calcuated as demonstrated in the following example"
      ]
    },
    {
      "cell_type": "code",
      "metadata": {
        "id": "20BJKlLFBpV3",
        "colab_type": "code",
        "outputId": "71a97b76-83d4-47f8-effc-2b42349da407",
        "cellView": "form",
        "colab": {
          "base_uri": "https://localhost:8080/",
          "height": 51
        }
      },
      "source": [
        "# Creating a fluid in neqsim\n",
        "\n",
        "pressure = 1.01325 #@param {type:\"number\"}\n",
        "temperature = -162.0 #@param {type:\"number\"}\n",
        "fluid1 = fluid('srk') #create a fluid using the SRK-EoS\n",
        "fluid1.addComponent('methane', 1.0)\n",
        "fluid1.setTemperature(temperature)\n",
        "fluid1.setPressure(pressure)\n",
        "bubt(fluid1)\n",
        "fluid1.initPhysicalProperties()\n",
        "print('temperature at boiling point ', fluid1.getTemperature()-273.15, 'C')\n",
        "print('LNG density ', fluid1.getDensity('kg/m3'), ' kg/m3')\n"
      ],
      "execution_count": 5,
      "outputs": [
        {
          "output_type": "stream",
          "text": [
            "temperature at boiling point  -161.1441471093413 C\n",
            "LNG density  428.1719693971862  kg/m3\n"
          ],
          "name": "stdout"
        }
      ]
    }
  ]
}