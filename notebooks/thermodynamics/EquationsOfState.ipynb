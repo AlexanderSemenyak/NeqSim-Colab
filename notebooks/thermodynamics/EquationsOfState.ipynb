{
  "nbformat": 4,
  "nbformat_minor": 0,
  "metadata": {
    "colab": {
      "name": "EquationsOfState.ipynb",
      "provenance": [],
      "collapsed_sections": [],
      "include_colab_link": true
    },
    "kernelspec": {
      "name": "python3",
      "display_name": "Python 3"
    }
  },
  "cells": [
    {
      "cell_type": "markdown",
      "metadata": {
        "id": "view-in-github",
        "colab_type": "text"
      },
      "source": [
        "<a href=\"https://colab.research.google.com/github/EvenSol/NeqSim-Colab/blob/master/notebooks/thermodynamics/EquationsOfState.ipynb\" target=\"_parent\"><img src=\"https://colab.research.google.com/assets/colab-badge.svg\" alt=\"Open In Colab\"/></a>"
      ]
    },
    {
      "cell_type": "code",
      "metadata": {
        "id": "c7oLiYgcEV2Y",
        "colab_type": "code",
        "cellView": "form",
        "colab": {}
      },
      "source": [
        "#@title Equations of State\n",
        "#@markdown In physics and thermodynamics, an equation of state is a thermodynamic equation relating state variables which describe the state of matter under a given set of physical conditions, such as pressure, volume, temperature (PVT), or internal energy. See [Wikipedia page on Equations Of State](https://en.wikipedia.org/wiki/Equation_of_state).\n",
        "%%capture\n",
        "!pip install neqsim\n",
        "import neqsim\n",
        "from neqsim.thermo.thermoTools import *\n",
        "import matplotlib\n",
        "import numpy as np\n",
        "import matplotlib.pyplot as plt\n",
        "import math\n",
        "%matplotlib inline"
      ],
      "execution_count": 0,
      "outputs": []
    },
    {
      "cell_type": "code",
      "metadata": {
        "id": "9Kkz5ZeLEyRv",
        "colab_type": "code",
        "cellView": "form",
        "outputId": "3ba26090-5cd3-4f92-d57d-b852a1db1ee8",
        "colab": {
          "base_uri": "https://localhost:8080/",
          "height": 421
        }
      },
      "source": [
        "#@title  Introduction to Equations of State\n",
        "#@markdown Introduction to equations of state with some common examples\n",
        "from IPython.display import YouTubeVideo\n",
        "YouTubeVideo('Svu8kpPRnlo', width=600, height=400)"
      ],
      "execution_count": 1,
      "outputs": [
        {
          "output_type": "execute_result",
          "data": {
            "text/html": [
              "\n",
              "        <iframe\n",
              "            width=\"600\"\n",
              "            height=\"400\"\n",
              "            src=\"https://www.youtube.com/embed/Svu8kpPRnlo\"\n",
              "            frameborder=\"0\"\n",
              "            allowfullscreen\n",
              "        ></iframe>\n",
              "        "
            ],
            "text/plain": [
              "<IPython.lib.display.YouTubeVideo at 0x7f7954c7f7f0>"
            ],
            "image/jpeg": "[encoded data removed]"
          },
          "metadata": {
            "tags": []
          },
          "execution_count": 1
        }
      ]
    },
    {
      "cell_type": "markdown",
      "metadata": {
        "id": "vT1Qy8vlRuDf",
        "colab_type": "text"
      },
      "source": [
        "## Cubic Equations of State\n",
        "Equation of State are used to predict pure component and mixture properties such as compressibility, fugacity and mixture equilibrium."
      ]
    },
    {
      "cell_type": "code",
      "metadata": {
        "id": "tttUZxuJSf3v",
        "colab_type": "code",
        "colab": {
          "base_uri": "https://localhost:8080/",
          "height": 457
        },
        "outputId": "657ef6b0-ea6e-4991-cf47-cb7068e0b9dd"
      },
      "source": [
        "#@title Soave - Redlich - Kwong (SRK) EOS\n",
        "#@markdown The SRK-EoS is defined as P = RT / (V - b)  - a α / V(V + b)\n",
        "import math\n",
        "import matplotlib\n",
        "import numpy as np\n",
        "import matplotlib.pyplot as plt\n",
        "import math\n",
        "plt.style.use('classic')\n",
        "\n",
        "Tc= 190.0\n",
        "Pc = 76.4e5\n",
        "acsFactor=0.001\n",
        "R = 8.314 #J/mol/K\n",
        "T = 220.15 #K\n",
        "Tr = T/Tc\n",
        "\n",
        "a = 0.42748*R*R*Tc*Tc/(Pc*Pc)\n",
        "b = 0.08664*R*Tc/Pc\n",
        "a1 = 1.0 + (0.48 + 1.574*acsFactor - 0.176*acsFactor*acsFactor)*(1.0 - math.pow(Tr,0.5))\n",
        "alpha = math.pow(a1, 2.0)\n",
        "\n",
        "\n",
        "def pressure(V):\n",
        "  P = R*T/(V-b)- a*alpha/(V*(V + b))\n",
        "  return P/1.0e5\n",
        "\n",
        "volRange = np.arange(0.001, 0.10, 0.0010)\n",
        "pressureRange = [pressure(vol) for vol in volRange]\n",
        "\n",
        "plt.figure()\n",
        "plt.plot(volRange, pressureRange, '--')\n"
      ],
      "execution_count": 59,
      "outputs": [
        {
          "output_type": "execute_result",
          "data": {
            "text/plain": [
              "[<matplotlib.lines.Line2D at 0x7f79528adf28>]"
            ]
          },
          "metadata": {
            "tags": []
          },
          "execution_count": 59
        },
        {
          "output_type": "display_data",
          "data": {
            "image/png": "[encoded data removed]",
            "text/plain": [
              "<Figure size 640x480 with 1 Axes>"
            ]
          },
          "metadata": {
            "tags": []
          }
        }
      ]
    }
  ]
}