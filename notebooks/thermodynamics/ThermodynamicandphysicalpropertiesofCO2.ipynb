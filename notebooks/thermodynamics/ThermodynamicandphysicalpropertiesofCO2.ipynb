{
  "nbformat": 4,
  "nbformat_minor": 0,
  "metadata": {
    "colab": {
      "name": "ThermodynamicandphysicalpropertiesofCO2.ipynb",
      "provenance": [],
      "collapsed_sections": [],
      "include_colab_link": true
    },
    "kernelspec": {
      "name": "python3",
      "display_name": "Python 3"
    }
  },
  "cells": [
    {
      "cell_type": "markdown",
      "metadata": {
        "id": "view-in-github",
        "colab_type": "text"
      },
      "source": [
        "<a href=\"https://colab.research.google.com/github/EvenSol/NeqSim-Colab/blob/master/notebooks/thermodynamics/ThermodynamicandphysicalpropertiesofCO2.ipynb\" target=\"_parent\"><img src=\"https://colab.research.google.com/assets/colab-badge.svg\" alt=\"Open In Colab\"/></a>"
      ]
    },
    {
      "cell_type": "code",
      "metadata": {
        "id": "c7oLiYgcEV2Y",
        "colab_type": "code",
        "cellView": "both",
        "colab": {}
      },
      "source": [
        "#@title Thermodynamic and physical properties of CO2\n",
        "#@markdown Carbon dioxide (chemical formula CO2) is a colorless gas with a density about 60% higher than that of dry air. Carbon dioxide consists of a carbon atom covalently double bonded to two oxygen atoms. It occurs naturally in Earth's atmosphere as a trace gas. \n",
        "%%capture\n",
        "!pip install neqsim\n",
        "import neqsim\n",
        "from neqsim.thermo.thermoTools import *\n",
        "import matplotlib\n",
        "import numpy as np\n",
        "import matplotlib.pyplot as plt\n",
        "import math\n",
        "%matplotlib inline"
      ],
      "execution_count": 0,
      "outputs": []
    },
    {
      "cell_type": "code",
      "metadata": {
        "id": "9Kkz5ZeLEyRv",
        "colab_type": "code",
        "cellView": "form",
        "outputId": "d68a9519-428c-460b-ad4a-c80a77a397cb",
        "colab": {
          "base_uri": "https://localhost:8080/",
          "height": 421
        }
      },
      "source": [
        "#@title  The Properties Of Carbon Dioxide\n",
        "from IPython.display import YouTubeVideo\n",
        "YouTubeVideo('AOfnXKzGO9I', width=600, height=400)"
      ],
      "execution_count": 7,
      "outputs": [
        {
          "output_type": "execute_result",
          "data": {
            "text/html": [
              "\n",
              "        <iframe\n",
              "            width=\"600\"\n",
              "            height=\"400\"\n",
              "            src=\"https://www.youtube.com/embed/AOfnXKzGO9I\"\n",
              "            frameborder=\"0\"\n",
              "            allowfullscreen\n",
              "        ></iframe>\n",
              "        "
            ],
            "text/plain": [
              "<IPython.lib.display.YouTubeVideo at 0x7fdc039379e8>"
            ],
            "image/jpeg": "[encoded data removed]"
          },
          "metadata": {
            "tags": []
          },
          "execution_count": 7
        }
      ]
    },
    {
      "cell_type": "code",
      "metadata": {
        "id": "EeJ3zgxwP9mv",
        "colab_type": "code",
        "cellView": "both",
        "colab": {
          "base_uri": "https://localhost:8080/",
          "height": 33
        },
        "outputId": "7d66befc-4ca8-44ca-bcb3-59673e744bd7"
      },
      "source": [
        "#@title  Calculation of density, speeed of sound, Cp, Cv of CO2\n",
        "#@markdown Evaluation of different EOS for calculation of thermodynamic properties of CO2 \n",
        "\n",
        "from neqsim.thermo import fluid, TPflash\n",
        "\n",
        "temperature = 25.0\n",
        "pressure = 30.0\n",
        "\n",
        "#thermodynamicModels srk, pr, cpa, gerg\n",
        "\n",
        "fluidCO2 = fluid('srk')\n",
        "fluidCO2.addComponent(\"CO2\", 1.0)\n",
        "fluidCO2.setPressure(pressure, \"bara\")\n",
        "fluidCO2.setTemperature(temperature, \"C\")\n",
        "TPflash(fluidCO2)\n",
        "\n",
        "densityCO2 = fluidCO2.getDensity(\"kg/m3\")\n",
        "\n",
        "print(\"CO2 density\", densityCO2, \" kg/m3\")"
      ],
      "execution_count": 11,
      "outputs": [
        {
          "output_type": "stream",
          "text": [
            "CO2 density 64.20221175352525  kg/m3\n"
          ],
          "name": "stdout"
        }
      ]
    },
    {
      "cell_type": "code",
      "metadata": {
        "colab_type": "code",
        "cellView": "both",
        "id": "R-_VLFaVhszV",
        "colab": {
          "base_uri": "https://localhost:8080/",
          "height": 33
        },
        "outputId": "86fd0973-1359-4c57-c792-18c1a3cb046e"
      },
      "source": [
        "#@title  Calculation of physical properties of CO2\n",
        "#@markdown Evaluation of different models for calculation of thermodynamic properties of CO2 \n",
        "\n",
        "from neqsim.thermo import fluid, TPflash\n",
        "\n",
        "#viscosity models friction theory, LBC, PFCT, polynom\n",
        "\n",
        "temperature = 25.0\n",
        "pressure = 30.0\n",
        "\n",
        "fluidCO2 = fluid('srk')\n",
        "fluidCO2.addComponent(\"CO2\", 1.0)\n",
        "fluidCO2.setPressure(pressure, \"bara\")\n",
        "fluidCO2.setTemperature(temperature, \"C\")\n",
        "TPflash(fluidCO2)\n",
        "\n",
        "method = \"PFCT\"\n",
        "fluidCO2.getPhase('gas').getPhysicalProperties().setViscosityModel(method)\n",
        "\n",
        "viscosityCO2 = fluidCO2.getViscosity(\"cP\")\n",
        "\n",
        "print(\"CO2 viscosity\", viscosityCO2, \" CP\")"
      ],
      "execution_count": 13,
      "outputs": [
        {
          "output_type": "stream",
          "text": [
            "CO2 viscosity 0.01656877112657292  CP\n"
          ],
          "name": "stdout"
        }
      ]
    }
  ]
}