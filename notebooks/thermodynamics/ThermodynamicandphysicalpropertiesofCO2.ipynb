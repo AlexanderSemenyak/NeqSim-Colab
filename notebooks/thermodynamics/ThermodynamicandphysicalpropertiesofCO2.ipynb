{
  "nbformat": 4,
  "nbformat_minor": 0,
  "metadata": {
    "colab": {
      "name": "ThermodynamicandphysicalpropertiesofCO2.ipynb",
      "provenance": [],
      "collapsed_sections": [],
      "include_colab_link": true
    },
    "kernelspec": {
      "name": "python3",
      "display_name": "Python 3"
    }
  },
  "cells": [
    {
      "cell_type": "markdown",
      "metadata": {
        "id": "view-in-github",
        "colab_type": "text"
      },
      "source": [
        "<a href=\"https://colab.research.google.com/github/EvenSol/NeqSim-Colab/blob/master/notebooks/thermodynamics/ThermodynamicandphysicalpropertiesofCO2.ipynb\" target=\"_parent\"><img src=\"https://colab.research.google.com/assets/colab-badge.svg\" alt=\"Open In Colab\"/></a>"
      ]
    },
    {
      "cell_type": "code",
      "metadata": {
        "id": "c7oLiYgcEV2Y",
        "colab_type": "code",
        "cellView": "both",
        "colab": {}
      },
      "source": [
        "#@title Thermodynamic and physical properties of CO2\n",
        "#@markdown Carbon dioxide (chemical formula CO2) is a colorless gas with a density about 60% higher than that of dry air. Carbon dioxide consists of a carbon atom covalently double bonded to two oxygen atoms. It occurs naturally in Earth's atmosphere as a trace gas. \n",
        "%%capture\n",
        "!pip install neqsim\n",
        "import neqsim\n",
        "from neqsim.thermo.thermoTools import *\n",
        "import matplotlib\n",
        "import numpy as np\n",
        "import matplotlib.pyplot as plt\n",
        "import math\n",
        "%matplotlib inline"
      ],
      "execution_count": 1,
      "outputs": []
    },
    {
      "cell_type": "code",
      "metadata": {
        "id": "9Kkz5ZeLEyRv",
        "colab_type": "code",
        "cellView": "form",
        "colab": {
          "base_uri": "https://localhost:8080/"
        },
        "outputId": "ec446415-f1d3-4b45-a942-61342b237213"
      },
      "source": [
        "#@title  The Properties Of Carbon Dioxide\n",
        "from IPython.display import YouTubeVideo\n",
        "YouTubeVideo('AOfnXKzGO9I', width=600, height=400)"
      ],
      "execution_count": 2,
      "outputs": [
        {
          "output_type": "execute_result",
          "data": {
            "text/html": [
              "\n",
              "        <iframe\n",
              "            width=\"600\"\n",
              "            height=\"400\"\n",
              "            src=\"https://www.youtube.com/embed/AOfnXKzGO9I\"\n",
              "            frameborder=\"0\"\n",
              "            allowfullscreen\n",
              "        ></iframe>\n",
              "        "
            ],
            "text/plain": [
              "<IPython.lib.display.YouTubeVideo at 0x7f11bc5a46d8>"
            ],
            "image/jpeg": "[encoded data removed]"
          },
          "metadata": {
            "tags": []
          },
          "execution_count": 2
        }
      ]
    },
    {
      "cell_type": "code",
      "metadata": {
        "id": "EeJ3zgxwP9mv",
        "colab_type": "code",
        "cellView": "both",
        "colab": {
          "base_uri": "https://localhost:8080/"
        },
        "outputId": "e190fd3a-dc24-4ece-be97-4b7c049a0b8e"
      },
      "source": [
        "#@title  Calculation of density, speeed of sound, Cp, Cv of CO2\n",
        "#@markdown Evaluation of different EOS for calculation of thermodynamic properties of CO2 \n",
        "\n",
        "from neqsim.thermo import fluid, TPflash\n",
        "\n",
        "temperature = 25.0\n",
        "pressure = 30.0\n",
        "\n",
        "#thermodynamicModels srk, pr, cpa, gerg\n",
        "\n",
        "fluidCO2 = fluid('srk')\n",
        "fluidCO2.addComponent(\"CO2\", 1.0)\n",
        "fluidCO2.setPressure(pressure, \"bara\")\n",
        "fluidCO2.setTemperature(temperature, \"C\")\n",
        "TPflash(fluidCO2)\n",
        "\n",
        "densityCO2 = fluidCO2.getDensity(\"kg/m3\")\n",
        "\n",
        "print(\"CO2 density\", densityCO2, \" kg/m3\")"
      ],
      "execution_count": 3,
      "outputs": [
        {
          "output_type": "stream",
          "text": [
            "CO2 density 64.20221175352525  kg/m3\n"
          ],
          "name": "stdout"
        }
      ]
    },
    {
      "cell_type": "code",
      "metadata": {
        "colab_type": "code",
        "cellView": "both",
        "id": "R-_VLFaVhszV",
        "colab": {
          "base_uri": "https://localhost:8080/",
          "height": 34
        },
        "outputId": "43cc550b-20e2-49c8-e776-3e1ae7d5a06f"
      },
      "source": [
        "#@title  Calculation of physical properties of CO2\n",
        "#@markdown Evaluation of different models for calculation of thermodynamic properties of CO2 \n",
        "\n",
        "from neqsim.thermo import fluid, TPflash\n",
        "\n",
        "#viscosity models friction theory, LBC, PFCT, polynom\n",
        "\n",
        "temperature = 25.0\n",
        "pressure = 30.0\n",
        "\n",
        "fluidCO2 = fluid('srk')\n",
        "fluidCO2.addComponent(\"CO2\", 1.0)\n",
        "fluidCO2.setPressure(pressure, \"bara\")\n",
        "fluidCO2.setTemperature(temperature, \"C\")\n",
        "TPflash(fluidCO2)\n",
        "\n",
        "method = \"PFCT\"\n",
        "fluidCO2.getPhase('gas').getPhysicalProperties().setViscosityModel(method)\n",
        "\n",
        "viscosityCO2 = fluidCO2.getViscosity(\"cP\")\n",
        "\n",
        "print(\"CO2 viscosity\", viscosityCO2, \" CP\")"
      ],
      "execution_count": 22,
      "outputs": [
        {
          "output_type": "stream",
          "text": [
            "CO2 viscosity 0.01656877112657292  CP\n"
          ],
          "name": "stdout"
        }
      ]
    },
    {
      "cell_type": "markdown",
      "metadata": {
        "id": "gEXCqGmHTZnr",
        "colab_type": "text"
      },
      "source": [
        "# Properties of CO2 with other trace components\n",
        "Properties of CO2 with traces of compoents such as methane and nitrogen is often needed in design of CO2 reinjection systems. THe following example shows examples of calculations of such fluids. "
      ]
    },
    {
      "cell_type": "code",
      "metadata": {
        "id": "X3h1QIb6Tscl",
        "colab_type": "code",
        "colab": {
          "base_uri": "https://localhost:8080/",
          "height": 866
        },
        "outputId": "86d51a7e-99ce-4edd-a171-285688f9ff5c"
      },
      "source": [
        "from neqsim.thermo import fluid, TPflash,printFrame\n",
        "\n",
        "methane = 1.0\n",
        "nitrogen = 1.0\n",
        "\n",
        "fluid1 = fluid('srk')\n",
        "fluid1.addComponent(\"methane\", methane) #set mole fraction methane\n",
        "fluid1.addComponent(\"nitrogen\", nitrogen) #set mole fraction nitrogen\n",
        "fluid1.addComponent(\"CO2\", 100.0-methane-nitrogen) #set mole fraction CO2\n",
        "fluid1.setMixingRule('classic')\n",
        "\n",
        "#Calculation of the phase envelope of the CO2 mixture\n",
        "phaseenvelope(fluid1, True)\n",
        "\n",
        "# Calculating properties of the fluid at given temperature and pressure\n",
        "fluid1.setTemperature(25.0, 'C')\n",
        "fluid1.setPressure(35.0, 'bara')\n",
        "TPflash(fluid1)\n",
        "printFrame(fluid1)"
      ],
      "execution_count": 5,
      "outputs": [
        {
          "output_type": "display_data",
          "data": {
            "image/png": "[encoded data removed]",
            "text/plain": [
              "<Figure size 432x288 with 1 Axes>"
            ]
          },
          "metadata": {
            "tags": [],
            "needs_background": "light"
          }
        },
        {
          "output_type": "stream",
          "text": [
            "                           total          gas                       \n",
            "            methane         1E-2         1E-2        [mole fraction]\n",
            "           nitrogen         1E-2         1E-2        [mole fraction]\n",
            "                CO2       9.8E-1       9.8E-1        [mole fraction]\n",
            "                                                                    \n",
            "            Density                 7.66948E1               [kg/m^3]\n",
            "      PhaseFraction                       1E0        [mole fraction]\n",
            "          MolarMass    4.35704E1    4.35704E1              [kg/kmol]\n",
            "           Z factor                 8.0672E-1                    [-]\n",
            " Heat Capacity (Cp)                 1.17224E0              [kJ/kg*K]\n",
            " Heat Capacity (Cv)                6.92695E-1              [kJ/kg*K]\n",
            "     Speed of Sound                 2.46031E2                [m/sec]\n",
            "           Enthalpy   -1.63753E1   -1.63753E1                [kJ/kg]\n",
            "            Entropy  -6.72157E-1  -6.72157E-1              [kJ/kg*K]\n",
            "     JT coefficient                 1.11793E0                [K/bar]\n",
            "                                                                    \n",
            "          Viscosity                1.68508E-5             [kg/m*sec]\n",
            "       Conductivity                 2.2067E-2                [W/m*K]\n",
            "     SurfaceTension                                            [N/m]\n",
            "                                                                    \n",
            "                                                                    \n",
            "                                                                    \n",
            "           Pressure                      35.0                  [bar]\n",
            "        Temperature                    298.15                    [K]\n",
            "                                                                    \n",
            "              Model                   SRK-EOS                      -\n",
            "        Mixing Rule                   classic                      -\n",
            "                                                                    \n",
            "             Stream                                                -\n",
            "                                                                    \n",
            "                                                                    \n",
            "                                                                    \n",
            "                                                                    \n"
          ],
          "name": "stdout"
        }
      ]
    },
    {
      "cell_type": "markdown",
      "metadata": {
        "id": "f_6bHNDyTAp1",
        "colab_type": "text"
      },
      "source": [
        "# Depressurization of CO2\n",
        "In the following example we calculate the temperature and phase behaviour after depressurization of CO2."
      ]
    },
    {
      "cell_type": "code",
      "metadata": {
        "id": "nTdacl8dTCYE",
        "colab_type": "code",
        "colab": {
          "base_uri": "https://localhost:8080/",
          "height": 1000
        },
        "outputId": "941f88ff-2b12-45cf-ec9b-9a31bc01e17c"
      },
      "source": [
        "from neqsim.thermo import fluid, TPflash,printFrame,PHflash, PHsolidflash,TPsolidflash,dewt,bubt\n",
        "\n",
        "\n",
        "fluid1 = fluid('srk')\n",
        "fluid1.addComponent(\"CO2\", 100.0)\n",
        "\n",
        "fluid1.setTemperature(-20.0, \"C\")\n",
        "fluid1.setPressure(18.0, \"bara\")\n",
        "fluid1.setMultiPhaseCheck(True)\n",
        "fluid1.setSolidPhaseCheck(\"CO2\")\n",
        "\n",
        "#bubt(fluid1)\n",
        "dewt(fluid1)\n",
        "print(\"temperature before deprezurization \", fluid1.getTemperature(\"C\"), \" C\")\n",
        "TPsolidflash(fluid1)\n",
        "printFrame(fluid1)\n",
        "fluid1.initProperties()\n",
        "enthalpy = fluid1.getEnthalpy()\n",
        "\n",
        "fluid1.setPressure(1.0, \"bara\")\n",
        "PHsolidflash(fluid1, enthalpy)\n",
        "TPsolidflash(fluid1)\n",
        "printFrame(fluid1)\n",
        "\n",
        "print(\"temperature after deprezurization \", fluid1.getTemperature(\"C\"), \" C\")\n"
      ],
      "execution_count": 21,
      "outputs": [
        {
          "output_type": "stream",
          "text": [
            "temperature before deprezurization  -22.8869723327752  C\n",
            "                           total                 gas                       \n",
            "                CO2          1E0                 1E0        [mole fraction]\n",
            "                                                                           \n",
            "            Density                        4.65149E1               [kg/m^3]\n",
            "      PhaseFraction                              1E0        [mole fraction]\n",
            "          MolarMass      4.401E1             4.401E1              [kg/kmol]\n",
            "           Z factor                       8.21346E-1                    [-]\n",
            " Heat Capacity (Cp)                        1.03443E0              [kJ/kg*K]\n",
            " Heat Capacity (Cv)                        6.3012E-1              [kJ/kg*K]\n",
            "     Speed of Sound                        2.24636E2                [m/sec]\n",
            "           Enthalpy   -4.40932E1          -4.40932E1                [kJ/kg]\n",
            "            Entropy  -6.85529E-1         -6.85529E-1              [kJ/kg*K]\n",
            "     JT coefficient                        1.69838E0                [K/bar]\n",
            "                                                                           \n",
            "          Viscosity                       1.37541E-5             [kg/m*sec]\n",
            "       Conductivity                       1.70345E-2                [W/m*K]\n",
            "     SurfaceTension                                                   [N/m]\n",
            "                                                                           \n",
            "                                                                           \n",
            "                                                                           \n",
            "           Pressure                             18.0                  [bar]\n",
            "        Temperature               250.26302766722478                    [K]\n",
            "                                                                           \n",
            "              Model                          SRK-EOS                      -\n",
            "        Mixing Rule                       no (kij=0)                      -\n",
            "                                                                           \n",
            "             Stream                                                       -\n",
            "                                                                           \n",
            "                                                                           \n",
            "                                                                           \n",
            "                                                                           \n",
            "                           total                 gas                       \n",
            "                CO2          1E0                 1E0        [mole fraction]\n",
            "                                                                           \n",
            "            Density                        2.44497E0               [kg/m^3]\n",
            "      PhaseFraction                              1E0        [mole fraction]\n",
            "          MolarMass      4.401E1             4.401E1              [kg/kmol]\n",
            "           Z factor                       9.87389E-1                    [-]\n",
            " Heat Capacity (Cp)                       7.76013E-1              [kJ/kg*K]\n",
            " Heat Capacity (Cv)                       5.78087E-1              [kJ/kg*K]\n",
            "     Speed of Sound                        2.32839E2                [m/sec]\n",
            "           Enthalpy   -4.40932E1          -4.40932E1                [kJ/kg]\n",
            "            Entropy  -1.75449E-1         -1.75449E-1              [kJ/kg*K]\n",
            "     JT coefficient                        1.93443E0                [K/bar]\n",
            "                                                                           \n",
            "          Viscosity                       1.14342E-5             [kg/m*sec]\n",
            "       Conductivity                       1.25585E-2                [W/m*K]\n",
            "     SurfaceTension                                                   [N/m]\n",
            "                                                                           \n",
            "                                                                           \n",
            "                                                                           \n",
            "           Pressure                              1.0                  [bar]\n",
            "        Temperature               219.29879042562175                    [K]\n",
            "                                                                           \n",
            "              Model                          SRK-EOS                      -\n",
            "        Mixing Rule                       no (kij=0)                      -\n",
            "                                                                           \n",
            "             Stream                                                       -\n",
            "                                                                           \n",
            "                                                                           \n",
            "                                                                           \n",
            "                                                                           \n",
            "temperature after deprezurization  -53.85120957437823  C\n"
          ],
          "name": "stdout"
        }
      ]
    }
  ]
}