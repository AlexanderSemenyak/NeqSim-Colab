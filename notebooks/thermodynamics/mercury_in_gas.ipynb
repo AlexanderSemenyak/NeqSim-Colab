{
  "nbformat": 4,
  "nbformat_minor": 0,
  "metadata": {
    "colab": {
      "name": "mercury in gas.ipynb",
      "version": "0.3.2",
      "provenance": [],
      "collapsed_sections": [],
      "include_colab_link": true
    },
    "kernelspec": {
      "name": "python3",
      "display_name": "Python 3"
    }
  },
  "cells": [
    {
      "cell_type": "markdown",
      "metadata": {
        "id": "view-in-github",
        "colab_type": "text"
      },
      "source": [
        "<a href=\"https://colab.research.google.com/github/EvenSol/NeqSim-Colab/blob/master/notebooks/thermodynamics/mercury_in_gas.ipynb\" target=\"_parent\"><img src=\"https://colab.research.google.com/assets/colab-badge.svg\" alt=\"Open In Colab\"/></a>"
      ]
    },
    {
      "metadata": {
        "id": "9zm3luRxnQXr",
        "colab_type": "code",
        "cellView": "form",
        "colab": {}
      },
      "cell_type": "code",
      "source": [
        "#@title Calculation of mercury in natural gas\n",
        "#@markdown Demonstration of calculations of mercury in natural gas \n",
        "%%capture\n",
        "!pip install py4j\n",
        "!pip install --upgrade -q gspread\n",
        "!rm -rf testneqsim\n",
        "!git clone https://github.com/EvenSol/NeqSim-Colab.git\n",
        "!cd NeqSim-Colab\n",
        "!pip install NeqSim-Colab/lib/neqsim-0.0.1-py3-none-any.whl\n",
        "import neqsim\n",
        "from neqsim.thermo.thermoTools import *\n",
        "import matplotlib\n",
        "import numpy as np\n",
        "import matplotlib.pyplot as plt\n",
        "import math\n",
        "%matplotlib inline"
      ],
      "execution_count": 0,
      "outputs": []
    },
    {
      "metadata": {
        "id": "mruccT7JaGZT",
        "colab_type": "code",
        "cellView": "form",
        "outputId": "9b42d817-4d8b-492d-f907-e286e8ab27b2",
        "colab": {
          "base_uri": "https://localhost:8080/",
          "height": 421
        }
      },
      "cell_type": "code",
      "source": [
        "#@title Introduction to Mercury\n",
        "#@markdown This video gives an intriduction to behavour of mercury as function of pressure and temperature\n",
        "from IPython.display import YouTubeVideo\n",
        "YouTubeVideo('ZiWlthrtneU', width=600, height=400)"
      ],
      "execution_count": 1,
      "outputs": [
        {
          "output_type": "execute_result",
          "data": {
            "text/html": [
              "\n",
              "        <iframe\n",
              "            width=\"600\"\n",
              "            height=\"400\"\n",
              "            src=\"https://www.youtube.com/embed/ZiWlthrtneU\"\n",
              "            frameborder=\"0\"\n",
              "            allowfullscreen\n",
              "        ></iframe>\n",
              "        "
            ],
            "text/plain": [
              "<IPython.lib.display.YouTubeVideo at 0x7f54bb5a22e8>"
            ],
            "image/jpeg": "[encoded data removed]"
          },
          "metadata": {
            "tags": []
          },
          "execution_count": 1
        }
      ]
    },
    {
      "metadata": {
        "id": "PDd0WZz9jB-s",
        "colab_type": "text"
      },
      "cell_type": "markdown",
      "source": [
        "# Calculation of boiling point of mercury\n",
        "\n",
        "In the following example we use PR/SRK to claculate the boiling point of mercury"
      ]
    },
    {
      "metadata": {
        "id": "XmRyGw9WnemV",
        "colab_type": "code",
        "outputId": "e179d8c4-10a3-430a-d2ba-a01baff9a1c1",
        "colab": {
          "base_uri": "https://localhost:8080/",
          "height": 330
        },
        "cellView": "form"
      },
      "cell_type": "code",
      "source": [
        "camponentName = \"mercury\"\n",
        "eos = \"srk\" #@param [\"srk\", \"pr\"]\n",
        "fluid1 = fluid(eos) #create a fluid using the SRK-EoS\n",
        "fluid1.addComponent(camponentName, 1.0) #adding 1 mole methane to the fluid\n",
        "\n",
        "TTrip = fluid1.getPhase(0).getComponent(camponentName).getTriplePointTemperature()\n",
        "PTrip = fluid1.getPhase(0).getComponent(camponentName).getTriplePointPressure()\n",
        "Tcritical = fluid1.getPhase(0).getComponent(camponentName).getTC()\n",
        "Pcritical = fluid1.getPhase(0).getComponent(camponentName).getPC()\n",
        "\n",
        "fluid1.setTemperature(TTrip)\n",
        "fluid1.setPressure(PTrip)\n",
        "print('triple point temperature ', TTrip, \"[K] and pressure \", PTrip, \"[bara]\")\n",
        "print('critical temperature ', Tcritical, \"[K] and pressure \", Pcritical, \"[bara]\")\n",
        "\n",
        "def bubleP(pressure):\n",
        "    fluid1.setPressure(pressure)\n",
        "    bubt(fluid1)\n",
        "    return fluid1.getTemperature('C')\n",
        "\n",
        "pressure = np.arange(PTrip, Pcritical-15.0, 1.0)\n",
        "temperature = [bubleP(P) for P in pressure]\n",
        "\n",
        "plt.plot(temperature, pressure);\n",
        "plt.yscale('log')\n",
        "plt.xlabel('Temperature [C]');\n",
        "plt.ylabel('Pressure [bara]');"
      ],
      "execution_count": 6,
      "outputs": [
        {
          "output_type": "stream",
          "text": [
            "triple point temperature  250.0 [K] and pressure  3.97e-05 [bara]\n",
            "critical temperature  1735.15 [K] and pressure  1608.0 [bara]\n",
            "error calculating bublepoint\n"
          ],
          "name": "stdout"
        },
        {
          "output_type": "display_data",
          "data": {
            "image/png": "[encoded data removed]",
            "text/plain": [
              "<Figure size 432x288 with 1 Axes>"
            ]
          },
          "metadata": {
            "tags": []
          }
        }
      ]
    },
    {
      "metadata": {
        "id": "_NBQYd6h5lip",
        "colab_type": "text"
      },
      "cell_type": "markdown",
      "source": [
        "# A TPflash with mercury\n",
        "\n",
        "Calculate the composition of a fluid including mercury"
      ]
    },
    {
      "metadata": {
        "id": "C0-TETkB58hU",
        "colab_type": "code",
        "outputId": "a390be11-0594-4ec2-d26f-f44970c2bb8d",
        "colab": {
          "base_uri": "https://localhost:8080/",
          "height": 34
        },
        "cellView": "form"
      },
      "cell_type": "code",
      "source": [
        "componentName = \"methane\" #@param [\"methane\", \"ethane\", \"propane\", \"CO2\", \"nitrogen\"]\n",
        "temperature = 55.0   #@param {type:\"number\"}\n",
        "pressure = 10.0 #@param {type:\"number\"}\n",
        "\n",
        "\n",
        "# Creating a fluid in neqsim\n",
        "fluid1 = fluid('srk') #create a fluid using the SRK-EoS\n",
        "fluid1.addComponent(componentName, 1.0) \n",
        "fluid1.addComponent('mercury', 1.0)\n",
        "fluid1.setTemperature(temperature)\n",
        "fluid1.setPressure(pressure)\n",
        "fluid1.setMultiPhaseCheck(True)\n",
        "\n",
        "fluid1.setTemperature(temperature+273.15)\n",
        "fluid1.setPressure(pressure)\n",
        "TPflash(fluid1)\n",
        "fluid1.initPhysicalProperties()\n",
        "print('mercury in ', fluid1.getPhase(0).getPhaseTypeName(), ' ',fluid1.getPhase(0).getComponent(0).getComponentName(), ' ', fluid1.getPhase(0).getComponent('mercury').getx())"
      ],
      "execution_count": 29,
      "outputs": [
        {
          "output_type": "stream",
          "text": [
            "mercury in  gas   methane   7.573992808703628e-07\n"
          ],
          "name": "stdout"
        }
      ]
    }
  ]
}