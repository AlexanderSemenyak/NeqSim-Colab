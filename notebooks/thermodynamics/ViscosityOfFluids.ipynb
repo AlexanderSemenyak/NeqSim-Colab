{
  "nbformat": 4,
  "nbformat_minor": 0,
  "metadata": {
    "colab": {
      "name": "ViscosityOfFluids.ipynb",
      "provenance": [],
      "collapsed_sections": [],
      "include_colab_link": true
    },
    "kernelspec": {
      "name": "python3",
      "display_name": "Python 3"
    }
  },
  "cells": [
    {
      "cell_type": "markdown",
      "metadata": {
        "id": "view-in-github",
        "colab_type": "text"
      },
      "source": [
        "<a href=\"https://colab.research.google.com/github/EvenSol/NeqSim-Colab/blob/master/notebooks/thermodynamics/ViscosityOfFluids.ipynb\" target=\"_parent\"><img src=\"https://colab.research.google.com/assets/colab-badge.svg\" alt=\"Open In Colab\"/></a>"
      ]
    },
    {
      "cell_type": "code",
      "metadata": {
        "id": "c7oLiYgcEV2Y",
        "colab_type": "code",
        "cellView": "form",
        "colab": {}
      },
      "source": [
        "#@title Viscosity of Fluids\n",
        "#@markdown The viscosity of a fluid is a measure of its resistance to deformation at a given rate. For liquids, it corresponds to the informal concept of \"thickness\": for example, syrup has a higher viscosity than water.\n",
        "%%capture\n",
        "!pip install neqsim\n",
        "import neqsim\n",
        "from neqsim.thermo.thermoTools import *\n",
        "import matplotlib\n",
        "import numpy as np\n",
        "import matplotlib.pyplot as plt\n",
        "import math\n",
        "%matplotlib inline"
      ],
      "execution_count": 0,
      "outputs": []
    },
    {
      "cell_type": "code",
      "metadata": {
        "id": "9Kkz5ZeLEyRv",
        "colab_type": "code",
        "cellView": "form",
        "outputId": "5118a053-45c9-4e65-d372-5b25cd652646",
        "colab": {
          "base_uri": "https://localhost:8080/",
          "height": 421
        }
      },
      "source": [
        "#@title  Introduction to Viscosity\n",
        "#@markdown What is viscosity?\n",
        "from IPython.display import YouTubeVideo\n",
        "YouTubeVideo('Q7VZh0dI35M', width=600, height=400)"
      ],
      "execution_count": 4,
      "outputs": [
        {
          "output_type": "execute_result",
          "data": {
            "text/html": [
              "\n",
              "        <iframe\n",
              "            width=\"600\"\n",
              "            height=\"400\"\n",
              "            src=\"https://www.youtube.com/embed/Q7VZh0dI35M\"\n",
              "            frameborder=\"0\"\n",
              "            allowfullscreen\n",
              "        ></iframe>\n",
              "        "
            ],
            "text/plain": [
              "<IPython.lib.display.YouTubeVideo at 0x7f90719a73c8>"
            ],
            "image/jpeg": "[encoded data removed]"
          },
          "metadata": {
            "tags": []
          },
          "execution_count": 4
        }
      ]
    },
    {
      "cell_type": "markdown",
      "metadata": {
        "id": "vT1Qy8vlRuDf",
        "colab_type": "text"
      },
      "source": [
        "## Viscosity of gases\n",
        "The viscosity of a gas can be thought of as a measure of its resistance to flow and is measured in the CGS unit Poise = dyne sec/cm2. The viscosity of gases near room temperature are in the centiPoise range, so that is a commonly used unit. Gas viscosity is only weakly dependent on pressure near atmospheric pressure.\n",
        "\n",
        "https://en.wikipedia.org/wiki/Viscosity_models_for_mixtures"
      ]
    },
    {
      "cell_type": "code",
      "metadata": {
        "id": "PzWrasHBWB3X",
        "colab_type": "code",
        "colab": {
          "base_uri": "https://localhost:8080/",
          "height": 102
        },
        "cellView": "both",
        "outputId": "43777331-e8b0-46ab-9e98-0152fc54ff5b"
      },
      "source": [
        "#@title Selecting viscosity models for gas mixtures in NeqSim\n",
        "#@markdown The following script calcluates the viscosity of methane/ethane using SRK in NeqSim using different methods for viscosity calculation.\n",
        "\n",
        "fluid1 = fluid('srk')\n",
        "fluid1.addComponent('methane', 0.5)\n",
        "fluid1.addComponent('ethane', 0.5)\n",
        "fluid1.setTemperature(25.0, 'C')\n",
        "fluid1.setPressure(42.0, 'bara')\n",
        "TPflash(fluid1)\n",
        "\n",
        "method = \"friction theory\"\n",
        "fluid1.getPhase('gas').getPhysicalProperties().setViscosityModel(method)\n",
        "fluid1.initProperties()\n",
        "print(\"gas viscosity \", fluid1.getViscosity('cP'), \" cP \", \" metod: \", method)\n",
        "\n",
        "method = \"LBC\"\n",
        "fluid1.getPhase('gas').getPhysicalProperties().setViscosityModel(method)\n",
        "fluid1.initProperties()\n",
        "print(\"gas viscosity \", fluid1.getViscosity('cP'), \" cP \", \" metod: \", method)\n",
        "\n",
        "method = \"PFCT\"\n",
        "fluid1.getPhase('gas').getPhysicalProperties().setViscosityModel(method)\n",
        "fluid1.initProperties()\n",
        "print(\"gas viscosity \", fluid1.getViscosity('cP'), \" cP \", \" metod: \", method)\n",
        "\n",
        "method = \"PFCT-Heavy-Oil\"\n",
        "fluid1.getPhase('gas').getPhysicalProperties().setViscosityModel(method)\n",
        "fluid1.initProperties()\n",
        "print(\"gas viscosity \", fluid1.getViscosity('cP'), \" cP \", \" metod: \", method)\n",
        "\n",
        "method = \"polynom\"\n",
        "fluid1.getPhase('gas').getPhysicalProperties().setViscosityModel(method)\n",
        "fluid1.initProperties()\n",
        "print(\"gas viscosity \", fluid1.getViscosity('cP'), \" cP \", \" metod: \", method)"
      ],
      "execution_count": 18,
      "outputs": [
        {
          "output_type": "stream",
          "text": [
            "methane viscosity  0.011123455701169816  cP   metod:  friction theory\n",
            "methane viscosity  0.011460928467152952  cP   metod:  LBC\n",
            "methane viscosity  0.011848511832603428  cP   metod:  PFCT\n",
            "methane viscosity  0.011848511832603428  cP   metod:  PFCT-Heavy-Oil\n",
            "methane viscosity  0.09117303370997942  cP   metod:  polynom\n"
          ],
          "name": "stdout"
        }
      ]
    },
    {
      "cell_type": "code",
      "metadata": {
        "id": "2zDwU8KjY9jF",
        "colab_type": "code",
        "colab": {
          "base_uri": "https://localhost:8080/",
          "height": 102
        },
        "outputId": "99397a54-5ba0-4e13-a9a2-c3bbc0624a4f"
      },
      "source": [
        "#@title Selecting viscosity models for oil mixtures in NeqSim\n",
        "#@markdown The following script calcluates the viscosity of methane/ethane using SRK in NeqSim using different methods for viscosity calculation.\n",
        "\n",
        "fluid1 = fluid('srk')\n",
        "fluid1.addComponent('n-heptane', 1.0)\n",
        "fluid1.setTemperature(25.0, 'C')\n",
        "fluid1.setPressure(4.0, 'bara')\n",
        "TPflash(fluid1)\n",
        "fluid1.initProperties()\n",
        "method = \"friction theory\"\n",
        "\n",
        "fluid1.getPhase(0).getPhysicalProperties().setViscosityModel(method)\n",
        "fluid1.initProperties()\n",
        "print(\"oil viscosity \", fluid1.getViscosity('cP'), \" cP \", \" metod: \", method)\n",
        "\n",
        "method = \"LBC\"\n",
        "fluid1.getPhase('oil').getPhysicalProperties().setViscosityModel(method)\n",
        "fluid1.initProperties()\n",
        "print(\"oil viscosity \", fluid1.getViscosity('cP'), \" cP \", \" metod: \", method)\n",
        "\n",
        "method = \"PFCT\"\n",
        "fluid1.getPhase('oil').getPhysicalProperties().setViscosityModel(method)\n",
        "fluid1.initProperties()\n",
        "print(\"oil viscosity \", fluid1.getViscosity('cP'), \" cP \", \" metod: \", method)\n",
        "\n",
        "method = \"PFCT-Heavy-Oil\"\n",
        "fluid1.getPhase('oil').getPhysicalProperties().setViscosityModel(method)\n",
        "fluid1.initProperties()\n",
        "print(\"oil viscosity \", fluid1.getViscosity('cP'), \" cP \", \" metod: \", method)\n",
        "\n",
        "method = \"polynom\"\n",
        "fluid1.getPhase('oil').getPhysicalProperties().setViscosityModel(method)\n",
        "fluid1.initProperties()\n",
        "print(\"oil viscosity \", fluid1.getViscosity('cP'), \" cP \", \" metod: \", method)"
      ],
      "execution_count": 29,
      "outputs": [
        {
          "output_type": "stream",
          "text": [
            "oil viscosity  0.3936903160651968  cP   metod:  friction theory\n",
            "oil viscosity  0.48626839717471015  cP   metod:  LBC\n",
            "oil viscosity  0.43844268847553475  cP   metod:  PFCT\n",
            "oil viscosity  0.43844268847553475  cP   metod:  PFCT-Heavy-Oil\n",
            "oil viscosity  0.9189777392752309  cP   metod:  polynom\n"
          ],
          "name": "stdout"
        }
      ]
    }
  ]
}