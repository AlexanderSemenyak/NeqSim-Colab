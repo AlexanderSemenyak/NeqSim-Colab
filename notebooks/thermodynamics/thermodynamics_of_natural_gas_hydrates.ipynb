{
  "nbformat": 4,
  "nbformat_minor": 0,
  "metadata": {
    "colab": {
      "name": "thermodynamics of natural gas hydrates.ipynb",
      "version": "0.3.2",
      "provenance": [],
      "include_colab_link": true
    },
    "kernelspec": {
      "name": "python3",
      "display_name": "Python 3"
    }
  },
  "cells": [
    {
      "cell_type": "markdown",
      "metadata": {
        "id": "view-in-github",
        "colab_type": "text"
      },
      "source": [
        "<a href=\"https://colab.research.google.com/github/EvenSol/NeqSim-Colab/blob/master/notebooks/thermodynamics/thermodynamics_of_natural_gas_hydrates.ipynb\" target=\"_parent\"><img src=\"https://colab.research.google.com/assets/colab-badge.svg\" alt=\"Open In Colab\"/></a>"
      ]
    },
    {
      "cell_type": "code",
      "metadata": {
        "id": "z5yQ2_flTJf4",
        "colab_type": "code",
        "cellView": "form",
        "colab": {}
      },
      "source": [
        "#@title Thermodynamics of natural gas hydrates\n",
        "#@markdown Demonstration of calulcations related to natura gas hydrates\n",
        "%%capture\n",
        "!git clone https://github.com/EvenSol/NeqSim-Colab.git\n",
        "!pip install NeqSim-Colab/lib/neqsim-*.whl"
      ],
      "execution_count": 0,
      "outputs": []
    },
    {
      "cell_type": "code",
      "metadata": {
        "id": "pEogrHASTaDf",
        "colab_type": "code",
        "cellView": "form",
        "colab": {}
      },
      "source": [
        "#@title Import packages\n",
        "#@markdown Imports packages such as neqsim, numpy, matplotlib etc.\n",
        "%%capture\n",
        "import neqsim\n",
        "import time\n",
        "time.sleep(3)\n",
        "from neqsim.thermo.thermoTools import *\n",
        "import matplotlib\n",
        "import numpy as np\n",
        "import matplotlib.pyplot as plt\n",
        "import math\n",
        "%matplotlib inline"
      ],
      "execution_count": 0,
      "outputs": []
    },
    {
      "cell_type": "code",
      "metadata": {
        "id": "TGHHHMzUTuwL",
        "colab_type": "code",
        "outputId": "0b09fc7f-bc31-4a29-e8e8-a4feb326a404",
        "cellView": "form",
        "colab": {
          "base_uri": "https://localhost:8080/",
          "height": 421
        }
      },
      "source": [
        "#@title Introduction to Natural gas hydrates\n",
        "#@markdown This video gives an intriduction to natural gas hydrates\n",
        "from IPython.display import YouTubeVideo\n",
        "YouTubeVideo('U46XOoU0DrM', width=600, height=400)"
      ],
      "execution_count": 3,
      "outputs": [
        {
          "output_type": "execute_result",
          "data": {
            "text/html": [
              "\n",
              "        <iframe\n",
              "            width=\"600\"\n",
              "            height=\"400\"\n",
              "            src=\"https://www.youtube.com/embed/U46XOoU0DrM\"\n",
              "            frameborder=\"0\"\n",
              "            allowfullscreen\n",
              "        ></iframe>\n",
              "        "
            ],
            "text/plain": [
              "<IPython.lib.display.YouTubeVideo at 0x7fc6620e5f28>"
            ],
            "image/jpeg": "[encoded data removed]"
          },
          "metadata": {
            "tags": []
          },
          "execution_count": 3
        }
      ]
    },
    {
      "cell_type": "markdown",
      "metadata": {
        "id": "rAN8nWw9T_cm",
        "colab_type": "text"
      },
      "source": [
        "#Hydrate calculations¶\n",
        "##How to find the hydrate equilibrium temperature\n",
        "Hydrate temperatures can be found ..."
      ]
    },
    {
      "cell_type": "code",
      "metadata": {
        "id": "q603vt7RUAqA",
        "colab_type": "code",
        "outputId": "7fc2f4d1-242c-40e9-b962-c40e1accf794",
        "colab": {
          "base_uri": "https://localhost:8080/",
          "height": 35
        },
        "cellView": "form"
      },
      "source": [
        "pressure = 150.0 #@param {type:\"number\"}\n",
        "nitrogen = 1.5 #@param {type:\"number\"}\n",
        "CO2 = 2.5 #@param {type:\"number\"}\n",
        "methane = 95.0  #@param {type:\"number\"}\n",
        "ethane = 5.0  #@param {type:\"number\"}\n",
        "propane =  2.5 #@param {type:\"number\"}\n",
        "ibutane =  1.25 #@param {type:\"number\"}\n",
        "nbutane =  1.25 #@param {type:\"number\"}\n",
        "water =  10.25 #@param {type:\"number\"}\n",
        "\n",
        "fluid1 = fluid('srk')\n",
        "fluid1.addComponent(\"nitrogen\", nitrogen)\n",
        "fluid1.addComponent(\"CO2\", CO2)\n",
        "fluid1.addComponent(\"methane\", methane)\n",
        "fluid1.addComponent(\"ethane\", ethane)\n",
        "fluid1.addComponent(\"propane\", propane)\n",
        "fluid1.addComponent(\"i-butane\", ibutane)\n",
        "fluid1.addComponent(\"n-butane\", nbutane)\n",
        "fluid1.addComponent(\"water\", water\n",
        "fluid1.setHydrateCheck(True);\n",
        "thermoOps = neqsim.thermodynamicOperations.ThermodynamicOperations(fluid1)\n",
        "thermoOps.hydrateFormationTemperature()\n",
        "\n",
        "print(\"Hydrate equilibrium temperature \", fluid1.getTemperature()-273.15, \" C\")"
      ],
      "execution_count": 4,
      "outputs": [
        {
          "output_type": "stream",
          "text": [
            "Hydrate equilibrium temperature  0.35540000000003147  C\n"
          ],
          "name": "stdout"
        }
      ]
    },
    {
      "cell_type": "markdown",
      "metadata": {
        "id": "-PPfU9CMJxdO",
        "colab_type": "text"
      },
      "source": [
        "##How to draw the hydrate equilibrium line\n",
        "A hydrate equilibrium line is drawn by calculating a sequence of hydrate equilibrium temperatures."
      ]
    },
    {
      "cell_type": "code",
      "metadata": {
        "id": "O0er7vo0KWdO",
        "colab_type": "code",
        "outputId": "45444717-683a-472c-bc70-a637989ea222",
        "colab": {
          "base_uri": "https://localhost:8080/",
          "height": 301
        },
        "cellView": "form"
      },
      "source": [
        "minPressure = 50.0 #@param {type:\"number\"}\n",
        "maxPressure = 150.0 #@param {type:\"number\"}\n",
        "nitrogen = 1.5 #@param {type:\"number\"}\n",
        "CO2 = 2.5 #@param {type:\"number\"}\n",
        "methane = 95.0  #@param {type:\"number\"}\n",
        "ethane = 5.0  #@param {type:\"number\"}\n",
        "propane =  2.5 #@param {type:\"number\"}\n",
        "ibutane =  1.25 #@param {type:\"number\"}\n",
        "nbutane =  1.25 #@param {type:\"number\"}\n",
        "water =  10.0 #@param {type:\"number\"}\n",
        "\n",
        "fluid1 = fluid('cpa')\n",
        "fluid1.addComponent(\"nitrogen\", nitrogen)\n",
        "fluid1.addComponent(\"CO2\", CO2)\n",
        "fluid1.addComponent(\"methane\", methane)\n",
        "fluid1.addComponent(\"ethane\", ethane)\n",
        "fluid1.addComponent(\"propane\", propane)\n",
        "fluid1.addComponent(\"i-butane\", ibutane)\n",
        "fluid1.addComponent(\"n-butane\", nbutane)\n",
        "fluid1.addComponent(\"water\", water)\n",
        "\n",
        "fluid1.setHydrateCheck(True);\n",
        "fluid1.setTemperature(280.0)\n",
        "thermoOps = neqsim.thermodynamicOperations.ThermodynamicOperations(fluid1)\n",
        "\n",
        "def hydrateEqTemp(pressure):\n",
        "    fluid1.setPressure(pressure)\n",
        "    thermoOps.hydrateFormationTemperature()\n",
        "    return fluid1.getTemperature()-273.15\n",
        "\n",
        "pressure = np.arange(minPressure, maxPressure, 10.0)\n",
        "temperature = [hydrateEqTemp(P) for P in pressure]\n",
        "\n",
        "plt.plot(temperature, pressure)\n",
        "plt.xlabel('Temperature [C]')\n",
        "plt.ylabel('Pressure [bara]')"
      ],
      "execution_count": 7,
      "outputs": [
        {
          "output_type": "execute_result",
          "data": {
            "text/plain": [
              "Text(0, 0.5, 'Pressure [bara]')"
            ]
          },
          "metadata": {
            "tags": []
          },
          "execution_count": 7
        },
        {
          "output_type": "display_data",
          "data": {
            "image/png": "[encoded data removed]",
            "text/plain": [
              "<Figure size 432x288 with 1 Axes>"
            ]
          },
          "metadata": {
            "tags": []
          }
        }
      ]
    }
  ]
}