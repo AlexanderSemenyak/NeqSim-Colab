{
  "nbformat": 4,
  "nbformat_minor": 0,
  "metadata": {
    "colab": {
      "name": "ThermodynamicsOfMineralScale.ipynb",
      "provenance": [],
      "collapsed_sections": [],
      "include_colab_link": true
    },
    "kernelspec": {
      "name": "python3",
      "display_name": "Python 3"
    }
  },
  "cells": [
    {
      "cell_type": "markdown",
      "metadata": {
        "id": "view-in-github",
        "colab_type": "text"
      },
      "source": [
        "<a href=\"https://colab.research.google.com/github/EvenSol/NeqSim-Colab/blob/master/notebooks/thermodynamics/ThermodynamicsOfMineralScale.ipynb\" target=\"_parent\"><img src=\"https://colab.research.google.com/assets/colab-badge.svg\" alt=\"Open In Colab\"/></a>"
      ]
    },
    {
      "cell_type": "code",
      "metadata": {
        "id": "c7oLiYgcEV2Y",
        "colab_type": "code",
        "cellView": "form",
        "colab": {}
      },
      "source": [
        "#@title Thermodynamics of mineral scale formation\n",
        "#@markdown This notebook describes mineral scale formation in oil and gas production.\n",
        "%%capture\n",
        "!git clone https://github.com/EvenSol/NeqSim-Colab.git\n",
        "!cd NeqSim-Colab\n",
        "!pip install NeqSim-Colab/lib/neqsim-*.whl\n",
        "import neqsim\n",
        "from neqsim.thermo.thermoTools import *\n",
        "import matplotlib\n",
        "import numpy as np\n",
        "import matplotlib.pyplot as plt\n",
        "import math\n",
        "%matplotlib inline"
      ],
      "execution_count": 0,
      "outputs": []
    },
    {
      "cell_type": "code",
      "metadata": {
        "id": "9Kkz5ZeLEyRv",
        "colab_type": "code",
        "cellView": "form",
        "colab": {}
      },
      "source": [
        "#@title Fundamentals of Scale Formation\n",
        "#@markdown This video gives an introduction to mineral scale in oil and gas production\n",
        "#@markdown  https://www.youtube.com/watch?v=-ssdObbztqA&t=850s\n"
      ],
      "execution_count": 0,
      "outputs": []
    },
    {
      "cell_type": "code",
      "metadata": {
        "id": "EeJ3zgxwP9mv",
        "colab_type": "code",
        "cellView": "both",
        "colab": {
          "base_uri": "https://localhost:8080/",
          "height": 34
        },
        "outputId": "469c4e43-fb63-4b00-9206-e5d1ce9ae442"
      },
      "source": [
        "#@title  Calculation of mineral scale in oil and gas production\n",
        "#@markdown Introduction and descirption of the calculation.......\n",
        "#@markdown Documentation of how to use form.......\n",
        "#@markdown Script is replaced with new code... \n",
        "\n",
        "from neqsim.thermo import fluid, TPflash\n",
        "nitrogen = 1.0 #@param {type:\"number\"}\n",
        "CO2 = 1.1 #@param {type:\"number\"}\n",
        "methane = 88.3  #@param {type:\"number\"}\n",
        "ethane = 5.0  #@param {type:\"number\"}\n",
        "propane =  1.5 #@param {type:\"number\"}\n",
        "water =  1.25 #@param {type:\"number\"}\n",
        "Naplus =  0.025 #@param {type:\"number\"}\n",
        "Clminus =  0.025 #@param {type:\"number\"}\n",
        "Caplus =  0.00025 #@param {type:\"number\"}\n",
        "Feplus =  0.00025 #@param {type:\"number\"}\n",
        "OHminus =  0.00025 #@param {type:\"number\"}\n",
        "\n",
        "fluid1 = fluid('cpa')\n",
        "fluid1.addComponent(\"nitrogen\", nitrogen)\n",
        "fluid1.addComponent(\"CO2\", CO2)\n",
        "fluid1.addComponent(\"methane\", methane)\n",
        "fluid1.addComponent(\"ethane\", ethane)\n",
        "fluid1.addComponent(\"propane\", propane)\n",
        "fluid1.addComponent(\"water\", water,\"kg/sec\")\n",
        "fluid1.addComponent(\"Na+\", Naplus,\"mol/sec\")\n",
        "fluid1.addComponent(\"Cl-\", Clminus,\"mol/sec\")\n",
        "fluid1.addComponent(\"Ca++\", Caplus,\"mol/sec\")\n",
        "fluid1.addComponent(\"Fe++\", Feplus,\"mol/sec\")\n",
        "fluid1.addComponent(\"OH-\", OHminus,\"mol/sec\")\n",
        "fluid1.chemicalReactionInit()\n",
        "fluid1.setMixingRule('10')\n",
        "\n",
        "\n",
        "TPflash(fluid1)\n",
        "\n",
        "print(\"pH of water \",fluid1.getPhase(\"aqueous\").getpH())\n",
        "#testOps.checkScalePotential(fluid1.getPhaseNumberOfPhase(\"aqueous\"));"
      ],
      "execution_count": 17,
      "outputs": [
        {
          "output_type": "stream",
          "text": [
            "pH of water  8.832454857012621\n"
          ],
          "name": "stdout"
        }
      ]
    }
  ]
}