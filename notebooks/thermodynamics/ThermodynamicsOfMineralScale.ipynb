{
  "nbformat": 4,
  "nbformat_minor": 0,
  "metadata": {
    "colab": {
      "name": "ThermodynamicsOfMineralScale.ipynb",
      "provenance": [],
      "collapsed_sections": [],
      "include_colab_link": true
    },
    "kernelspec": {
      "name": "python3",
      "display_name": "Python 3"
    }
  },
  "cells": [
    {
      "cell_type": "markdown",
      "metadata": {
        "id": "view-in-github",
        "colab_type": "text"
      },
      "source": [
        "<a href=\"https://colab.research.google.com/github/EvenSol/NeqSim-Colab/blob/master/notebooks/thermodynamics/ThermodynamicsOfMineralScale.ipynb\" target=\"_parent\"><img src=\"https://colab.research.google.com/assets/colab-badge.svg\" alt=\"Open In Colab\"/></a>"
      ]
    },
    {
      "cell_type": "code",
      "metadata": {
        "id": "c7oLiYgcEV2Y",
        "colab_type": "code",
        "cellView": "form",
        "colab": {}
      },
      "source": [
        "#@title Thermodynamics of mineral scale formation\n",
        "#@markdown This notebook describes mineral scale formation in oil and gas production.\n",
        "%%capture\n",
        "!pip install neqsim\n",
        "import neqsim\n",
        "from neqsim.thermo.thermoTools import *\n",
        "import matplotlib\n",
        "import numpy as np\n",
        "import matplotlib.pyplot as plt\n",
        "import math\n",
        "%matplotlib inline"
      ],
      "execution_count": 0,
      "outputs": []
    },
    {
      "cell_type": "code",
      "metadata": {
        "id": "9Kkz5ZeLEyRv",
        "colab_type": "code",
        "cellView": "form",
        "colab": {}
      },
      "source": [
        "#@title Fundamentals of Scale Formation\n",
        "#@markdown This video gives an introduction to mineral scale in oil and gas production\n",
        "#@markdown  https://www.youtube.com/watch?v=-ssdObbztqA&t=850s\n"
      ],
      "execution_count": 0,
      "outputs": []
    },
    {
      "cell_type": "code",
      "metadata": {
        "id": "EeJ3zgxwP9mv",
        "colab_type": "code",
        "cellView": "both",
        "outputId": "01f7f215-e1b9-4214-a205-a82782c390eb",
        "colab": {
          "base_uri": "https://localhost:8080/",
          "height": 1000
        }
      },
      "source": [
        "#@title  Calculation of mineral scale in oil and gas production\n",
        "\n",
        "from neqsim.thermo import fluid, TPflash, checkScalePotential\n",
        "nitrogen = 1.0 #@param {type:\"number\"}\n",
        "CO2 = 1.1 #@param {type:\"number\"}\n",
        "methane = 88.3  #@param {type:\"number\"}\n",
        "ethane = 5.0  #@param {type:\"number\"}\n",
        "propane =  1.5 #@param {type:\"number\"}\n",
        "water =  1.25 #@param {type:\"number\"}\n",
        "Naplus =  0.025 #@param {type:\"number\"}\n",
        "Clminus =  0.025 #@param {type:\"number\"}\n",
        "Caplus =  0.00025 #@param {type:\"number\"}\n",
        "Feplus =  0.00025 #@param {type:\"number\"}\n",
        "OHminus =  0.00025 #@param {type:\"number\"}\n",
        "\n",
        "fluid1 = fluid('Electrolyte-CPA-EoS')\n",
        "fluid1.addComponent(\"nitrogen\", nitrogen)\n",
        "fluid1.addComponent(\"CO2\", CO2)\n",
        "fluid1.addComponent(\"methane\", methane)\n",
        "fluid1.addComponent(\"ethane\", ethane)\n",
        "fluid1.addComponent(\"propane\", propane)\n",
        "fluid1.addComponent(\"water\", water,\"kg/sec\")\n",
        "fluid1.addComponent(\"Na+\", Naplus,\"mol/sec\")\n",
        "fluid1.addComponent(\"Cl-\", Clminus,\"mol/sec\")\n",
        "fluid1.addComponent(\"Ca++\", Caplus,\"mol/sec\")\n",
        "fluid1.addComponent(\"Fe++\", Feplus,\"mol/sec\")\n",
        "fluid1.addComponent(\"OH-\", OHminus,\"mol/sec\")\n",
        "fluid1.chemicalReactionInit()\n",
        "fluid1.setMixingRule(10)\n",
        "\n",
        "TPflash(fluid1)\n",
        "ionCompResults = calcIonComposition(fluid1)\n",
        "scaleResults = checkScalePotential(fluid1)\n",
        "\n",
        "print(\"pH of water \",fluid1.getPhase(\"aqueous\").getpH())\n",
        "\n",
        "import pandas\n",
        "printFrame(fluid1)\n",
        "print(pandas.DataFrame(ionCompResults))\n",
        "print(pandas.DataFrame(scaleResults))"
      ],
      "execution_count": 2,
      "outputs": [
        {
          "output_type": "stream",
          "text": [
            "pH of water  6.314056523403307\n",
            "                           total                          gas                      aqueous                     \n",
            "           nitrogen   6.01189E-3                   9.99339E-3                   5.74348E-8      [mole fraction]\n",
            "                CO2   6.61139E-3                   1.09859E-2                   6.18186E-6      [mole fraction]\n",
            "            methane    5.3085E-1                   8.82401E-1                   2.75111E-5      [mole fraction]\n",
            "             ethane   3.00594E-2                   4.99656E-2                    2.3353E-6      [mole fraction]\n",
            "            propane   9.01783E-3                     1.499E-2                   2.06048E-7      [mole fraction]\n",
            "              water   4.17144E-1                    3.1664E-2                   9.99197E-1      [mole fraction]\n",
            "                Na+   1.50297E-4                  3.77237E-44                   3.77237E-4      [mole fraction]\n",
            "                Cl-   1.50297E-4                  3.77237E-44                   3.77237E-4      [mole fraction]\n",
            "               Ca++   1.50297E-6                  3.77237E-46                   3.77237E-6      [mole fraction]\n",
            "               Fe++   1.50297E-6                  3.77237E-46                   3.77237E-6      [mole fraction]\n",
            "                OH-  1.27421E-10                  3.19819E-50                  3.19819E-10      [mole fraction]\n",
            "               H3O+   1.93329E-7                  4.85245E-47                   4.85245E-7      [mole fraction]\n",
            "              HCO3-   1.68377E-6                  4.22616E-46                   4.22616E-6      [mole fraction]\n",
            "              CO3--    6.2037E-9                  1.55709E-48                   1.55709E-8      [mole fraction]\n",
            "                                                                                                               \n",
            "            Density                                7.23175E-1                    1.00552E3             [kg/m^3]\n",
            "      PhaseFraction                                6.01584E-1                   3.98416E-1      [mole fraction]\n",
            "          MolarMass    1.78012E1                    1.76537E1                     1.8024E1            [kg/kmol]\n",
            "           Z factor                                9.97792E-1                   7.32669E-4                  [-]\n",
            " Heat Capacity (Cp)                                  2.1096E0                    3.64362E0            [kJ/kg*K]\n",
            " Heat Capacity (Cv)                                 1.63231E0                    3.27225E0            [kJ/kg*K]\n",
            "     Speed of Sound                                 4.25065E2                    1.71139E3              [m/sec]\n",
            "           Enthalpy   -9.28583E2                    5.04815E1                   -2.37654E3              [kJ/kg]\n",
            "            Entropy   -2.29202E0                   4.26695E-1                   -6.31279E0            [kJ/kg*K]\n",
            "     JT coefficient                                5.83989E-1                  -2.16945E-2              [K/bar]\n",
            "                                                                                                               \n",
            "          Viscosity                                1.11399E-5                   8.90937E-4           [kg/m*sec]\n",
            "       Conductivity                                3.26599E-2                   6.15021E-1              [W/m*K]\n",
            "     SurfaceTension                                7.60835E-2                   7.60835E-2                [N/m]\n",
            "                                                                                                               \n",
            "                                                                                                               \n",
            "                                                                                                               \n",
            "           Pressure                                   1.01325                      1.01325                [bar]\n",
            "        Temperature                                    298.15                       298.15                  [K]\n",
            "                                                                                                               \n",
            "              Model               Electrolyte-CPA-EOS-statoil  Electrolyte-CPA-EOS-statoil                    -\n",
            "        Mixing Rule                             classic-CPA_T                classic-CPA_T                    -\n",
            "                                                                                                               \n",
            "             Stream                                                                                           -\n",
            "                                                                                                               \n",
            "                                                                                                               \n",
            "                                                                                                               \n",
            "                                                                                                               \n",
            "            0               1             2           3\n",
            "0   Component  mmol/kgSolvent  mg/kgSolvent    Act.Coef\n",
            "1    nitrogen      0.00319073     0.0893835  9.21639E-7\n",
            "2         CO2        0.343426       15.1142     1.02448\n",
            "3     methane         1.52835       24.5193     1.02183\n",
            "4      ethane        0.129735       3.90113     1.02922\n",
            "5     propane       0.0114468      0.504767     1.03811\n",
            "6       water         55509.3     1000000.0     1.00003\n",
            "7         Na+          20.957       481.801    0.865822\n",
            "8         Cl-          20.957       742.926    0.876167\n",
            "9        Ca++         0.20957       8.39957     0.56333\n",
            "10       Fe++         0.20957       11.7045    0.562257\n",
            "11        OH-      1.77672E-5     3.0206E-4    0.875645\n",
            "12       H3O+       0.0269573      0.512727    0.862833\n",
            "13      HCO3-        0.234779       14.3215    0.873183\n",
            "14      CO3--      8.65025E-4      0.051886    0.560699\n",
            "15       None            None          None        None\n",
            "        0                      1 2\n",
            "0    Salt    relative solubility  \n",
            "1    NaCl   8.571285956928685E-6  \n",
            "2   FeCO3     3.7304334658773763  \n",
            "3   CaCO3    0.37311116241979986  \n",
            "4  Na2CO3  3.326634056617101E-12  \n",
            "5  NaHCO3    9.32069271892815E-6  \n",
            "6                                 \n",
            "7                                 \n",
            "8                                 \n",
            "9                                 \n"
          ],
          "name": "stdout"
        }
      ]
    }
  ]
}