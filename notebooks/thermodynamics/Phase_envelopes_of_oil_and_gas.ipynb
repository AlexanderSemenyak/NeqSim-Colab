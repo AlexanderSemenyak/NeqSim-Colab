{
  "nbformat": 4,
  "nbformat_minor": 0,
  "metadata": {
    "colab": {
      "name": "Phase envelopes of oil and gas.ipynb",
      "version": "0.3.2",
      "provenance": [],
      "private_outputs": true,
      "collapsed_sections": [],
      "include_colab_link": true
    },
    "kernelspec": {
      "name": "python3",
      "display_name": "Python 3"
    },
    "accelerator": "TPU"
  },
  "cells": [
    {
      "cell_type": "markdown",
      "metadata": {
        "id": "view-in-github",
        "colab_type": "text"
      },
      "source": [
        "<a href=\"https://colab.research.google.com/github/EvenSol/NeqSim-Colab/blob/master/notebooks/thermodynamics/Phase_envelopes_of_oil_and_gas.ipynb\" target=\"_parent\"><img src=\"https://colab.research.google.com/assets/colab-badge.svg\" alt=\"Open In Colab\"/></a>"
      ]
    },
    {
      "cell_type": "code",
      "metadata": {
        "id": "Yl8uCWTuQxbz",
        "colab_type": "code",
        "cellView": "form",
        "colab": {}
      },
      "source": [
        "#@title Phase enevelopes of oil and gas\n",
        "#@markdown Demonstration of phase envelopes of gas and oil. This notebook installs NeqSim and imports the nessesary packages, and then runs calculations in Python/Colab.\n",
        "%%capture\n",
        "!git clone https://github.com/EvenSol/NeqSim-Colab.git\n",
        "!pip install py4j\n",
        "!pip install NeqSim-Colab/lib/neqsim-*.whl\n",
        "import neqsim\n",
        "import time\n",
        "time.sleep(3)\n",
        "from neqsim.thermo.thermoTools import *\n",
        "import matplotlib\n",
        "import numpy as np\n",
        "import matplotlib.pyplot as plt\n",
        "import math\n",
        "%matplotlib inline"
      ],
      "execution_count": 0,
      "outputs": []
    },
    {
      "cell_type": "markdown",
      "metadata": {
        "id": "6K_ofC2tegok",
        "colab_type": "text"
      },
      "source": [
        "## Reservoir types\n",
        "A multicomponent mixture exhibits an envelope for liquid/vapor phase change in the pressure/temperature diagram, which contains a bubble-point line and a dew-point line, compared with only a phase change line for a pure component. The various reservoir types of oil and gas systems based on the phase behavior of hydrocarbons in the reservoir, in\n",
        "\n",
        "which the following five types of reservoirs are distinguished:\n",
        "\n",
        "Typical Phase Diagram of Hydrocarbons\n",
        "* Black oils;\n",
        "* Volatile oils;\n",
        "* Condensate (retrograde gases);\n",
        "* Wet gases;\n",
        "* Dry gases.\n",
        "\n",
        "The amount of heavier molecules in the hydrocarbon mixtures varies from large to small in the black oils to the dry gases, respectively."
      ]
    },
    {
      "cell_type": "code",
      "metadata": {
        "id": "7sTCtpppT13d",
        "colab_type": "code",
        "cellView": "form",
        "colab": {}
      },
      "source": [
        "#@title Introduction to Phase Envelopes\n",
        "#@markdown This video gives an intriduction to behavour phase envelopes and phase changes and why this is Important\n",
        "from IPython.display import YouTubeVideo\n",
        "YouTubeVideo('OUS-ER3eemI', width=600, height=400)"
      ],
      "execution_count": 0,
      "outputs": []
    },
    {
      "cell_type": "markdown",
      "metadata": {
        "id": "lYbdC4VWWe5t",
        "colab_type": "text"
      },
      "source": [
        "#Calculation of phase behaviour of single components\n",
        "A single component boils at constant temperature for a given pressure. This is represented by the boiling point line in a PT-diagram.\n",
        "\n",
        "In the form below we calculate the vapour pressure curve of a single component from the triple point temperature up to the critical point. SRK of PR-EoS can be used as basis for the calculations."
      ]
    },
    {
      "cell_type": "code",
      "metadata": {
        "id": "oydf8MnCW3he",
        "colab_type": "code",
        "cellView": "form",
        "colab": {}
      },
      "source": [
        "eosname = 'srk' #@param [\"srk\", \"pr\"]\n",
        "camponentName = \"methane\" #@param [\"methane\", \"ethane\", \"propane\", \"i-butane\", \"n-butane\"]\n",
        "fluid1 = fluid('eosname') #create a fluid using the SRK-EoS\n",
        "fluid1.addComponent(camponentName, 1.0) #adding 1 mole methane to the fluid\n",
        "\n",
        "TTrip = fluid1.getPhase(0).getComponent(camponentName).getTriplePointTemperature()\n",
        "PTrip = fluid1.getPhase(0).getComponent(camponentName).getTriplePointPressure()\n",
        "Tcritical = fluid1.getPhase(0).getComponent(camponentName).getTC()\n",
        "Pcritical = fluid1.getPhase(0).getComponent(camponentName).getPC()\n",
        "\n",
        "fluid1.setTemperature(TTrip)\n",
        "fluid1.setPressure(PTrip)\n",
        "print('triple point temperature ', TTrip, \"[K] and pressure \", PTrip, \"[bara]\")\n",
        "print('critical temperature ', Tcritical, \"[K] and pressure \", Pcritical, \"[bara]\")\n",
        "\n",
        "def bubleP(pressure):\n",
        "    fluid1.setPressure(pressure)\n",
        "    bubt(fluid1)\n",
        "    return fluid1.getTemperature('C')\n",
        "\n",
        "pressure = np.arange(PTrip, Pcritical-5.0, 1.0)\n",
        "temperature = [bubleP(P) for P in pressure]\n",
        "\n",
        "plt.plot(temperature, pressure);\n",
        "plt.xlabel('Temperature [C]');\n",
        "plt.ylabel('Pressure [bara]');"
      ],
      "execution_count": 0,
      "outputs": []
    },
    {
      "cell_type": "markdown",
      "metadata": {
        "id": "9kHPIQ1LcmDm",
        "colab_type": "text"
      },
      "source": [
        "#Calculation of Px diagram of binary mixtures\n",
        "Calculation of VLE phase diagrams of binary mixtures. In a P-x diagram, the bubble point and dew point curves bound the two-phase region at its top and its bottom, respectively. The single-phase liquid region is found at high pressures; the single-phase vapor region is found at low pressures. In the T-x diagram (Figure 5.4), this happens in the reverse order; vapor is found at high temperatures and liquid at low temperatures. Consequently, the bubble point and dew point curve are found at the bottom and the top of the two-phase region, respectively.\n",
        "\n",
        "\n",
        "In the form below you can calculate the PX and TX diagram of a binary fluid. Select two components, the pressure of the TX diagram and the temperature of  the PX diagram."
      ]
    },
    {
      "cell_type": "code",
      "metadata": {
        "id": "2WbgRP91c3z3",
        "colab_type": "code",
        "cellView": "form",
        "colab": {}
      },
      "source": [
        "bubtemp = []\n",
        "dewtemp = []\n",
        "\n",
        "bubpres = []\n",
        "dewpres = []\n",
        "\n",
        "x = []\n",
        "y = []\n",
        "x2 = []\n",
        "y2 = []\n",
        "comp1 = \"propane\" #@param [\"methane\", \"ethane\", \"propane\", \"i-butane\", \"n-butane\", \"i-pentane\", \"n-pentane\",\"n-hexane\"]\n",
        "comp2 = \"i-butane\" #@param [\"methane\", \"ethane\", \"propane\", \"i-butane\", \"n-butane\", \"i-pentane\", \"n-pentane\",\"n-hexane\"]\n",
        "TXpressure = 11.0  #@param {type:\"number\"}\n",
        "PXtemperature = 50.0  #@param {type:\"number\"}\n",
        "\n",
        "Tcritical = fluid1.getPhase(0).getComponent(comp2).getTC()\n",
        "Pcritical = fluid1.getPhase(0).getComponent(comp2).getPC()\n",
        "\n",
        "\n",
        "fluid1 = fluid('srk')\n",
        "addComponent(fluid1, comp1,0.000001)\n",
        "addComponent(fluid1, comp2,1.01)\n",
        "fluid1.setMixingRule('classic')\n",
        "fluid1.setTemperature(Tcritical/2.0)\n",
        "fluid1.setPressure(TXpressure)\n",
        "\n",
        "fluid2 = fluid('srk')\n",
        "addComponent(fluid2, comp1,0.000001)\n",
        "addComponent(fluid2, comp2,1.01)\n",
        "fluid2.setMixingRule('classic')\n",
        "fluid2.setTemperature(PXtemperature+273.15)\n",
        "fluid2.setPressure(Pcritical/20.0)\n",
        "\n",
        "try:\n",
        "    for temp in range(0,11):\n",
        "        bubtemp.append(bubt(fluid1)-273.15)\n",
        "        dewtemp.append(dewt(fluid1)-273.15)\n",
        "        fluid1.init(0)\n",
        "        x.append(fluid1.getPhase(0).getComponent(0).getz())\n",
        "        fluid1.addComponent(comp2, -0.1)\n",
        "        fluid1.addComponent(comp1, 0.1)\n",
        "except:\n",
        "        print('no dewt found')\n",
        "try:\n",
        "    for temp in range(0,11):\n",
        "      # bubpres.append(bubp(fluid2))\n",
        "        dewpres.append(dewp(fluid2))\n",
        "        fluid2.init(0)\n",
        "        fluid2.addComponent(comp2, -0.1)\n",
        "        fluid2.addComponent(comp1, 0.1)\n",
        "except:\n",
        "        print('no dewt found')\n",
        "        \n",
        "plt.figure()\n",
        "plt.subplot(2, 1, 1)\n",
        "plt.plot(x, bubtemp, label='bubT')\n",
        "plt.plot(x, dewtemp, label=\"dewT\")\n",
        "plt.xlabel('x [mol fraction comp 1]')\n",
        "plt.ylabel('Temperature [C]')\n",
        "\n",
        "plt.subplot(2, 1, 2)\n",
        "#plt.plot(x, bubpres, label='bubP')\n",
        "plt.plot(x, dewpres, label=\"dewP\")\n",
        "plt.xlabel('x [mol fraction comp 1]')\n",
        "plt.ylabel('Pressure [bara]')"
      ],
      "execution_count": 0,
      "outputs": []
    },
    {
      "cell_type": "markdown",
      "metadata": {
        "id": "tZ081KC_eZY2",
        "colab_type": "text"
      },
      "source": [
        "#Calculation of phase envelope of a lean gas reservoir\n",
        "Phase Envelope (two-phase region): The region enclosed by the bubble-point curve and the dew point curve wherein gas and liquid coexist in equlibrium, is identified as the phase envelope of the hydrocarbon system. A gas reservoir is dominated by light components, and generally contain low amounts of C7+ components. \n",
        "\n",
        "In the form below you can specify the molar composition of a lean natural gas (heaviest component is n-hexane). The composition will be normalizes to make sure sum of molefractions is 1."
      ]
    },
    {
      "cell_type": "code",
      "metadata": {
        "id": "cQnmMgSlerj7",
        "colab_type": "code",
        "cellView": "form",
        "colab": {}
      },
      "source": [
        "nitrogen = 1.0 #@param {type:\"number\"}\n",
        "CO2 = 2.5 #@param {type:\"number\"}\n",
        "methane = 80.0  #@param {type:\"number\"}\n",
        "ethane = 5.0  #@param {type:\"number\"}\n",
        "propane =  2.5 #@param {type:\"number\"}\n",
        "ibutane =  1.25 #@param {type:\"number\"}\n",
        "nbutane =  1.25 #@param {type:\"number\"}\n",
        "ipentane =  0.5 #@param {type:\"number\"}\n",
        "npentane =  0.5 #@param {type:\"number\"}\n",
        "nhexane =  0.05 #@param {type:\"number\"}\n",
        "\n",
        "fluid1 = fluid('srk')\n",
        "fluid1.addComponent(\"nitrogen\", nitrogen)\n",
        "fluid1.addComponent(\"CO2\", CO2)\n",
        "fluid1.addComponent(\"methane\", methane)\n",
        "fluid1.addComponent(\"ethane\", ethane)\n",
        "fluid1.addComponent(\"propane\", propane)\n",
        "fluid1.addComponent(\"i-butane\", ibutane)\n",
        "fluid1.addComponent(\"n-butane\", nbutane)\n",
        "fluid1.addComponent(\"i-butane\", ibutane)\n",
        "fluid1.addComponent(\"n-pentane\", nbutane)\n",
        "fluid1.addComponent(\"n-pentane\", nbutane)\n",
        "fluid1.addComponent(\"n-hexane\", nbutane)\n",
        "fluid1.setMixingRule(2);\n",
        "\n",
        "thermoOps = neqsim.thermodynamicOperations.ThermodynamicOperations(fluid1)\n",
        "thermoOps.calcPTphaseEnvelope()\n",
        "\n",
        "plt.plot(list(thermoOps.getOperation().get(\"dewT\")),list(thermoOps.getOperation().get(\"dewP\")), label=\"dew point\")\n",
        "plt.plot(list(thermoOps.getOperation().get(\"bubT\")),list(thermoOps.getOperation().get(\"bubP\")), label=\"bubble point\")\n",
        "plt.title('PT envelope')\n",
        "plt.xlabel('Temperature [\\u00B0C]')\n",
        "plt.ylabel('Pressure [bar]')\n",
        "plt.legend()\n",
        "plt.show()"
      ],
      "execution_count": 0,
      "outputs": []
    },
    {
      "cell_type": "markdown",
      "metadata": {
        "id": "6UbeC86xioZx",
        "colab_type": "text"
      },
      "source": [
        "#Calculation of phase envelope of a gas-condensate reservoir\n",
        "A gas-condesate reservoir has more   heavy components, and generally contain hogh amounts of C7+ components.\n",
        "\n",
        "In the form below you can specify the molar composition of a gas-condesate reservoir fluid (heaviest component is C7+). The composition will be normalizes to make sure sum of molefractions is 1."
      ]
    },
    {
      "cell_type": "code",
      "metadata": {
        "id": "Nmfs5Dxmiy04",
        "colab_type": "code",
        "cellView": "form",
        "colab": {}
      },
      "source": [
        "nitrogen = 0.5 #@param {type:\"number\"}\n",
        "CO2 = 2.5 #@param {type:\"number\"}\n",
        "methane = 40.0  #@param {type:\"number\"}\n",
        "ethane = 10.0  #@param {type:\"number\"}\n",
        "propane =  5.0 #@param {type:\"number\"}\n",
        "ibutane =  1.25 #@param {type:\"number\"}\n",
        "nbutane =  1.25 #@param {type:\"number\"}\n",
        "ipentane =  0.25 #@param {type:\"number\"}\n",
        "npentane = 0.25 #@param {type:\"number\"}\n",
        "nhexane =  0.125 #@param {type:\"number\"}\n",
        "C7 =  10.225 #@param {type:\"number\"}\n",
        "C7Molarmass =  210.0 #@param {type:\"number\"}\n",
        "C7Density =  810.2 #@param {type:\"number\"}\n",
        "\n",
        "fluid1 = fluid('srk')\n",
        "fluid1.addComponent(\"nitrogen\", nitrogen)\n",
        "fluid1.addComponent(\"CO2\", CO2)\n",
        "fluid1.addComponent(\"methane\", methane)\n",
        "fluid1.addComponent(\"ethane\", ethane)\n",
        "fluid1.addComponent(\"propane\", propane)\n",
        "fluid1.addComponent(\"i-butane\", ibutane)\n",
        "fluid1.addComponent(\"n-butane\", nbutane)\n",
        "fluid1.addComponent(\"i-pentane\", ipentane)\n",
        "fluid1.addComponent(\"n-pentane\", npentane)\n",
        "fluid1.addComponent(\"n-hexane\", nhexane)\n",
        "fluid1.addPlusFraction(\"C7\", C7, C7Molarmass/1000.0, C7Density/1000.0)\n",
        "fluid1.getCharacterization().characterisePlusFraction()\n",
        "fluid1.setMixingRule('classic')\n",
        "\n",
        "thermoOps = neqsim.thermodynamicOperations.ThermodynamicOperations(fluid1)\n",
        "thermoOps.calcPTphaseEnvelope()\n",
        "\n",
        "plt.plot(list(thermoOps.getOperation().get(\"dewT\")),list(thermoOps.getOperation().get(\"dewP\")), label=\"dew point\")\n",
        "plt.plot(list(thermoOps.getOperation().get(\"bubT\")),list(thermoOps.getOperation().get(\"bubP\")), label=\"bubble point\")\n",
        "plt.title('PT envelope')\n",
        "plt.xlabel('Temperature [\\u00B0C]')\n",
        "plt.ylabel('Pressure [bar]')\n",
        "plt.legend()\n",
        "plt.show()"
      ],
      "execution_count": 0,
      "outputs": []
    }
  ]
}