{
  "nbformat": 4,
  "nbformat_minor": 0,
  "metadata": {
    "colab": {
      "name": "Phase envelopes of oil and gas.ipynb",
      "version": "0.3.2",
      "provenance": [],
      "include_colab_link": true
    },
    "kernelspec": {
      "name": "python3",
      "display_name": "Python 3"
    }
  },
  "cells": [
    {
      "cell_type": "markdown",
      "metadata": {
        "id": "view-in-github",
        "colab_type": "text"
      },
      "source": [
        "<a href=\"https://colab.research.google.com/github/EvenSol/NeqSim-Colab/blob/master/notebooks/thermodynamics/Phase_envelopes_of_oil_and_gas.ipynb\" target=\"_parent\"><img src=\"https://colab.research.google.com/assets/colab-badge.svg\" alt=\"Open In Colab\"/></a>"
      ]
    },
    {
      "metadata": {
        "id": "Yl8uCWTuQxbz",
        "colab_type": "code",
        "colab": {}
      },
      "cell_type": "code",
      "source": [
        "#@title Phase enevelopes of oil and gas\n",
        "#@markdown Demonstration of phase envelopes of gas and oil\n",
        "#!git clone https://github.com/EvenSol/NeqSim-Colab.git\n",
        "!pip install py4j\n",
        "!pip install NeqSim-Colab/lib/neqsim-0.0.1-py3-none-any.whl"
      ],
      "execution_count": 0,
      "outputs": []
    }
  ]
}