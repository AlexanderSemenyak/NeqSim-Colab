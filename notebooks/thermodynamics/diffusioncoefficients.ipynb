{
  "nbformat": 4,
  "nbformat_minor": 0,
  "metadata": {
    "colab": {
      "name": "diffusioncoefficients.ipynb",
      "provenance": [],
      "collapsed_sections": [],
      "include_colab_link": true
    },
    "kernelspec": {
      "name": "python3",
      "display_name": "Python 3"
    }
  },
  "cells": [
    {
      "cell_type": "markdown",
      "metadata": {
        "id": "view-in-github",
        "colab_type": "text"
      },
      "source": [
        "<a href=\"https://colab.research.google.com/github/EvenSol/NeqSim-Colab/blob/master/notebooks/thermodynamics/diffusioncoefficients.ipynb\" target=\"_parent\"><img src=\"https://colab.research.google.com/assets/colab-badge.svg\" alt=\"Open In Colab\"/></a>"
      ]
    },
    {
      "cell_type": "code",
      "metadata": {
        "id": "c7oLiYgcEV2Y",
        "colab_type": "code",
        "cellView": "form",
        "colab": {}
      },
      "source": [
        "#@title Diffusion coefficient\n",
        "#@markdown Diffusivity, mass diffusivity or diffusion coefficient is a proportionality constant between the molar flux due to molecular diffusion and the gradient in the concentration of the species (or the driving force for diffusion). Diffusivity is encountered in Fick's law and numerous other equations of physical chemistry.\n",
        "%%capture\n",
        "!pip install neqsim\n",
        "import neqsim\n",
        "from neqsim.thermo.thermoTools import *\n",
        "import matplotlib\n",
        "import numpy as np\n",
        "import matplotlib.pyplot as plt\n",
        "import math\n",
        "%matplotlib inline"
      ],
      "execution_count": 0,
      "outputs": []
    },
    {
      "cell_type": "code",
      "metadata": {
        "id": "9Kkz5ZeLEyRv",
        "colab_type": "code",
        "cellView": "form",
        "outputId": "803457f4-514b-42b2-d29d-71e5f28c16bc",
        "colab": {
          "base_uri": "https://localhost:8080/",
          "height": 421
        }
      },
      "source": [
        "#@title  Diffusion\n",
        "#@markdown Learn the basics of Ficks law\n",
        "from IPython.display import YouTubeVideo\n",
        "YouTubeVideo('Cg4KlmI_acs', width=600, height=400)"
      ],
      "execution_count": 0,
      "outputs": [
        {
          "output_type": "execute_result",
          "data": {
            "text/html": [
              "\n",
              "        <iframe\n",
              "            width=\"600\"\n",
              "            height=\"400\"\n",
              "            src=\"https://www.youtube.com/embed/Cg4KlmI_acs\"\n",
              "            frameborder=\"0\"\n",
              "            allowfullscreen\n",
              "        ></iframe>\n",
              "        "
            ],
            "text/plain": [
              "<IPython.lib.display.YouTubeVideo at 0x7fa9f7b06748>"
            ],
            "image/jpeg": "[encoded data removed]"
          },
          "metadata": {
            "tags": []
          },
          "execution_count": 8
        }
      ]
    },
    {
      "cell_type": "markdown",
      "metadata": {
        "id": "vT1Qy8vlRuDf",
        "colab_type": "text"
      },
      "source": [
        "## Calculation of diffusion coefficients in NeqSim\n",
        "The following example shows how to calculate diffusion coefficients using neqsim."
      ]
    },
    {
      "cell_type": "code",
      "metadata": {
        "id": "PzWrasHBWB3X",
        "colab_type": "code",
        "cellView": "both",
        "outputId": "f1040899-4f70-4ed8-806e-61821d70dae4",
        "colab": {
          "base_uri": "https://localhost:8080/",
          "height": 52
        }
      },
      "source": [
        "#@title Selecting diffusion coefficient models for  gases in NeqSim\n",
        "#@markdown The following script calcluates the diffusion coeficient of methane in ethane using SRK in NeqSim using different methods.\n",
        "\n",
        "\n",
        "fluid1 = fluid('srk')\n",
        "fluid1.addComponent('methane', 0.5)\n",
        "fluid1.addComponent('ethane', 0.5)\n",
        "fluid1.setTemperature(25.0, 'C')\n",
        "fluid1.setPressure(10.0, 'bara')\n",
        "fluid1.setMixingRule('classic')\n",
        "TPflash(fluid1)\n",
        "\n",
        "method = \"CSP\"\n",
        "#fluid1.getInterphaseProperties().setInterfacialTensionModel(\"gas\", method);\n",
        "fluid1.initProperties()\n",
        "print(\"Diffusion coefficient \",  fluid1.getPhase('gas').getPhysicalProperties().getDiffusionCoeffisient(0, 1), \" m2/sec \", \" metod: \", method)\n",
        "\n",
        "method = \"Wilke Lee\"\n",
        "#fluid1.getInterphaseProperties().setInterfacialTensionModel(\"gas\", method);\n",
        "fluid1.initProperties()\n",
        "print(\"Diffusion coefficient \",  fluid1.getPhase('gas').getPhysicalProperties().getDiffusionCoeffisient(0, 1), \" m2/sec \", \" metod: \", method)"
      ],
      "execution_count": 0,
      "outputs": [
        {
          "output_type": "stream",
          "text": [
            "Diffusion coefficient  3.2022464038497323e-06  m2/sec   metod:  CSP\n",
            "Diffusion coefficient  3.2022464038497323e-06  m2/sec   metod:  Wilke Lee\n"
          ],
          "name": "stdout"
        }
      ]
    },
    {
      "cell_type": "code",
      "metadata": {
        "id": "06UhvZhLHs2C",
        "colab_type": "code",
        "outputId": "4528ba3c-a782-467f-cd8f-81a5c2b9c328",
        "colab": {
          "base_uri": "https://localhost:8080/",
          "height": 34
        }
      },
      "source": [
        "#@title Selecting diffusion coefficient models for  oils in NeqSim\n",
        "#@markdown The following script calcluates the diffusion coeficient of n-hexane in n-heptane using SRK in NeqSim using different methods.\n",
        "\n",
        "\n",
        "fluid1 = fluid('srk')\n",
        "fluid1.addComponent('n-hexane', 0.5)\n",
        "fluid1.addComponent('n-heptane', 0.5)\n",
        "fluid1.setTemperature(25.0, 'C')\n",
        "fluid1.setPressure(10.0, 'bara')\n",
        "fluid1.setMixingRule('classic')\n",
        "TPflash(fluid1)\n",
        "\n",
        "method = \"Siddiqi Lucas\"\n",
        "#fluid1.getInterphaseProperties().setDiffusionCoefficientModel(\"oil\", method);\n",
        "fluid1.initProperties()\n",
        "print(\"Diffusion coefficient \",  fluid1.getPhase('oil').getPhysicalProperties().getDiffusionCoeffisient(0, 1), \" m2/sec \", \" metod: \", method)"
      ],
      "execution_count": 0,
      "outputs": [
        {
          "output_type": "stream",
          "text": [
            "Diffusion coefficient  inf  m2/sec   metod:  Siddiqi Lucas\n"
          ],
          "name": "stdout"
        }
      ]
    },
    {
      "cell_type": "code",
      "metadata": {
        "id": "d8Au-WfxIZUw",
        "colab_type": "code",
        "outputId": "7e08083e-e1d8-48f8-b2df-b1f7fe821234",
        "colab": {
          "base_uri": "https://localhost:8080/",
          "height": 34
        }
      },
      "source": [
        "#@title Selecting diffusion coefficient models for aqueous fluids in NeqSim\n",
        "#@markdown The following script calcluates the diffusion coeficient of water in amine (MDEA) using SRK in NeqSim using different methods.\n",
        "\n",
        "\n",
        "fluid1 = fluid('srk')\n",
        "fluid1.addComponent('water', 0.5)\n",
        "fluid1.addComponent('MDEA', 0.5)\n",
        "fluid1.setTemperature(25.0, 'C')\n",
        "fluid1.setPressure(10.0, 'bara')\n",
        "fluid1.setMixingRule('classic')\n",
        "TPflash(fluid1)\n",
        "\n",
        "method = \"Alkanol amines\"\n",
        "#fluid1.getInterphaseProperties().setDiffusionCoefficientModel(\"oil\", method);\n",
        "fluid1.initProperties()\n",
        "print(\"Diffusion coefficient \",  fluid1.getPhase('aqueous').getPhysicalProperties().getDiffusionCoeffisient(0, 1), \" m2/sec \", \" metod: \", method)"
      ],
      "execution_count": 0,
      "outputs": [
        {
          "output_type": "stream",
          "text": [
            "Diffusion coefficient  2.0939212151443266e-10  m2/sec   metod:  Alkanol amines\n"
          ],
          "name": "stdout"
        }
      ]
    },
    {
      "cell_type": "code",
      "metadata": {
        "id": "QWK9-XKw0IfF",
        "colab_type": "code",
        "colab": {}
      },
      "source": [
        "  SystemInterface testSystem = new SystemSrkEos(273.15 + 28.66, 12.2);\n",
        "        testSystem.addComponent(\"nitrogen\", 0.037);\n",
        "        testSystem.addComponent(\"n-heptane\", 0.475);\n",
        "        testSystem.addComponent(\"water\", 0.475);\n",
        "     \n",
        "        testSystem.createDatabase(true);\n",
        "        testSystem.setMixingRule(2);\n",
        "        testSystem.setMultiPhaseCheck(true);\n",
        "\n",
        "        ThermodynamicOperations testOps = new ThermodynamicOperations(testSystem);\n",
        "        try {\n",
        "            testOps.TPflash();\n",
        "            testSystem.display();\n",
        "        } catch (Exception e) {\n",
        "            logger.error(e.toString());\n",
        "        }\n",
        "\n",
        "     System.out.println(\"binary diffusion coefficient water in nitrogen gas \" + testSystem.getPhase(\"gas\").getPhysicalProperties().getDiffusionCoefficient(\"water\", \"nitrogen\") + \" m2/sec\");\n",
        "     System.out.println(\"binary diffusion coefficient nitrogen in liquid n-heptane \" + testSystem.getPhase(\"oil\").getPhysicalProperties().getDiffusionCoefficient(\"nitrogen\", \"n-heptane\") + \" m2/sec\");\n",
        "     System.out.println(\"binary diffusion coefficient nitrogen in water \" + testSystem.getPhase(\"aqueous\").getPhysicalProperties().getDiffusionCoefficient(\"nitrogen\", \"water\") + \" m2/sec\");\n",
        "\n",
        "     System.out.println(\"effective diffusion coefficient water in gas \" + testSystem.getPhase(\"gas\").getPhysicalProperties().getEffectiveDiffusionCoefficient(\"water\") + \" m2/sec\");\n",
        "     System.out.println(\"effective diffusion coefficient nitrogen in liquid n-heptane \" + testSystem.getPhase(\"oil\").getPhysicalProperties().getEffectiveDiffusionCoefficient(\"nitrogen\") + \" m2/sec\");\n",
        "     System.out.println(\"effective diffusion coefficient nitrogen in water \" + testSystem.getPhase(\"aqueous\").getPhysicalProperties().getEffectiveDiffusionCoefficient(\"nitrogen\") + \" m2/sec\");\n"
      ],
      "execution_count": 0,
      "outputs": []
    }
  ]
}