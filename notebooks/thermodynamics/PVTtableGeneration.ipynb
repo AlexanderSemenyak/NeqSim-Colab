{
  "nbformat": 4,
  "nbformat_minor": 0,
  "metadata": {
    "colab": {
      "name": "PVTtableGeneration.ipynb",
      "provenance": [],
      "include_colab_link": true
    },
    "kernelspec": {
      "name": "python3",
      "display_name": "Python 3"
    }
  },
  "cells": [
    {
      "cell_type": "markdown",
      "metadata": {
        "id": "view-in-github",
        "colab_type": "text"
      },
      "source": [
        "<a href=\"https://colab.research.google.com/github/EvenSol/NeqSim-Colab/blob/master/notebooks/thermodynamics/PVTtableGeneration.ipynb\" target=\"_parent\"><img src=\"https://colab.research.google.com/assets/colab-badge.svg\" alt=\"Open In Colab\"/></a>"
      ]
    },
    {
      "cell_type": "code",
      "metadata": {
        "id": "q-JDDp0MUIms",
        "colab_type": "code",
        "cellView": "form",
        "colab": {}
      },
      "source": [
        "#@title Generation of property tables for flow simulators\n",
        "#@markdown The fundamental components for fluid handling are available including, predictive characterization, flexible lumping, mixing and recombining gas and oil compositions. Other functions available with this package include plotting phase envelopes and calculating equilibrium gas-liquid-aqueous phase properties using PT (pressure, temperature) flash operations,\n",
        "%%capture\n",
        "!pip install neqsim\n",
        "import neqsim\n",
        "from neqsim.thermo.thermoTools import *\n",
        "import matplotlib\n",
        "import numpy as np\n",
        "import matplotlib.pyplot as plt\n",
        "import math\n",
        "from neqsim.thermo import fluid\n",
        "%matplotlib inline"
      ],
      "execution_count": 0,
      "outputs": []
    },
    {
      "cell_type": "markdown",
      "metadata": {
        "id": "5O6n_mGOUoLi",
        "colab_type": "text"
      },
      "source": [
        "# Generation of property tables for OLGA/Ledaflow #\n",
        "\n",
        "The following example demonstrates how to use NeqSim for generation of property tables for OLGA/Ledaflow. The property file will be written to the users google disk.\n",
        "The calculations are done in two steps:\n",
        "1. Define a fluid in neqsim\n",
        "2. Run property generation routine in a temperature and pressure range.\n",
        "\n"
      ]
    },
    {
      "cell_type": "code",
      "metadata": {
        "id": "xcVqbxGVW5JR",
        "colab_type": "code",
        "colab": {
          "base_uri": "https://localhost:8080/",
          "height": 71
        },
        "outputId": "ae621ddc-c680-42fb-c388-7518de68ae78"
      },
      "source": [
        "from google.colab import drive\n",
        "drive.mount('/content/gdrive')\n",
        "!ls \"/content/drive/My Drive/\""
      ],
      "execution_count": 4,
      "outputs": [
        {
          "output_type": "stream",
          "text": [
            "Drive already mounted at /content/gdrive; to attempt to forcibly remount, call drive.mount(\"/content/gdrive\", force_remount=True).\n",
            "ls: cannot access '/content/drive/My Drive/': No such file or directory\n"
          ],
          "name": "stdout"
        }
      ]
    },
    {
      "cell_type": "markdown",
      "metadata": {
        "id": "wyIXf6nSc2zf",
        "colab_type": "text"
      },
      "source": [
        "## 1. Define the fluid in neqsim\n",
        "We start by defining a fluid in neqsim. Components are added and mole fraction of the components are specified.\n"
      ]
    },
    {
      "cell_type": "code",
      "metadata": {
        "id": "eEdPQAE2cl2b",
        "colab_type": "code",
        "cellView": "both",
        "colab": {}
      },
      "source": [
        "\n",
        "fluid1 = fluid('srk')\n",
        "fluid1.addComponent(\"nitrogen\", 1.0)\n",
        "fluid1.addComponent(\"CO2\", 2.0)\n",
        "fluid1.addComponent(\"methane\", 79.2)\n",
        "fluid1.addComponent(\"ethane\", 7.3)\n",
        "fluid1.addComponent(\"propane\", 2.3)\n",
        "fluid1.addComponent(\"i-butane\", 1.0)\n",
        "fluid1.addComponent(\"n-butane\", 0.7)\n",
        "fluid1.addComponent(\"i-pentane\", 0.04)\n",
        "fluid1.addComponent(\"n-pentane\", 0.02)\n",
        "fluid1.addComponent(\"n-hexane\", 0.003)\n",
        "fluid1.setMixingRule('classic')\n",
        "fluid1.setMultiPhaseCheck(True)"
      ],
      "execution_count": 0,
      "outputs": []
    },
    {
      "cell_type": "markdown",
      "metadata": {
        "id": "H_0I_EvIdNB3",
        "colab_type": "text"
      },
      "source": [
        "# 2. Run property generation routine \n",
        "\n",
        "The property genreation routine is run in a temperature and pressure range. The calculations are done by giving a input fluid composition and providing a temperature and pressure range. The number of temperature and pressure steps in the table needs to be provided.\n",
        "\n",
        "The results are saved in a file in the users gdrive (access to this disk must be given)."
      ]
    },
    {
      "cell_type": "code",
      "metadata": {
        "id": "yNm9zZJBU4sn",
        "colab_type": "code",
        "outputId": "e9f83653-4ae8-4b97-9828-cc11d5015195",
        "colab": {
          "base_uri": "https://localhost:8080/",
          "height": 820
        }
      },
      "source": [
        "\n",
        "\n",
        "fileName = \"testPVT.tab\"\n",
        "\n",
        "lowTemperature= 0.0 # C\n",
        "highTemperature = 100.0 # C\n",
        "Tsteps = 20\n",
        "lowPressure = 1.0 # bara\n",
        "highPressure = 100.0 # bara\n",
        "Psteps = 20\n",
        "\n",
        "PVTpropTable(fluid1, fileName, lowTemperature, highTemperature, Tsteps, lowPressure, highPressure, Psteps)\n"
      ],
      "execution_count": 7,
      "outputs": [
        {
          "output_type": "error",
          "ename": "Py4JJavaError",
          "evalue": "ignored",
          "traceback": [
            "\u001b[0;31m---------------------------------------------------------------------------\u001b[0m",
            "\u001b[0;31mPy4JJavaError\u001b[0m                             Traceback (most recent call last)",
            "\u001b[0;32m<ipython-input-7-40c4ee4c2757>\u001b[0m in \u001b[0;36m<module>\u001b[0;34m()\u001b[0m\n\u001b[1;32m     10\u001b[0m \u001b[0mPsteps\u001b[0m \u001b[0;34m=\u001b[0m \u001b[0;36m20\u001b[0m\u001b[0;34m\u001b[0m\u001b[0;34m\u001b[0m\u001b[0m\n\u001b[1;32m     11\u001b[0m \u001b[0;34m\u001b[0m\u001b[0m\n\u001b[0;32m---> 12\u001b[0;31m \u001b[0mPVTpropTable\u001b[0m\u001b[0;34m(\u001b[0m\u001b[0mfluid1\u001b[0m\u001b[0;34m,\u001b[0m \u001b[0mfileName\u001b[0m\u001b[0;34m,\u001b[0m \u001b[0mlowTemperature\u001b[0m\u001b[0;34m,\u001b[0m \u001b[0mhighTemperature\u001b[0m\u001b[0;34m,\u001b[0m \u001b[0mTsteps\u001b[0m\u001b[0;34m,\u001b[0m \u001b[0mlowPressure\u001b[0m\u001b[0;34m,\u001b[0m \u001b[0mhighPressure\u001b[0m\u001b[0;34m,\u001b[0m \u001b[0mPsteps\u001b[0m\u001b[0;34m)\u001b[0m\u001b[0;34m\u001b[0m\u001b[0;34m\u001b[0m\u001b[0m\n\u001b[0m",
            "\u001b[0;32m/usr/local/lib/python3.6/dist-packages/neqsim/thermo/thermoTools.py\u001b[0m in \u001b[0;36mPVTpropTable\u001b[0;34m(testSystem, fileName, lowTemperature, highTemperature, Tsteps, lowPressure, highPressure, Psteps)\u001b[0m\n\u001b[1;32m    441\u001b[0m \u001b[0;32mdef\u001b[0m \u001b[0mPVTpropTable\u001b[0m\u001b[0;34m(\u001b[0m\u001b[0mtestSystem\u001b[0m\u001b[0;34m,\u001b[0m\u001b[0mfileName\u001b[0m\u001b[0;34m,\u001b[0m \u001b[0mlowTemperature\u001b[0m\u001b[0;34m,\u001b[0m \u001b[0mhighTemperature\u001b[0m\u001b[0;34m,\u001b[0m \u001b[0mTsteps\u001b[0m\u001b[0;34m,\u001b[0m \u001b[0mlowPressure\u001b[0m\u001b[0;34m,\u001b[0m \u001b[0mhighPressure\u001b[0m\u001b[0;34m,\u001b[0m \u001b[0mPsteps\u001b[0m\u001b[0;34m)\u001b[0m\u001b[0;34m:\u001b[0m\u001b[0;34m\u001b[0m\u001b[0;34m\u001b[0m\u001b[0m\n\u001b[1;32m    442\u001b[0m     \u001b[0mtestFlash\u001b[0m \u001b[0;34m=\u001b[0m \u001b[0mThermodynamicOperations\u001b[0m\u001b[0;34m(\u001b[0m\u001b[0mtestSystem\u001b[0m\u001b[0;34m)\u001b[0m\u001b[0;34m\u001b[0m\u001b[0;34m\u001b[0m\u001b[0m\n\u001b[0;32m--> 443\u001b[0;31m     \u001b[0mtestFlash\u001b[0m\u001b[0;34m.\u001b[0m\u001b[0mOLGApropTable\u001b[0m\u001b[0;34m(\u001b[0m\u001b[0mlowTemperature\u001b[0m\u001b[0;34m,\u001b[0m \u001b[0mhighTemperature\u001b[0m\u001b[0;34m,\u001b[0m \u001b[0mTsteps\u001b[0m\u001b[0;34m,\u001b[0m \u001b[0mlowPressure\u001b[0m\u001b[0;34m,\u001b[0m \u001b[0mhighPressure\u001b[0m\u001b[0;34m,\u001b[0m \u001b[0mPsteps\u001b[0m\u001b[0;34m,\u001b[0m \u001b[0mfileName\u001b[0m\u001b[0;34m,\u001b[0m \u001b[0;36m0\u001b[0m\u001b[0;34m)\u001b[0m\u001b[0;34m\u001b[0m\u001b[0;34m\u001b[0m\u001b[0m\n\u001b[0m",
            "\u001b[0;32m/usr/local/lib/python3.6/dist-packages/py4j/java_gateway.py\u001b[0m in \u001b[0;36m__call__\u001b[0;34m(self, *args)\u001b[0m\n\u001b[1;32m   1284\u001b[0m         \u001b[0manswer\u001b[0m \u001b[0;34m=\u001b[0m \u001b[0mself\u001b[0m\u001b[0;34m.\u001b[0m\u001b[0mgateway_client\u001b[0m\u001b[0;34m.\u001b[0m\u001b[0msend_command\u001b[0m\u001b[0;34m(\u001b[0m\u001b[0mcommand\u001b[0m\u001b[0;34m)\u001b[0m\u001b[0;34m\u001b[0m\u001b[0;34m\u001b[0m\u001b[0m\n\u001b[1;32m   1285\u001b[0m         return_value = get_return_value(\n\u001b[0;32m-> 1286\u001b[0;31m             answer, self.gateway_client, self.target_id, self.name)\n\u001b[0m\u001b[1;32m   1287\u001b[0m \u001b[0;34m\u001b[0m\u001b[0m\n\u001b[1;32m   1288\u001b[0m         \u001b[0;32mfor\u001b[0m \u001b[0mtemp_arg\u001b[0m \u001b[0;32min\u001b[0m \u001b[0mtemp_args\u001b[0m\u001b[0;34m:\u001b[0m\u001b[0;34m\u001b[0m\u001b[0;34m\u001b[0m\u001b[0m\n",
            "\u001b[0;32m/usr/local/lib/python3.6/dist-packages/py4j/protocol.py\u001b[0m in \u001b[0;36mget_return_value\u001b[0;34m(answer, gateway_client, target_id, name)\u001b[0m\n\u001b[1;32m    326\u001b[0m                 raise Py4JJavaError(\n\u001b[1;32m    327\u001b[0m                     \u001b[0;34m\"An error occurred while calling {0}{1}{2}.\\n\"\u001b[0m\u001b[0;34m.\u001b[0m\u001b[0;34m\u001b[0m\u001b[0;34m\u001b[0m\u001b[0m\n\u001b[0;32m--> 328\u001b[0;31m                     format(target_id, \".\", name), value)\n\u001b[0m\u001b[1;32m    329\u001b[0m             \u001b[0;32melse\u001b[0m\u001b[0;34m:\u001b[0m\u001b[0;34m\u001b[0m\u001b[0;34m\u001b[0m\u001b[0m\n\u001b[1;32m    330\u001b[0m                 raise Py4JError(\n",
            "\u001b[0;31mPy4JJavaError\u001b[0m: An error occurred while calling o1.OLGApropTable.\n: java.lang.RuntimeException: neqsim.util.exception.IsNaNException\n\tat neqsim.thermo.phase.PhaseEos.init(PhaseEos.java:92)\n\tat neqsim.thermo.phase.PhaseSrkEos.init(PhaseSrkEos.java:1)\n\tat neqsim.thermo.system.SystemThermo.initAnalytic(SystemThermo.java:1443)\n\tat neqsim.thermo.system.SystemSrkEos.initAnalytic(SystemSrkEos.java:1)\n\tat neqsim.thermo.system.SystemThermo.init(SystemThermo.java:1388)\n\tat neqsim.thermo.system.SystemSrkEos.init(SystemSrkEos.java:1)\n\tat neqsim.thermodynamicOperations.flashOps.TPflash.run(TPflash.java:175)\n\tat neqsim.thermodynamicOperations.ThermodynamicOperations.TPflash(ThermodynamicOperations.java:141)\n\tat neqsim.thermodynamicOperations.propertyGenerator.OLGApropertyTableGeneratorWaterStudents.run(OLGApropertyTableGeneratorWaterStudents.java:248)\n\tat neqsim.thermodynamicOperations.ThermodynamicOperations.OLGApropTable(ThermodynamicOperations.java:852)\n\tat java.base/jdk.internal.reflect.NativeMethodAccessorImpl.invoke0(Native Method)\n\tat java.base/jdk.internal.reflect.NativeMethodAccessorImpl.invoke(NativeMethodAccessorImpl.java:62)\n\tat java.base/jdk.internal.reflect.DelegatingMethodAccessorImpl.invoke(DelegatingMethodAccessorImpl.java:43)\n\tat java.base/java.lang.reflect.Method.invoke(Method.java:566)\n\tat py4j.reflection.MethodInvoker.invoke(MethodInvoker.java:244)\n\tat py4j.reflection.ReflectionEngine.invoke(ReflectionEngine.java:357)\n\tat py4j.Gateway.invoke(Gateway.java:282)\n\tat py4j.commands.AbstractCommand.invokeMethod(AbstractCommand.java:132)\n\tat py4j.commands.CallCommand.execute(CallCommand.java:79)\n\tat py4j.GatewayConnection.run(GatewayConnection.java:238)\n\tat java.base/java.lang.Thread.run(Thread.java:834)\nCaused by: neqsim.util.exception.IsNaNException\n\tat neqsim.thermo.phase.PhaseEos.molarVolume(PhaseEos.java:304)\n\tat neqsim.thermo.phase.PhaseSrkEos.molarVolume(PhaseSrkEos.java:1)\n\tat neqsim.thermo.phase.PhaseEos.init(PhaseEos.java:88)\n\t... 20 more\n"
          ]
        }
      ]
    }
  ]
}