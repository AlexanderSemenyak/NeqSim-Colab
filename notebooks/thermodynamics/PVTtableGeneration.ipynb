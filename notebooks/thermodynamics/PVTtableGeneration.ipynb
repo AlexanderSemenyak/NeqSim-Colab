{
  "nbformat": 4,
  "nbformat_minor": 0,
  "metadata": {
    "colab": {
      "name": "PVTtableGeneration.ipynb",
      "provenance": [],
      "toc_visible": true,
      "include_colab_link": true
    },
    "kernelspec": {
      "name": "python3",
      "display_name": "Python 3"
    }
  },
  "cells": [
    {
      "cell_type": "markdown",
      "metadata": {
        "id": "view-in-github",
        "colab_type": "text"
      },
      "source": [
        "<a href=\"https://colab.research.google.com/github/EvenSol/NeqSim-Colab/blob/master/notebooks/thermodynamics/PVTtableGeneration.ipynb\" target=\"_parent\"><img src=\"https://colab.research.google.com/assets/colab-badge.svg\" alt=\"Open In Colab\"/></a>"
      ]
    },
    {
      "cell_type": "code",
      "metadata": {
        "id": "q-JDDp0MUIms",
        "colab_type": "code",
        "cellView": "form",
        "colab": {}
      },
      "source": [
        "#@title Generation of property tables for flow simulators\n",
        "#@markdown The fundamental components for fluid handling are available including, predictive characterization, flexible lumping, mixing and recombining gas and oil compositions. Other functions available with this package include plotting phase envelopes and calculating equilibrium gas-liquid-aqueous phase properties using PT (pressure, temperature) flash operations,\n",
        "%%capture\n",
        "!pip install neqsim\n",
        "import neqsim\n",
        "from neqsim.thermo.thermoTools import *\n",
        "import matplotlib\n",
        "import numpy as np\n",
        "import matplotlib.pyplot as plt\n",
        "import math\n",
        "from neqsim.thermo import fluid\n",
        "%matplotlib inline"
      ],
      "execution_count": 0,
      "outputs": []
    },
    {
      "cell_type": "markdown",
      "metadata": {
        "id": "5O6n_mGOUoLi",
        "colab_type": "text"
      },
      "source": [
        "# Generation of property tables for OLGA/Ledaflow #\n",
        "\n",
        "The following example demonstrates how to use NeqSim for generation of property tables for OLGA/Ledaflow. The property file will be written to the users google disk.\n",
        "The calculations are done in two steps:\n",
        "1. Define a fluid in neqsim\n",
        "2. Run property generation routine in a temperature and pressure range.\n",
        "\n"
      ]
    },
    {
      "cell_type": "markdown",
      "metadata": {
        "id": "wyIXf6nSc2zf",
        "colab_type": "text"
      },
      "source": [
        "## 1. Define the fluid in neqsim\n",
        "We start by defining a fluid in neqsim. Components are added and mole fraction of the components are specified.\n"
      ]
    },
    {
      "cell_type": "code",
      "metadata": {
        "id": "eEdPQAE2cl2b",
        "colab_type": "code",
        "cellView": "both",
        "colab": {}
      },
      "source": [
        "fluid1 = fluid('srk')\n",
        "fluid1.addComponent(\"nitrogen\", 1.0)\n",
        "fluid1.addComponent(\"CO2\", 2.0)\n",
        "fluid1.addComponent(\"methane\", 79.2)\n",
        "fluid1.addComponent(\"ethane\", 7.3)\n",
        "fluid1.addComponent(\"propane\", 2.3)\n",
        "fluid1.addComponent(\"i-butane\", 1.0)\n",
        "fluid1.addComponent(\"n-butane\", 0.7)\n",
        "fluid1.addComponent(\"i-pentane\", 0.04)\n",
        "fluid1.addComponent(\"n-pentane\", 0.02)\n",
        "fluid1.addComponent(\"n-hexane\", 0.003)\n",
        "fluid1.addComponent(\"water\", 1.3)\n",
        "fluid1.setMixingRule('classic')\n",
        "fluid1.setMultiPhaseCheck(True)"
      ],
      "execution_count": 0,
      "outputs": []
    },
    {
      "cell_type": "markdown",
      "metadata": {
        "id": "H_0I_EvIdNB3",
        "colab_type": "text"
      },
      "source": [
        "# 2. Run property generation routine \n",
        "\n",
        "The property genreation routine is run in a temperature and pressure range. The calculations are done by giving a input fluid composition and providing a temperature and pressure range. The number of temperature and pressure steps in the table needs to be provided.\n",
        "\n",
        "The results are saved in a file in the Colab drive (accessible via left menu)."
      ]
    },
    {
      "cell_type": "code",
      "metadata": {
        "id": "yNm9zZJBU4sn",
        "colab_type": "code",
        "colab": {}
      },
      "source": [
        "fileName = \"MytestPVT.tab\"\n",
        "\n",
        "lowTemperature= 273.15 # K\n",
        "highTemperature = 373.0 # k\n",
        "Tsteps = 20\n",
        "lowPressure = 1.0 # bara\n",
        "highPressure = 100.0 # bara\n",
        "Psteps = 20\n",
        "\n",
        "PVTpropTable(fluid1, fileName, lowTemperature, highTemperature, Tsteps, lowPressure, highPressure, Psteps)\n"
      ],
      "execution_count": 0,
      "outputs": []
    }
  ]
}