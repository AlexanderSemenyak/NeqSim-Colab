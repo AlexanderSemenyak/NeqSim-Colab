{
  "nbformat": 4,
  "nbformat_minor": 0,
  "metadata": {
    "colab": {
      "name": "CO2 compression.ipynb",
      "provenance": [],
      "collapsed_sections": [],
      "authorship_tag": "ABX9TyMbOPYpu0q1UGfWZC5ENtaE",
      "include_colab_link": true
    },
    "kernelspec": {
      "name": "python3",
      "display_name": "Python 3"
    }
  },
  "cells": [
    {
      "cell_type": "markdown",
      "metadata": {
        "id": "view-in-github",
        "colab_type": "text"
      },
      "source": [
        "<a href=\"https://colab.research.google.com/github/EvenSol/NeqSim-Colab/blob/master/notebooks/process/CO2_compression.ipynb\" target=\"_parent\"><img src=\"https://colab.research.google.com/assets/colab-badge.svg\" alt=\"Open In Colab\"/></a>"
      ]
    },
    {
      "cell_type": "code",
      "metadata": {
        "id": "BDff83tJdHBu",
        "cellView": "form"
      },
      "source": [
        "#@title Calculation of CO2 compression systems\n",
        "#@markdown Litterature and calculations of CO2 recompression systems.\n",
        "#@markdown <br><br>This document is part of the module [\"Introduction to Gas Processing using NeqSim in Colab\"](https://colab.research.google.com/github/EvenSol/NeqSim-Colab/blob/master/notebooks/examples_of_NeqSim_in_Colab.ipynb#scrollTo=_eRtkQnHpL70).\n",
        "%%capture\n",
        "!pip install neqsim\n",
        "import neqsim\n",
        "from neqsim.thermo.thermoTools import *\n",
        "import matplotlib\n",
        "import numpy as np\n",
        "import matplotlib.pyplot as plt\n",
        "import math\n",
        "plt.style.use('classic')\n",
        "%matplotlib inline"
      ],
      "execution_count": 3,
      "outputs": []
    },
    {
      "cell_type": "markdown",
      "metadata": {
        "id": "TzgX--3Pda9m"
      },
      "source": [
        "#Litterature\n",
        "https://www.powermag.com/capturing-co2-gas-compression-vs-liquefaction/"
      ]
    },
    {
      "cell_type": "code",
      "metadata": {
        "id": "NiU4qKQ9ebE6",
        "cellView": "form",
        "outputId": "7dc3cc66-cc30-43f7-a585-7fcf6f6461d2",
        "colab": {
          "base_uri": "https://localhost:8080/",
          "height": 421
        }
      },
      "source": [
        "#@title From compressor to reservoir -- Flow assurance and control philosophy for CCS CO2 operation\n",
        "#@markdown This video gives an intriduction to CO2 reinjection\n",
        "from IPython.display import YouTubeVideo\n",
        "YouTubeVideo('FPZxXX0fx40', width=600, height=400)"
      ],
      "execution_count": 1,
      "outputs": [
        {
          "output_type": "execute_result",
          "data": {
            "text/html": [
              "\n",
              "        <iframe\n",
              "            width=\"600\"\n",
              "            height=\"400\"\n",
              "            src=\"https://www.youtube.com/embed/FPZxXX0fx40\"\n",
              "            frameborder=\"0\"\n",
              "            allowfullscreen\n",
              "        ></iframe>\n",
              "        "
            ],
            "text/plain": [
              "<IPython.lib.display.YouTubeVideo at 0x7fdeb819cb00>"
            ],
            "image/jpeg": "[encoded data removed]"
          },
          "metadata": {
            "tags": []
          },
          "execution_count": 1
        }
      ]
    },
    {
      "cell_type": "markdown",
      "metadata": {
        "id": "gOwiQyE0fFB1"
      },
      "source": [
        "#The following example demonstrate calculation of a recompression and pumping system for CO2"
      ]
    },
    {
      "cell_type": "code",
      "metadata": {
        "id": "CEw6CiZofQTy",
        "outputId": "67d08ca8-fe2d-4a8b-e294-6e4397e936d4",
        "colab": {
          "base_uri": "https://localhost:8080/"
        }
      },
      "source": [
        "from neqsim.thermo import fluid, phaseenvelope,printFrame\n",
        "from neqsim.process import clearProcess, stream, valve, pump, separator, compressor, runProcess, viewProcess, heater, mixer, recycle, cooler\n",
        "\n",
        "# Start by creating a fluid in neqsim\n",
        "fluid1 = fluid(\"srk\")  # create a fluid using the SRK-EoS\n",
        "fluid1.addComponent(\"CO2\", 2.0)\n",
        "fluid1.setTemperature(35.15, \"C\")\n",
        "fluid1.setPressure(1.5, \"bara\")\n",
        "fluid1.setTotalFlowRate(0.5, \"MSm3/day\")\n",
        "\n",
        "\n",
        "clearProcess()\n",
        "stream1 = stream(fluid1,name='feed CO2')\n",
        "compressor1 = compressor(stream1,pres=5.0, name='1st stage compressor')\n",
        "cooler1 = cooler(compressor1.getOutStream(),name='1st stage after cooler')\n",
        "cooler1.setOutTemperature(20.0, 'C')\n",
        "compressor2 = compressor(cooler1.getOutStream(),pres=10.0, name='2ns stage compressor')\n",
        "cooler2 = cooler(compressor2.getOutStream(),name='2nd stage after cooler')\n",
        "cooler2.setOutTemperature(20.0, 'C')\n",
        "compressor3 = compressor(cooler2.getOutStream(),pres=25.0, name='3rd stage compressor')\n",
        "cooler3 = cooler(compressor3.getOutStream(),name='3rd stage after cooler')\n",
        "cooler3.setOutTemperature(20.0, 'C')\n",
        "compressor4 = compressor(cooler3.getOutStream(),pres=60.0, name='4th stage compressor')\n",
        "cooler4 = cooler(compressor4.getOutStream(),name='4th stage after cooler')\n",
        "cooler4.setOutTemperature(50.0, 'C')\n",
        "pump1 = pump(cooler4.getOutStream(),name='CO2 injection pump',p=200.0)\n",
        "runProcess()\n",
        "\n",
        "print('1st stage compressor power ', compressor1.getPower()/1.0e6, ' MW')\n",
        "print('2nd stage compressor power ', compressor2.getPower()/1.0e6, ' MW')\n",
        "print('3rd stage compressor power ', compressor3.getPower()/1.0e6, ' MW')\n",
        "print('4th stage compressor power ', compressor4.getPower()/1.0e6, ' MW')\n",
        "print('CO2 injection pump ', pump1.getPower()/1.0e6, ' MW')\n",
        "\n",
        "print('cooler 1 duty ', cooler1.getDuty()/1.0e6, ' MW')\n",
        "print('cooler 2 duty ', cooler2.getDuty()/1.0e6, ' MW')\n",
        "print('cooler 3 duty ', cooler3.getDuty()/1.0e6, ' MW')\n",
        "print('cooler 4 duty ', cooler4.getDuty()/1.0e6, ' MW')\n"
      ],
      "execution_count": 21,
      "outputs": [
        {
          "output_type": "stream",
          "text": [
            "1st stage compressor power  0.8565174203905608  MW\n",
            "2nd stage compressor power  0.43509095418346105  MW\n",
            "3rd stage compressor power  0.5733428768285741  MW\n",
            "4th stage compressor power  0.49610524392068117  MW\n",
            "CO2 injection pump  0.7119994875116886  MW\n",
            "cooler 1 duty  -1.0314991728532705  MW\n",
            "cooler 2 duty  -0.4886947847046334  MW\n",
            "cooler 3 duty  -0.7530435479458016  MW\n",
            "cooler 4 duty  -0.5825667844401152  MW\n"
          ],
          "name": "stdout"
        }
      ]
    }
  ]
}