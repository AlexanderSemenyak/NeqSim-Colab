{
  "nbformat": 4,
  "nbformat_minor": 0,
  "metadata": {
    "colab": {
      "name": "MultiphaseflowMeasurement.ipynb",
      "provenance": [],
      "collapsed_sections": [],
      "authorship_tag": "ABX9TyOmv48B/wFmz+Cpf7XgYFeB",
      "include_colab_link": true
    },
    "kernelspec": {
      "name": "python3",
      "display_name": "Python 3"
    }
  },
  "cells": [
    {
      "cell_type": "markdown",
      "metadata": {
        "id": "view-in-github",
        "colab_type": "text"
      },
      "source": [
        "<a href=\"https://colab.research.google.com/github/EvenSol/NeqSim-Colab/blob/master/notebooks/process/MultiphaseflowMeasurement.ipynb\" target=\"_parent\"><img src=\"https://colab.research.google.com/assets/colab-badge.svg\" alt=\"Open In Colab\"/></a>"
      ]
    },
    {
      "cell_type": "code",
      "metadata": {
        "id": "O7AGIOKNFYgJ",
        "colab_type": "code",
        "cellView": "form",
        "colab": {}
      },
      "source": [
        "#@title Multiphase flow measurements\n",
        "#@markdown This document is part of the module [\"Introduction to Gas Processing using NeqSim in Colab\"](https://colab.research.google.com/github/EvenSol/NeqSim-Colab/blob/master/notebooks/examples_of_NeqSim_in_Colab.ipynb#scrollTo=_eRtkQnHpL70).\n",
        "%%capture\n",
        "!pip install neqsim\n",
        "import neqsim\n",
        "from neqsim.thermo.thermoTools import *\n",
        "import matplotlib\n",
        "import numpy as np\n",
        "import matplotlib.pyplot as plt\n",
        "import math\n",
        "import pandas as pd\n",
        "%matplotlib inline"
      ],
      "execution_count": 0,
      "outputs": []
    },
    {
      "cell_type": "markdown",
      "metadata": {
        "id": "JPiXYIUqF457",
        "colab_type": "text"
      },
      "source": [
        "# Multiphase flow measurement\n",
        "A multiphase flow meter is a device used to measure the individual phase flow rates of constituent phases in a given flow (for example in oil and gas industry) where oil, water and gas mixtures are initially co-mingled together during the oil production processes."
      ]
    },
    {
      "cell_type": "markdown",
      "metadata": {
        "id": "zYE43klJFdmH",
        "colab_type": "text"
      },
      "source": [
        "# Litterature\n",
        "\n",
        "Wikipedia\n",
        "\n",
        "https://en.wikipedia.org/wiki/Multiphase_flow_meter\n",
        "\n",
        "\n",
        "HANDBOOK OF MULTIPHASE FLOW METERING:\n",
        "\n",
        "https://nfogm.no/wp-content/uploads/2014/02/MPFM_Handbook_Revision2_2005_ISBN-82-91341-89-3.pdf"
      ]
    },
    {
      "cell_type": "code",
      "metadata": {
        "id": "mA__BpznJQCa",
        "colab_type": "code",
        "cellView": "form",
        "outputId": "8afedfda-b3c9-44d6-c1dd-a4c60b71aba7",
        "colab": {
          "base_uri": "https://localhost:8080/",
          "height": 421
        }
      },
      "source": [
        "#@title Webinar: Advances in Multiphase Metering for Onshore Measurement in Oil & Gas\n",
        "#@markdown This video gives an intriduction to Oil & Gas facilities Design\n",
        "from IPython.display import YouTubeVideo\n",
        "YouTubeVideo('mcxrjJwidl0', width=600, height=400)"
      ],
      "execution_count": 2,
      "outputs": [
        {
          "output_type": "execute_result",
          "data": {
            "text/html": [
              "\n",
              "        <iframe\n",
              "            width=\"600\"\n",
              "            height=\"400\"\n",
              "            src=\"https://www.youtube.com/embed/mcxrjJwidl0\"\n",
              "            frameborder=\"0\"\n",
              "            allowfullscreen\n",
              "        ></iframe>\n",
              "        "
            ],
            "text/plain": [
              "<IPython.lib.display.YouTubeVideo at 0x7fc001688d68>"
            ],
            "image/jpeg": "[encoded data removed]"
          },
          "metadata": {
            "tags": []
          },
          "execution_count": 2
        }
      ]
    },
    {
      "cell_type": "markdown",
      "metadata": {
        "id": "Q-xDKX45JfBe",
        "colab_type": "text"
      },
      "source": [
        "# Calculation of PVT properties for a multiphase flow meter\n",
        "\n",
        "A typical multi phase flow meter will need calclation of various thermodynamic and physical properties. SUch properties have to be updated s the field is produced. The input to the property calculations are a characterized fluid composition from PVT studies.\n",
        "\n",
        "The following script demonstrates calculation of PVT properties for a multi phase flow meter using a CHaracterized fluid composition."
      ]
    },
    {
      "cell_type": "code",
      "metadata": {
        "id": "n2591sOyJ0Kp",
        "colab_type": "code",
        "outputId": "9aaf113d-5401-4dbc-c72c-5774effadcd9",
        "colab": {
          "base_uri": "https://localhost:8080/",
          "height": 1000
        }
      },
      "source": [
        "names = ['nitrogen','CO2', 'methane', 'ethane', 'propane','i-butane','n-butane','i-pentane','n-pentane']\n",
        "molefractions = [0.972, 0.632, 95.111, 2.553, 0.104, 0.121, 0.021, 0.066, 0.02]\n",
        "fluidDefinedComponents = createfluid2(names, molefractions, \"mol/sec\")\n",
        "\n",
        "charNames = [\"C6\", \"C7\", \"C8\", \"C9\", \"C10\"]\n",
        "charFlowrate = [0.058, 0.107, 0.073, 0.044, 0.118]\n",
        "molarMass = [86.18/1000.0, 96.0/1000.0, 107.0/1000.0, 121.0/1000.0, 206.0/1000.0]\n",
        "density = [664.0e-3, 738.0e-3, 765.0e-3, 781.0e-3, 813.30e-3]\n",
        "characterizedFluid = addOilFractions(fluidDefinedComponents, charNames,charFlowrate,molarMass,  density);\n",
        "characterizedFluid.setHeavyTBPfractionAsPlusFraction()\n",
        "characterizedFluid.getCharacterization().getLumpingModel().setNumberOfPseudoComponents(12);\n",
        "characterizedFluid.getCharacterization().setLumpingModel(\"PVTlumpingModel\");\n",
        "characterizedFluid.getCharacterization().characterisePlusFraction();\n",
        "characterizedFluid.setMixingRule(2)\n",
        "characterizedFluid.init(0)\n",
        "characterizedFluid\n",
        "printFrame(characterizedFluid)\n",
        "characterizedFluid.setTemperature(273.15+20.6)\n",
        "characterizedFluid.setPressure(86.8)\n",
        "TPflash(characterizedFluid)\n",
        "GORcalc = characterizedFluid.getPhase(\"gas\").getNumberOfMolesInPhase()*8.314*288.15/101325  / (characterizedFluid.getPhase(\"oil\").getVolume(\"m3\"))\n",
        "print(\"GOR test sep \", GORcalc)\n",
        "\n",
        "characterizedFluid.setTemperature(273.15+15.0)\n",
        "characterizedFluid.setPressure(1.01325)\n",
        "TPflash(characterizedFluid)\n",
        "GORcalcstd = characterizedFluid.getPhase(\"gas\").getNumberOfMolesInPhase()*8.314*288.15/101325  / (characterizedFluid.getPhase(\"oil\").getVolume(\"m3\"))\n",
        "print(\"GOR standard \", GORcalcstd)\n",
        "\n",
        "print('phase envelope for characterized fluid')\n",
        "phaseenvelope(characterizedFluid, True)"
      ],
      "execution_count": 13,
      "outputs": [
        {
          "output_type": "stream",
          "text": [
            "                          total         gas         oil                     \n",
            "           nitrogen     9.72E-3     9.72E-3     9.72E-3      [mole fraction]\n",
            "                CO2     6.32E-3     6.32E-3     6.32E-3      [mole fraction]\n",
            "            methane   9.5111E-1   9.5111E-1   9.5111E-1      [mole fraction]\n",
            "             ethane    2.553E-2    2.553E-2    2.553E-2      [mole fraction]\n",
            "            propane     1.04E-3     1.04E-3     1.04E-3      [mole fraction]\n",
            "           i-butane     1.21E-3     1.21E-3     1.21E-3      [mole fraction]\n",
            "           n-butane      2.1E-4      2.1E-4      2.1E-4      [mole fraction]\n",
            "          i-pentane      6.6E-4      6.6E-4      6.6E-4      [mole fraction]\n",
            "          n-pentane        2E-4        2E-4        2E-4      [mole fraction]\n",
            "              C6_PC      5.8E-4      5.8E-4      5.8E-4      [mole fraction]\n",
            "              C7_PC     1.07E-3     1.07E-3     1.07E-3      [mole fraction]\n",
            "              C8_PC      7.3E-4      7.3E-4      7.3E-4      [mole fraction]\n",
            "              C9_PC      4.4E-4      4.4E-4      4.4E-4      [mole fraction]\n",
            "          C10-11_PC  3.56113E-4  3.56113E-4  3.56113E-4      [mole fraction]\n",
            "          C12-13_PC  2.48642E-4  2.48642E-4  2.48642E-4      [mole fraction]\n",
            "          C14-15_PC  1.73604E-4  1.73604E-4  1.73604E-4      [mole fraction]\n",
            "          C16-17_PC  1.21212E-4  1.21212E-4  1.21212E-4      [mole fraction]\n",
            "          C18-20_PC  1.16823E-4  1.16823E-4  1.16823E-4      [mole fraction]\n",
            "          C21-23_PC  6.81568E-5  6.81568E-5  6.81568E-5      [mole fraction]\n",
            "          C24-28_PC  5.65702E-5  5.65702E-5  5.65702E-5      [mole fraction]\n",
            "          C29-79_PC  3.88784E-5  3.88784E-5  3.88784E-5      [mole fraction]\n",
            "                                                                            \n",
            "            Density              6.99028E-1  6.99028E-1             [kg/m^3]\n",
            "      PhaseFraction                     1E0         1E0      [mole fraction]\n",
            "          MolarMass   1.72944E1   1.72944E1   1.72944E1            [kg/kmol]\n",
            "           Z factor              9.98059E-1  9.98059E-1                  [-]\n",
            " Heat Capacity (Cp)               2.14743E0   2.14743E0            [kJ/kg*K]\n",
            " Heat Capacity (Cv)                1.6614E0    1.6614E0            [kJ/kg*K]\n",
            "     Speed of Sound               4.29598E2   4.29598E2              [m/sec]\n",
            "           Enthalpy   1.03405E2   5.17023E1   5.17023E1              [kJ/kg]\n",
            "            Entropy  6.38918E-1  3.19459E-1  3.19459E-1            [kJ/kg*K]\n",
            "     JT coefficient              4.94578E-1  4.94578E-1              [K/bar]\n",
            "                                                                            \n",
            "          Viscosity              1.12472E-5  1.12472E-5           [kg/m*sec]\n",
            "       Conductivity              3.35556E-2  3.35556E-2              [W/m*K]\n",
            "     SurfaceTension                     0E0         0E0                [N/m]\n",
            "                                                                            \n",
            "                                                                            \n",
            "                                                                            \n",
            "           Pressure                     1.0         1.0                [bar]\n",
            "        Temperature                  298.15      298.15                  [K]\n",
            "                                                                            \n",
            "              Model                 SRK-EOS     SRK-EOS                    -\n",
            "        Mixing Rule                 classic     classic                    -\n",
            "                                                                            \n",
            "             Stream                                                        -\n",
            "                                                                            \n",
            "                                                                            \n",
            "                                                                            \n",
            "                                                                            \n",
            "GOR test sep  35343.31021228896\n",
            "GOR standard  63557.20730727485\n",
            "phase envelope for characterized fluid\n"
          ],
          "name": "stdout"
        },
        {
          "output_type": "display_data",
          "data": {
            "image/png": "[encoded data removed]",
            "text/plain": [
              "<Figure size 432x288 with 1 Axes>"
            ]
          },
          "metadata": {
            "tags": [],
            "needs_background": "light"
          }
        },
        {
          "output_type": "execute_result",
          "data": {
            "text/plain": [
              "JavaObject id=o1030"
            ]
          },
          "metadata": {
            "tags": []
          },
          "execution_count": 13
        }
      ]
    },
    {
      "cell_type": "markdown",
      "metadata": {
        "id": "by7fj9C1Jzw6",
        "colab_type": "text"
      },
      "source": [
        "## Generation of properties for multiphase measurements\n",
        "\n",
        "The following script demonstrates how to generate typical properties for a multiphase flow meter."
      ]
    },
    {
      "cell_type": "code",
      "metadata": {
        "id": "JrkAA9K7pt7d",
        "colab_type": "code",
        "outputId": "4e3efb19-10c0-4382-b2cc-ec30c3b298ae",
        "colab": {
          "base_uri": "https://localhost:8080/",
          "height": 623
        }
      },
      "source": [
        "import numpy\n",
        "import numpy as np\n",
        "\n",
        "pressures = [150.0, 170.0, 180.0, 200.0, 270.0, 320.0, 400.0]\n",
        "temperatures = [30.0, 40.0, 50.0, 60.0, 80.0]\n",
        "\n",
        "numP = len(pressures)\n",
        "numT = len(temperatures)\n",
        "\n",
        "gasViscosity = numpy.zeros((numP, numT))\n",
        "oilViscosity = numpy.zeros((numP, numT))\n",
        "gasDensity = numpy.zeros((numP, numT))\n",
        "oilDensity = numpy.zeros((numP, numT))\n",
        "GORcalc  = numpy.zeros((numP, numT))\n",
        "GORactual = numpy.zeros((numP, numT))\n",
        "gasViscosity[:] = np.NaN\n",
        "oilViscosity[:] = np.NaN\n",
        "gasDensity[:] = np.NaN\n",
        "oilDensity[:] = np.NaN\n",
        "GORcalc[:] = np.NaN\n",
        "GORactual[:] = np.NaN\n",
        "\n",
        "for i in range(len(temperatures)):\n",
        "  for j in range(len(pressures)):\n",
        "    characterizedFluid.setPressure(pressures[j])\n",
        "    characterizedFluid.setTemperature(temperatures[i]+273.15)\n",
        "    TPflash(characterizedFluid)\n",
        "    characterizedFluid.initProperties()\n",
        "    if(characterizedFluid.hasPhaseType(\"gas\")):\n",
        "      gasViscosity[j][i]=characterizedFluid.getPhase(\"gas\").getViscosity(\"cP\")\n",
        "      gasDensity[j][i]=characterizedFluid.getPhase(\"gas\").getDensity(\"kg/m3\")\n",
        "    if(characterizedFluid.hasPhaseType(\"oil\")):\n",
        "      oilViscosity[j][i]=characterizedFluid.getPhase(\"oil\").getViscosity(\"cP\")\n",
        "      oilDensity[j][i]=characterizedFluid.getPhase(\"oil\").getDensity(\"kg/m3\")\n",
        "    if(characterizedFluid.hasPhaseType(\"gas\") and characterizedFluid.hasPhaseType(\"oil\")):\n",
        "      GORcalc[j][i] = characterizedFluid.getPhase(\"gas\").getNumberOfMolesInPhase()*8.314*288.15/101325  / (characterizedFluid.getPhase(\"oil\").getVolume(\"m3\"))\n",
        "      GORactual[j][i] =   (characterizedFluid.getPhase(\"gas\").getVolume(\"m3\"))/ (characterizedFluid.getPhase(\"oil\").getVolume(\"m3\"))\n",
        "\n",
        "gasDensityDataFrame = pd.DataFrame(gasDensity,index=pressures, columns=temperatures)\n",
        "oilDensityDataFrame = pd.DataFrame(oilDensity,index=pressures, columns=temperatures)\n",
        "gasviscosityDataFrame = pd.DataFrame(gasViscosity,index=pressures, columns=temperatures)\n",
        "oilviscosityDataFrame = pd.DataFrame(oilViscosity,index=pressures, columns=temperatures)\n",
        "GORcalcFrame = pd.DataFrame(GORcalc,index=pressures, columns=temperatures)\n",
        "GORactualFrame = pd.DataFrame(GORactual,index=pressures, columns=temperatures)\n",
        "\n",
        "print(\"gas density\")\n",
        "print(gasDensityDataFrame.tail())\n",
        "print(\"oil density\")\n",
        "print(oilDensityDataFrame.head())\n",
        "print(\"gas viscosity\")\n",
        "print(gasviscosityDataFrame.tail())\n",
        "print(\"oil viscosity\")\n",
        "print(oilviscosityDataFrame.head())\n",
        "print(\"GOR actual\")\n",
        "print(GORactualFrame.head())"
      ],
      "execution_count": 4,
      "outputs": [
        {
          "output_type": "stream",
          "text": [
            "gas density\n",
            "             30.0        40.0        50.0        60.0        80.0\n",
            "180.0  147.337596  138.903035  131.540780  125.058990  114.158414\n",
            "200.0  162.480979  153.352548  145.316025  138.198251  126.161698\n",
            "270.0  207.048453  196.449606  187.184595  178.753360  164.073531\n",
            "320.0  231.102732  220.929510  211.489428  202.750551  187.202817\n",
            "400.0  261.651193  251.906782  242.695978  234.014023  218.176539\n",
            "oil density\n",
            "             30.0        40.0        50.0        60.0        80.0\n",
            "150.0  707.630035  713.584132  719.793605  726.143824  738.933397\n",
            "170.0  709.247375  715.043000  721.160906  727.476990  740.454422\n",
            "180.0  711.154617  716.760081  722.748045  728.990512  742.023352\n",
            "200.0  717.077643  722.126826  727.730798  733.753712  746.809373\n",
            "270.0         NaN  758.094152  760.760450  763.926852  770.301401\n",
            "gas viscosity\n",
            "           30.0      40.0      50.0      60.0      80.0\n",
            "180.0  0.018396  0.018130  0.017957  0.017856  0.017808\n",
            "200.0  0.019576  0.019199  0.018932  0.018751  0.018573\n",
            "270.0  0.023733  0.022993  0.022433  0.021990  0.021376\n",
            "320.0  0.026488  0.025614  0.024891  0.024295  0.023408\n",
            "400.0  0.030594  0.029518  0.028597  0.027812  0.026574\n",
            "oil viscosity\n",
            "           30.0      40.0      50.0      60.0      80.0\n",
            "150.0  0.388208  0.403944  0.422759  0.444526  0.496736\n",
            "170.0  0.394587  0.409962  0.428546  0.450172  0.502764\n",
            "180.0  0.401788  0.416692  0.434988  0.456504  0.509768\n",
            "200.0  0.424666  0.438112  0.455620  0.477035  0.532785\n",
            "270.0       NaN  0.676853  0.683925  0.697136  0.729967\n",
            "GOR actual\n",
            "             30.0         40.0         50.0         60.0         80.0\n",
            "150.0  326.324422   399.073754   493.308242   615.666206   987.967623\n",
            "170.0  363.425856   441.077562   542.769093   676.407138  1094.021509\n",
            "180.0  393.953280   475.525430   583.263951   726.077631  1179.449283\n",
            "200.0  488.156737   581.506217   707.806367   878.873255  1438.259020\n",
            "270.0         NaN  1928.715919  2236.723383  2686.349467  4406.009172\n"
          ],
          "name": "stdout"
        }
      ]
    },
    {
      "cell_type": "markdown",
      "metadata": {
        "id": "DlDYbrjeMH5D",
        "colab_type": "text"
      },
      "source": [
        "# Test the fluid characterisation by comparing to PVT data\n",
        "The bubble point pressure is determined by an experiment called Constant Composition Expansion (CCE). It's also called Constant Mass Expansion (CME) experiment or Pressure-Volume (PV) relationship. ... The cell pressure is controlled by a positive displacement pump and recorded on an accurate pressure gauge."
      ]
    },
    {
      "cell_type": "code",
      "metadata": {
        "id": "FJwXt1d3MFON",
        "colab_type": "code",
        "outputId": "ff6db406-ca25-4ea8-8e78-72d7cc181ef7",
        "colab": {
          "base_uri": "https://localhost:8080/",
          "height": 481
        }
      },
      "source": [
        "\n",
        "pressure = [555.3, 500.0, 400.0, 350.0, 300.0, 250.0, 230.0, 190.0, 150.0, 100.0, 50.0, 46.1]\n",
        "temperature = [273.15+73.0, 273.15+73.0, 273.15+73.0, 273.15+73.0, 273.15+73.0, 273.15+73.0, 273.15+73.0, 273.15+73.0, 273.15+73.0, 273.15+73.0, 273.15+73.0, 273.15+73.0]\n",
        "\n",
        "relativevolume = []\n",
        "liquidrelativevolume = []\n",
        "Zgas =  []\n",
        "Yfactor = []\n",
        "isothermalcompressibility = []\n",
        "\n",
        "CME(characterizedFluid,pressure,temperature,relativevolume, liquidrelativevolume,Zgas,Yfactor,isothermalcompressibility)\n",
        "\n",
        "plt.figure(figsize=(20, 5))\n",
        "plt.subplot(131)\n",
        "plt.plot(pressure, relativevolume, \"o\")\n",
        "plt.xlabel('Pressure [bara]')\n",
        "plt.ylabel('relative volume [-]')\n",
        "plt.subplot(132)\n",
        "plt.plot(pressure, Yfactor, \"o\")\n",
        "plt.xlabel('Pressure [bara]')\n",
        "plt.ylabel('Yfactor [-]')\n",
        "plt.subplot(133)\n",
        "plt.plot(pressure, isothermalcompressibility, \"o\")\n",
        "plt.xlabel('Pressure [bara]')\n",
        "plt.ylabel('isothermalcompressibility [1/bar]')\n",
        "plt.show()\n",
        "\n",
        "Yfactorarray= np.asarray([relativevolume,Yfactor,Zgas, isothermalcompressibility,liquidrelativevolume])\n",
        "pressurearray= np.asarray(pressure)\n",
        "temperaturearray= np.asarray(temperature)\n",
        "YfactorFrame = pd.DataFrame(Yfactorarray.transpose(),index=pressurearray, columns=[\"relativevolume\", \"Yfactor\", \"Zgas\", \"isothermalcompressibility\", \"liquidrelativevolume\"])\n",
        "print(\"YfactorFrame\")\n",
        "print(YfactorFrame.head(20).to_string())\n",
        "print()"
      ],
      "execution_count": 12,
      "outputs": [
        {
          "output_type": "display_data",
          "data": {
            "image/png": "[encoded data removed]",
            "text/plain": [
              "<Figure size 1440x360 with 3 Axes>"
            ]
          },
          "metadata": {
            "tags": [],
            "needs_background": "light"
          }
        },
        {
          "output_type": "stream",
          "text": [
            "YfactorFrame\n",
            "       relativevolume   Yfactor      Zgas  isothermalcompressibility  liquidrelativevolume\n",
            "555.3        0.676768  0.000000  1.288073                   0.000665              0.000000\n",
            "500.0        0.704436  0.000000  1.207216                   0.000790              0.000000\n",
            "400.0        0.774805  0.000000  1.062248                   0.001153              0.000000\n",
            "350.0        0.826625  0.000000  0.991630                   0.001457              0.000000\n",
            "300.0        0.898708  0.000000  0.924087                   0.001923              0.000000\n",
            "250.0        1.009245  1.120488  0.000000                   0.000000              0.219675\n",
            "230.0        1.070777  1.387688  0.000000                   0.000000              0.287461\n",
            "190.0        1.247614  1.330371  0.000000                   0.000000              0.453960\n",
            "150.0        1.558138  1.225379  0.000000                   0.000000              0.645036\n",
            "100.0        2.416950  1.076888  0.000000                   0.000000              0.856355\n",
            "50.0         5.251836  0.952951  0.000000                   0.000000              0.918546\n",
            "46.1         5.739833  0.945005  0.000000                   0.000000              0.915544\n",
            "\n"
          ],
          "name": "stdout"
        }
      ]
    }
  ]
}