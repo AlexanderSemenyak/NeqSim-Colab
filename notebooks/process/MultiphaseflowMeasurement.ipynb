{
  "nbformat": 4,
  "nbformat_minor": 0,
  "metadata": {
    "colab": {
      "name": "MultiphaseflowMeasurement.ipynb",
      "provenance": [],
      "collapsed_sections": [],
      "authorship_tag": "ABX9TyP6mdtIxNl0avph3wLV7Hh4",
      "include_colab_link": true
    },
    "kernelspec": {
      "name": "python3",
      "display_name": "Python 3"
    }
  },
  "cells": [
    {
      "cell_type": "markdown",
      "metadata": {
        "id": "view-in-github",
        "colab_type": "text"
      },
      "source": [
        "<a href=\"https://colab.research.google.com/github/EvenSol/NeqSim-Colab/blob/master/notebooks/process/MultiphaseflowMeasurement.ipynb\" target=\"_parent\"><img src=\"https://colab.research.google.com/assets/colab-badge.svg\" alt=\"Open In Colab\"/></a>"
      ]
    },
    {
      "cell_type": "code",
      "metadata": {
        "id": "O7AGIOKNFYgJ",
        "colab_type": "code",
        "cellView": "form",
        "colab": {}
      },
      "source": [
        "#@title Multiphase flow measurements\n",
        "#@markdown This document is part of the module [\"Introduction to Gas Processing using NeqSim in Colab\"](https://colab.research.google.com/github/EvenSol/NeqSim-Colab/blob/master/notebooks/examples_of_NeqSim_in_Colab.ipynb#scrollTo=_eRtkQnHpL70).\n",
        "%%capture\n",
        "!pip install neqsim\n",
        "import neqsim\n",
        "from neqsim.thermo.thermoTools import *\n",
        "import matplotlib\n",
        "import numpy as np\n",
        "import matplotlib.pyplot as plt\n",
        "import math\n",
        "import pandas as pd\n",
        "%matplotlib inline"
      ],
      "execution_count": 0,
      "outputs": []
    },
    {
      "cell_type": "markdown",
      "metadata": {
        "id": "JPiXYIUqF457",
        "colab_type": "text"
      },
      "source": [
        "# Multiphase flow measurement\n",
        "A multiphase flow meter is a device used to measure the individual phase flow rates of constituent phases in a given flow (for example in oil and gas industry) where oil, water and gas mixtures are initially co-mingled together during the oil production processes."
      ]
    },
    {
      "cell_type": "markdown",
      "metadata": {
        "id": "zYE43klJFdmH",
        "colab_type": "text"
      },
      "source": [
        "# Litterature\n",
        "\n",
        "Wikipedia\n",
        "\n",
        "https://en.wikipedia.org/wiki/Multiphase_flow_meter\n",
        "\n",
        "\n",
        "HANDBOOK OF MULTIPHASE FLOW METERING:\n",
        "\n",
        "https://nfogm.no/wp-content/uploads/2014/02/MPFM_Handbook_Revision2_2005_ISBN-82-91341-89-3.pdf"
      ]
    },
    {
      "cell_type": "code",
      "metadata": {
        "id": "mA__BpznJQCa",
        "colab_type": "code",
        "cellView": "form",
        "outputId": "035f87a6-8de3-4e04-8799-a18f56870c2a",
        "colab": {
          "base_uri": "https://localhost:8080/",
          "height": 421
        }
      },
      "source": [
        "#@title Webinar: Advances in Multiphase Metering for Onshore Measurement in Oil & Gas\n",
        "#@markdown This video gives an intriduction to Oil & Gas facilities Design\n",
        "from IPython.display import YouTubeVideo\n",
        "YouTubeVideo('mcxrjJwidl0', width=600, height=400)"
      ],
      "execution_count": 0,
      "outputs": [
        {
          "output_type": "execute_result",
          "data": {
            "text/html": [
              "\n",
              "        <iframe\n",
              "            width=\"600\"\n",
              "            height=\"400\"\n",
              "            src=\"https://www.youtube.com/embed/mcxrjJwidl0\"\n",
              "            frameborder=\"0\"\n",
              "            allowfullscreen\n",
              "        ></iframe>\n",
              "        "
            ],
            "text/plain": [
              "<IPython.lib.display.YouTubeVideo at 0x7f9421b88dd8>"
            ],
            "image/jpeg": "[encoded data removed]"
          },
          "metadata": {
            "tags": []
          },
          "execution_count": 2
        }
      ]
    },
    {
      "cell_type": "markdown",
      "metadata": {
        "id": "Q-xDKX45JfBe",
        "colab_type": "text"
      },
      "source": [
        "# Calculation of PVT properties for a multiphase flow meter\n",
        "\n",
        "A typical multi phase flow meter will need calclation of various thermodynamic and physical properties. SUch properties have to be updated s the field is produced. The input to the property calculations are a characterized fluid composition from PVT studies.\n",
        "\n",
        "The following script demonstrates calculation of PVT properties for a multi phase flow meter using a CHaracterized fluid composition."
      ]
    },
    {
      "cell_type": "code",
      "metadata": {
        "id": "n2591sOyJ0Kp",
        "colab_type": "code",
        "outputId": "31fff1e7-2a7a-4fd8-e05a-1594bfa2eaf6",
        "colab": {
          "base_uri": "https://localhost:8080/",
          "height": 1000
        }
      },
      "source": [
        "names = ['nitrogen','CO2', 'methane', 'ethane', 'propane','i-butane','n-butane','i-pentane','n-pentane']\n",
        "molefractions = [0.963, 0.684, 94.951, 2.585, 0.114, 0.146, 0.024, 0.078, 0.022]\n",
        "fluidDefinedComponents = createfluid2(names, molefractions, \"mol/sec\")\n",
        "\n",
        "charNames = [\"C6\", \"C7\", \"C8\", \"C9\", \"C10\"]\n",
        "charFlowrate = [0.066, 0.111, 0.107, 0.047, 0.18]\n",
        "molarMass = [86.18/1000.0, 96.0/1000.0, 107.0/1000.0, 121.0/1000.0, 190.0/1000.0]\n",
        "density = [664.0e-3, 738.0e-3, 765.0e-3, 781.0e-3, 832.10e-3]\n",
        "characterizedFluid = addOilFractions(fluidDefinedComponents, charNames,charFlowrate,molarMass,  density);\n",
        "characterizedFluid.setHeavyTBPfractionAsPlusFraction()\n",
        "characterizedFluid.getCharacterization().getLumpingModel().setNumberOfPseudoComponents(12);\n",
        "characterizedFluid.getCharacterization().setLumpingModel(\"PVTlumpingModel\");\n",
        "characterizedFluid.getCharacterization().characterisePlusFraction();\n",
        "characterizedFluid.setMixingRule(2)\n",
        "characterizedFluid.init(0)\n",
        "characterizedFluid\n",
        "printFrame(characterizedFluid)\n",
        "characterizedFluid.setTemperature(273.15+20.6)\n",
        "characterizedFluid.setPressure(86.8)\n",
        "TPflash(characterizedFluid)\n",
        "\n",
        "GORcalc = characterizedFluid.getPhase(\"gas\").getNumberOfMolesInPhase()*8.314*288.15/101325  / (characterizedFluid.getPhase(\"oil\").getVolume(\"m3\"))\n",
        "print(\"GOR \", GORcalc)\n",
        "print('phase envelope for characterized fluid')\n",
        "phaseenvelope(characterizedFluid, True)"
      ],
      "execution_count": 0,
      "outputs": [
        {
          "output_type": "stream",
          "text": [
            "                          total          gas          oil                     \n",
            "           nitrogen  9.62249E-3   9.62249E-3   9.62249E-3      [mole fraction]\n",
            "                CO2  6.83467E-3   6.83467E-3   6.83467E-3      [mole fraction]\n",
            "            methane   9.4877E-1    9.4877E-1    9.4877E-1      [mole fraction]\n",
            "             ethane  2.58299E-2   2.58299E-2   2.58299E-2      [mole fraction]\n",
            "            propane  1.13911E-3   1.13911E-3   1.13911E-3      [mole fraction]\n",
            "           i-butane  1.45886E-3   1.45886E-3   1.45886E-3      [mole fraction]\n",
            "           n-butane  2.39813E-4   2.39813E-4   2.39813E-4      [mole fraction]\n",
            "          i-pentane  7.79392E-4   7.79392E-4   7.79392E-4      [mole fraction]\n",
            "          n-pentane  2.19829E-4   2.19829E-4   2.19829E-4      [mole fraction]\n",
            "              C6_PC  6.59486E-4   6.59486E-4   6.59486E-4      [mole fraction]\n",
            "              C7_PC  1.10913E-3   1.10913E-3   1.10913E-3      [mole fraction]\n",
            "              C8_PC  1.06917E-3   1.06917E-3   1.06917E-3      [mole fraction]\n",
            "              C9_PC  4.69634E-4   4.69634E-4   4.69634E-4      [mole fraction]\n",
            "          C10-10_PC  3.62834E-4   3.62834E-4   3.62834E-4      [mole fraction]\n",
            "          C11-11_PC  2.89639E-4   2.89639E-4   2.89639E-4      [mole fraction]\n",
            "          C12-13_PC  4.15777E-4   4.15777E-4   4.15777E-4      [mole fraction]\n",
            "          C14-15_PC  2.64946E-4   2.64946E-4   2.64946E-4      [mole fraction]\n",
            "          C16-17_PC  1.68832E-4   1.68832E-4   1.68832E-4      [mole fraction]\n",
            "          C18-20_PC  1.45709E-4   1.45709E-4   1.45709E-4      [mole fraction]\n",
            "          C21-24_PC  8.96006E-5   8.96006E-5   8.96006E-5      [mole fraction]\n",
            "          C25-79_PC  6.12585E-5   6.12585E-5   6.12585E-5      [mole fraction]\n",
            "                                                                              \n",
            "            Density               7.05975E-1   7.05975E-1             [kg/m^3]\n",
            "      PhaseFraction                      1E0          1E0      [mole fraction]\n",
            "          MolarMass   1.74655E1    1.74655E1    1.74655E1            [kg/kmol]\n",
            "           Z factor               9.98019E-1   9.98019E-1                  [-]\n",
            " Heat Capacity (Cp)                2.13853E0    2.13853E0            [kJ/kg*K]\n",
            " Heat Capacity (Cv)                1.65718E0    1.65718E0            [kJ/kg*K]\n",
            "     Speed of Sound                4.27126E2    4.27126E2              [m/sec]\n",
            "           Enthalpy   1.02934E2    5.14668E1    5.14668E1              [kJ/kg]\n",
            "            Entropy  6.49345E-1   3.24672E-1   3.24672E-1            [kJ/kg*K]\n",
            "     JT coefficient                4.9973E-1    4.9973E-1              [K/bar]\n",
            "                                                                              \n",
            "          Viscosity               1.12469E-5   1.12469E-5           [kg/m*sec]\n",
            "       Conductivity               3.34119E-2   3.34119E-2              [W/m*K]\n",
            "     SurfaceTension              1.31906E-76  1.31906E-76                [N/m]\n",
            "                                                                              \n",
            "                                                                              \n",
            "                                                                              \n",
            "           Pressure                      1.0          1.0                [bar]\n",
            "        Temperature                   298.15       298.15                  [K]\n",
            "                                                                              \n",
            "              Model                  SRK-EOS      SRK-EOS                    -\n",
            "        Mixing Rule                  classic      classic                    -\n",
            "                                                                              \n",
            "             Stream                                                          -\n",
            "                                                                              \n",
            "                                                                              \n",
            "                                                                              \n",
            "                                                                              \n",
            "GOR  25716.07400014996\n",
            "phase envelope for characterized fluid\n"
          ],
          "name": "stdout"
        },
        {
          "output_type": "display_data",
          "data": {
            "image/png": "[encoded data removed]",
            "text/plain": [
              "<Figure size 432x288 with 1 Axes>"
            ]
          },
          "metadata": {
            "tags": [],
            "needs_background": "light"
          }
        },
        {
          "output_type": "execute_result",
          "data": {
            "text/plain": [
              "JavaObject id=o72"
            ]
          },
          "metadata": {
            "tags": []
          },
          "execution_count": 3
        }
      ]
    },
    {
      "cell_type": "markdown",
      "metadata": {
        "id": "by7fj9C1Jzw6",
        "colab_type": "text"
      },
      "source": [
        "## Generation of properties for multiphase measurements\n",
        "\n",
        "The following script demonstrates how to generate typical properties for a multiphase flow meter."
      ]
    },
    {
      "cell_type": "code",
      "metadata": {
        "id": "JrkAA9K7pt7d",
        "colab_type": "code",
        "outputId": "3a430b60-897d-49e3-841e-4077bce73df1",
        "colab": {
          "base_uri": "https://localhost:8080/",
          "height": 612
        }
      },
      "source": [
        "import numpy\n",
        "import numpy as np\n",
        "\n",
        "pressures = [150.0, 170.0, 180.0, 200.0, 270.0, 320.0, 400.0]\n",
        "temperatures = [30.0, 40.0, 50.0, 60.0, 80.0]\n",
        "\n",
        "numP = len(pressures)\n",
        "numT = len(temperatures)\n",
        "\n",
        "gasViscosity = numpy.zeros((numP, numT))\n",
        "oilViscosity = numpy.zeros((numP, numT))\n",
        "gasDensity = numpy.zeros((numP, numT))\n",
        "oilDensity = numpy.zeros((numP, numT))\n",
        "GORcalc  = numpy.zeros((numP, numT))\n",
        "GORactual = numpy.zeros((numP, numT))\n",
        "gasViscosity[:] = np.NaN\n",
        "oilViscosity[:] = np.NaN\n",
        "gasDensity[:] = np.NaN\n",
        "oilDensity[:] = np.NaN\n",
        "GORcalc[:] = np.NaN\n",
        "GORactual[:] = np.NaN\n",
        "\n",
        "for i in range(len(temperatures)):\n",
        "  for j in range(len(pressures)):\n",
        "    characterizedFluid.setPressure(pressures[j])\n",
        "    characterizedFluid.setTemperature(temperatures[i]+273.15)\n",
        "    TPflash(characterizedFluid)\n",
        "    characterizedFluid.initProperties()\n",
        "    if(characterizedFluid.hasPhaseType(\"gas\")):\n",
        "      gasViscosity[j][i]=characterizedFluid.getPhase(\"gas\").getViscosity(\"cP\")\n",
        "      gasDensity[j][i]=characterizedFluid.getPhase(\"gas\").getDensity(\"kg/m3\")\n",
        "    if(characterizedFluid.hasPhaseType(\"oil\")):\n",
        "      oilViscosity[j][i]=characterizedFluid.getPhase(\"oil\").getViscosity(\"cP\")\n",
        "      oilDensity[j][i]=characterizedFluid.getPhase(\"oil\").getDensity(\"kg/m3\")\n",
        "    if(characterizedFluid.hasPhaseType(\"gas\") and characterizedFluid.hasPhaseType(\"oil\")):\n",
        "      GORcalc[j][i] = characterizedFluid.getPhase(\"gas\").getNumberOfMolesInPhase()*8.314*288.15/101325  / (characterizedFluid.getPhase(\"oil\").getVolume(\"m3\"))\n",
        "      GORactual[j][i] =   (characterizedFluid.getPhase(\"gas\").getVolume(\"m3\"))/ (characterizedFluid.getPhase(\"oil\").getVolume(\"m3\"))\n",
        "\n",
        "gasDensityDataFrame = pd.DataFrame(gasDensity,index=pressures, columns=temperatures)\n",
        "oilDensityDataFrame = pd.DataFrame(oilDensity,index=pressures, columns=temperatures)\n",
        "gasviscosityDataFrame = pd.DataFrame(gasViscosity,index=pressures, columns=temperatures)\n",
        "oilviscosityDataFrame = pd.DataFrame(oilViscosity,index=pressures, columns=temperatures)\n",
        "GORcalcFrame = pd.DataFrame(GORcalc,index=pressures, columns=temperatures)\n",
        "GORactualFrame = pd.DataFrame(GORactual,index=pressures, columns=temperatures)\n",
        "\n",
        "print(\"gas density\")\n",
        "print(gasDensityDataFrame.tail())\n",
        "print(\"oil density\")\n",
        "print(oilDensityDataFrame.head())\n",
        "print(\"gas viscosity\")\n",
        "print(gasviscosityDataFrame.tail())\n",
        "print(\"oil viscosity\")\n",
        "print(oilviscosityDataFrame.head())\n",
        "print(\"GOR actual\")\n",
        "print(GORactualFrame.head())"
      ],
      "execution_count": 0,
      "outputs": [
        {
          "output_type": "stream",
          "text": [
            "gas density\n",
            "             30.0        40.0        50.0        60.0        80.0\n",
            "180.0  147.338305  138.962699  131.660332  125.236464  114.437942\n",
            "200.0  162.645278  153.563175  145.575493  138.505656  126.554824\n",
            "270.0  207.527074  197.322940  188.038370  179.592502  164.884188\n",
            "320.0  232.468372  222.239261  212.742943  203.804371  188.271613\n",
            "400.0  263.029793  253.246972  243.996018  235.273024  219.353614\n",
            "oil density\n",
            "             30.0        40.0        50.0        60.0        80.0\n",
            "150.0  707.889718  712.255191  716.769083  721.432068  731.200914\n",
            "170.0  706.632222  711.028699  715.672475  720.534254  730.858795\n",
            "180.0  706.949470  711.296026  715.950380  720.867486  731.421311\n",
            "200.0  709.523103  713.638788  718.205086  723.150916  734.090956\n",
            "270.0  739.053481  741.132778  744.198472  747.980170  756.457872\n",
            "gas viscosity\n",
            "           30.0      40.0      50.0      60.0      80.0\n",
            "180.0  0.018397  0.018133  0.017964  0.017866  0.017822\n",
            "200.0  0.019587  0.019213  0.018948  0.018769  0.018595\n",
            "270.0  0.023777  0.023067  0.022502  0.022055  0.021433\n",
            "320.0  0.026631  0.025744  0.025008  0.024388  0.023494\n",
            "400.0  0.030767  0.029676  0.028742  0.027944  0.026687\n",
            "oil viscosity\n",
            "           30.0      40.0      50.0      60.0      80.0\n",
            "150.0  0.388520  0.398103  0.409674  0.423361  0.457528\n",
            "170.0  0.384346  0.393868  0.405634  0.419676  0.454974\n",
            "180.0  0.385550  0.394866  0.406603  0.420748  0.456691\n",
            "200.0  0.394672  0.403222  0.414673  0.428949  0.466603\n",
            "270.0  0.519481  0.519822  0.526646  0.538663  0.572610\n",
            "GOR actual\n",
            "             30.0        40.0         50.0         60.0         80.0\n",
            "150.0  223.542578  265.411116   318.261491   385.532892   584.743849\n",
            "170.0  234.830905  278.204244   333.718923   405.241378   621.524147\n",
            "180.0  246.716147  291.558318   349.452218   424.607777   654.855279\n",
            "200.0  286.190300  335.675206   400.981480   487.386871   760.125942\n",
            "270.0  816.093838  913.117315  1057.720736  1263.174117  1960.990820\n"
          ],
          "name": "stdout"
        }
      ]
    },
    {
      "cell_type": "markdown",
      "metadata": {
        "id": "DlDYbrjeMH5D",
        "colab_type": "text"
      },
      "source": [
        "# Test the fluid characterisation by comparing to PVT data\n",
        "The bubble point pressure is determined by an experiment called Constant Composition Expansion (CCE). It's also called Constant Mass Expansion (CME) experiment or Pressure-Volume (PV) relationship. ... The cell pressure is controlled by a positive displacement pump and recorded on an accurate pressure gauge."
      ]
    },
    {
      "cell_type": "code",
      "metadata": {
        "id": "FJwXt1d3MFON",
        "colab_type": "code",
        "colab": {
          "base_uri": "https://localhost:8080/",
          "height": 538
        },
        "outputId": "d0562d38-e90f-4298-d05f-5beabeccfefe"
      },
      "source": [
        "\n",
        "pressure = [500.0, 350.0, 300.0, 250.0, 190.0, 150.0, 100.0, 50.0, 10.0]\n",
        "temperature = [273.15+75.0, 273.15+75.0, 273.15+75.0, 273.15+75.0, 273.15+75.0, 273.15+75.0, 273.15+75.0, 273.15+75.0, 273.15+75.0]\n",
        "\n",
        "relativevolume = []\n",
        "liquidrelativevolume = []\n",
        "Zgas =  []\n",
        "Yfactor = []\n",
        "isothermalcompressibility = []\n",
        "\n",
        "CME(characterizedFluid,pressure,temperature,relativevolume, liquidrelativevolume,Zgas,Yfactor,isothermalcompressibility)\n",
        "Yfactor[7]=float('nan')\n",
        "plt.figure(figsize=(20, 5))\n",
        "plt.subplot(131)\n",
        "plt.plot(pressure, relativevolume, \"o\")\n",
        "plt.xlabel('Pressure [bara]')\n",
        "plt.ylabel('relative volume [-]')\n",
        "plt.subplot(132)\n",
        "plt.plot(pressure, Yfactor, \"o\")\n",
        "plt.xlabel('Pressure [bara]')\n",
        "plt.ylabel('Yfactor [-]')\n",
        "plt.subplot(133)\n",
        "plt.plot(pressure, isothermalcompressibility, \"o\")\n",
        "plt.xlabel('Pressure [bara]')\n",
        "plt.ylabel('isothermalcompressibility [1/bar]')\n",
        "plt.show()\n",
        "\n",
        "Yfactorarray= np.asarray([relativevolume,Yfactor,Zgas, isothermalcompressibility,liquidrelativevolume])\n",
        "pressurearray= np.asarray(pressure)\n",
        "temperaturearray= np.asarray(temperature)\n",
        "YfactorFrame = pd.DataFrame(Yfactorarray.transpose(),index=pressurearray, columns=[\"relativevolume\", \"Yfactor\",\"Zgas\",\"isothermalcompressibility\",\"liquidrelativevolume\"])\n",
        "print(\"YfactorFrame\")\n",
        "print(YfactorFrame.head(10).to_string())\n",
        "print()"
      ],
      "execution_count": 31,
      "outputs": [
        {
          "output_type": "display_data",
          "data": {
            "image/png": "[encoded data removed]",
            "text/plain": [
              "<Figure size 1440x360 with 3 Axes>"
            ]
          },
          "metadata": {
            "tags": [],
            "needs_background": "light"
          }
        },
        {
          "output_type": "stream",
          "text": [
            "YfactorFrame\n",
            "       relativevolume   Yfactor      Zgas  isothermalcompressibility  liquidrelativevolume\n",
            "500.0        0.687963  0.000000  1.207672                   0.000783              0.000000\n",
            "350.0        0.806036  0.000000  0.990460                   0.001442              0.000000\n",
            "300.0        0.875599  0.000000  0.922233                   0.001904              0.000000\n",
            "250.0        0.979992  0.000000  0.860155                   0.002670              0.000000\n",
            "190.0        1.214115  1.315580  0.000000                   0.000000              0.560199\n",
            "150.0        1.517568  1.204613  0.000000                   0.000000              0.846167\n",
            "100.0        2.355510  1.058792  0.000000                   0.000000              1.093943\n",
            "50.0         5.119380       NaN  0.000000                   0.000000              1.137869\n",
            "10.0        27.785604  0.871813  0.000000                   0.000000              0.964948\n",
            "\n"
          ],
          "name": "stdout"
        }
      ]
    }
  ]
}