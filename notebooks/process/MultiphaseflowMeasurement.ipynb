{
  "nbformat": 4,
  "nbformat_minor": 0,
  "metadata": {
    "colab": {
      "name": "MultiphaseflowMeasurement.ipynb",
      "provenance": [],
      "collapsed_sections": [],
      "authorship_tag": "ABX9TyNbuMXJlrPUR9svtYycTBcL",
      "include_colab_link": true
    },
    "kernelspec": {
      "name": "python3",
      "display_name": "Python 3"
    }
  },
  "cells": [
    {
      "cell_type": "markdown",
      "metadata": {
        "id": "view-in-github",
        "colab_type": "text"
      },
      "source": [
        "<a href=\"https://colab.research.google.com/github/EvenSol/NeqSim-Colab/blob/master/notebooks/process/MultiphaseflowMeasurement.ipynb\" target=\"_parent\"><img src=\"https://colab.research.google.com/assets/colab-badge.svg\" alt=\"Open In Colab\"/></a>"
      ]
    },
    {
      "cell_type": "code",
      "metadata": {
        "id": "O7AGIOKNFYgJ",
        "colab_type": "code",
        "cellView": "form",
        "colab": {}
      },
      "source": [
        "#@title Multiphase flow measurements\n",
        "#@markdown This document is part of the module [\"Introduction to Gas Processing using NeqSim in Colab\"](https://colab.research.google.com/github/EvenSol/NeqSim-Colab/blob/master/notebooks/examples_of_NeqSim_in_Colab.ipynb#scrollTo=_eRtkQnHpL70).\n",
        "%%capture\n",
        "!pip install neqsim\n",
        "import neqsim\n",
        "from neqsim.thermo.thermoTools import *\n",
        "import matplotlib\n",
        "import numpy as np\n",
        "import matplotlib.pyplot as plt\n",
        "import math\n",
        "import pandas as pd\n",
        "%matplotlib inline"
      ],
      "execution_count": 0,
      "outputs": []
    },
    {
      "cell_type": "markdown",
      "metadata": {
        "id": "JPiXYIUqF457",
        "colab_type": "text"
      },
      "source": [
        "# Multiphase flow measurement\n",
        "A multiphase flow meter is a device used to measure the individual phase flow rates of constituent phases in a given flow (for example in oil and gas industry) where oil, water and gas mixtures are initially co-mingled together during the oil production processes."
      ]
    },
    {
      "cell_type": "markdown",
      "metadata": {
        "id": "zYE43klJFdmH",
        "colab_type": "text"
      },
      "source": [
        "# Litterature\n",
        "\n",
        "Wikipedia\n",
        "\n",
        "https://en.wikipedia.org/wiki/Multiphase_flow_meter\n",
        "\n",
        "\n",
        "HANDBOOK OF MULTIPHASE FLOW METERING:\n",
        "\n",
        "https://nfogm.no/wp-content/uploads/2014/02/MPFM_Handbook_Revision2_2005_ISBN-82-91341-89-3.pdf"
      ]
    },
    {
      "cell_type": "code",
      "metadata": {
        "id": "mA__BpznJQCa",
        "colab_type": "code",
        "cellView": "form",
        "outputId": "0e39bc86-29da-42af-adf2-b486768b5d2a",
        "colab": {
          "base_uri": "https://localhost:8080/",
          "height": 421
        }
      },
      "source": [
        "#@title Webinar: Advances in Multiphase Metering for Onshore Measurement in Oil & Gas\n",
        "#@markdown This video gives an intriduction to Oil & Gas facilities Design\n",
        "from IPython.display import YouTubeVideo\n",
        "YouTubeVideo('mcxrjJwidl0', width=600, height=400)"
      ],
      "execution_count": 2,
      "outputs": [
        {
          "output_type": "execute_result",
          "data": {
            "text/html": [
              "\n",
              "        <iframe\n",
              "            width=\"600\"\n",
              "            height=\"400\"\n",
              "            src=\"https://www.youtube.com/embed/mcxrjJwidl0\"\n",
              "            frameborder=\"0\"\n",
              "            allowfullscreen\n",
              "        ></iframe>\n",
              "        "
            ],
            "text/plain": [
              "<IPython.lib.display.YouTubeVideo at 0x7f1f0e9c8ef0>"
            ],
            "image/jpeg": "[encoded data removed]"
          },
          "metadata": {
            "tags": []
          },
          "execution_count": 2
        }
      ]
    },
    {
      "cell_type": "markdown",
      "metadata": {
        "id": "Q-xDKX45JfBe",
        "colab_type": "text"
      },
      "source": [
        "# Calculation of PVT properties for a multiphase flow meter\n",
        "\n",
        "A typical multi phase flow meter will need calclation of various thermodynamic and physical properties. SUch properties have to be updated s the field is produced. The input to the property calculations are a characterized fluid composition from PVT studies.\n",
        "\n",
        "The following script demonstrates calculation of PVT properties for a multi phase flow meter using a CHaracterized fluid composition."
      ]
    },
    {
      "cell_type": "code",
      "metadata": {
        "id": "n2591sOyJ0Kp",
        "colab_type": "code",
        "outputId": "47f26f1d-9ef3-442c-f150-4cfb4782b459",
        "colab": {
          "base_uri": "https://localhost:8080/",
          "height": 1000
        }
      },
      "source": [
        "names = ['nitrogen','CO2', 'methane', 'ethane', 'propane','i-butane','n-butane','i-pentane','n-pentane']\n",
        "molefractions = [0.963, 0.684, 94.951, 2.585, 0.114, 0.146, 0.024, 0.078, 0.022]\n",
        "fluidDefinedComponents = createfluid2(names, molefractions, \"mol/sec\")\n",
        "\n",
        "charNames = [\"C6\", \"C7\", \"C8\", \"C9\", \"C10\"]\n",
        "charFlowrate = [0.066, 0.111, 0.107, 0.047, 0.138]\n",
        "molarMass = [86.18/1000.0, 96.0/1000.0, 107.0/1000.0, 121.0/1000.0, 200.0/1000.0]\n",
        "density = [664.0e-3, 738.0e-3, 765.0e-3, 781.0e-3, 812.10e-3]\n",
        "characterizedFluid = addOilFractions(fluidDefinedComponents, charNames,charFlowrate,molarMass,  density);\n",
        "characterizedFluid.setHeavyTBPfractionAsPlusFraction()\n",
        "characterizedFluid.getCharacterization().getLumpingModel().setNumberOfPseudoComponents(12);\n",
        "characterizedFluid.getCharacterization().setLumpingModel(\"PVTlumpingModel\");\n",
        "characterizedFluid.getCharacterization().characterisePlusFraction();\n",
        "characterizedFluid.setMixingRule(2)\n",
        "characterizedFluid.init(0)\n",
        "characterizedFluid\n",
        "printFrame(characterizedFluid)\n",
        "print('phase envelope for characterized fluid')\n",
        "phaseenvelope(characterizedFluid, True)"
      ],
      "execution_count": 29,
      "outputs": [
        {
          "output_type": "stream",
          "text": [
            "                          total          gas          oil                     \n",
            "           nitrogen  9.62653E-3   9.62653E-3   9.62653E-3      [mole fraction]\n",
            "                CO2  6.83754E-3   6.83754E-3   6.83754E-3      [mole fraction]\n",
            "            methane  9.49168E-1   9.49168E-1   9.49168E-1      [mole fraction]\n",
            "             ethane  2.58407E-2   2.58407E-2   2.58407E-2      [mole fraction]\n",
            "            propane  1.13959E-3   1.13959E-3   1.13959E-3      [mole fraction]\n",
            "           i-butane  1.45947E-3   1.45947E-3   1.45947E-3      [mole fraction]\n",
            "           n-butane  2.39914E-4   2.39914E-4   2.39914E-4      [mole fraction]\n",
            "          i-pentane  7.79719E-4   7.79719E-4   7.79719E-4      [mole fraction]\n",
            "          n-pentane  2.19921E-4   2.19921E-4   2.19921E-4      [mole fraction]\n",
            "              C6_PC  6.59762E-4   6.59762E-4   6.59762E-4      [mole fraction]\n",
            "              C7_PC   1.1096E-3    1.1096E-3    1.1096E-3      [mole fraction]\n",
            "              C8_PC  1.06961E-3   1.06961E-3   1.06961E-3      [mole fraction]\n",
            "              C9_PC  4.69831E-4   4.69831E-4   4.69831E-4      [mole fraction]\n",
            "          C10-11_PC   4.4442E-4    4.4442E-4    4.4442E-4      [mole fraction]\n",
            "          C12-13_PC  3.01246E-4   3.01246E-4   3.01246E-4      [mole fraction]\n",
            "          C14-15_PC  2.04197E-4   2.04197E-4   2.04197E-4      [mole fraction]\n",
            "          C16-17_PC  1.38413E-4   1.38413E-4   1.38413E-4      [mole fraction]\n",
            "          C18-19_PC  9.38221E-5   9.38221E-5   9.38221E-5      [mole fraction]\n",
            "          C20-22_PC  8.72394E-5   8.72394E-5   8.72394E-5      [mole fraction]\n",
            "          C23-27_PC   6.8493E-5    6.8493E-5    6.8493E-5      [mole fraction]\n",
            "          C28-79_PC  4.16733E-5   4.16733E-5   4.16733E-5      [mole fraction]\n",
            "                                                                              \n",
            "            Density               7.03595E-1   7.03595E-1             [kg/m^3]\n",
            "      PhaseFraction                      1E0          1E0      [mole fraction]\n",
            "          MolarMass   1.74069E1    1.74069E1    1.74069E1            [kg/kmol]\n",
            "           Z factor               9.98032E-1   9.98032E-1                  [-]\n",
            " Heat Capacity (Cp)                 2.1418E0     2.1418E0            [kJ/kg*K]\n",
            " Heat Capacity (Cv)                1.65885E0    1.65885E0            [kJ/kg*K]\n",
            "     Speed of Sound                4.27961E2    4.27961E2              [m/sec]\n",
            "           Enthalpy   1.03105E2    5.15525E1    5.15525E1              [kJ/kg]\n",
            "            Entropy  6.47522E-1   3.23761E-1   3.23761E-1            [kJ/kg*K]\n",
            "     JT coefficient               4.97971E-1   4.97971E-1              [K/bar]\n",
            "                                                                              \n",
            "          Viscosity               1.12452E-5   1.12452E-5           [kg/m*sec]\n",
            "       Conductivity               3.34592E-2   3.34592E-2              [W/m*K]\n",
            "     SurfaceTension              2.04747E-75  2.04747E-75                [N/m]\n",
            "                                                                              \n",
            "                                                                              \n",
            "                                                                              \n",
            "           Pressure                      1.0          1.0                [bar]\n",
            "        Temperature                   298.15       298.15                  [K]\n",
            "                                                                              \n",
            "              Model                  SRK-EOS      SRK-EOS                    -\n",
            "        Mixing Rule                  classic      classic                    -\n",
            "                                                                              \n",
            "             Stream                                                          -\n",
            "                                                                              \n",
            "                                                                              \n",
            "                                                                              \n",
            "                                                                              \n",
            "phase envelope for characterized fluid\n"
          ],
          "name": "stdout"
        },
        {
          "output_type": "display_data",
          "data": {
            "image/png": "[encoded data removed]",
            "text/plain": [
              "<Figure size 432x288 with 1 Axes>"
            ]
          },
          "metadata": {
            "tags": [],
            "needs_background": "light"
          }
        },
        {
          "output_type": "execute_result",
          "data": {
            "text/plain": [
              "JavaObject id=o1702"
            ]
          },
          "metadata": {
            "tags": []
          },
          "execution_count": 29
        }
      ]
    },
    {
      "cell_type": "markdown",
      "metadata": {
        "id": "by7fj9C1Jzw6",
        "colab_type": "text"
      },
      "source": [
        "## Generation of properties for multiphase measurements\n",
        "\n",
        "The following script demonstrates how to generate typical properties for a multiphase flow meter."
      ]
    },
    {
      "cell_type": "code",
      "metadata": {
        "id": "JrkAA9K7pt7d",
        "colab_type": "code",
        "outputId": "a7a3adde-89e2-4345-ea2e-dca3819f98dc",
        "colab": {
          "base_uri": "https://localhost:8080/",
          "height": 502
        }
      },
      "source": [
        "import numpy\n",
        "import numpy as np\n",
        "\n",
        "pressures = [150.0, 170.0, 180.0, 200.0, 270.0]\n",
        "temperatures = [30.0, 40.0, 50.0, 60.0, 80.0]\n",
        "\n",
        "numP = len(pressures)\n",
        "numT = len(temperatures)\n",
        "\n",
        "gasViscosity = numpy.zeros((numP, numT))\n",
        "oilViscosity = numpy.zeros((numP, numT))\n",
        "gasDensity = numpy.zeros((numP, numT))\n",
        "oilDensity = numpy.zeros((numP, numT))\n",
        "\n",
        "gasViscosity[:] = np.NaN\n",
        "oilViscosity[:] = np.NaN\n",
        "gasDensity[:] = np.NaN\n",
        "oilDensity[:] = np.NaN\n",
        "\n",
        "for i in range(len(temperatures)):\n",
        "  for j in range(len(pressures)):\n",
        "    characterizedFluid.setPressure(pressures[j])\n",
        "    characterizedFluid.setTemperature(temperatures[i]+273.15)\n",
        "    TPflash(characterizedFluid)\n",
        "    characterizedFluid.initProperties()\n",
        "    if(characterizedFluid.hasPhaseType(\"gas\")):\n",
        "      gasViscosity[j][i]=characterizedFluid.getPhase(\"gas\").getViscosity(\"cP\")\n",
        "      gasDensity[j][i]=characterizedFluid.getPhase(\"gas\").getDensity(\"kg/m3\")\n",
        "    if(characterizedFluid.hasPhaseType(\"oil\")):\n",
        "      oilViscosity[j][i]=characterizedFluid.getPhase(\"oil\").getViscosity(\"cP\")\n",
        "      oilDensity[j][i]=characterizedFluid.getPhase(\"oil\").getDensity(\"kg/m3\")\n",
        "\n",
        "gasDensityDataFrame = pd.DataFrame(gasDensity,index=pressures, columns=temperatures)\n",
        "oilDensityDataFrame = pd.DataFrame(oilDensity,index=pressures, columns=temperatures)\n",
        "gasviscosityDataFrame = pd.DataFrame(gasViscosity,index=pressures, columns=temperatures)\n",
        "oilviscosityDataFrame = pd.DataFrame(oilViscosity,index=pressures, columns=temperatures)\n",
        "\n",
        "\n",
        "print(\"gas density\")\n",
        "print(gasDensityDataFrame.head())\n",
        "print(\"oil density\")\n",
        "print(oilDensityDataFrame.head())\n",
        "print(\"gas viscosity\")\n",
        "print(gasviscosityDataFrame.head())\n",
        "print(\"oil viscosity\")\n",
        "print(oilviscosityDataFrame.head())"
      ],
      "execution_count": 30,
      "outputs": [
        {
          "output_type": "stream",
          "text": [
            "gas density\n",
            "             30.0        40.0        50.0        60.0        80.0\n",
            "150.0  122.649443  115.647274  109.584965  104.271963   95.362006\n",
            "170.0  139.312104  131.310697  124.352916  118.242691  107.990331\n",
            "180.0  147.300945  138.872801  131.518933  125.047140  114.170342\n",
            "200.0  162.487005  153.361120  145.330855  138.221981  126.209116\n",
            "270.0  206.903457  196.706859  187.427057  178.985459  164.288519\n",
            "oil density\n",
            "             30.0        40.0        50.0        60.0        80.0\n",
            "150.0  689.072231  693.460010  697.772555  701.946741  709.739852\n",
            "170.0  686.830961  691.200733  695.544307  699.797736  707.951416\n",
            "180.0  686.562118  690.841384  695.141486  699.395720  707.694336\n",
            "200.0  687.743124  691.702667  695.817510  700.008870  708.522953\n",
            "270.0  710.283031  711.880150  714.196365  716.997100  723.113064\n",
            "gas viscosity\n",
            "           30.0      40.0      50.0      60.0      80.0\n",
            "150.0  0.016692  0.016595  0.016563  0.016579  0.016716\n",
            "170.0  0.017815  0.017605  0.017480  0.017420  0.017435\n",
            "180.0  0.018395  0.018128  0.017956  0.017856  0.017808\n",
            "200.0  0.019577  0.019200  0.018933  0.018752  0.018576\n",
            "270.0  0.023725  0.023019  0.022456  0.022011  0.021393\n",
            "oil viscosity\n",
            "           30.0      40.0      50.0      60.0      80.0\n",
            "150.0  0.380174  0.395082  0.412178  0.431206  0.474177\n",
            "170.0  0.378737  0.393017  0.409469  0.427864  0.470121\n",
            "180.0  0.381164  0.394908  0.410924  0.428997  0.471188\n",
            "200.0  0.392376  0.404708  0.419735  0.437251  0.479955\n",
            "270.0  0.526418  0.527761  0.535672  0.548731  0.585279\n"
          ],
          "name": "stdout"
        }
      ]
    }
  ]
}