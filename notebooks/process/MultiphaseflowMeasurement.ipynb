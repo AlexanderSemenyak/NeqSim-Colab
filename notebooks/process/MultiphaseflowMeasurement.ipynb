{
  "nbformat": 4,
  "nbformat_minor": 0,
  "metadata": {
    "colab": {
      "name": "MultiphaseflowMeasurement.ipynb",
      "provenance": [],
      "collapsed_sections": [],
      "authorship_tag": "ABX9TyOUSRJxlqOf87tCAOuhJ/H8",
      "include_colab_link": true
    },
    "kernelspec": {
      "name": "python3",
      "display_name": "Python 3"
    },
    "accelerator": "GPU"
  },
  "cells": [
    {
      "cell_type": "markdown",
      "metadata": {
        "id": "view-in-github",
        "colab_type": "text"
      },
      "source": [
        "<a href=\"https://colab.research.google.com/github/EvenSol/NeqSim-Colab/blob/master/notebooks/process/MultiphaseflowMeasurement.ipynb\" target=\"_parent\"><img src=\"https://colab.research.google.com/assets/colab-badge.svg\" alt=\"Open In Colab\"/></a>"
      ]
    },
    {
      "cell_type": "code",
      "metadata": {
        "id": "O7AGIOKNFYgJ",
        "colab_type": "code",
        "cellView": "form",
        "colab": {}
      },
      "source": [
        "#@title Multiphase flow measurements\n",
        "#@markdown This document is part of the module [\"Introduction to Gas Processing using NeqSim in Colab\"](https://colab.research.google.com/github/EvenSol/NeqSim-Colab/blob/master/notebooks/examples_of_NeqSim_in_Colab.ipynb#scrollTo=_eRtkQnHpL70).\n",
        "%%capture\n",
        "!pip install neqsim\n",
        "import neqsim\n",
        "from neqsim.thermo.thermoTools import *\n",
        "import matplotlib\n",
        "import numpy as np\n",
        "import matplotlib.pyplot as plt\n",
        "import math\n",
        "import pandas as pd\n",
        "%matplotlib inline"
      ],
      "execution_count": 0,
      "outputs": []
    },
    {
      "cell_type": "markdown",
      "metadata": {
        "id": "JPiXYIUqF457",
        "colab_type": "text"
      },
      "source": [
        "# Multiphase flow measurement\n",
        "A multiphase flow meter is a device used to measure the individual phase flow rates of constituent phases in a given flow (for example in oil and gas industry) where oil, water and gas mixtures are initially co-mingled together during the oil production processes."
      ]
    },
    {
      "cell_type": "markdown",
      "metadata": {
        "id": "zYE43klJFdmH",
        "colab_type": "text"
      },
      "source": [
        "# Litterature\n",
        "\n",
        "Wikipedia\n",
        "\n",
        "https://en.wikipedia.org/wiki/Multiphase_flow_meter\n",
        "\n",
        "\n",
        "HANDBOOK OF MULTIPHASE FLOW METERING:\n",
        "\n",
        "https://nfogm.no/wp-content/uploads/2014/02/MPFM_Handbook_Revision2_2005_ISBN-82-91341-89-3.pdf"
      ]
    },
    {
      "cell_type": "code",
      "metadata": {
        "id": "mA__BpznJQCa",
        "colab_type": "code",
        "cellView": "form",
        "outputId": "bee05683-b0c8-49b5-e65c-4ce70d5fdeae",
        "colab": {
          "base_uri": "https://localhost:8080/",
          "height": 421
        }
      },
      "source": [
        "#@title Webinar: Advances in Multiphase Metering for Onshore Measurement in Oil & Gas\n",
        "#@markdown This video gives an intriduction to Oil & Gas facilities Design\n",
        "from IPython.display import YouTubeVideo\n",
        "YouTubeVideo('mcxrjJwidl0', width=600, height=400)"
      ],
      "execution_count": 2,
      "outputs": [
        {
          "output_type": "execute_result",
          "data": {
            "text/html": [
              "\n",
              "        <iframe\n",
              "            width=\"600\"\n",
              "            height=\"400\"\n",
              "            src=\"https://www.youtube.com/embed/mcxrjJwidl0\"\n",
              "            frameborder=\"0\"\n",
              "            allowfullscreen\n",
              "        ></iframe>\n",
              "        "
            ],
            "text/plain": [
              "<IPython.lib.display.YouTubeVideo at 0x7f2984807dd8>"
            ],
            "image/jpeg": "[encoded data removed]"
          },
          "metadata": {
            "tags": []
          },
          "execution_count": 2
        }
      ]
    },
    {
      "cell_type": "markdown",
      "metadata": {
        "id": "Q-xDKX45JfBe",
        "colab_type": "text"
      },
      "source": [
        "# Calculation of PVT properties for a multiphase flow meter\n",
        "\n",
        "A typical multi phase flow meter will need calclation of various thermodynamic and physical properties. SUch properties have to be updated s the field is produced. The input to the property calculations are a characterized fluid composition from PVT studies.\n",
        "\n",
        "The following script demonstrates calculation of PVT properties for a multi phase flow meter using a CHaracterized fluid composition."
      ]
    },
    {
      "cell_type": "code",
      "metadata": {
        "id": "n2591sOyJ0Kp",
        "colab_type": "code",
        "outputId": "5c9c7342-3226-4c24-fdd1-3978b0751389",
        "colab": {
          "base_uri": "https://localhost:8080/",
          "height": 1000
        }
      },
      "source": [
        "names = ['nitrogen','CO2', 'methane', 'ethane', 'propane','i-butane','n-butane','i-pentane','n-pentane']\n",
        "molefractions = [0.972, 0.632, 95.111, 2.553, 0.104, 0.121, 0.021, 0.066, 0.02]\n",
        "fluidDefinedComponents = createfluid2(names, molefractions, \"mol/sec\")\n",
        "\n",
        "charNames = [\"C6\", \"C7\", \"C8\", \"C9\", \"C10\"]\n",
        "charFlowrate = [0.058, 0.107, 0.073, 0.044, 0.118]\n",
        "molarMass = [86.18/1000.0, 96.0/1000.0, 107.0/1000.0, 121.0/1000.0, 202.0/1000.0]\n",
        "density = [664.0e-3, 738.0e-3, 765.0e-3, 781.0e-3, 813.30e-3]\n",
        "characterizedFluid = addOilFractions(fluidDefinedComponents, charNames,charFlowrate,molarMass,  density);\n",
        "characterizedFluid.setHeavyTBPfractionAsPlusFraction()\n",
        "characterizedFluid.getCharacterization().getLumpingModel().setNumberOfPseudoComponents(12);\n",
        "characterizedFluid.getCharacterization().setLumpingModel(\"PVTlumpingModel\");\n",
        "characterizedFluid.getCharacterization().characterisePlusFraction();\n",
        "characterizedFluid.setMixingRule(2)\n",
        "characterizedFluid.init(0)\n",
        "characterizedFluid\n",
        "printFrame(characterizedFluid)\n",
        "characterizedFluid.setTemperature(273.15+20.6)\n",
        "characterizedFluid.setPressure(86.8)\n",
        "TPflash(characterizedFluid)\n",
        "GORcalc = characterizedFluid.getPhase(\"gas\").getNumberOfMolesInPhase()*8.314*288.15/101325  / (characterizedFluid.getPhase(\"oil\").getVolume(\"m3\"))\n",
        "print(\"GOR test sep \", GORcalc)\n",
        "\n",
        "characterizedFluid.setTemperature(273.15+15.0)\n",
        "characterizedFluid.setPressure(1.01325)\n",
        "TPflash(characterizedFluid)\n",
        "GORcalcstd = characterizedFluid.getPhase(\"gas\").getNumberOfMolesInPhase()*8.314*288.15/101325  / (characterizedFluid.getPhase(\"oil\").getVolume(\"m3\"))\n",
        "print(\"GOR standard \", GORcalcstd)\n",
        "\n",
        "characterizedFluid.setTemperature(273.15+80.6)\n",
        "characterizedFluid.setPressure(320.8)\n",
        "TPflash(characterizedFluid)\n",
        "printFrame(characterizedFluid)\n",
        "print('phase envelope for characterized fluid')\n",
        "phaseenvelope(characterizedFluid, True)"
      ],
      "execution_count": 28,
      "outputs": [
        {
          "output_type": "stream",
          "text": [
            "                          total         gas         oil                     \n",
            "           nitrogen     9.72E-3     9.72E-3     9.72E-3      [mole fraction]\n",
            "                CO2     6.32E-3     6.32E-3     6.32E-3      [mole fraction]\n",
            "            methane   9.5111E-1   9.5111E-1   9.5111E-1      [mole fraction]\n",
            "             ethane    2.553E-2    2.553E-2    2.553E-2      [mole fraction]\n",
            "            propane     1.04E-3     1.04E-3     1.04E-3      [mole fraction]\n",
            "           i-butane     1.21E-3     1.21E-3     1.21E-3      [mole fraction]\n",
            "           n-butane      2.1E-4      2.1E-4      2.1E-4      [mole fraction]\n",
            "          i-pentane      6.6E-4      6.6E-4      6.6E-4      [mole fraction]\n",
            "          n-pentane        2E-4        2E-4        2E-4      [mole fraction]\n",
            "              C6_PC      5.8E-4      5.8E-4      5.8E-4      [mole fraction]\n",
            "              C7_PC     1.07E-3     1.07E-3     1.07E-3      [mole fraction]\n",
            "              C8_PC      7.3E-4      7.3E-4      7.3E-4      [mole fraction]\n",
            "              C9_PC      4.4E-4      4.4E-4      4.4E-4      [mole fraction]\n",
            "          C10-11_PC  3.71793E-4  3.71793E-4  3.71793E-4      [mole fraction]\n",
            "          C12-13_PC  2.54649E-4  2.54649E-4  2.54649E-4      [mole fraction]\n",
            "          C14-15_PC  1.74415E-4  1.74415E-4  1.74415E-4      [mole fraction]\n",
            "          C16-17_PC   1.1946E-4   1.1946E-4   1.1946E-4      [mole fraction]\n",
            "          C18-19_PC  8.18211E-5  8.18211E-5  8.18211E-5      [mole fraction]\n",
            "          C20-22_PC  7.70434E-5  7.70434E-5  7.70434E-5      [mole fraction]\n",
            "          C23-27_PC  6.16779E-5  6.16779E-5  6.16779E-5      [mole fraction]\n",
            "          C28-79_PC  3.91408E-5  3.91408E-5  3.91408E-5      [mole fraction]\n",
            "                                                                            \n",
            "            Density              6.98837E-1  6.98837E-1             [kg/m^3]\n",
            "      PhaseFraction                     1E0         1E0      [mole fraction]\n",
            "          MolarMass   1.72896E1   1.72896E1   1.72896E1            [kg/kmol]\n",
            "           Z factor               9.9806E-1   9.9806E-1                  [-]\n",
            " Heat Capacity (Cp)                2.1475E0    2.1475E0            [kJ/kg*K]\n",
            " Heat Capacity (Cv)               1.66133E0   1.66133E0            [kJ/kg*K]\n",
            "     Speed of Sound               4.29672E2   4.29672E2              [m/sec]\n",
            "           Enthalpy   1.03409E2   5.17043E1   5.17043E1              [kJ/kg]\n",
            "            Entropy  6.38987E-1  3.19493E-1  3.19493E-1            [kJ/kg*K]\n",
            "     JT coefficient               4.9449E-1   4.9449E-1              [K/bar]\n",
            "                                                                            \n",
            "          Viscosity              1.12471E-5  1.12471E-5           [kg/m*sec]\n",
            "       Conductivity              3.35566E-2  3.35566E-2              [W/m*K]\n",
            "     SurfaceTension                     0E0         0E0                [N/m]\n",
            "                                                                            \n",
            "                                                                            \n",
            "                                                                            \n",
            "           Pressure                     1.0         1.0                [bar]\n",
            "        Temperature                  298.15      298.15                  [K]\n",
            "                                                                            \n",
            "              Model                 SRK-EOS     SRK-EOS                    -\n",
            "        Mixing Rule                 classic     classic                    -\n",
            "                                                                            \n",
            "             Stream                                                        -\n",
            "                                                                            \n",
            "                                                                            \n",
            "                                                                            \n",
            "                                                                            \n",
            "GOR test sep  35738.34692311348\n",
            "GOR standard  64978.66186269608\n",
            "                          total         gas                       \n",
            "           nitrogen     9.72E-3     9.72E-3        [mole fraction]\n",
            "                CO2     6.32E-3     6.32E-3        [mole fraction]\n",
            "            methane   9.5111E-1   9.5111E-1        [mole fraction]\n",
            "             ethane    2.553E-2    2.553E-2        [mole fraction]\n",
            "            propane     1.04E-3     1.04E-3        [mole fraction]\n",
            "           i-butane     1.21E-3     1.21E-3        [mole fraction]\n",
            "           n-butane      2.1E-4      2.1E-4        [mole fraction]\n",
            "          i-pentane      6.6E-4      6.6E-4        [mole fraction]\n",
            "          n-pentane        2E-4        2E-4        [mole fraction]\n",
            "              C6_PC      5.8E-4      5.8E-4        [mole fraction]\n",
            "              C7_PC     1.07E-3     1.07E-3        [mole fraction]\n",
            "              C8_PC      7.3E-4      7.3E-4        [mole fraction]\n",
            "              C9_PC      4.4E-4      4.4E-4        [mole fraction]\n",
            "          C10-11_PC  3.71793E-4  3.71793E-4        [mole fraction]\n",
            "          C12-13_PC  2.54649E-4  2.54649E-4        [mole fraction]\n",
            "          C14-15_PC  1.74415E-4  1.74415E-4        [mole fraction]\n",
            "          C16-17_PC   1.1946E-4   1.1946E-4        [mole fraction]\n",
            "          C18-19_PC  8.18211E-5  8.18211E-5        [mole fraction]\n",
            "          C20-22_PC  7.70434E-5  7.70434E-5        [mole fraction]\n",
            "          C23-27_PC  6.16779E-5  6.16779E-5        [mole fraction]\n",
            "          C28-79_PC  3.91408E-5  3.91408E-5        [mole fraction]\n",
            "                                                                  \n",
            "            Density               1.85983E2               [kg/m^3]\n",
            "      PhaseFraction                     1E0        [mole fraction]\n",
            "          MolarMass   1.72896E1   1.72896E1              [kg/kmol]\n",
            "           Z factor               1.02346E0                    [-]\n",
            " Heat Capacity (Cp)               3.21995E0              [kJ/kg*K]\n",
            " Heat Capacity (Cv)               2.01205E0              [kJ/kg*K]\n",
            "     Speed of Sound               6.18536E2                [m/sec]\n",
            "           Enthalpy   1.28077E1   1.28077E1                [kJ/kg]\n",
            "            Entropy  -2.46928E0  -2.46928E0              [kJ/kg*K]\n",
            "     JT coefficient               5.6788E-2                [K/bar]\n",
            "                                                                  \n",
            "          Viscosity              2.33319E-5             [kg/m*sec]\n",
            "       Conductivity              7.10339E-2                [W/m*K]\n",
            "     SurfaceTension                                          [N/m]\n",
            "                                                                  \n",
            "                                                                  \n",
            "                                                                  \n",
            "           Pressure                   320.8                  [bar]\n",
            "        Temperature                  353.75                    [K]\n",
            "                                                                  \n",
            "              Model                 SRK-EOS                      -\n",
            "        Mixing Rule                 classic                      -\n",
            "                                                                  \n",
            "             Stream                                              -\n",
            "                                                                  \n",
            "                                                                  \n",
            "                                                                  \n",
            "                                                                  \n",
            "phase envelope for characterized fluid\n"
          ],
          "name": "stdout"
        },
        {
          "output_type": "display_data",
          "data": {
            "image/png": "[encoded data removed]",
            "text/plain": [
              "<Figure size 432x288 with 1 Axes>"
            ]
          },
          "metadata": {
            "tags": [],
            "needs_background": "light"
          }
        },
        {
          "output_type": "execute_result",
          "data": {
            "text/plain": [
              "JavaObject id=o2924"
            ]
          },
          "metadata": {
            "tags": []
          },
          "execution_count": 28
        }
      ]
    },
    {
      "cell_type": "markdown",
      "metadata": {
        "id": "by7fj9C1Jzw6",
        "colab_type": "text"
      },
      "source": [
        "## Generation of properties for multiphase measurements\n",
        "\n",
        "The following script demonstrates how to generate typical properties for a multiphase flow meter."
      ]
    },
    {
      "cell_type": "code",
      "metadata": {
        "id": "JrkAA9K7pt7d",
        "colab_type": "code",
        "outputId": "6b54a5ba-ef37-46ec-a8bb-561d696617c9",
        "colab": {
          "base_uri": "https://localhost:8080/",
          "height": 633
        }
      },
      "source": [
        "import numpy\n",
        "import numpy as np\n",
        "\n",
        "pressures = [150.0, 170.0, 180.0, 200.0, 270.0, 320.0, 400.0]\n",
        "temperatures = [30.0, 40.0, 50.0, 60.0, 80.0]\n",
        "\n",
        "numP = len(pressures)\n",
        "numT = len(temperatures)\n",
        "\n",
        "gasViscosity = numpy.zeros((numP, numT))\n",
        "oilViscosity = numpy.zeros((numP, numT))\n",
        "gasDensity = numpy.zeros((numP, numT))\n",
        "oilDensity = numpy.zeros((numP, numT))\n",
        "GORcalc  = numpy.zeros((numP, numT))\n",
        "GORactual = numpy.zeros((numP, numT))\n",
        "gasViscosity[:] = np.NaN\n",
        "oilViscosity[:] = np.NaN\n",
        "gasDensity[:] = np.NaN\n",
        "oilDensity[:] = np.NaN\n",
        "GORcalc[:] = np.NaN\n",
        "GORactual[:] = np.NaN\n",
        "\n",
        "for i in range(len(temperatures)):\n",
        "  for j in range(len(pressures)):\n",
        "    characterizedFluid.setPressure(pressures[j])\n",
        "    characterizedFluid.setTemperature(temperatures[i]+273.15)\n",
        "    TPflash(characterizedFluid)\n",
        "    characterizedFluid.initProperties()\n",
        "    if(characterizedFluid.hasPhaseType(\"gas\")):\n",
        "      gasViscosity[j][i]=characterizedFluid.getPhase(\"gas\").getViscosity(\"cP\")\n",
        "      gasDensity[j][i]=characterizedFluid.getPhase(\"gas\").getDensity(\"kg/m3\")\n",
        "    if(characterizedFluid.hasPhaseType(\"oil\")):\n",
        "      oilViscosity[j][i]=characterizedFluid.getPhase(\"oil\").getViscosity(\"cP\")\n",
        "      oilDensity[j][i]=characterizedFluid.getPhase(\"oil\").getDensity(\"kg/m3\")\n",
        "    if(characterizedFluid.hasPhaseType(\"gas\") and characterizedFluid.hasPhaseType(\"oil\")):\n",
        "      GORcalc[j][i] = characterizedFluid.getPhase(\"gas\").getNumberOfMolesInPhase()*8.314*288.15/101325  / (characterizedFluid.getPhase(\"oil\").getVolume(\"m3\"))\n",
        "      GORactual[j][i] =   (characterizedFluid.getPhase(\"gas\").getVolume(\"m3\"))/ (characterizedFluid.getPhase(\"oil\").getVolume(\"m3\"))\n",
        "\n",
        "gasDensityDataFrame = pd.DataFrame(gasDensity,index=pressures, columns=temperatures)\n",
        "oilDensityDataFrame = pd.DataFrame(oilDensity,index=pressures, columns=temperatures)\n",
        "gasviscosityDataFrame = pd.DataFrame(gasViscosity,index=pressures, columns=temperatures)\n",
        "oilviscosityDataFrame = pd.DataFrame(oilViscosity,index=pressures, columns=temperatures)\n",
        "GORcalcFrame = pd.DataFrame(GORcalc,index=pressures, columns=temperatures)\n",
        "GORactualFrame = pd.DataFrame(GORactual,index=pressures, columns=temperatures)\n",
        "\n",
        "print(\"gas density\")\n",
        "print(gasDensityDataFrame.tail())\n",
        "print(\"oil density\")\n",
        "print(oilDensityDataFrame.head())\n",
        "print(\"gas viscosity\")\n",
        "print(gasviscosityDataFrame.tail())\n",
        "print(\"oil viscosity\")\n",
        "print(oilviscosityDataFrame.head())\n",
        "print(\"GOR actual\")\n",
        "print(GORactualFrame.head())"
      ],
      "execution_count": 4,
      "outputs": [
        {
          "output_type": "stream",
          "text": [
            "gas density\n",
            "             30.0        40.0        50.0        60.0        80.0\n",
            "180.0  146.445491  138.058831  130.737950  124.292650  113.453140\n",
            "200.0  161.468382  152.395434  144.407432  137.332091  125.364596\n",
            "270.0  205.462582  195.159408  185.959171  177.590978  163.034140\n",
            "320.0  229.456551  219.358451  209.992253  201.324701  185.908778\n",
            "400.0  259.961066  250.271954  241.117316  232.491442  216.762913\n",
            "oil density\n",
            "             30.0        40.0        50.0        60.0        80.0\n",
            "150.0  692.688922  697.260787  701.806444  706.296674  715.097039\n",
            "170.0  691.194163  695.792136  700.453013  705.135873  714.601294\n",
            "180.0  691.455417  695.986159  700.646104  705.389573  715.156085\n",
            "200.0  694.133550  698.375267  702.927653  707.719005  717.851512\n",
            "270.0         NaN  721.372340  723.051714  724.844778  727.881798\n",
            "gas viscosity\n",
            "           30.0      40.0      50.0      60.0      80.0\n",
            "180.0  0.018341  0.018079  0.017911  0.017814  0.017770\n",
            "200.0  0.019507  0.019137  0.018876  0.018699  0.018528\n",
            "270.0  0.023596  0.022888  0.022338  0.021904  0.021304\n",
            "320.0  0.026326  0.025469  0.024759  0.024175  0.023307\n",
            "400.0  0.030400  0.029340  0.028434  0.027662  0.026446\n",
            "oil viscosity\n",
            "           30.0      40.0      50.0      60.0      80.0\n",
            "150.0  0.382882  0.398023  0.415569  0.435471  0.482620\n",
            "170.0  0.383973  0.398834  0.416297  0.436322  0.484938\n",
            "180.0  0.388290  0.402818  0.420162  0.440313  0.490220\n",
            "200.0  0.405324  0.418862  0.435962  0.456625  0.509561\n",
            "270.0       NaN  0.564631  0.566089  0.571012  0.581447\n",
            "GOR actual\n",
            "             30.0         40.0         50.0         60.0          80.0\n",
            "150.0  380.913180   465.525379   575.425840   719.119321   1166.134084\n",
            "170.0  430.631073   523.137110   645.426219   808.348973   1333.732763\n",
            "180.0  472.934714   571.795197   704.148076   882.643783   1468.872653\n",
            "200.0  612.001684   730.486655   894.482845  1121.536686   1886.953177\n",
            "270.0         NaN  3778.201837  4498.881088  5901.641322  23456.203441\n"
          ],
          "name": "stdout"
        }
      ]
    },
    {
      "cell_type": "markdown",
      "metadata": {
        "id": "DlDYbrjeMH5D",
        "colab_type": "text"
      },
      "source": [
        "# Test the fluid characterisation by comparing to PVT data\n",
        "The bubble point pressure is determined by an experiment called Constant Composition Expansion (CCE). It's also called Constant Mass Expansion (CME) experiment or Pressure-Volume (PV) relationship. ... The cell pressure is controlled by a positive displacement pump and recorded on an accurate pressure gauge."
      ]
    },
    {
      "cell_type": "code",
      "metadata": {
        "id": "FJwXt1d3MFON",
        "colab_type": "code",
        "outputId": "015015ea-9d03-4f48-d0ae-c76a87da1ec8",
        "colab": {
          "base_uri": "https://localhost:8080/",
          "height": 598
        }
      },
      "source": [
        "\n",
        "pressure = [555.3, 500.0, 400.0, 350.0, 300.0, 250.0, 230.0, 190.0, 150.0, 100.0, 50.0, 46.1]\n",
        "temperature = [273.15+73.0, 273.15+73.0, 273.15+73.0, 273.15+73.0, 273.15+73.0, 273.15+73.0, 273.15+73.0, 273.15+73.0, 273.15+73.0, 273.15+73.0, 273.15+73.0, 273.15+73.0]\n",
        "\n",
        "relativevolume = []\n",
        "liquidrelativevolume = []\n",
        "Zgas =  []\n",
        "Yfactor = []\n",
        "isothermalcompressibility = []\n",
        "\n",
        "CME(characterizedFluid,pressure,temperature,relativevolume, liquidrelativevolume,Zgas,Yfactor,isothermalcompressibility)\n",
        "\n",
        "plt.figure(figsize=(20, 5))\n",
        "plt.subplot(131)\n",
        "plt.plot(pressure, relativevolume, \"o\")\n",
        "plt.xlabel('Pressure [bara]')\n",
        "plt.ylabel('relative volume [-]')\n",
        "plt.subplot(132)\n",
        "plt.plot(pressure, Yfactor, \"o\")\n",
        "plt.xlabel('Pressure [bara]')\n",
        "plt.ylabel('Yfactor [-]')\n",
        "plt.subplot(133)\n",
        "plt.plot(pressure, isothermalcompressibility, \"o\")\n",
        "plt.xlabel('Pressure [bara]')\n",
        "plt.ylabel('isothermalcompressibility [1/bar]')\n",
        "plt.show()\n",
        "\n",
        "Yfactorarray= np.asarray([relativevolume,Yfactor,Zgas, isothermalcompressibility,liquidrelativevolume])\n",
        "pressurearray= np.asarray(pressure)\n",
        "temperaturearray= np.asarray(temperature)\n",
        "YfactorFrame = pd.DataFrame(Yfactorarray.transpose(),index=pressurearray, columns=[\"relativevolume\", \"Yfactor\", \"Zgas\", \"isothermalcompressibility\", \"liquidrelativevolume\"])\n",
        "print(\"YfactorFrame\")\n",
        "print(YfactorFrame.head(20).to_string())\n",
        "print()"
      ],
      "execution_count": 29,
      "outputs": [
        {
          "output_type": "display_data",
          "data": {
            "image/png": "[encoded data removed]",
            "text/plain": [
              "<Figure size 1440x360 with 3 Axes>"
            ]
          },
          "metadata": {
            "tags": [],
            "needs_background": "light"
          }
        },
        {
          "output_type": "stream",
          "text": [
            "YfactorFrame\n",
            "       relativevolume   Yfactor      Zgas  isothermalcompressibility  liquidrelativevolume\n",
            "555.3        0.660793  0.000000  1.287465                   0.000666              0.000000\n",
            "500.0        0.687853  0.000000  1.206724                   0.000792              0.000000\n",
            "400.0        0.756687  0.000000  1.061986                   0.001155              0.000000\n",
            "350.0        0.807387  0.000000  0.991499                   0.001459              0.000000\n",
            "300.0        0.877923  0.000000  0.924103                   0.001927              0.000000\n",
            "250.0        0.983842  0.000000  0.862994                   0.002699              0.000000\n",
            "230.0        1.044928  1.364166  0.000000                   0.000000              0.169553\n",
            "190.0        1.217550  1.308749  0.000000                   0.000000              0.343912\n",
            "150.0        1.521132  1.203745  0.000000                   0.000000              0.558868\n",
            "100.0        2.360469  1.059169  0.000000                   0.000000              0.785502\n",
            "50.0         5.129871  0.939964  0.000000                   0.000000              0.850111\n",
            "46.1         5.606578  0.932349  0.000000                   0.000000              0.847308\n",
            "\n"
          ],
          "name": "stdout"
        }
      ]
    },
    {
      "cell_type": "code",
      "metadata": {
        "id": "K6EDXN873fEr",
        "colab_type": "code",
        "outputId": "5444cc15-b29d-402d-ae83-a34f13a0830c",
        "colab": {
          "base_uri": "https://localhost:8080/",
          "height": 228
        }
      },
      "source": [
        "relativevolume"
      ],
      "execution_count": 11,
      "outputs": [
        {
          "output_type": "execute_result",
          "data": {
            "text/plain": [
              "[0.6512493505546708,\n",
              " 0.6779318332861838,\n",
              " 0.74580947605273,\n",
              " 0.7958076560579066,\n",
              " 0.8653717620242595,\n",
              " 0.9698340530810322,\n",
              " 1.0296549115873401,\n",
              " 1.199741803371517,\n",
              " 1.4990713208331652,\n",
              " 2.326547700023088,\n",
              " 5.056402499288605,\n",
              " 5.526295900061116]"
            ]
          },
          "metadata": {
            "tags": []
          },
          "execution_count": 11
        }
      ]
    }
  ]
}