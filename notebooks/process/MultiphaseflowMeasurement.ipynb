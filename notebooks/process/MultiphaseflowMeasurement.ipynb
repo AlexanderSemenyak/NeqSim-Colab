{
  "nbformat": 4,
  "nbformat_minor": 0,
  "metadata": {
    "colab": {
      "name": "MultiphaseflowMeasurement.ipynb",
      "provenance": [],
      "collapsed_sections": [],
      "authorship_tag": "ABX9TyPcWUvssTk5+cHIYY2zD/qY",
      "include_colab_link": true
    },
    "kernelspec": {
      "name": "python3",
      "display_name": "Python 3"
    }
  },
  "cells": [
    {
      "cell_type": "markdown",
      "metadata": {
        "id": "view-in-github",
        "colab_type": "text"
      },
      "source": [
        "<a href=\"https://colab.research.google.com/github/EvenSol/NeqSim-Colab/blob/master/notebooks/process/MultiphaseflowMeasurement.ipynb\" target=\"_parent\"><img src=\"https://colab.research.google.com/assets/colab-badge.svg\" alt=\"Open In Colab\"/></a>"
      ]
    },
    {
      "cell_type": "code",
      "metadata": {
        "id": "O7AGIOKNFYgJ",
        "colab_type": "code",
        "cellView": "form",
        "colab": {}
      },
      "source": [
        "#@title Multiphase flow measurements\n",
        "#@markdown This document is part of the module [\"Introduction to Gas Processing using NeqSim in Colab\"](https://colab.research.google.com/github/EvenSol/NeqSim-Colab/blob/master/notebooks/examples_of_NeqSim_in_Colab.ipynb#scrollTo=_eRtkQnHpL70).\n",
        "%%capture\n",
        "!pip install neqsim\n",
        "import neqsim\n",
        "from neqsim.thermo.thermoTools import *\n",
        "import matplotlib\n",
        "import numpy as np\n",
        "import matplotlib.pyplot as plt\n",
        "import math\n",
        "import pandas as pd\n",
        "%matplotlib inline"
      ],
      "execution_count": 0,
      "outputs": []
    },
    {
      "cell_type": "markdown",
      "metadata": {
        "id": "JPiXYIUqF457",
        "colab_type": "text"
      },
      "source": [
        "# Multiphase flow measurement\n",
        "A multiphase flow meter is a device used to measure the individual phase flow rates of constituent phases in a given flow (for example in oil and gas industry) where oil, water and gas mixtures are initially co-mingled together during the oil production processes."
      ]
    },
    {
      "cell_type": "markdown",
      "metadata": {
        "id": "zYE43klJFdmH",
        "colab_type": "text"
      },
      "source": [
        "# Litterature\n",
        "\n",
        "Wikipedia\n",
        "\n",
        "https://en.wikipedia.org/wiki/Multiphase_flow_meter\n",
        "\n",
        "\n",
        "HANDBOOK OF MULTIPHASE FLOW METERING:\n",
        "\n",
        "https://nfogm.no/wp-content/uploads/2014/02/MPFM_Handbook_Revision2_2005_ISBN-82-91341-89-3.pdf"
      ]
    },
    {
      "cell_type": "code",
      "metadata": {
        "id": "mA__BpznJQCa",
        "colab_type": "code",
        "cellView": "form",
        "outputId": "ffc92548-e54b-4167-9d47-31a3d5a78bb7",
        "colab": {
          "base_uri": "https://localhost:8080/",
          "height": 421
        }
      },
      "source": [
        "#@title Webinar: Advances in Multiphase Metering for Onshore Measurement in Oil & Gas\n",
        "#@markdown This video gives an intriduction to Oil & Gas facilities Design\n",
        "from IPython.display import YouTubeVideo\n",
        "YouTubeVideo('mcxrjJwidl0', width=600, height=400)"
      ],
      "execution_count": 2,
      "outputs": [
        {
          "output_type": "execute_result",
          "data": {
            "text/html": [
              "\n",
              "        <iframe\n",
              "            width=\"600\"\n",
              "            height=\"400\"\n",
              "            src=\"https://www.youtube.com/embed/mcxrjJwidl0\"\n",
              "            frameborder=\"0\"\n",
              "            allowfullscreen\n",
              "        ></iframe>\n",
              "        "
            ],
            "text/plain": [
              "<IPython.lib.display.YouTubeVideo at 0x7f180b689e10>"
            ],
            "image/jpeg": "[encoded data removed]"
          },
          "metadata": {
            "tags": []
          },
          "execution_count": 2
        }
      ]
    },
    {
      "cell_type": "markdown",
      "metadata": {
        "id": "Q-xDKX45JfBe",
        "colab_type": "text"
      },
      "source": [
        "# Calculation of PVT properties for a multiphase flow meter\n",
        "\n",
        "A typical multi phase flow meter will need calclation of various thermodynamic and physical properties. SUch properties have to be updated s the field is produced. The input to the property calculations are a characterized fluid composition from PVT studies.\n",
        "\n",
        "The following script demonstrates calculation of PVT properties for a multi phase flow meter using a CHaracterized fluid composition."
      ]
    },
    {
      "cell_type": "code",
      "metadata": {
        "id": "n2591sOyJ0Kp",
        "colab_type": "code",
        "outputId": "6f0b0ff2-4c16-44be-f0f0-2f2114ef5a43",
        "colab": {
          "base_uri": "https://localhost:8080/",
          "height": 1000
        }
      },
      "source": [
        "names = ['nitrogen','CO2', 'methane', 'ethane', 'propane','i-butane','n-butane','i-pentane','n-pentane']\n",
        "molefractions = [0.972, 0.632, 95.111, 2.553, 0.104, 0.121, 0.021, 0.066, 0.02]\n",
        "fluidDefinedComponents = createfluid2(names, molefractions, \"mol/sec\")\n",
        "\n",
        "charNames = [\"C6\", \"C7\", \"C8\", \"C9\", \"C10\"]\n",
        "charFlowrate = [0.058, 0.107, 0.073, 0.044, 0.118]\n",
        "molarMass = [86.18/1000.0, 96.0/1000.0, 107.0/1000.0, 121.0/1000.0, 186.0/1000.0]\n",
        "density = [664.0e-3, 738.0e-3, 765.0e-3, 781.0e-3, 813.30e-3]\n",
        "characterizedFluid = addOilFractions(fluidDefinedComponents, charNames,charFlowrate,molarMass,  density);\n",
        "characterizedFluid.setHeavyTBPfractionAsPlusFraction()\n",
        "characterizedFluid.getCharacterization().getLumpingModel().setNumberOfPseudoComponents(12);\n",
        "characterizedFluid.getCharacterization().setLumpingModel(\"PVTlumpingModel\");\n",
        "characterizedFluid.getCharacterization().characterisePlusFraction();\n",
        "characterizedFluid.setMixingRule(2)\n",
        "characterizedFluid.init(0)\n",
        "characterizedFluid\n",
        "printFrame(characterizedFluid)\n",
        "characterizedFluid.setTemperature(273.15+20.6)\n",
        "characterizedFluid.setPressure(86.8)\n",
        "TPflash(characterizedFluid)\n",
        "GORcalc = characterizedFluid.getPhase(\"gas\").getNumberOfMolesInPhase()*8.314*288.15/101325  / (characterizedFluid.getPhase(\"oil\").getVolume(\"m3\"))\n",
        "print(\"GOR test sep \", GORcalc)\n",
        "\n",
        "characterizedFluid.setTemperature(273.15+15.0)\n",
        "characterizedFluid.setPressure(1.01325)\n",
        "TPflash(characterizedFluid)\n",
        "GORcalcstd = characterizedFluid.getPhase(\"gas\").getNumberOfMolesInPhase()*8.314*288.15/101325  / (characterizedFluid.getPhase(\"oil\").getVolume(\"m3\"))\n",
        "print(\"GOR standard \", GORcalcstd)\n",
        "\n",
        "print('phase envelope for characterized fluid')\n",
        "phaseenvelope(characterizedFluid, True)"
      ],
      "execution_count": 3,
      "outputs": [
        {
          "output_type": "stream",
          "text": [
            "                          total         gas         oil                     \n",
            "           nitrogen     9.72E-3     9.72E-3     9.72E-3      [mole fraction]\n",
            "                CO2     6.32E-3     6.32E-3     6.32E-3      [mole fraction]\n",
            "            methane   9.5111E-1   9.5111E-1   9.5111E-1      [mole fraction]\n",
            "             ethane    2.553E-2    2.553E-2    2.553E-2      [mole fraction]\n",
            "            propane     1.04E-3     1.04E-3     1.04E-3      [mole fraction]\n",
            "           i-butane     1.21E-3     1.21E-3     1.21E-3      [mole fraction]\n",
            "           n-butane      2.1E-4      2.1E-4      2.1E-4      [mole fraction]\n",
            "          i-pentane      6.6E-4      6.6E-4      6.6E-4      [mole fraction]\n",
            "          n-pentane        2E-4        2E-4        2E-4      [mole fraction]\n",
            "              C6_PC      5.8E-4      5.8E-4      5.8E-4      [mole fraction]\n",
            "              C7_PC     1.07E-3     1.07E-3     1.07E-3      [mole fraction]\n",
            "              C8_PC      7.3E-4      7.3E-4      7.3E-4      [mole fraction]\n",
            "              C9_PC      4.4E-4      4.4E-4      4.4E-4      [mole fraction]\n",
            "          C10-10_PC  2.52312E-4  2.52312E-4  2.52312E-4      [mole fraction]\n",
            "          C11-11_PC  1.98362E-4  1.98362E-4  1.98362E-4      [mole fraction]\n",
            "          C12-13_PC  2.78549E-4  2.78549E-4  2.78549E-4      [mole fraction]\n",
            "          C14-15_PC  1.72164E-4  1.72164E-4  1.72164E-4      [mole fraction]\n",
            "          C16-17_PC   1.0641E-4   1.0641E-4   1.0641E-4      [mole fraction]\n",
            "          C18-20_PC  8.85271E-5  8.85271E-5  8.85271E-5      [mole fraction]\n",
            "          C21-24_PC  5.17104E-5  5.17104E-5  5.17104E-5      [mole fraction]\n",
            "          C25-79_PC  3.19652E-5  3.19652E-5  3.19652E-5      [mole fraction]\n",
            "                                                                            \n",
            "            Density              6.98071E-1  6.98071E-1             [kg/m^3]\n",
            "      PhaseFraction                     1E0         1E0      [mole fraction]\n",
            "          MolarMass   1.72708E1   1.72708E1   1.72708E1            [kg/kmol]\n",
            "           Z factor              9.98064E-1  9.98064E-1                  [-]\n",
            " Heat Capacity (Cp)               2.14783E0   2.14783E0            [kJ/kg*K]\n",
            " Heat Capacity (Cv)               1.66115E0   1.66115E0            [kJ/kg*K]\n",
            "     Speed of Sound               4.29966E2   4.29966E2              [m/sec]\n",
            "           Enthalpy   1.03429E2   5.17143E1   5.17143E1              [kJ/kg]\n",
            "            Entropy   6.3942E-1   3.1971E-1   3.1971E-1            [kJ/kg*K]\n",
            "     JT coefficient              4.94106E-1  4.94106E-1              [K/bar]\n",
            "                                                                            \n",
            "          Viscosity              1.12468E-5  1.12468E-5           [kg/m*sec]\n",
            "       Conductivity               3.3562E-2   3.3562E-2              [W/m*K]\n",
            "     SurfaceTension                     0E0         0E0                [N/m]\n",
            "                                                                            \n",
            "                                                                            \n",
            "                                                                            \n",
            "           Pressure                     1.0         1.0                [bar]\n",
            "        Temperature                  298.15      298.15                  [K]\n",
            "                                                                            \n",
            "              Model                 SRK-EOS     SRK-EOS                    -\n",
            "        Mixing Rule                 classic     classic                    -\n",
            "                                                                            \n",
            "             Stream                                                        -\n",
            "                                                                            \n",
            "                                                                            \n",
            "                                                                            \n",
            "                                                                            \n",
            "GOR test sep  37542.08361828314\n",
            "GOR standard  72042.15982939363\n",
            "phase envelope for characterized fluid\n"
          ],
          "name": "stdout"
        },
        {
          "output_type": "display_data",
          "data": {
            "image/png": "[encoded data removed]",
            "text/plain": [
              "<Figure size 432x288 with 1 Axes>"
            ]
          },
          "metadata": {
            "tags": [],
            "needs_background": "light"
          }
        },
        {
          "output_type": "execute_result",
          "data": {
            "text/plain": [
              "JavaObject id=o75"
            ]
          },
          "metadata": {
            "tags": []
          },
          "execution_count": 3
        }
      ]
    },
    {
      "cell_type": "markdown",
      "metadata": {
        "id": "by7fj9C1Jzw6",
        "colab_type": "text"
      },
      "source": [
        "## Generation of properties for multiphase measurements\n",
        "\n",
        "The following script demonstrates how to generate typical properties for a multiphase flow meter."
      ]
    },
    {
      "cell_type": "code",
      "metadata": {
        "id": "JrkAA9K7pt7d",
        "colab_type": "code",
        "outputId": "6ddf38fc-140e-42fb-99f9-457b6f10276f",
        "colab": {
          "base_uri": "https://localhost:8080/",
          "height": 623
        }
      },
      "source": [
        "import numpy\n",
        "import numpy as np\n",
        "\n",
        "pressures = [150.0, 170.0, 180.0, 200.0, 270.0, 320.0, 400.0]\n",
        "temperatures = [30.0, 40.0, 50.0, 60.0, 80.0]\n",
        "\n",
        "numP = len(pressures)\n",
        "numT = len(temperatures)\n",
        "\n",
        "gasViscosity = numpy.zeros((numP, numT))\n",
        "oilViscosity = numpy.zeros((numP, numT))\n",
        "gasDensity = numpy.zeros((numP, numT))\n",
        "oilDensity = numpy.zeros((numP, numT))\n",
        "GORcalc  = numpy.zeros((numP, numT))\n",
        "GORactual = numpy.zeros((numP, numT))\n",
        "gasViscosity[:] = np.NaN\n",
        "oilViscosity[:] = np.NaN\n",
        "gasDensity[:] = np.NaN\n",
        "oilDensity[:] = np.NaN\n",
        "GORcalc[:] = np.NaN\n",
        "GORactual[:] = np.NaN\n",
        "\n",
        "for i in range(len(temperatures)):\n",
        "  for j in range(len(pressures)):\n",
        "    characterizedFluid.setPressure(pressures[j])\n",
        "    characterizedFluid.setTemperature(temperatures[i]+273.15)\n",
        "    TPflash(characterizedFluid)\n",
        "    characterizedFluid.initProperties()\n",
        "    if(characterizedFluid.hasPhaseType(\"gas\")):\n",
        "      gasViscosity[j][i]=characterizedFluid.getPhase(\"gas\").getViscosity(\"cP\")\n",
        "      gasDensity[j][i]=characterizedFluid.getPhase(\"gas\").getDensity(\"kg/m3\")\n",
        "    if(characterizedFluid.hasPhaseType(\"oil\")):\n",
        "      oilViscosity[j][i]=characterizedFluid.getPhase(\"oil\").getViscosity(\"cP\")\n",
        "      oilDensity[j][i]=characterizedFluid.getPhase(\"oil\").getDensity(\"kg/m3\")\n",
        "    if(characterizedFluid.hasPhaseType(\"gas\") and characterizedFluid.hasPhaseType(\"oil\")):\n",
        "      GORcalc[j][i] = characterizedFluid.getPhase(\"gas\").getNumberOfMolesInPhase()*8.314*288.15/101325  / (characterizedFluid.getPhase(\"oil\").getVolume(\"m3\"))\n",
        "      GORactual[j][i] =   (characterizedFluid.getPhase(\"gas\").getVolume(\"m3\"))/ (characterizedFluid.getPhase(\"oil\").getVolume(\"m3\"))\n",
        "\n",
        "gasDensityDataFrame = pd.DataFrame(gasDensity,index=pressures, columns=temperatures)\n",
        "oilDensityDataFrame = pd.DataFrame(oilDensity,index=pressures, columns=temperatures)\n",
        "gasviscosityDataFrame = pd.DataFrame(gasViscosity,index=pressures, columns=temperatures)\n",
        "oilviscosityDataFrame = pd.DataFrame(oilViscosity,index=pressures, columns=temperatures)\n",
        "GORcalcFrame = pd.DataFrame(GORcalc,index=pressures, columns=temperatures)\n",
        "GORactualFrame = pd.DataFrame(GORactual,index=pressures, columns=temperatures)\n",
        "\n",
        "print(\"gas density\")\n",
        "print(gasDensityDataFrame.tail())\n",
        "print(\"oil density\")\n",
        "print(oilDensityDataFrame.head())\n",
        "print(\"gas viscosity\")\n",
        "print(gasviscosityDataFrame.tail())\n",
        "print(\"oil viscosity\")\n",
        "print(oilviscosityDataFrame.head())\n",
        "print(\"GOR actual\")\n",
        "print(GORactualFrame.head())"
      ],
      "execution_count": 4,
      "outputs": [
        {
          "output_type": "stream",
          "text": [
            "gas density\n",
            "             30.0        40.0        50.0        60.0        80.0\n",
            "180.0  146.509135  138.119334  130.794927  124.345339  113.494377\n",
            "200.0  161.542863  152.463358  144.468566  137.385905  125.401747\n",
            "270.0  205.399137  195.182276  185.979174  177.608099  163.013447\n",
            "320.0  229.392016  219.296139  209.932237  201.266991  185.855526\n",
            "400.0  259.896430  250.208724  241.055614  232.431350  216.706147\n",
            "oil density\n",
            "             30.0        40.0        50.0        60.0        80.0\n",
            "150.0  691.239468  695.812209  700.424240  705.061785  714.424511\n",
            "170.0  689.722657  694.408928  699.228110  704.150107  714.373766\n",
            "180.0  690.057896  694.719646  699.582963  704.613158  715.246232\n",
            "200.0  693.130206  697.575934  702.417850  707.593043  718.766750\n",
            "270.0         NaN  723.416612  725.104917  726.892622         NaN\n",
            "gas viscosity\n",
            "           30.0      40.0      50.0      60.0      80.0\n",
            "180.0  0.018344  0.018083  0.017914  0.017817  0.017773\n",
            "200.0  0.019512  0.019141  0.018880  0.018702  0.018530\n",
            "270.0  0.023590  0.022889  0.022339  0.021905  0.021303\n",
            "320.0  0.026319  0.025462  0.024753  0.024170  0.023303\n",
            "400.0  0.030391  0.029332  0.028427  0.027655  0.026440\n",
            "oil viscosity\n",
            "           30.0      40.0      50.0      60.0      80.0\n",
            "150.0  0.372891  0.387215  0.404095  0.423604  0.471082\n",
            "170.0  0.373767  0.388197  0.405423  0.425515  0.475686\n",
            "180.0  0.378144  0.392447  0.409783  0.430261  0.482444\n",
            "200.0  0.395940  0.409688  0.427308  0.448947  0.505774\n",
            "270.0       NaN  0.568361  0.569227  0.573686       NaN\n",
            "GOR actual\n",
            "             30.0         40.0         50.0          60.0         80.0\n",
            "150.0  396.417173   489.300198   612.714611    778.324081  1319.380717\n",
            "170.0  457.930306   562.986173   705.371659    900.579180  1566.180269\n",
            "180.0  510.592119   625.278191   782.927482   1002.123851  1766.166840\n",
            "200.0  689.250200   834.406687  1041.506724   1338.282408  2405.495065\n",
            "270.0         NaN  7133.032777  9347.253437  15876.221164          NaN\n"
          ],
          "name": "stdout"
        }
      ]
    },
    {
      "cell_type": "markdown",
      "metadata": {
        "id": "DlDYbrjeMH5D",
        "colab_type": "text"
      },
      "source": [
        "# Test the fluid characterisation by comparing to PVT data\n",
        "The bubble point pressure is determined by an experiment called Constant Composition Expansion (CCE). It's also called Constant Mass Expansion (CME) experiment or Pressure-Volume (PV) relationship. ... The cell pressure is controlled by a positive displacement pump and recorded on an accurate pressure gauge."
      ]
    },
    {
      "cell_type": "code",
      "metadata": {
        "id": "FJwXt1d3MFON",
        "colab_type": "code",
        "outputId": "68c8bf49-455d-4681-c87f-46af38db02b1",
        "colab": {
          "base_uri": "https://localhost:8080/",
          "height": 594
        }
      },
      "source": [
        "\n",
        "pressure = [555.3, 500.0, 400.0, 350.0, 300.0, 250.0, 230.0, 190.0, 150.0, 100.0, 50.0, 46.1]\n",
        "temperature = [273.15+73.0, 273.15+73.0, 273.15+73.0, 273.15+73.0, 273.15+73.0, 273.15+73.0, 273.15+73.0, 273.15+73.0, 273.15+73.0, 273.15+73.0, 273.15+73.0, 273.15+73.0]\n",
        "\n",
        "relativevolume = []\n",
        "liquidrelativevolume = []\n",
        "Zgas =  []\n",
        "Yfactor = []\n",
        "isothermalcompressibility = []\n",
        "\n",
        "CME(characterizedFluid,pressure,temperature,relativevolume, liquidrelativevolume,Zgas,Yfactor,isothermalcompressibility)\n",
        "\n",
        "plt.figure(figsize=(20, 5))\n",
        "plt.subplot(131)\n",
        "plt.plot(pressure, relativevolume, \"o\")\n",
        "plt.xlabel('Pressure [bara]')\n",
        "plt.ylabel('relative volume [-]')\n",
        "plt.subplot(132)\n",
        "plt.plot(pressure, Yfactor, \"o\")\n",
        "plt.xlabel('Pressure [bara]')\n",
        "plt.ylabel('Yfactor [-]')\n",
        "plt.subplot(133)\n",
        "plt.plot(pressure, isothermalcompressibility, \"o\")\n",
        "plt.xlabel('Pressure [bara]')\n",
        "plt.ylabel('isothermalcompressibility [1/bar]')\n",
        "plt.show()\n",
        "\n",
        "Yfactorarray= np.asarray([relativevolume,Yfactor,Zgas, isothermalcompressibility,liquidrelativevolume])\n",
        "pressurearray= np.asarray(pressure)\n",
        "temperaturearray= np.asarray(temperature)\n",
        "YfactorFrame = pd.DataFrame(Yfactorarray.transpose(),index=pressurearray, columns=[\"relativevolume\", \"Yfactor\", \"Zgas\", \"isothermalcompressibility\", \"liquidrelativevolume\"])\n",
        "print(\"YfactorFrame\")\n",
        "print(YfactorFrame.head(20).to_string())\n",
        "print()"
      ],
      "execution_count": 5,
      "outputs": [
        {
          "output_type": "display_data",
          "data": {
            "image/png": "[encoded data removed]",
            "text/plain": [
              "<Figure size 1440x360 with 3 Axes>"
            ]
          },
          "metadata": {
            "tags": [],
            "needs_background": "light"
          }
        },
        {
          "output_type": "stream",
          "text": [
            "YfactorFrame\n",
            "       relativevolume   Yfactor      Zgas  isothermalcompressibility  liquidrelativevolume\n",
            "555.3        0.873134  0.000000  1.287023                   0.000667              0.000000\n",
            "500.0        0.908930  0.000000  1.206364                   0.000792              0.000000\n",
            "400.0        1.000000  0.000000  1.061788                   0.001156              0.000000\n",
            "350.0        1.067087  0.000000  0.991392                   0.001461              0.000000\n",
            "300.0        1.160432  0.000000  0.924100                   0.001929              0.000000\n",
            "250.0        1.300614  0.000000  0.863110                   0.002702              0.000000\n",
            "230.0        1.380167  1.944226  0.000000                   0.000000              0.115152\n",
            "190.0        1.608047  1.817727  0.000000                   0.000000              0.344748\n",
            "150.0        2.009607  1.650808  0.000000                   0.000000              0.662688\n",
            "100.0        3.119517  1.415417  0.000000                   0.000000              0.987247\n",
            "50.0         6.780265  1.211017  0.000000                   0.000000              1.078213\n",
            "46.1         7.410381  1.197556  0.000000                   0.000000              1.074705\n",
            "\n"
          ],
          "name": "stdout"
        }
      ]
    }
  ]
}