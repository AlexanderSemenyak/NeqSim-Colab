{
  "nbformat": 4,
  "nbformat_minor": 0,
  "metadata": {
    "colab": {
      "name": "MultiphaseflowMeasurement.ipynb",
      "provenance": [],
      "collapsed_sections": [],
      "authorship_tag": "ABX9TyMuU/4g8vvrJSclemeDOcZW",
      "include_colab_link": true
    },
    "kernelspec": {
      "name": "python3",
      "display_name": "Python 3"
    },
    "accelerator": "GPU"
  },
  "cells": [
    {
      "cell_type": "markdown",
      "metadata": {
        "id": "view-in-github",
        "colab_type": "text"
      },
      "source": [
        "<a href=\"https://colab.research.google.com/github/EvenSol/NeqSim-Colab/blob/master/notebooks/process/MultiphaseflowMeasurement.ipynb\" target=\"_parent\"><img src=\"https://colab.research.google.com/assets/colab-badge.svg\" alt=\"Open In Colab\"/></a>"
      ]
    },
    {
      "cell_type": "code",
      "metadata": {
        "id": "O7AGIOKNFYgJ",
        "colab_type": "code",
        "cellView": "form",
        "colab": {}
      },
      "source": [
        "#@title Multiphase flow measurements\n",
        "#@markdown This document is part of the module [\"Introduction to Gas Processing using NeqSim in Colab\"](https://colab.research.google.com/github/EvenSol/NeqSim-Colab/blob/master/notebooks/examples_of_NeqSim_in_Colab.ipynb#scrollTo=_eRtkQnHpL70).\n",
        "%%capture\n",
        "!pip install neqsim\n",
        "import neqsim\n",
        "from neqsim.thermo.thermoTools import *\n",
        "import matplotlib\n",
        "import numpy as np\n",
        "import matplotlib.pyplot as plt\n",
        "import math\n",
        "import numpy\n",
        "import pandas as pd\n",
        "%matplotlib inline"
      ],
      "execution_count": 0,
      "outputs": []
    },
    {
      "cell_type": "markdown",
      "metadata": {
        "id": "JPiXYIUqF457",
        "colab_type": "text"
      },
      "source": [
        "# Multiphase flow measurement\n",
        "A multiphase flow meter is a device used to measure the individual phase flow rates of constituent phases in a given flow (for example in oil and gas industry) where oil, water and gas mixtures are initially co-mingled together during the oil production processes."
      ]
    },
    {
      "cell_type": "markdown",
      "metadata": {
        "id": "zYE43klJFdmH",
        "colab_type": "text"
      },
      "source": [
        "# Litterature\n",
        "\n",
        "Wikipedia\n",
        "\n",
        "https://en.wikipedia.org/wiki/Multiphase_flow_meter\n",
        "\n",
        "\n",
        "HANDBOOK OF MULTIPHASE FLOW METERING:\n",
        "\n",
        "https://nfogm.no/wp-content/uploads/2014/02/MPFM_Handbook_Revision2_2005_ISBN-82-91341-89-3.pdf"
      ]
    },
    {
      "cell_type": "code",
      "metadata": {
        "id": "mA__BpznJQCa",
        "colab_type": "code",
        "cellView": "form",
        "outputId": "9eaf6c28-3230-457b-85c4-17f6ec28787a",
        "colab": {
          "base_uri": "https://localhost:8080/",
          "height": 421
        }
      },
      "source": [
        "#@title Webinar: Advances in Multiphase Metering for Onshore Measurement in Oil & Gas\n",
        "#@markdown This video gives an intriduction to Oil & Gas facilities Design\n",
        "from IPython.display import YouTubeVideo\n",
        "YouTubeVideo('mcxrjJwidl0', width=600, height=400)"
      ],
      "execution_count": 0,
      "outputs": [
        {
          "output_type": "execute_result",
          "data": {
            "text/html": [
              "\n",
              "        <iframe\n",
              "            width=\"600\"\n",
              "            height=\"400\"\n",
              "            src=\"https://www.youtube.com/embed/mcxrjJwidl0\"\n",
              "            frameborder=\"0\"\n",
              "            allowfullscreen\n",
              "        ></iframe>\n",
              "        "
            ],
            "text/plain": [
              "<IPython.lib.display.YouTubeVideo at 0x7f94e2787550>"
            ],
            "image/jpeg": "[encoded data removed]"
          },
          "metadata": {
            "tags": []
          },
          "execution_count": 2
        }
      ]
    },
    {
      "cell_type": "markdown",
      "metadata": {
        "id": "HIzv_GZ1GBxj",
        "colab_type": "text"
      },
      "source": [
        "# Generation of fluid characterization and generationg PVT properites for multi phase meters\n",
        "\n",
        "Int he following section it will be demonstrated how to generate PVT properties for a multi phase flow meter.\n",
        "\n",
        "\n",
        "1. Collection of fluid composition and PVT data from PVTreport. Evaluation of data.\n",
        "2. Set up fluid based on fluid composition and properties from PVT report, calulate and compare to measured PVT properties from PVT report\n",
        "3. Selection of parameters to fit, and fit model to PVT data\n",
        "4. Gerenation of properties for multi phase flow meter"
      ]
    },
    {
      "cell_type": "markdown",
      "metadata": {
        "id": "tp8R9Q2VH4sa",
        "colab_type": "text"
      },
      "source": [
        "# 1. Collection of fluid composition and PVT data from PVTreport. Evaluation of data.\n",
        "\n",
        "We start by optaining a fluid composition and PVT data from a PVT report. Such data. THe fluid compositon can typically be reported based on samples from the test separator. The gas and oil from the test separator is analysed, and matehamtical recombined into a well stream composition.\n",
        "\n",
        "Int the work we will assume that a well stream compostion as reported in the following composition. In this example we will use a fluid characterization based on a C10+ analysis. THe means that a detailed composition is used up to C6, and the C6, C7, C8 and C9 is defned as oil fraction components with properties calculated based on molar mass nnd density. C10+ is added with molar mass and density of the 10+ fraction.\n",
        "\n",
        "\n",
        "\n"
      ]
    },
    {
      "cell_type": "code",
      "metadata": {
        "id": "krWG9lMrJfPX",
        "colab_type": "code",
        "outputId": "b38e78be-609f-4e9e-af09-a4b54752f396",
        "colab": {
          "base_uri": "https://localhost:8080/",
          "height": 298
        }
      },
      "source": [
        "definedComponents = ['nitrogen','CO2', 'methane', 'ethane', 'propane','i-butane','n-butane','i-pentane','n-pentane']\n",
        "definedmolefractions = [0.972, 0.632, 95.111, 2.553, 0.104, 0.121, 0.021, 0.066, 0.02]\n",
        "oilComponents = [\"C6\", \"C7\", \"C8\", \"C9\", \"C10\"]\n",
        "oilComponentsMoleFractions= [0.058, 0.107, 0.073, 0.044, 0.118]\n",
        "oilComponentsMolarMass = [86.18/1000.0, 96.0/1000.0, 107.0/1000.0, 121.0/1000.0, 202.0/1000.0] # kg/mol\n",
        "oilComponentsRelativeDensity = [664.0e-3, 738.0e-3, 765.0e-3, 781.0e-3, 813.30e-3] #gr/cm3\n",
        "\n",
        "#definedComponentArray = np.asarray([definedComponents,definedmolefractions,Zgas, isothermalcompressibility,liquidrelativevolume])\n",
        "compositionDataFrame = pd.DataFrame(definedmolefractions,index=definedComponents, columns=[\"mole fraction\"])\n",
        "oilComponentsDataFrame = pd.DataFrame(numpy.transpose([oilComponentsMoleFractions, oilComponentsMolarMass, oilComponentsRelativeDensity]),index=oilComponents, columns=[\"mole fraction\", \"molar mass [kg/mole]\", \" density [gr/cm3]\"])\n",
        "\n",
        "print(compositionDataFrame.head(20).to_string())\n",
        "print(oilComponentsDataFrame.head(20).to_string())\n"
      ],
      "execution_count": 0,
      "outputs": [
        {
          "output_type": "stream",
          "text": [
            "           mole fraction\n",
            "nitrogen           0.972\n",
            "CO2                0.632\n",
            "methane           95.111\n",
            "ethane             2.553\n",
            "propane            0.104\n",
            "i-butane           0.121\n",
            "n-butane           0.021\n",
            "i-pentane          0.066\n",
            "n-pentane          0.020\n",
            "     mole fraction  molar mass [kg/mole]   density [gr/cm3]\n",
            "C6           0.058               0.08618             0.6640\n",
            "C7           0.107               0.09600             0.7380\n",
            "C8           0.073               0.10700             0.7650\n",
            "C9           0.044               0.12100             0.7810\n",
            "C10          0.118               0.20200             0.8133\n"
          ],
          "name": "stdout"
        }
      ]
    },
    {
      "cell_type": "markdown",
      "metadata": {
        "id": "mGLJA4W2Q81f",
        "colab_type": "text"
      },
      "source": [
        "## Data from PVT report\n",
        "Typical data from a PVT report is reported in the following code. In the following example the fluid composition was reported based on test separarator data, and a constand mass expansion test was done (CME). Reservoir pressure and temperature."
      ]
    },
    {
      "cell_type": "code",
      "metadata": {
        "id": "yYkyse5gQ3u_",
        "colab_type": "code",
        "outputId": "7a9ce992-7c56-4922-dba2-07a291fad862",
        "colab": {
          "base_uri": "https://localhost:8080/",
          "height": 402
        }
      },
      "source": [
        "reservoidTemperature = 80.6 #Celius\n",
        "reservoirPressure = 320.8 #bara\n",
        "\n",
        "testSeparatorTemperature = 20.6 # Celcius\n",
        "testSeparatorPressure = 86.8 # bara\n",
        "GORseparartorConditions = 35000.0 # Sm3 gas/m3 oil\n",
        "\n",
        "GORstandardConditions = 55000.0 # Sm3 gas/m3 oil\n",
        "\n",
        "CMEpressures = [500.0, 450.0, 400.0, 350.0, 250.0]\n",
        "CMEtemperature = [80.6]*len(CMEpressures)\n",
        "CMErelativevolume = [0.9, 0.95, 0.99, 1.0, 1.1]\n",
        "\n",
        "CMEdataFrame = pd.DataFrame(numpy.transpose([CMEpressures, CMErelativevolume]), columns=[\"pressure\", \"relative volume\"])\n",
        "print(CMEdataFrame.head(20).to_string())\n",
        "\n",
        "print(\"plotting experimental PVT data.....\")\n",
        "CMEdataFrame.plot(kind='scatter',x='relative volume',y='pressure',color='red')\n",
        "plt.show()\n",
        "\n"
      ],
      "execution_count": 0,
      "outputs": [
        {
          "output_type": "stream",
          "text": [
            "   pressure  relative volume\n",
            "0     500.0             0.90\n",
            "1     450.0             0.95\n",
            "2     400.0             0.99\n",
            "3     350.0             1.00\n",
            "4     250.0             1.10\n",
            "plotting experimental PVT data.....\n"
          ],
          "name": "stdout"
        },
        {
          "output_type": "display_data",
          "data": {
            "image/png": "[encoded data removed]",
            "text/plain": [
              "<Figure size 432x288 with 1 Axes>"
            ]
          },
          "metadata": {
            "tags": [],
            "needs_background": "light"
          }
        }
      ]
    },
    {
      "cell_type": "markdown",
      "metadata": {
        "id": "z2RYyPDuPBwt",
        "colab_type": "text"
      },
      "source": [
        "# 2. Set up fluid based on fluid composition and properties from PVT report, calculate and compare to measured PVT properties from PVT report\n",
        "\n",
        "A fluid in neqsim is set up in the following script. We the flash the fluid to calculate the GOR at test separator and standard conditions. Further we will plot the phase envelope of the fluid."
      ]
    },
    {
      "cell_type": "code",
      "metadata": {
        "id": "SnuKH2MBPOlD",
        "colab_type": "code",
        "outputId": "bdbbdb63-c81c-4b29-968c-95d02ec2e9f4",
        "colab": {
          "base_uri": "https://localhost:8080/",
          "height": 826
        }
      },
      "source": [
        "fluidDefinedComponents = createfluid2(definedComponents, definedmolefractions, \"mol/sec\")\n",
        "characterizedFluid = addOilFractions(fluidDefinedComponents, oilComponents,oilComponentsMoleFractions, oilComponentsMolarMass,  oilComponentsRelativeDensity);\n",
        "\n",
        "characterizedFluid.setTemperature(15.0, \"C\")\n",
        "characterizedFluid.setPressure(1.0, \"atm\")\n",
        "TPflash(characterizedFluid)\n",
        "#printFLuidCharacterisation(characterizedFluid) #print componentnames, TC, PC, acs, molar mass, density, \n",
        "printFrame(characterizedFluid)\n",
        "GORcalcstd = characterizedFluid.getPhase(\"gas\").getNumberOfMolesInPhase()*8.314*288.15/101325  / (characterizedFluid.getPhase(\"oil\").getVolume(\"m3\"))\n",
        "print(\"GOR at standard conditions \", GORcalcstd, \" Sm3 gas/m3 oil. \", \" Deviation from PVT report: \", (GORcalcstd-GORstandardConditions)/GORstandardConditions*100, \" %\")\n",
        "\n",
        "characterizedFluid.setTemperature(testSeparatorTemperature, \"C\")\n",
        "characterizedFluid.setPressure(testSeparatorPressure, \"bara\")\n",
        "TPflash(characterizedFluid)\n",
        "GORcalc = characterizedFluid.getPhase(\"gas\").getNumberOfMolesInPhase()*8.314*288.15/101325  / (characterizedFluid.getPhase(\"oil\").getVolume(\"m3\"))\n",
        "print(\"GOR at test separator conditions: \", GORcalc, \" Sm3 gas/m3 oil\" , \" Deviation from PVT report: \", (GORcalc-GORseparartorConditions)/GORseparartorConditions*100, \" %\")\n",
        "\n",
        "#Calculating saturation pressure\n",
        "characterizedFluid.setTemperature(reservoidTemperature, \"C\")\n",
        "calcSatPres = saturationpressure(characterizedFluid)\n",
        "print(\"Saturation pressure : \", calcSatPres, \" [bara]\" , \" Deviation from PVT report: \", (calcSatPres-reservoirPressure), \" bar\")\n",
        "\n",
        "\n",
        "simrelativevolume = []\n",
        "simliquidrelativevolume = []\n",
        "Zgas =  []\n",
        "Yfactor = []\n",
        "isothermalcompressibility = []\n",
        "\n",
        "CME(characterizedFluid,CMEpressures,CMEtemperature,simrelativevolume, simliquidrelativevolume,Zgas,Yfactor,isothermalcompressibility)\n",
        "CMEsimdataFrame = pd.DataFrame(numpy.transpose([CMEpressures, simrelativevolume]), columns=[\"pressure\", \"sim relative volume\"])\n",
        "print(CMEsimdataFrame.head(20).to_string())\n",
        "\n",
        "\n"
      ],
      "execution_count": 0,
      "outputs": [
        {
          "output_type": "stream",
          "text": [
            "                          total         gas          oil                     \n",
            "           nitrogen     9.72E-3  9.73438E-3   1.45198E-5      [mole fraction]\n",
            "                CO2     6.32E-3  6.32921E-3   1.07355E-4      [mole fraction]\n",
            "            methane   9.5111E-1  9.52511E-1    5.3175E-3      [mole fraction]\n",
            "             ethane    2.553E-2  2.55664E-2   9.48617E-4      [mole fraction]\n",
            "            propane     1.04E-3  1.04132E-3   1.52529E-4      [mole fraction]\n",
            "           i-butane     1.21E-3  1.21111E-3   4.61904E-4      [mole fraction]\n",
            "           n-butane      2.1E-4  2.10132E-4   1.20934E-4      [mole fraction]\n",
            "          i-pentane      6.6E-4  6.59453E-4   1.02895E-3      [mole fraction]\n",
            "          n-pentane        2E-4  1.99663E-4   4.27644E-4      [mole fraction]\n",
            "              C6_PC      5.8E-4  5.68482E-4   8.35347E-3      [mole fraction]\n",
            "              C7_PC     1.07E-3  1.01537E-3   3.79359E-2      [mole fraction]\n",
            "              C8_PC      7.3E-4  6.40502E-4   6.11298E-2      [mole fraction]\n",
            "              C9_PC      4.4E-4  3.06064E-4   9.08297E-2      [mole fraction]\n",
            "             C10_PC     1.18E-3  6.45873E-6   7.93171E-1      [mole fraction]\n",
            "                                                                             \n",
            "            Density              7.03533E-1    8.05095E2             [kg/m^3]\n",
            "      PhaseFraction               9.9852E-1   1.47957E-3      [mole fraction]\n",
            "          MolarMass   1.72896E1    1.7045E1    1.82378E2            [kg/kmol]\n",
            "           Z factor              9.97888E-1   1.13569E-2                  [-]\n",
            " Heat Capacity (Cp)               2.13222E0    2.04108E0            [kJ/kg*K]\n",
            " Heat Capacity (Cv)               1.63883E0    1.89573E0            [kJ/kg*K]\n",
            "     Speed of Sound               4.26736E2    1.32728E3              [m/sec]\n",
            "           Enthalpy   2.46386E1   3.05218E1   -3.46436E2              [kJ/kg]\n",
            "            Entropy  2.34587E-1  2.49327E-1  -6.95089E-1            [kJ/kg*K]\n",
            "     JT coefficient               5.2302E-1  -6.22241E-2              [K/bar]\n",
            "                                                                             \n",
            "          Viscosity              1.09234E-5   3.59557E-3           [kg/m*sec]\n",
            "       Conductivity              3.24292E-2   1.13815E-1              [W/m*K]\n",
            "     SurfaceTension              2.10441E-2   2.10441E-2                [N/m]\n",
            "                                                                             \n",
            "                                                                             \n",
            "                                                                             \n",
            "           Pressure                 0.98675      0.98675                [bar]\n",
            "        Temperature                  288.15       288.15                  [K]\n",
            "                                                                             \n",
            "              Model                 SRK-EOS      SRK-EOS                    -\n",
            "        Mixing Rule                 classic      classic                    -\n",
            "                                                                             \n",
            "             Stream                                                         -\n",
            "                                                                             \n",
            "                                                                             \n",
            "                                                                             \n",
            "                                                                             \n",
            "GOR at standard conditions  57866.45460145801  Sm3 gas/m3 oil.   Deviation from PVT report:  5.211735639014567  %\n",
            "GOR at test separator conditions:  34327.73017524431  Sm3 gas/m3 oil  Deviation from PVT report:  -1.9207709278734026  %\n"
          ],
          "name": "stdout"
        }
      ]
    },
    {
      "cell_type": "markdown",
      "metadata": {
        "id": "Q-xDKX45JfBe",
        "colab_type": "text"
      },
      "source": [
        "# Calculation of PVT properties for a multiphase flow meter\n",
        "\n",
        "A typical multi phase flow meter will need calclation of various thermodynamic and physical properties. SUch properties have to be updated s the field is produced. The input to the property calculations are a characterized fluid composition from PVT studies.\n",
        "\n",
        "The following script demonstrates calculation of PVT properties for a multi phase flow meter using a CHaracterized fluid composition."
      ]
    },
    {
      "cell_type": "code",
      "metadata": {
        "id": "KHA5WrSAyVO_",
        "colab_type": "code",
        "outputId": "8db96939-932b-4259-f0b0-f4548d22d1c1",
        "colab": {
          "base_uri": "https://localhost:8080/",
          "height": 330
        }
      },
      "source": [
        "print('phase envelope for characterized fluid')\n",
        "phaseenvelope(characterizedFluid, True)"
      ],
      "execution_count": 0,
      "outputs": [
        {
          "output_type": "stream",
          "text": [
            "phase envelope for characterized fluid\n"
          ],
          "name": "stdout"
        },
        {
          "output_type": "display_data",
          "data": {
            "image/png": "[encoded data removed]",
            "text/plain": [
              "<Figure size 432x288 with 1 Axes>"
            ]
          },
          "metadata": {
            "tags": [],
            "needs_background": "light"
          }
        },
        {
          "output_type": "execute_result",
          "data": {
            "text/plain": [
              "JavaObject id=o737"
            ]
          },
          "metadata": {
            "tags": []
          },
          "execution_count": 20
        }
      ]
    },
    {
      "cell_type": "markdown",
      "metadata": {
        "id": "by7fj9C1Jzw6",
        "colab_type": "text"
      },
      "source": [
        "## Generation of properties for multiphase measurements\n",
        "\n",
        "The following script demonstrates how to generate typical properties for a multiphase flow meter."
      ]
    },
    {
      "cell_type": "code",
      "metadata": {
        "id": "JrkAA9K7pt7d",
        "colab_type": "code",
        "outputId": "476f071f-54d8-4493-c6ef-8d330693db4a",
        "colab": {
          "base_uri": "https://localhost:8080/",
          "height": 633
        }
      },
      "source": [
        "import numpy\n",
        "import numpy as np\n",
        "\n",
        "pressures = [150.0, 170.0, 180.0, 200.0, 270.0, 320.0, 400.0]\n",
        "temperatures = [30.0, 40.0, 50.0, 60.0, 80.0]\n",
        "\n",
        "numP = len(pressures)\n",
        "numT = len(temperatures)\n",
        "\n",
        "gasViscosity = numpy.zeros((numP, numT))\n",
        "oilViscosity = numpy.zeros((numP, numT))\n",
        "gasDensity = numpy.zeros((numP, numT))\n",
        "oilDensity = numpy.zeros((numP, numT))\n",
        "GORcalc  = numpy.zeros((numP, numT))\n",
        "GORactual = numpy.zeros((numP, numT))\n",
        "gasViscosity[:] = np.NaN\n",
        "oilViscosity[:] = np.NaN\n",
        "gasDensity[:] = np.NaN\n",
        "oilDensity[:] = np.NaN\n",
        "GORcalc[:] = np.NaN\n",
        "GORactual[:] = np.NaN\n",
        "\n",
        "for i in range(len(temperatures)):\n",
        "  for j in range(len(pressures)):\n",
        "    characterizedFluid.setPressure(pressures[j])\n",
        "    characterizedFluid.setTemperature(temperatures[i]+273.15)\n",
        "    TPflash(characterizedFluid)\n",
        "    characterizedFluid.initProperties()\n",
        "    if(characterizedFluid.hasPhaseType(\"gas\")):\n",
        "      gasViscosity[j][i]=characterizedFluid.getPhase(\"gas\").getViscosity(\"cP\")\n",
        "      gasDensity[j][i]=characterizedFluid.getPhase(\"gas\").getDensity(\"kg/m3\")\n",
        "    if(characterizedFluid.hasPhaseType(\"oil\")):\n",
        "      oilViscosity[j][i]=characterizedFluid.getPhase(\"oil\").getViscosity(\"cP\")\n",
        "      oilDensity[j][i]=characterizedFluid.getPhase(\"oil\").getDensity(\"kg/m3\")\n",
        "    if(characterizedFluid.hasPhaseType(\"gas\") and characterizedFluid.hasPhaseType(\"oil\")):\n",
        "      GORcalc[j][i] = characterizedFluid.getPhase(\"gas\").getNumberOfMolesInPhase()*8.314*288.15/101325  / (characterizedFluid.getPhase(\"oil\").getVolume(\"m3\"))\n",
        "      GORactual[j][i] =   (characterizedFluid.getPhase(\"gas\").getVolume(\"m3\"))/ (characterizedFluid.getPhase(\"oil\").getVolume(\"m3\"))\n",
        "\n",
        "gasDensityDataFrame = pd.DataFrame(gasDensity,index=pressures, columns=temperatures)\n",
        "oilDensityDataFrame = pd.DataFrame(oilDensity,index=pressures, columns=temperatures)\n",
        "gasviscosityDataFrame = pd.DataFrame(gasViscosity,index=pressures, columns=temperatures)\n",
        "oilviscosityDataFrame = pd.DataFrame(oilViscosity,index=pressures, columns=temperatures)\n",
        "GORcalcFrame = pd.DataFrame(GORcalc,index=pressures, columns=temperatures)\n",
        "GORactualFrame = pd.DataFrame(GORactual,index=pressures, columns=temperatures)\n",
        "\n",
        "print(\"gas density\")\n",
        "print(gasDensityDataFrame.tail())\n",
        "print(\"oil density\")\n",
        "print(oilDensityDataFrame.head())\n",
        "print(\"gas viscosity\")\n",
        "print(gasviscosityDataFrame.tail())\n",
        "print(\"oil viscosity\")\n",
        "print(oilviscosityDataFrame.head())\n",
        "print(\"GOR actual\")\n",
        "print(GORactualFrame.head())"
      ],
      "execution_count": 0,
      "outputs": [
        {
          "output_type": "stream",
          "text": [
            "gas density\n",
            "             30.0        40.0        50.0        60.0        80.0\n",
            "180.0  146.135712  137.858369  130.683816  124.429936  114.036349\n",
            "200.0  161.606503  152.676629  144.888931  138.075296  125.856176\n",
            "270.0  205.659075  195.525279  186.288181  177.875860  163.217217\n",
            "320.0  229.654333  219.550097  210.177357  201.503079  186.073822\n",
            "400.0  260.156980  250.464281  241.305568  232.675258  216.937232\n",
            "oil density\n",
            "             30.0        40.0        50.0        60.0        80.0\n",
            "150.0  683.087959  684.612207  685.090347  684.494100  680.188710\n",
            "170.0  673.764816  674.791606  674.841521  673.898457  669.118446\n",
            "180.0  668.892621  669.716290  669.589093  668.499447         NaN\n",
            "200.0  658.672473  659.189454  658.783942  657.454537         NaN\n",
            "270.0         NaN         NaN         NaN         NaN         NaN\n",
            "gas viscosity\n",
            "           30.0      40.0      50.0      60.0      80.0\n",
            "180.0  0.018322  0.018068  0.017909  0.017822  0.017801\n",
            "200.0  0.019518  0.019157  0.018907  0.018744  0.018556\n",
            "270.0  0.023617  0.022921  0.022367  0.021927  0.021318\n",
            "320.0  0.026351  0.025491  0.024779  0.024193  0.023322\n",
            "400.0  0.030430  0.029367  0.028459  0.027684  0.026465\n",
            "oil viscosity\n",
            "           30.0      40.0      50.0      60.0      80.0\n",
            "150.0  0.350947  0.351542  0.349463  0.344622  0.327615\n",
            "170.0  0.323911  0.322763  0.319504  0.314133  0.297840\n",
            "180.0  0.310799  0.309079  0.305472  0.299998       NaN\n",
            "200.0  0.285431  0.283056  0.279120  0.273681       NaN\n",
            "270.0       NaN       NaN       NaN       NaN       NaN\n",
            "GOR actual\n",
            "             30.0        40.0         50.0          60.0         80.0\n",
            "150.0  287.728518  336.982121   401.506599    494.548502   990.168599\n",
            "170.0  306.470339  366.949452   457.804734    616.402520  2932.297973\n",
            "180.0  336.322834  411.756303   538.087063    801.187059          NaN\n",
            "200.0  533.431644  742.660974  1363.962192  32992.940818          NaN\n",
            "270.0         NaN         NaN          NaN           NaN          NaN\n"
          ],
          "name": "stdout"
        }
      ]
    },
    {
      "cell_type": "markdown",
      "metadata": {
        "id": "DlDYbrjeMH5D",
        "colab_type": "text"
      },
      "source": [
        "# Test the fluid characterisation by comparing to PVT data\n",
        "The bubble point pressure is determined by an experiment called Constant Composition Expansion (CCE). It's also called Constant Mass Expansion (CME) experiment or Pressure-Volume (PV) relationship. ... The cell pressure is controlled by a positive displacement pump and recorded on an accurate pressure gauge."
      ]
    },
    {
      "cell_type": "code",
      "metadata": {
        "id": "FJwXt1d3MFON",
        "colab_type": "code",
        "colab": {}
      },
      "source": [
        "\n",
        "pressure = [555.3, 500.0, 400.0, 350.0, 300.0, 250.0, 230.0, 190.0, 150.0, 100.0, 50.0, 46.1]\n",
        "temperature = [273.15+73.0, 273.15+73.0, 273.15+73.0, 273.15+73.0, 273.15+73.0, 273.15+73.0, 273.15+73.0, 273.15+73.0, 273.15+73.0, 273.15+73.0, 273.15+73.0, 273.15+73.0]\n",
        "\n",
        "relativevolume = []\n",
        "liquidrelativevolume = []\n",
        "Zgas =  []\n",
        "Yfactor = []\n",
        "isothermalcompressibility = []\n",
        "\n",
        "CME(characterizedFluid,pressure,temperature,relativevolume, liquidrelativevolume,Zgas,Yfactor,isothermalcompressibility)\n",
        "\n",
        "plt.figure(figsize=(20, 5))\n",
        "plt.subplot(131)\n",
        "plt.plot(pressure, relativevolume, \"o\")\n",
        "plt.xlabel('Pressure [bara]')\n",
        "plt.ylabel('relative volume [-]')\n",
        "plt.subplot(132)\n",
        "plt.plot(pressure, Yfactor, \"o\")\n",
        "plt.xlabel('Pressure [bara]')\n",
        "plt.ylabel('Yfactor [-]')\n",
        "plt.subplot(133)\n",
        "plt.plot(pressure, isothermalcompressibility, \"o\")\n",
        "plt.xlabel('Pressure [bara]')\n",
        "plt.ylabel('isothermalcompressibility [1/bar]')\n",
        "plt.show()\n",
        "\n",
        "Yfactorarray= np.asarray([relativevolume,Yfactor,Zgas, isothermalcompressibility,liquidrelativevolume])\n",
        "pressurearray= np.asarray(pressure)\n",
        "temperaturearray= np.asarray(temperature)\n",
        "YfactorFrame = pd.DataFrame(Yfactorarray.transpose(),index=pressurearray, columns=[\"relativevolume\", \"Yfactor\", \"Zgas\", \"isothermalcompressibility\", \"liquidrelativevolume\"])\n",
        "print(\"YfactorFrame\")\n",
        "print(YfactorFrame.head(20).to_string())\n",
        "print()"
      ],
      "execution_count": 0,
      "outputs": []
    },
    {
      "cell_type": "code",
      "metadata": {
        "id": "K6EDXN873fEr",
        "colab_type": "code",
        "colab": {}
      },
      "source": [
        "relativevolume"
      ],
      "execution_count": 0,
      "outputs": []
    }
  ]
}