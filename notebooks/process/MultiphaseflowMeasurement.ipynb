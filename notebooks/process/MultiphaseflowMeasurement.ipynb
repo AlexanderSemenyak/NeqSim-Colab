{
  "nbformat": 4,
  "nbformat_minor": 0,
  "metadata": {
    "colab": {
      "name": "MultiphaseflowMeasurement.ipynb",
      "provenance": [],
      "collapsed_sections": [],
      "authorship_tag": "ABX9TyNYb1rGwrD1IUa5PJbLJ03Y",
      "include_colab_link": true
    },
    "kernelspec": {
      "name": "python3",
      "display_name": "Python 3"
    }
  },
  "cells": [
    {
      "cell_type": "markdown",
      "metadata": {
        "id": "view-in-github",
        "colab_type": "text"
      },
      "source": [
        "<a href=\"https://colab.research.google.com/github/EvenSol/NeqSim-Colab/blob/master/notebooks/process/MultiphaseflowMeasurement.ipynb\" target=\"_parent\"><img src=\"https://colab.research.google.com/assets/colab-badge.svg\" alt=\"Open In Colab\"/></a>"
      ]
    },
    {
      "cell_type": "code",
      "metadata": {
        "id": "O7AGIOKNFYgJ",
        "colab_type": "code",
        "cellView": "form",
        "colab": {}
      },
      "source": [
        "#@title Multiphase flow measurements\n",
        "#@markdown This document is part of the module [\"Introduction to Gas Processing using NeqSim in Colab\"](https://colab.research.google.com/github/EvenSol/NeqSim-Colab/blob/master/notebooks/examples_of_NeqSim_in_Colab.ipynb#scrollTo=_eRtkQnHpL70).\n",
        "%%capture\n",
        "!pip install neqsim\n",
        "import neqsim\n",
        "from neqsim.thermo.thermoTools import *\n",
        "import matplotlib\n",
        "import numpy as np\n",
        "import matplotlib.pyplot as plt\n",
        "import math\n",
        "import pandas as pd\n",
        "%matplotlib inline"
      ],
      "execution_count": 0,
      "outputs": []
    },
    {
      "cell_type": "markdown",
      "metadata": {
        "id": "JPiXYIUqF457",
        "colab_type": "text"
      },
      "source": [
        "# Multiphase flow measurement\n",
        "A multiphase flow meter is a device used to measure the individual phase flow rates of constituent phases in a given flow (for example in oil and gas industry) where oil, water and gas mixtures are initially co-mingled together during the oil production processes."
      ]
    },
    {
      "cell_type": "markdown",
      "metadata": {
        "id": "zYE43klJFdmH",
        "colab_type": "text"
      },
      "source": [
        "# Litterature\n",
        "\n",
        "Wikipedia\n",
        "\n",
        "https://en.wikipedia.org/wiki/Multiphase_flow_meter\n",
        "\n",
        "\n",
        "HANDBOOK OF MULTIPHASE FLOW METERING:\n",
        "\n",
        "https://nfogm.no/wp-content/uploads/2014/02/MPFM_Handbook_Revision2_2005_ISBN-82-91341-89-3.pdf"
      ]
    },
    {
      "cell_type": "code",
      "metadata": {
        "id": "mA__BpznJQCa",
        "colab_type": "code",
        "cellView": "form",
        "outputId": "ab4e28b4-a559-42de-d877-1b5fe91c08ee",
        "colab": {
          "base_uri": "https://localhost:8080/",
          "height": 421
        }
      },
      "source": [
        "#@title Webinar: Advances in Multiphase Metering for Onshore Measurement in Oil & Gas\n",
        "#@markdown This video gives an intriduction to Oil & Gas facilities Design\n",
        "from IPython.display import YouTubeVideo\n",
        "YouTubeVideo('mcxrjJwidl0', width=600, height=400)"
      ],
      "execution_count": 7,
      "outputs": [
        {
          "output_type": "execute_result",
          "data": {
            "text/html": [
              "\n",
              "        <iframe\n",
              "            width=\"600\"\n",
              "            height=\"400\"\n",
              "            src=\"https://www.youtube.com/embed/mcxrjJwidl0\"\n",
              "            frameborder=\"0\"\n",
              "            allowfullscreen\n",
              "        ></iframe>\n",
              "        "
            ],
            "text/plain": [
              "<IPython.lib.display.YouTubeVideo at 0x7fc9d54439b0>"
            ],
            "image/jpeg": "[encoded data removed]"
          },
          "metadata": {
            "tags": []
          },
          "execution_count": 7
        }
      ]
    },
    {
      "cell_type": "markdown",
      "metadata": {
        "id": "Q-xDKX45JfBe",
        "colab_type": "text"
      },
      "source": [
        "# Calculation of PVT properties for a multiphase flow meter\n",
        "\n",
        "A typical multi phase flow meter will need calclation of various thermodynamic and physical properties. SUch properties have to be updated s the field is produced. The input to the property calculations are a characterized fluid composition from PVT studies.\n",
        "\n",
        "The following script demonstrates calculation of PVT properties for a multi phase flow meter using a CHaracterized fluid composition."
      ]
    },
    {
      "cell_type": "code",
      "metadata": {
        "id": "n2591sOyJ0Kp",
        "colab_type": "code",
        "outputId": "4e8d1289-8173-4697-9cb1-46e6b5ef6a2a",
        "colab": {
          "base_uri": "https://localhost:8080/",
          "height": 1000
        }
      },
      "source": [
        "names = ['nitrogen','CO2', 'methane', 'ethane', 'propane','i-butane','n-butane','i-pentane','n-pentane']\n",
        "molefractions = [0.01, 0.02, 0.55, 0.1, 0.04, 0.02, 0.02, 0.01, 0.01]\n",
        "fluidDefinedComponents = createfluid2(names, molefractions, \"mol/sec\")\n",
        "\n",
        "charNames = [\"C6\", \"C7\", \"C8\", \"C9-C10\", \"C11-C80\"]\n",
        "charFlowrate = [0.1, 0.11, 0.015, 0.024, 0.041]\n",
        "molarMass = [0.90, 0.100, 0.120, 0.150, 0.25]\n",
        "density = [700.0e-3, 750.0e-3, 810.0e-3, 880.0e-3, 900.0e-3]\n",
        "characterizedFluid = addOilFractions(fluidDefinedComponents, charNames,charFlowrate,molarMass,  density);\n",
        "printFrame(characterizedFluid)\n",
        "print('phase envelope for characterized fluid')\n",
        "phaseenvelope(characterizedFluid, True)"
      ],
      "execution_count": 12,
      "outputs": [
        {
          "output_type": "stream",
          "text": [
            "                          total         gas          oil                     \n",
            "           nitrogen  9.34579E-3  9.34579E-3   9.34579E-3      [mole fraction]\n",
            "                CO2  1.86916E-2  1.86916E-2   1.86916E-2      [mole fraction]\n",
            "            methane  5.14019E-1  5.14019E-1   5.14019E-1      [mole fraction]\n",
            "             ethane  9.34579E-2  9.34579E-2   9.34579E-2      [mole fraction]\n",
            "            propane  3.73832E-2  3.73832E-2   3.73832E-2      [mole fraction]\n",
            "           i-butane  1.86916E-2  1.86916E-2   1.86916E-2      [mole fraction]\n",
            "           n-butane  1.86916E-2  1.86916E-2   1.86916E-2      [mole fraction]\n",
            "          i-pentane  9.34579E-3  9.34579E-3   9.34579E-3      [mole fraction]\n",
            "          n-pentane  9.34579E-3  9.34579E-3   9.34579E-3      [mole fraction]\n",
            "              C6_PC  9.34579E-2  9.34579E-2   9.34579E-2      [mole fraction]\n",
            "              C7_PC  1.02804E-1  1.02804E-1   1.02804E-1      [mole fraction]\n",
            "              C8_PC  1.40187E-2  1.40187E-2   1.40187E-2      [mole fraction]\n",
            "          C9-C10_PC  2.24299E-2  2.24299E-2   2.24299E-2      [mole fraction]\n",
            "         C11-C80_PC  3.83178E-2  3.83178E-2   3.83178E-2      [mole fraction]\n",
            "                                                                             \n",
            "            Density               5.58029E0    6.08462E2             [kg/m^3]\n",
            "      PhaseFraction                     1E0          1E0      [mole fraction]\n",
            "          MolarMass    1.2633E2    1.2633E2     1.2633E2            [kg/kmol]\n",
            "           Z factor               9.1336E-1   8.50741E-3                  [-]\n",
            " Heat Capacity (Cp)               3.26828E0    3.64001E0            [kJ/kg*K]\n",
            " Heat Capacity (Cv)               3.17824E0    3.40871E0            [kJ/kg*K]\n",
            "     Speed of Sound                1.2922E2    6.91348E2              [m/sec]\n",
            "           Enthalpy  -8.57051E1   8.12379E1   -1.66943E2              [kJ/kg]\n",
            "            Entropy  1.06652E-1  4.08085E-1  -3.01433E-1            [kJ/kg*K]\n",
            "     JT coefficient               1.56724E0  -2.78607E-2              [K/bar]\n",
            "                                                                             \n",
            "          Viscosity              6.26573E-4   6.26573E-4           [kg/m*sec]\n",
            "       Conductivity              1.18015E-1   1.18015E-1              [W/m*K]\n",
            "     SurfaceTension              6.92091E-3   6.92091E-3                [N/m]\n",
            "                                                                             \n",
            "                                                                             \n",
            "                                                                             \n",
            "           Pressure                     1.0          1.0                [bar]\n",
            "        Temperature                  298.15       298.15                  [K]\n",
            "                                                                             \n",
            "              Model                 SRK-EOS      SRK-EOS                    -\n",
            "        Mixing Rule                 classic      classic                    -\n",
            "                                                                             \n",
            "             Stream                                                         -\n",
            "                                                                             \n",
            "                                                                             \n",
            "                                                                             \n",
            "                                                                             \n",
            "phase envelope for characterized fluid\n"
          ],
          "name": "stdout"
        },
        {
          "output_type": "display_data",
          "data": {
            "image/png": "[encoded data removed]",
            "text/plain": [
              "<Figure size 432x288 with 1 Axes>"
            ]
          },
          "metadata": {
            "tags": []
          }
        },
        {
          "output_type": "execute_result",
          "data": {
            "text/plain": [
              "JavaObject id=o119"
            ]
          },
          "metadata": {
            "tags": []
          },
          "execution_count": 12
        }
      ]
    },
    {
      "cell_type": "markdown",
      "metadata": {
        "id": "by7fj9C1Jzw6",
        "colab_type": "text"
      },
      "source": [
        "## Generation of properties for multiphase measurements\n",
        "\n",
        "The following script demonstrates how to generate typical properties for a multiphase flow meter."
      ]
    },
    {
      "cell_type": "code",
      "metadata": {
        "id": "kA5WGvjUWiIw",
        "colab_type": "code",
        "outputId": "ec3d62ff-e872-4ff6-88bf-ff8abddaf86b",
        "colab": {
          "base_uri": "https://localhost:8080/",
          "height": 234
        }
      },
      "source": [
        "pressures = [10.0, 20.0, 30.0, 40.0, 50.0]\n",
        "temperatures = [10.0, 20.0, 30.0, 40.0, 50.0]\n",
        "\n",
        "gasViscosity = [np.nan]*len(pressures)\n",
        "oilViscosity = [np.nan]*len(pressures)\n",
        "gasDensity = [np.nan]*len(pressures)\n",
        "oilDensity = [np.nan]*len(pressures)\n",
        "\n",
        "import numpy\n",
        "a = numpy.empty((10, 10))\n",
        "a.fill(foo)\n",
        "\n",
        "for i in range(len(pressures)):\n",
        "  for j in range(len(pressures)):\n",
        "    characterizedFluid.setPressure(pressures[i])\n",
        "    characterizedFluid.setTemperature(temperatures[i]+273.15)\n",
        "    TPflash(characterizedFluid)\n",
        "    characterizedFluid.initProperties()\n",
        "    if(characterizedFluid.hasPhaseType(\"gas\")):\n",
        "      gasViscosity[i]=characterizedFluid.getPhase(\"gas\").getViscosity(\"cP\")\n",
        "      gasDensity[i]=characterizedFluid.getPhase(\"gas\").getDensity(\"kg/m3\")\n",
        "    if(characterizedFluid.hasPhaseType(\"oil\")):\n",
        "      oilViscosity[i]=characterizedFluid.getPhase(\"oil\").getViscosity(\"cP\")\n",
        "      oilDensity[i]=characterizedFluid.getPhase(\"oil\").getDensity(\"kg/m3\")\n",
        "\n",
        "\n",
        "PVTdata = pd.DataFrame({'pressure' : pressures,\n",
        "                                'temperature' : temperatures,\n",
        "                                'gasViscosity' : gasViscosity,\n",
        "                                'oilViscosity' : oilViscosity, \n",
        "                                'gasDensity' : gasDensity, \n",
        "                                'oilDensity' : oilDensity}, \n",
        "                                columns=['pressure','temperature', 'gasViscosity','oilViscosity','gasDensity', 'oilDensity'])\n",
        "\n",
        "display(PVTdata)"
      ],
      "execution_count": 9,
      "outputs": [
        {
          "output_type": "error",
          "ename": "NameError",
          "evalue": "ignored",
          "traceback": [
            "\u001b[0;31m---------------------------------------------------------------------------\u001b[0m",
            "\u001b[0;31mNameError\u001b[0m                                 Traceback (most recent call last)",
            "\u001b[0;32m<ipython-input-9-a49f036a4b46>\u001b[0m in \u001b[0;36m<module>\u001b[0;34m()\u001b[0m\n\u001b[1;32m      9\u001b[0m \u001b[0;32mimport\u001b[0m \u001b[0mnumpy\u001b[0m\u001b[0;34m\u001b[0m\u001b[0;34m\u001b[0m\u001b[0m\n\u001b[1;32m     10\u001b[0m \u001b[0ma\u001b[0m \u001b[0;34m=\u001b[0m \u001b[0mnumpy\u001b[0m\u001b[0;34m.\u001b[0m\u001b[0mempty\u001b[0m\u001b[0;34m(\u001b[0m\u001b[0;34m(\u001b[0m\u001b[0;36m10\u001b[0m\u001b[0;34m,\u001b[0m \u001b[0;36m10\u001b[0m\u001b[0;34m)\u001b[0m\u001b[0;34m)\u001b[0m\u001b[0;34m\u001b[0m\u001b[0;34m\u001b[0m\u001b[0m\n\u001b[0;32m---> 11\u001b[0;31m \u001b[0ma\u001b[0m\u001b[0;34m.\u001b[0m\u001b[0mfill\u001b[0m\u001b[0;34m(\u001b[0m\u001b[0mfoo\u001b[0m\u001b[0;34m)\u001b[0m\u001b[0;34m\u001b[0m\u001b[0;34m\u001b[0m\u001b[0m\n\u001b[0m\u001b[1;32m     12\u001b[0m \u001b[0;34m\u001b[0m\u001b[0m\n\u001b[1;32m     13\u001b[0m \u001b[0;32mfor\u001b[0m \u001b[0mi\u001b[0m \u001b[0;32min\u001b[0m \u001b[0mrange\u001b[0m\u001b[0;34m(\u001b[0m\u001b[0mlen\u001b[0m\u001b[0;34m(\u001b[0m\u001b[0mpressures\u001b[0m\u001b[0;34m)\u001b[0m\u001b[0;34m)\u001b[0m\u001b[0;34m:\u001b[0m\u001b[0;34m\u001b[0m\u001b[0;34m\u001b[0m\u001b[0m\n",
            "\u001b[0;31mNameError\u001b[0m: name 'foo' is not defined"
          ]
        }
      ]
    },
    {
      "cell_type": "code",
      "metadata": {
        "id": "JrkAA9K7pt7d",
        "colab_type": "code",
        "colab": {
          "base_uri": "https://localhost:8080/",
          "height": 86
        },
        "outputId": "b2c7c562-d0a2-4b5e-9464-7e1153831fa2"
      },
      "source": [
        "import numpy\n",
        "import numpy as np\n",
        "\n",
        "pressures = [10.0, 20.0, 30.0, 40.0, 50.0]\n",
        "temperatures = [10.0, 20.0, 30.0, 40.0, 50.0]\n",
        "\n",
        "numP = len(pressures)\n",
        "numT = len(temperatures)\n",
        "\n",
        "gasViscosity = numpy.zeros((numP, numT))\n",
        "oilViscosity = numpy.zeros((numP, numT))\n",
        "gasDensity = numpy.zeros((numP, numT))\n",
        "oilDensity = numpy.zeros((numP, numT))\n",
        "\n",
        "gasViscosity[:] = np.NaN\n",
        "gasViscosity\n",
        "\n",
        "for i in range(len(temperatures)):\n",
        "  for j in range(len(pressures)):\n",
        "    characterizedFluid.setPressure(pressures[j])\n",
        "    characterizedFluid.setTemperature(temperatures[i]+273.15)\n",
        "    TPflash(characterizedFluid)\n",
        "    characterizedFluid.initProperties()\n",
        "    if(characterizedFluid.hasPhaseType(\"gas\")):\n",
        "      gasViscosity[i][j]=characterizedFluid.getPhase(\"gas\").getViscosity(\"cP\")\n",
        "      gasDensity[i][j]=characterizedFluid.getPhase(\"gas\").getDensity(\"kg/m3\")\n",
        "    if(characterizedFluid.hasPhaseType(\"oil\")):\n",
        "      oilViscosity[i][j]=characterizedFluid.getPhase(\"oil\").getViscosity(\"cP\")\n",
        "      oilDensity[i][j]=characterizedFluid.getPhase(\"oil\").getDensity(\"kg/m3\")\n",
        "\n",
        "\n",
        "display(oilDensity[0])\n",
        "display(oilDensity[1])\n"
      ],
      "execution_count": 16,
      "outputs": [
        {
          "output_type": "display_data",
          "data": {
            "text/plain": [
              "array([706.8016456 , 699.84762927, 693.66419406, 687.77896849,\n",
              "       682.02890249])"
            ]
          },
          "metadata": {
            "tags": []
          }
        },
        {
          "output_type": "display_data",
          "data": {
            "text/plain": [
              "array([705.26997731, 698.54926341, 692.61911945, 687.01555219,\n",
              "       681.573414  ])"
            ]
          },
          "metadata": {
            "tags": []
          }
        }
      ]
    }
  ]
}