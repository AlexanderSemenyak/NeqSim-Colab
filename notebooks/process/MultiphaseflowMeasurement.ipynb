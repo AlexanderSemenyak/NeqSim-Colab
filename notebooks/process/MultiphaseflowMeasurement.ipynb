{
  "nbformat": 4,
  "nbformat_minor": 0,
  "metadata": {
    "colab": {
      "name": "MultiphaseflowMeasurement.ipynb",
      "provenance": [],
      "collapsed_sections": [],
      "authorship_tag": "ABX9TyPSr9KP8KRO8SwhFOfVhEmZ",
      "include_colab_link": true
    },
    "kernelspec": {
      "name": "python3",
      "display_name": "Python 3"
    }
  },
  "cells": [
    {
      "cell_type": "markdown",
      "metadata": {
        "id": "view-in-github",
        "colab_type": "text"
      },
      "source": [
        "<a href=\"https://colab.research.google.com/github/EvenSol/NeqSim-Colab/blob/master/notebooks/process/MultiphaseflowMeasurement.ipynb\" target=\"_parent\"><img src=\"https://colab.research.google.com/assets/colab-badge.svg\" alt=\"Open In Colab\"/></a>"
      ]
    },
    {
      "cell_type": "code",
      "metadata": {
        "id": "O7AGIOKNFYgJ",
        "colab_type": "code",
        "cellView": "form",
        "colab": {}
      },
      "source": [
        "#@title Multiphase flow measurements\n",
        "#@markdown This document is part of the module [\"Introduction to Gas Processing using NeqSim in Colab\"](https://colab.research.google.com/github/EvenSol/NeqSim-Colab/blob/master/notebooks/examples_of_NeqSim_in_Colab.ipynb#scrollTo=_eRtkQnHpL70).\n",
        "%%capture\n",
        "!pip install neqsim\n",
        "import neqsim\n",
        "from neqsim.thermo.thermoTools import *\n",
        "import matplotlib\n",
        "import numpy as np\n",
        "import matplotlib.pyplot as plt\n",
        "import math\n",
        "import pandas as pd\n",
        "%matplotlib inline"
      ],
      "execution_count": 0,
      "outputs": []
    },
    {
      "cell_type": "markdown",
      "metadata": {
        "id": "JPiXYIUqF457",
        "colab_type": "text"
      },
      "source": [
        "# Multiphase flow measurement\n",
        "A multiphase flow meter is a device used to measure the individual phase flow rates of constituent phases in a given flow (for example in oil and gas industry) where oil, water and gas mixtures are initially co-mingled together during the oil production processes."
      ]
    },
    {
      "cell_type": "markdown",
      "metadata": {
        "id": "zYE43klJFdmH",
        "colab_type": "text"
      },
      "source": [
        "# Litterature\n",
        "\n",
        "Wikipedia\n",
        "\n",
        "https://en.wikipedia.org/wiki/Multiphase_flow_meter\n",
        "\n",
        "\n",
        "HANDBOOK OF MULTIPHASE FLOW METERING:\n",
        "\n",
        "https://nfogm.no/wp-content/uploads/2014/02/MPFM_Handbook_Revision2_2005_ISBN-82-91341-89-3.pdf"
      ]
    },
    {
      "cell_type": "code",
      "metadata": {
        "id": "mA__BpznJQCa",
        "colab_type": "code",
        "cellView": "form",
        "outputId": "20343f1d-d218-4ac4-ed92-3ea63b99bb13",
        "colab": {
          "base_uri": "https://localhost:8080/",
          "height": 421
        }
      },
      "source": [
        "#@title Webinar: Advances in Multiphase Metering for Onshore Measurement in Oil & Gas\n",
        "#@markdown This video gives an intriduction to Oil & Gas facilities Design\n",
        "from IPython.display import YouTubeVideo\n",
        "YouTubeVideo('mcxrjJwidl0', width=600, height=400)"
      ],
      "execution_count": 33,
      "outputs": [
        {
          "output_type": "execute_result",
          "data": {
            "text/html": [
              "\n",
              "        <iframe\n",
              "            width=\"600\"\n",
              "            height=\"400\"\n",
              "            src=\"https://www.youtube.com/embed/mcxrjJwidl0\"\n",
              "            frameborder=\"0\"\n",
              "            allowfullscreen\n",
              "        ></iframe>\n",
              "        "
            ],
            "text/plain": [
              "<IPython.lib.display.YouTubeVideo at 0x7f941ee15048>"
            ],
            "image/jpeg": "[encoded data removed]"
          },
          "metadata": {
            "tags": []
          },
          "execution_count": 33
        }
      ]
    },
    {
      "cell_type": "markdown",
      "metadata": {
        "id": "Q-xDKX45JfBe",
        "colab_type": "text"
      },
      "source": [
        "# Calculation of PVT properties for a multiphase flow meter\n",
        "\n",
        "A typical multi phase flow meter will need calclation of various thermodynamic and physical properties. SUch properties have to be updated s the field is produced. The input to the property calculations are a characterized fluid composition from PVT studies.\n",
        "\n",
        "The following script demonstrates calculation of PVT properties for a multi phase flow meter using a CHaracterized fluid composition."
      ]
    },
    {
      "cell_type": "code",
      "metadata": {
        "id": "n2591sOyJ0Kp",
        "colab_type": "code",
        "outputId": "19bda838-2fa7-4a87-a357-8e63002dd318",
        "colab": {
          "base_uri": "https://localhost:8080/",
          "height": 1000
        }
      },
      "source": [
        "names = ['nitrogen','CO2', 'methane', 'ethane', 'propane','i-butane','n-butane','i-pentane','n-pentane']\n",
        "molefractions = [0.963, 0.684, 94.951, 2.585, 0.114, 0.146, 0.024, 0.078, 0.022]\n",
        "fluidDefinedComponents = createfluid2(names, molefractions, \"mol/sec\")\n",
        "\n",
        "charNames = [\"C6\", \"C7\", \"C8\", \"C9\", \"C10\"]\n",
        "charFlowrate = [0.066, 0.111, 0.107, 0.047, 0.1285]\n",
        "molarMass = [86.18/1000.0, 96.0/1000.0, 107.0/1000.0, 121.0/1000.0, 190.0/1000.0]\n",
        "density = [664.0e-3, 738.0e-3, 765.0e-3, 781.0e-3, 832.10e-3]\n",
        "characterizedFluid = addOilFractions(fluidDefinedComponents, charNames,charFlowrate,molarMass,  density);\n",
        "characterizedFluid.setHeavyTBPfractionAsPlusFraction()\n",
        "characterizedFluid.getCharacterization().getLumpingModel().setNumberOfPseudoComponents(12);\n",
        "characterizedFluid.getCharacterization().setLumpingModel(\"PVTlumpingModel\");\n",
        "characterizedFluid.getCharacterization().characterisePlusFraction();\n",
        "characterizedFluid.setMixingRule(2)\n",
        "characterizedFluid.init(0)\n",
        "characterizedFluid\n",
        "printFrame(characterizedFluid)\n",
        "characterizedFluid.setTemperature(273.15+20.6)\n",
        "characterizedFluid.setPressure(86.8)\n",
        "TPflash(characterizedFluid)\n",
        "\n",
        "GORcalc = characterizedFluid.getPhase(\"gas\").getNumberOfMolesInPhase()*8.314*288.15/101325  / (characterizedFluid.getPhase(\"oil\").getVolume(\"m3\"))\n",
        "print(\"GOR \", GORcalc)\n",
        "print('phase envelope for characterized fluid')\n",
        "phaseenvelope(characterizedFluid, True)"
      ],
      "execution_count": 66,
      "outputs": [
        {
          "output_type": "stream",
          "text": [
            "                          total          gas          oil                     \n",
            "           nitrogen  9.62745E-3   9.62745E-3   9.62745E-3      [mole fraction]\n",
            "                CO2  6.83819E-3   6.83819E-3   6.83819E-3      [mole fraction]\n",
            "            methane  9.49258E-1   9.49258E-1   9.49258E-1      [mole fraction]\n",
            "             ethane  2.58432E-2   2.58432E-2   2.58432E-2      [mole fraction]\n",
            "            propane   1.1397E-3    1.1397E-3    1.1397E-3      [mole fraction]\n",
            "           i-butane  1.45961E-3   1.45961E-3   1.45961E-3      [mole fraction]\n",
            "           n-butane  2.39936E-4   2.39936E-4   2.39936E-4      [mole fraction]\n",
            "          i-pentane  7.79793E-4   7.79793E-4   7.79793E-4      [mole fraction]\n",
            "          n-pentane  2.19942E-4   2.19942E-4   2.19942E-4      [mole fraction]\n",
            "              C6_PC  6.59825E-4   6.59825E-4   6.59825E-4      [mole fraction]\n",
            "              C7_PC  1.10971E-3   1.10971E-3   1.10971E-3      [mole fraction]\n",
            "              C8_PC  1.06972E-3   1.06972E-3   1.06972E-3      [mole fraction]\n",
            "              C9_PC  4.69875E-4   4.69875E-4   4.69875E-4      [mole fraction]\n",
            "          C10-10_PC  2.59157E-4   2.59157E-4   2.59157E-4      [mole fraction]\n",
            "          C11-11_PC  2.06876E-4   2.06876E-4   2.06876E-4      [mole fraction]\n",
            "          C12-13_PC  2.96971E-4   2.96971E-4   2.96971E-4      [mole fraction]\n",
            "          C14-15_PC   1.8924E-4    1.8924E-4    1.8924E-4      [mole fraction]\n",
            "          C16-17_PC   1.2059E-4    1.2059E-4    1.2059E-4      [mole fraction]\n",
            "          C18-20_PC  1.04074E-4   1.04074E-4   1.04074E-4      [mole fraction]\n",
            "          C21-24_PC  6.39978E-5   6.39978E-5   6.39978E-5      [mole fraction]\n",
            "          C25-79_PC  4.37542E-5   4.37542E-5   4.37542E-5      [mole fraction]\n",
            "                                                                              \n",
            "            Density               7.02368E-1   7.02368E-1             [kg/m^3]\n",
            "      PhaseFraction                      1E0          1E0      [mole fraction]\n",
            "          MolarMass   1.73767E1    1.73767E1    1.73767E1            [kg/kmol]\n",
            "           Z factor                9.9804E-1    9.9804E-1                  [-]\n",
            " Heat Capacity (Cp)                2.14195E0    2.14195E0            [kJ/kg*K]\n",
            " Heat Capacity (Cv)                1.65818E0    1.65818E0            [kJ/kg*K]\n",
            "     Speed of Sound                4.28438E2    4.28438E2              [m/sec]\n",
            "           Enthalpy    1.0312E2    5.15598E1    5.15598E1              [kJ/kg]\n",
            "            Entropy   6.4745E-1   3.23725E-1   3.23725E-1            [kJ/kg*K]\n",
            "     JT coefficient               4.97156E-1   4.97156E-1              [K/bar]\n",
            "                                                                              \n",
            "          Viscosity               1.12482E-5   1.12482E-5           [kg/m*sec]\n",
            "       Conductivity               3.34719E-2   3.34719E-2              [W/m*K]\n",
            "     SurfaceTension              1.26685E-76  1.26685E-76                [N/m]\n",
            "                                                                              \n",
            "                                                                              \n",
            "                                                                              \n",
            "           Pressure                      1.0          1.0                [bar]\n",
            "        Temperature                   298.15       298.15                  [K]\n",
            "                                                                              \n",
            "              Model                  SRK-EOS      SRK-EOS                    -\n",
            "        Mixing Rule                  classic      classic                    -\n",
            "                                                                              \n",
            "             Stream                                                          -\n",
            "                                                                              \n",
            "                                                                              \n",
            "                                                                              \n",
            "                                                                              \n",
            "GOR  32168.437986818622\n",
            "phase envelope for characterized fluid\n"
          ],
          "name": "stdout"
        },
        {
          "output_type": "display_data",
          "data": {
            "image/png": "[encoded data removed]",
            "text/plain": [
              "<Figure size 432x288 with 1 Axes>"
            ]
          },
          "metadata": {
            "tags": [],
            "needs_background": "light"
          }
        },
        {
          "output_type": "execute_result",
          "data": {
            "text/plain": [
              "JavaObject id=o4182"
            ]
          },
          "metadata": {
            "tags": []
          },
          "execution_count": 66
        }
      ]
    },
    {
      "cell_type": "markdown",
      "metadata": {
        "id": "by7fj9C1Jzw6",
        "colab_type": "text"
      },
      "source": [
        "## Generation of properties for multiphase measurements\n",
        "\n",
        "The following script demonstrates how to generate typical properties for a multiphase flow meter."
      ]
    },
    {
      "cell_type": "code",
      "metadata": {
        "id": "JrkAA9K7pt7d",
        "colab_type": "code",
        "outputId": "14a99ed3-eb36-4bc4-fdb6-ec7da71bd4cb",
        "colab": {
          "base_uri": "https://localhost:8080/",
          "height": 623
        }
      },
      "source": [
        "import numpy\n",
        "import numpy as np\n",
        "\n",
        "pressures = [150.0, 170.0, 180.0, 200.0, 270.0, 320.0, 400.0]\n",
        "temperatures = [30.0, 40.0, 50.0, 60.0, 80.0]\n",
        "\n",
        "numP = len(pressures)\n",
        "numT = len(temperatures)\n",
        "\n",
        "gasViscosity = numpy.zeros((numP, numT))\n",
        "oilViscosity = numpy.zeros((numP, numT))\n",
        "gasDensity = numpy.zeros((numP, numT))\n",
        "oilDensity = numpy.zeros((numP, numT))\n",
        "GORcalc  = numpy.zeros((numP, numT))\n",
        "GORactual = numpy.zeros((numP, numT))\n",
        "gasViscosity[:] = np.NaN\n",
        "oilViscosity[:] = np.NaN\n",
        "gasDensity[:] = np.NaN\n",
        "oilDensity[:] = np.NaN\n",
        "GORcalc[:] = np.NaN\n",
        "GORactual[:] = np.NaN\n",
        "\n",
        "for i in range(len(temperatures)):\n",
        "  for j in range(len(pressures)):\n",
        "    characterizedFluid.setPressure(pressures[j])\n",
        "    characterizedFluid.setTemperature(temperatures[i]+273.15)\n",
        "    TPflash(characterizedFluid)\n",
        "    characterizedFluid.initProperties()\n",
        "    if(characterizedFluid.hasPhaseType(\"gas\")):\n",
        "      gasViscosity[j][i]=characterizedFluid.getPhase(\"gas\").getViscosity(\"cP\")\n",
        "      gasDensity[j][i]=characterizedFluid.getPhase(\"gas\").getDensity(\"kg/m3\")\n",
        "    if(characterizedFluid.hasPhaseType(\"oil\")):\n",
        "      oilViscosity[j][i]=characterizedFluid.getPhase(\"oil\").getViscosity(\"cP\")\n",
        "      oilDensity[j][i]=characterizedFluid.getPhase(\"oil\").getDensity(\"kg/m3\")\n",
        "    if(characterizedFluid.hasPhaseType(\"gas\") and characterizedFluid.hasPhaseType(\"oil\")):\n",
        "      GORcalc[j][i] = characterizedFluid.getPhase(\"gas\").getNumberOfMolesInPhase()*8.314*288.15/101325  / (characterizedFluid.getPhase(\"oil\").getVolume(\"m3\"))\n",
        "      GORactual[j][i] =   (characterizedFluid.getPhase(\"gas\").getVolume(\"m3\"))/ (characterizedFluid.getPhase(\"oil\").getVolume(\"m3\"))\n",
        "\n",
        "gasDensityDataFrame = pd.DataFrame(gasDensity,index=pressures, columns=temperatures)\n",
        "oilDensityDataFrame = pd.DataFrame(oilDensity,index=pressures, columns=temperatures)\n",
        "gasviscosityDataFrame = pd.DataFrame(gasViscosity,index=pressures, columns=temperatures)\n",
        "oilviscosityDataFrame = pd.DataFrame(oilViscosity,index=pressures, columns=temperatures)\n",
        "GORcalcFrame = pd.DataFrame(GORcalc,index=pressures, columns=temperatures)\n",
        "GORactualFrame = pd.DataFrame(GORactual,index=pressures, columns=temperatures)\n",
        "\n",
        "print(\"gas density\")\n",
        "print(gasDensityDataFrame.tail())\n",
        "print(\"oil density\")\n",
        "print(oilDensityDataFrame.head())\n",
        "print(\"gas viscosity\")\n",
        "print(gasviscosityDataFrame.tail())\n",
        "print(\"oil viscosity\")\n",
        "print(oilviscosityDataFrame.head())\n",
        "print(\"GOR actual\")\n",
        "print(GORactualFrame.head())"
      ],
      "execution_count": 44,
      "outputs": [
        {
          "output_type": "stream",
          "text": [
            "gas density\n",
            "             30.0        40.0        50.0        60.0        80.0\n",
            "180.0  147.193249  138.816622  131.512851  125.088659  114.296612\n",
            "200.0  162.450946  153.375058  145.393266  138.330315  126.399816\n",
            "270.0  207.339261  197.150419  187.885768  179.463285  164.805285\n",
            "320.0  232.715540  222.477873  212.490767  203.740641  188.188762\n",
            "400.0  263.277575  253.489276  244.232392  235.503166  219.570908\n",
            "oil density\n",
            "             30.0        40.0        50.0        60.0        80.0\n",
            "150.0  711.470653  715.877288  720.338478  724.811625  733.667056\n",
            "170.0  710.384750  714.698183  719.141616  723.653059  732.749568\n",
            "180.0  710.676996  714.871380  719.248072  723.735027  732.901984\n",
            "200.0  712.878797  716.714566  720.860543  725.226108  734.453416\n",
            "270.0  736.720518  738.499722  741.146250  744.498583  752.826753\n",
            "gas viscosity\n",
            "           30.0      40.0      50.0      60.0      80.0\n",
            "180.0  0.018388  0.018125  0.017956  0.017858  0.017815\n",
            "200.0  0.019574  0.019201  0.018937  0.018758  0.018586\n",
            "270.0  0.023761  0.023054  0.022490  0.022045  0.021428\n",
            "320.0  0.026659  0.025769  0.024986  0.024384  0.023488\n",
            "400.0  0.030800  0.029706  0.028770  0.027970  0.026709\n",
            "oil viscosity\n",
            "           30.0      40.0      50.0      60.0      80.0\n",
            "150.0  0.413777  0.425350  0.438890  0.454310  0.490477\n",
            "170.0  0.410548  0.421518  0.434606  0.449648  0.485275\n",
            "180.0  0.412170  0.422615  0.435322  0.450092  0.485549\n",
            "200.0  0.421671  0.430683  0.442378  0.456499  0.491849\n",
            "270.0  0.534746  0.533863  0.539446  0.550489  0.587705\n",
            "GOR actual\n",
            "             30.0        40.0        50.0        60.0         80.0\n",
            "150.0  210.245508  246.717707  291.266122  345.799880   496.038107\n",
            "170.0  215.931529  252.201185  296.954106  352.251949   507.201296\n",
            "180.0  223.376023  259.955887  305.412239  361.934462   521.979254\n",
            "200.0  248.676969  286.743952  334.939573  395.832277   572.471456\n",
            "270.0  540.665592  596.265863  675.738104  784.521692  1127.019639\n"
          ],
          "name": "stdout"
        }
      ]
    },
    {
      "cell_type": "markdown",
      "metadata": {
        "id": "DlDYbrjeMH5D",
        "colab_type": "text"
      },
      "source": [
        "# Test the fluid characterisation by comparing to PVT data\n",
        "The bubble point pressure is determined by an experiment called Constant Composition Expansion (CCE). It's also called Constant Mass Expansion (CME) experiment or Pressure-Volume (PV) relationship. ... The cell pressure is controlled by a positive displacement pump and recorded on an accurate pressure gauge."
      ]
    },
    {
      "cell_type": "code",
      "metadata": {
        "id": "FJwXt1d3MFON",
        "colab_type": "code",
        "outputId": "c7beee65-fa8c-4e94-bd2a-165ab4897285",
        "colab": {
          "base_uri": "https://localhost:8080/",
          "height": 594
        }
      },
      "source": [
        "\n",
        "pressure = [555.3, 500.0, 400.0, 350.0, 300.0, 250.0, 230.0, 190.0, 150.0, 100.0, 50.0, 46.1]\n",
        "temperature = [273.15+73.0, 273.15+73.0, 273.15+73.0, 273.15+73.0, 273.15+73.0, 273.15+73.0, 273.15+73.0, 273.15+73.0, 273.15+73.0, 273.15+73.0, 273.15+73.0, 273.15+73.0]\n",
        "\n",
        "relativevolume = []\n",
        "liquidrelativevolume = []\n",
        "Zgas =  []\n",
        "Yfactor = []\n",
        "isothermalcompressibility = []\n",
        "\n",
        "CME(characterizedFluid,pressure,temperature,relativevolume, liquidrelativevolume,Zgas,Yfactor,isothermalcompressibility)\n",
        "\n",
        "plt.figure(figsize=(20, 5))\n",
        "plt.subplot(131)\n",
        "plt.plot(pressure, relativevolume, \"o\")\n",
        "plt.xlabel('Pressure [bara]')\n",
        "plt.ylabel('relative volume [-]')\n",
        "plt.subplot(132)\n",
        "plt.plot(pressure, Yfactor, \"o\")\n",
        "plt.xlabel('Pressure [bara]')\n",
        "plt.ylabel('Yfactor [-]')\n",
        "plt.subplot(133)\n",
        "plt.plot(pressure, isothermalcompressibility, \"o\")\n",
        "plt.xlabel('Pressure [bara]')\n",
        "plt.ylabel('isothermalcompressibility [1/bar]')\n",
        "plt.show()\n",
        "\n",
        "Yfactorarray= np.asarray([relativevolume,Yfactor,Zgas, isothermalcompressibility,liquidrelativevolume])\n",
        "pressurearray= np.asarray(pressure)\n",
        "temperaturearray= np.asarray(temperature)\n",
        "YfactorFrame = pd.DataFrame(Yfactorarray.transpose(),index=pressurearray, columns=[\"relativevolume\", \"Yfactor\", \"Zgas\", \"isothermalcompressibility\", \"liquidrelativevolume\"])\n",
        "print(\"YfactorFrame\")\n",
        "print(YfactorFrame.head(20).to_string())\n",
        "print()"
      ],
      "execution_count": 67,
      "outputs": [
        {
          "output_type": "display_data",
          "data": {
            "image/png": "[encoded data removed]",
            "text/plain": [
              "<Figure size 1440x360 with 3 Axes>"
            ]
          },
          "metadata": {
            "tags": [],
            "needs_background": "light"
          }
        },
        {
          "output_type": "stream",
          "text": [
            "YfactorFrame\n",
            "       relativevolume   Yfactor      Zgas  isothermalcompressibility  liquidrelativevolume\n",
            "555.3        0.653787  0.000000  1.287685                   0.000663              0.000000\n",
            "500.0        0.680418  0.000000  1.206679                   0.000787              0.000000\n",
            "400.0        0.748124  0.000000  1.061401                   0.001148              0.000000\n",
            "350.0        0.797965  0.000000  0.990599                   0.001451              0.000000\n",
            "300.0        0.867280  0.000000  0.922841                   0.001916              0.000000\n",
            "250.0        0.971343  0.000000  0.861308                   0.002686              0.000000\n",
            "230.0        1.031336  1.399919  0.000000                   0.000000              0.155316\n",
            "190.0        1.201313  1.309544  0.000000                   0.000000              0.342957\n",
            "150.0        1.501135  1.198472  0.000000                   0.000000              0.595781\n",
            "100.0        2.331090  1.052442  0.000000                   0.000000              0.862670\n",
            "50.0         5.069015  0.934327  0.000000                   0.000000              0.932687\n",
            "46.1         5.540291  0.926816  0.000000                   0.000000              0.929286\n",
            "\n"
          ],
          "name": "stdout"
        }
      ]
    }
  ]
}