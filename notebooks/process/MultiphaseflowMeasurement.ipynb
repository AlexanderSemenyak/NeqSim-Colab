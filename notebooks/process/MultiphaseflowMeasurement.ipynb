{
  "nbformat": 4,
  "nbformat_minor": 0,
  "metadata": {
    "colab": {
      "name": "MultiphaseflowMeasurement.ipynb",
      "provenance": [],
      "collapsed_sections": [],
      "authorship_tag": "ABX9TyNg0iugCRSFSr5huLRKFW/n",
      "include_colab_link": true
    },
    "kernelspec": {
      "name": "python3",
      "display_name": "Python 3"
    },
    "accelerator": "GPU"
  },
  "cells": [
    {
      "cell_type": "markdown",
      "metadata": {
        "id": "view-in-github",
        "colab_type": "text"
      },
      "source": [
        "<a href=\"https://colab.research.google.com/github/EvenSol/NeqSim-Colab/blob/master/notebooks/process/MultiphaseflowMeasurement.ipynb\" target=\"_parent\"><img src=\"https://colab.research.google.com/assets/colab-badge.svg\" alt=\"Open In Colab\"/></a>"
      ]
    },
    {
      "cell_type": "code",
      "metadata": {
        "id": "O7AGIOKNFYgJ",
        "colab_type": "code",
        "cellView": "form",
        "colab": {}
      },
      "source": [
        "#@title Multiphase flow measurements\n",
        "#@markdown This document is part of the module [\"Introduction to Gas Processing using NeqSim in Colab\"](https://colab.research.google.com/github/EvenSol/NeqSim-Colab/blob/master/notebooks/examples_of_NeqSim_in_Colab.ipynb#scrollTo=_eRtkQnHpL70).\n",
        "%%capture\n",
        "!pip install neqsim\n",
        "import neqsim\n",
        "from neqsim.thermo.thermoTools import *\n",
        "import matplotlib\n",
        "import numpy as np\n",
        "import matplotlib.pyplot as plt\n",
        "import math\n",
        "import pandas as pd\n",
        "%matplotlib inline"
      ],
      "execution_count": 0,
      "outputs": []
    },
    {
      "cell_type": "markdown",
      "metadata": {
        "id": "JPiXYIUqF457",
        "colab_type": "text"
      },
      "source": [
        "# Multiphase flow measurement\n",
        "A multiphase flow meter is a device used to measure the individual phase flow rates of constituent phases in a given flow (for example in oil and gas industry) where oil, water and gas mixtures are initially co-mingled together during the oil production processes."
      ]
    },
    {
      "cell_type": "markdown",
      "metadata": {
        "id": "zYE43klJFdmH",
        "colab_type": "text"
      },
      "source": [
        "# Litterature\n",
        "\n",
        "Wikipedia\n",
        "\n",
        "https://en.wikipedia.org/wiki/Multiphase_flow_meter\n",
        "\n",
        "\n",
        "HANDBOOK OF MULTIPHASE FLOW METERING:\n",
        "\n",
        "https://nfogm.no/wp-content/uploads/2014/02/MPFM_Handbook_Revision2_2005_ISBN-82-91341-89-3.pdf"
      ]
    },
    {
      "cell_type": "code",
      "metadata": {
        "id": "mA__BpznJQCa",
        "colab_type": "code",
        "cellView": "form",
        "outputId": "77428f72-e892-4d58-ab09-f695fa5bd232",
        "colab": {
          "base_uri": "https://localhost:8080/",
          "height": 421
        }
      },
      "source": [
        "#@title Webinar: Advances in Multiphase Metering for Onshore Measurement in Oil & Gas\n",
        "#@markdown This video gives an intriduction to Oil & Gas facilities Design\n",
        "from IPython.display import YouTubeVideo\n",
        "YouTubeVideo('mcxrjJwidl0', width=600, height=400)"
      ],
      "execution_count": 2,
      "outputs": [
        {
          "output_type": "execute_result",
          "data": {
            "text/html": [
              "\n",
              "        <iframe\n",
              "            width=\"600\"\n",
              "            height=\"400\"\n",
              "            src=\"https://www.youtube.com/embed/mcxrjJwidl0\"\n",
              "            frameborder=\"0\"\n",
              "            allowfullscreen\n",
              "        ></iframe>\n",
              "        "
            ],
            "text/plain": [
              "<IPython.lib.display.YouTubeVideo at 0x7fc3df403550>"
            ],
            "image/jpeg": "[encoded data removed]"
          },
          "metadata": {
            "tags": []
          },
          "execution_count": 2
        }
      ]
    },
    {
      "cell_type": "markdown",
      "metadata": {
        "id": "HIzv_GZ1GBxj",
        "colab_type": "text"
      },
      "source": [
        "# Generation of fluid characterization and generationg PVT properites for multi phase meters\n",
        "\n",
        "Int he following section it will be demonstrated how to generate PVT properties for a multi phase flow meter.\n",
        "\n",
        "\n",
        "1. Collection of fluid composition and PVT data from PVTreport. Evaluation of data.\n",
        "2. Set up fluid based on fluid composition and properties from PVT report, calulate and compare to measured PVT properties from PVT report\n",
        "3. Selection of parameters to fit, and fit model to PVT data\n",
        "4. Gerenation of properties for multi phase flow meter"
      ]
    },
    {
      "cell_type": "markdown",
      "metadata": {
        "id": "tp8R9Q2VH4sa",
        "colab_type": "text"
      },
      "source": [
        "# 1. Collection of fluid composition and PVT data from PVTreport. Evaluation of data.\n",
        "\n",
        "We start by optaining a fluid composition and PVT data from a PVT report. Such data. THe fluid compositon can typically be reported based on samples from the test separator. The gas and oil from the test separator is analysed, and matehamtical recombined into a well stream composition.\n",
        "\n",
        "Int the work we will assume that a well stream compostion as reported in the following composition. In this example we will use a fluid characterization based on a C10+ analysis. THe means that a detailed composition is used up to C6, and the C6, C7, C8 and C9 is defned as oil fraction components with properties calculated based on molar mass nnd density. C10+ is added with molar mass and density of the 10+ fraction.\n",
        "\n",
        "\n",
        "\n"
      ]
    },
    {
      "cell_type": "code",
      "metadata": {
        "id": "krWG9lMrJfPX",
        "colab_type": "code",
        "colab": {
          "base_uri": "https://localhost:8080/",
          "height": 298
        },
        "outputId": "4e38297b-64e5-4408-df7f-c4abd51f9e97"
      },
      "source": [
        "definedComponents = ['nitrogen','CO2', 'methane', 'ethane', 'propane','i-butane','n-butane','i-pentane','n-pentane']\n",
        "definedmolefractions = [0.972, 0.632, 95.111, 2.553, 0.104, 0.121, 0.021, 0.066, 0.02]\n",
        "oilComponents = [\"C6\", \"C7\", \"C8\", \"C9\", \"C10\"]\n",
        "oilComponentsMoleFractions= [0.058, 0.107, 0.073, 0.044, 0.118]\n",
        "oilComponentsMolarMass = [86.18/1000.0, 96.0/1000.0, 107.0/1000.0, 121.0/1000.0, 202.0/1000.0] # kg/mol\n",
        "oilComponentsRelativeDensity = [664.0e-3, 738.0e-3, 765.0e-3, 781.0e-3, 813.30e-3] #gr/cm3\n",
        "\n",
        "#definedComponentArray = np.asarray([definedComponents,definedmolefractions,Zgas, isothermalcompressibility,liquidrelativevolume])\n",
        "compositionDataFrame = pd.DataFrame(definedmolefractions,index=definedComponents, columns=[\"mole fraction\"])\n",
        "oilComponentsDataFrame = pd.DataFrame(numpy.transpose([oilComponentsMoleFractions, oilComponentsMolarMass, oilComponentsRelativeDensity]),index=oilComponents, columns=[\"mole fraction\", \"molar mass [kg/mole]\", \" density [gr/cm3]\"])\n",
        "\n",
        "print(compositionDataFrame.head(20).to_string())\n",
        "print(oilComponentsDataFrame.head(20).to_string())\n"
      ],
      "execution_count": 13,
      "outputs": [
        {
          "output_type": "stream",
          "text": [
            "           mole fraction\n",
            "nitrogen           0.972\n",
            "CO2                0.632\n",
            "methane           95.111\n",
            "ethane             2.553\n",
            "propane            0.104\n",
            "i-butane           0.121\n",
            "n-butane           0.021\n",
            "i-pentane          0.066\n",
            "n-pentane          0.020\n",
            "     mole fraction  molar mass [kg/mole]   density [gr/cm3]\n",
            "C6           0.058               0.08618             0.6640\n",
            "C7           0.107               0.09600             0.7380\n",
            "C8           0.073               0.10700             0.7650\n",
            "C9           0.044               0.12100             0.7810\n",
            "C10          0.118               0.20200             0.8133\n"
          ],
          "name": "stdout"
        }
      ]
    },
    {
      "cell_type": "markdown",
      "metadata": {
        "id": "mGLJA4W2Q81f",
        "colab_type": "text"
      },
      "source": [
        "## Data from PVT report\n",
        "Typical data from a PVT report is reported in the following code. In the following example the fluid composition was reported based on test separarator data, and a constand mass expansion test was done (CME). Reservoir pressure and temperature."
      ]
    },
    {
      "cell_type": "code",
      "metadata": {
        "id": "yYkyse5gQ3u_",
        "colab_type": "code",
        "colab": {
          "base_uri": "https://localhost:8080/",
          "height": 122
        },
        "outputId": "30c73084-a730-4a75-9a1f-00e34c29a9c2"
      },
      "source": [
        "reservoidTemperature = 80.6 #Celius\n",
        "reservoirPressure = 320.8 #bara\n",
        "\n",
        "testSeparatorTemperature = 20.6 # Celcius\n",
        "testSeparatorPressure = 86.8 # bara\n",
        "\n",
        "\n",
        "CMEpressures = [500.0, 450.0, 400.0, 350.0, 250.0]\n",
        "CMEtemperature = [80.6]*len(CMEpressures)\n",
        "CMErelativevolume = [0.9, 0.95, 0.99, 1.0, 1.1]\n",
        "\n",
        "CMEdataFrame = pd.DataFrame(numpy.transpose([CMEpressures, CMErelativevolume]), columns=[\"pressure\", \"relative volume\"])\n",
        "print(CMEdataFrame.head(20).to_string())\n",
        "\n",
        "\n"
      ],
      "execution_count": 20,
      "outputs": [
        {
          "output_type": "stream",
          "text": [
            "   pressure  relative volume\n",
            "0     500.0             0.90\n",
            "1     450.0             0.95\n",
            "2     400.0             0.99\n",
            "3     350.0             1.00\n",
            "4     250.0             1.10\n"
          ],
          "name": "stdout"
        }
      ]
    },
    {
      "cell_type": "markdown",
      "metadata": {
        "id": "z2RYyPDuPBwt",
        "colab_type": "text"
      },
      "source": [
        "# 2. Set up fluid based on fluid composition and properties from PVT report, calulate and compare to measured PVT properties from PVT report\n",
        "\n",
        "A fluid in neqsim is set up in the following script. We the flash the fluid to calculate the GOR at test separator and standard conditions."
      ]
    },
    {
      "cell_type": "code",
      "metadata": {
        "id": "SnuKH2MBPOlD",
        "colab_type": "code",
        "colab": {}
      },
      "source": [
        "fluidDefinedComponents = createfluid2(definedComponents, definedmolefractions, \"mol/sec\")\n",
        "characterizedFluid = addOilFractions(fluidDefinedComponents, oilComponents,oilComponentsMoleFractions, oilComponentsMolarMass,  oilComponentsRelativeDensity);\n",
        "\n",
        "\n",
        "characterizedFluid.setTemperature(testSeparatorTemperature, \"C\")\n",
        "characterizedFluid.setPressure(testSeparatorPressure, \"bara\")\n",
        "TPflash(characterizedFluid)\n",
        "GORcalc = characterizedFluid.getPhase(\"gas\").getNumberOfMolesInPhase()*8.314*288.15/101325  / (characterizedFluid.getPhase(\"oil\").getVolume(\"m3\"))\n",
        "print(\"GOR at test separator conditions: \", GORcalc, \" Sm3 gas/m3 oil\")\n",
        "\n",
        "characterizedFluid.setTemperature(15.0, \"C\")\n",
        "characterizedFluid.setPressure(1.0, \"atm\")\n",
        "TPflash(characterizedFluid)\n",
        "GORcalcstd = characterizedFluid.getPhase(\"gas\").getNumberOfMolesInPhase()*8.314*288.15/101325  / (characterizedFluid.getPhase(\"oil\").getVolume(\"m3\"))\n",
        "print(\"GOR at standard conditions \", GORcalcstd, , \" Sm3 gas/m3 oil\")\n"
      ],
      "execution_count": 0,
      "outputs": []
    },
    {
      "cell_type": "markdown",
      "metadata": {
        "id": "Q-xDKX45JfBe",
        "colab_type": "text"
      },
      "source": [
        "# Calculation of PVT properties for a multiphase flow meter\n",
        "\n",
        "A typical multi phase flow meter will need calclation of various thermodynamic and physical properties. SUch properties have to be updated s the field is produced. The input to the property calculations are a characterized fluid composition from PVT studies.\n",
        "\n",
        "The following script demonstrates calculation of PVT properties for a multi phase flow meter using a CHaracterized fluid composition."
      ]
    },
    {
      "cell_type": "code",
      "metadata": {
        "id": "n2591sOyJ0Kp",
        "colab_type": "code",
        "outputId": "6058d8e5-9bff-4200-bcb7-8c22783a8a85",
        "colab": {
          "base_uri": "https://localhost:8080/",
          "height": 1000
        }
      },
      "source": [
        "\n",
        "\n",
        "\n",
        "\n",
        "\n",
        "characterizedFluid.setTemperature(273.15+80.6)\n",
        "characterizedFluid.setPressure(320.8)\n",
        "TPflash(characterizedFluid)\n",
        "printFrame(characterizedFluid)\n",
        "print('phase envelope for characterized fluid')\n",
        "phaseenvelope(characterizedFluid, True)"
      ],
      "execution_count": 4,
      "outputs": [
        {
          "output_type": "stream",
          "text": [
            "                          total         gas         oil                     \n",
            "           nitrogen     9.72E-3     9.72E-3     9.72E-3      [mole fraction]\n",
            "                CO2     6.32E-3     6.32E-3     6.32E-3      [mole fraction]\n",
            "            methane   9.5111E-1   9.5111E-1   9.5111E-1      [mole fraction]\n",
            "             ethane    2.553E-2    2.553E-2    2.553E-2      [mole fraction]\n",
            "            propane     1.04E-3     1.04E-3     1.04E-3      [mole fraction]\n",
            "           i-butane     1.21E-3     1.21E-3     1.21E-3      [mole fraction]\n",
            "           n-butane      2.1E-4      2.1E-4      2.1E-4      [mole fraction]\n",
            "          i-pentane      6.6E-4      6.6E-4      6.6E-4      [mole fraction]\n",
            "          n-pentane        2E-4        2E-4        2E-4      [mole fraction]\n",
            "              C6_PC      5.8E-4      5.8E-4      5.8E-4      [mole fraction]\n",
            "              C7_PC     1.07E-3     1.07E-3     1.07E-3      [mole fraction]\n",
            "              C8_PC      7.3E-4      7.3E-4      7.3E-4      [mole fraction]\n",
            "              C9_PC      4.4E-4      4.4E-4      4.4E-4      [mole fraction]\n",
            "          C10-11_PC  3.71793E-4  3.71793E-4  3.71793E-4      [mole fraction]\n",
            "          C12-13_PC  2.54649E-4  2.54649E-4  2.54649E-4      [mole fraction]\n",
            "          C14-15_PC  1.74415E-4  1.74415E-4  1.74415E-4      [mole fraction]\n",
            "          C16-17_PC   1.1946E-4   1.1946E-4   1.1946E-4      [mole fraction]\n",
            "          C18-19_PC  8.18211E-5  8.18211E-5  8.18211E-5      [mole fraction]\n",
            "          C20-22_PC  7.70434E-5  7.70434E-5  7.70434E-5      [mole fraction]\n",
            "          C23-27_PC  6.16779E-5  6.16779E-5  6.16779E-5      [mole fraction]\n",
            "          C28-79_PC  3.91408E-5  3.91408E-5  3.91408E-5      [mole fraction]\n",
            "                                                                            \n",
            "            Density              6.98837E-1  6.98837E-1             [kg/m^3]\n",
            "      PhaseFraction                     1E0         1E0      [mole fraction]\n",
            "          MolarMass   1.72896E1   1.72896E1   1.72896E1            [kg/kmol]\n",
            "           Z factor               9.9806E-1   9.9806E-1                  [-]\n",
            " Heat Capacity (Cp)                2.1475E0    2.1475E0            [kJ/kg*K]\n",
            " Heat Capacity (Cv)               1.66133E0   1.66133E0            [kJ/kg*K]\n",
            "     Speed of Sound               4.29672E2   4.29672E2              [m/sec]\n",
            "           Enthalpy   1.03409E2   5.17043E1   5.17043E1              [kJ/kg]\n",
            "            Entropy  6.38987E-1  3.19493E-1  3.19493E-1            [kJ/kg*K]\n",
            "     JT coefficient               4.9449E-1   4.9449E-1              [K/bar]\n",
            "                                                                            \n",
            "          Viscosity              1.12471E-5  1.12471E-5           [kg/m*sec]\n",
            "       Conductivity              3.35566E-2  3.35566E-2              [W/m*K]\n",
            "     SurfaceTension                     0E0         0E0                [N/m]\n",
            "                                                                            \n",
            "                                                                            \n",
            "                                                                            \n",
            "           Pressure                     1.0         1.0                [bar]\n",
            "        Temperature                  298.15      298.15                  [K]\n",
            "                                                                            \n",
            "              Model                 SRK-EOS     SRK-EOS                    -\n",
            "        Mixing Rule                 classic     classic                    -\n",
            "                                                                            \n",
            "             Stream                                                        -\n",
            "                                                                            \n",
            "                                                                            \n",
            "                                                                            \n",
            "                                                                            \n",
            "GOR test sep  35738.34692311348\n",
            "GOR standard  64978.66186269608\n",
            "                          total         gas                       \n",
            "           nitrogen     9.72E-3     9.72E-3        [mole fraction]\n",
            "                CO2     6.32E-3     6.32E-3        [mole fraction]\n",
            "            methane   9.5111E-1   9.5111E-1        [mole fraction]\n",
            "             ethane    2.553E-2    2.553E-2        [mole fraction]\n",
            "            propane     1.04E-3     1.04E-3        [mole fraction]\n",
            "           i-butane     1.21E-3     1.21E-3        [mole fraction]\n",
            "           n-butane      2.1E-4      2.1E-4        [mole fraction]\n",
            "          i-pentane      6.6E-4      6.6E-4        [mole fraction]\n",
            "          n-pentane        2E-4        2E-4        [mole fraction]\n",
            "              C6_PC      5.8E-4      5.8E-4        [mole fraction]\n",
            "              C7_PC     1.07E-3     1.07E-3        [mole fraction]\n",
            "              C8_PC      7.3E-4      7.3E-4        [mole fraction]\n",
            "              C9_PC      4.4E-4      4.4E-4        [mole fraction]\n",
            "          C10-11_PC  3.71793E-4  3.71793E-4        [mole fraction]\n",
            "          C12-13_PC  2.54649E-4  2.54649E-4        [mole fraction]\n",
            "          C14-15_PC  1.74415E-4  1.74415E-4        [mole fraction]\n",
            "          C16-17_PC   1.1946E-4   1.1946E-4        [mole fraction]\n",
            "          C18-19_PC  8.18211E-5  8.18211E-5        [mole fraction]\n",
            "          C20-22_PC  7.70434E-5  7.70434E-5        [mole fraction]\n",
            "          C23-27_PC  6.16779E-5  6.16779E-5        [mole fraction]\n",
            "          C28-79_PC  3.91408E-5  3.91408E-5        [mole fraction]\n",
            "                                                                  \n",
            "            Density               1.85983E2               [kg/m^3]\n",
            "      PhaseFraction                     1E0        [mole fraction]\n",
            "          MolarMass   1.72896E1   1.72896E1              [kg/kmol]\n",
            "           Z factor               1.02346E0                    [-]\n",
            " Heat Capacity (Cp)               3.21995E0              [kJ/kg*K]\n",
            " Heat Capacity (Cv)               2.01205E0              [kJ/kg*K]\n",
            "     Speed of Sound               6.18536E2                [m/sec]\n",
            "           Enthalpy   1.28077E1   1.28077E1                [kJ/kg]\n",
            "            Entropy  -2.46928E0  -2.46928E0              [kJ/kg*K]\n",
            "     JT coefficient               5.6788E-2                [K/bar]\n",
            "                                                                  \n",
            "          Viscosity              2.33319E-5             [kg/m*sec]\n",
            "       Conductivity              7.10339E-2                [W/m*K]\n",
            "     SurfaceTension                                          [N/m]\n",
            "                                                                  \n",
            "                                                                  \n",
            "                                                                  \n",
            "           Pressure                   320.8                  [bar]\n",
            "        Temperature                  353.75                    [K]\n",
            "                                                                  \n",
            "              Model                 SRK-EOS                      -\n",
            "        Mixing Rule                 classic                      -\n",
            "                                                                  \n",
            "             Stream                                              -\n",
            "                                                                  \n",
            "                                                                  \n",
            "                                                                  \n",
            "                                                                  \n",
            "phase envelope for characterized fluid\n"
          ],
          "name": "stdout"
        },
        {
          "output_type": "display_data",
          "data": {
            "image/png": "[encoded data removed]",
            "text/plain": [
              "<Figure size 432x288 with 1 Axes>"
            ]
          },
          "metadata": {
            "tags": [],
            "needs_background": "light"
          }
        },
        {
          "output_type": "execute_result",
          "data": {
            "text/plain": [
              "JavaObject id=o132"
            ]
          },
          "metadata": {
            "tags": []
          },
          "execution_count": 4
        }
      ]
    },
    {
      "cell_type": "markdown",
      "metadata": {
        "id": "by7fj9C1Jzw6",
        "colab_type": "text"
      },
      "source": [
        "## Generation of properties for multiphase measurements\n",
        "\n",
        "The following script demonstrates how to generate typical properties for a multiphase flow meter."
      ]
    },
    {
      "cell_type": "code",
      "metadata": {
        "id": "JrkAA9K7pt7d",
        "colab_type": "code",
        "outputId": "2313f983-5d13-456f-9afc-c9e570863590",
        "colab": {
          "base_uri": "https://localhost:8080/",
          "height": 633
        }
      },
      "source": [
        "import numpy\n",
        "import numpy as np\n",
        "\n",
        "pressures = [150.0, 170.0, 180.0, 200.0, 270.0, 320.0, 400.0]\n",
        "temperatures = [30.0, 40.0, 50.0, 60.0, 80.0]\n",
        "\n",
        "numP = len(pressures)\n",
        "numT = len(temperatures)\n",
        "\n",
        "gasViscosity = numpy.zeros((numP, numT))\n",
        "oilViscosity = numpy.zeros((numP, numT))\n",
        "gasDensity = numpy.zeros((numP, numT))\n",
        "oilDensity = numpy.zeros((numP, numT))\n",
        "GORcalc  = numpy.zeros((numP, numT))\n",
        "GORactual = numpy.zeros((numP, numT))\n",
        "gasViscosity[:] = np.NaN\n",
        "oilViscosity[:] = np.NaN\n",
        "gasDensity[:] = np.NaN\n",
        "oilDensity[:] = np.NaN\n",
        "GORcalc[:] = np.NaN\n",
        "GORactual[:] = np.NaN\n",
        "\n",
        "for i in range(len(temperatures)):\n",
        "  for j in range(len(pressures)):\n",
        "    characterizedFluid.setPressure(pressures[j])\n",
        "    characterizedFluid.setTemperature(temperatures[i]+273.15)\n",
        "    TPflash(characterizedFluid)\n",
        "    characterizedFluid.initProperties()\n",
        "    if(characterizedFluid.hasPhaseType(\"gas\")):\n",
        "      gasViscosity[j][i]=characterizedFluid.getPhase(\"gas\").getViscosity(\"cP\")\n",
        "      gasDensity[j][i]=characterizedFluid.getPhase(\"gas\").getDensity(\"kg/m3\")\n",
        "    if(characterizedFluid.hasPhaseType(\"oil\")):\n",
        "      oilViscosity[j][i]=characterizedFluid.getPhase(\"oil\").getViscosity(\"cP\")\n",
        "      oilDensity[j][i]=characterizedFluid.getPhase(\"oil\").getDensity(\"kg/m3\")\n",
        "    if(characterizedFluid.hasPhaseType(\"gas\") and characterizedFluid.hasPhaseType(\"oil\")):\n",
        "      GORcalc[j][i] = characterizedFluid.getPhase(\"gas\").getNumberOfMolesInPhase()*8.314*288.15/101325  / (characterizedFluid.getPhase(\"oil\").getVolume(\"m3\"))\n",
        "      GORactual[j][i] =   (characterizedFluid.getPhase(\"gas\").getVolume(\"m3\"))/ (characterizedFluid.getPhase(\"oil\").getVolume(\"m3\"))\n",
        "\n",
        "gasDensityDataFrame = pd.DataFrame(gasDensity,index=pressures, columns=temperatures)\n",
        "oilDensityDataFrame = pd.DataFrame(oilDensity,index=pressures, columns=temperatures)\n",
        "gasviscosityDataFrame = pd.DataFrame(gasViscosity,index=pressures, columns=temperatures)\n",
        "oilviscosityDataFrame = pd.DataFrame(oilViscosity,index=pressures, columns=temperatures)\n",
        "GORcalcFrame = pd.DataFrame(GORcalc,index=pressures, columns=temperatures)\n",
        "GORactualFrame = pd.DataFrame(GORactual,index=pressures, columns=temperatures)\n",
        "\n",
        "print(\"gas density\")\n",
        "print(gasDensityDataFrame.tail())\n",
        "print(\"oil density\")\n",
        "print(oilDensityDataFrame.head())\n",
        "print(\"gas viscosity\")\n",
        "print(gasviscosityDataFrame.tail())\n",
        "print(\"oil viscosity\")\n",
        "print(oilviscosityDataFrame.head())\n",
        "print(\"GOR actual\")\n",
        "print(GORactualFrame.head())"
      ],
      "execution_count": 5,
      "outputs": [
        {
          "output_type": "stream",
          "text": [
            "gas density\n",
            "             30.0        40.0        50.0        60.0        80.0\n",
            "180.0  146.285848  137.905926  130.592058  124.155080  113.338494\n",
            "200.0  161.275437  152.217294  144.244094  137.184549  125.254449\n",
            "270.0  205.184428  195.082902  185.890170  177.528059  162.970587\n",
            "320.0  229.649761  219.544989  210.171905  201.428632  186.059463\n",
            "400.0  260.154714  250.461368  241.302135  232.671427  216.932920\n",
            "oil density\n",
            "             30.0        40.0        50.0        60.0        80.0\n",
            "150.0  697.048104  701.635842  706.055301  710.246227  717.895164\n",
            "170.0  695.717818  700.132784  704.465394  708.654965  716.585445\n",
            "180.0  695.871286  700.127027  704.365027  708.520544  716.556526\n",
            "200.0  697.816871  701.638276  705.604803  709.634870  717.792276\n",
            "270.0  721.061445  722.381140  724.353822  726.748208  731.873476\n",
            "gas viscosity\n",
            "           30.0      40.0      50.0      60.0      80.0\n",
            "180.0  0.018331  0.018071  0.017903  0.017806  0.017765\n",
            "200.0  0.019494  0.019126  0.018866  0.018690  0.018522\n",
            "270.0  0.023571  0.022882  0.022333  0.021900  0.021300\n",
            "320.0  0.026348  0.025488  0.024777  0.024185  0.023320\n",
            "400.0  0.030426  0.029364  0.028457  0.027682  0.026463\n",
            "oil viscosity\n",
            "           30.0      40.0      50.0      60.0      80.0\n",
            "150.0  0.414172  0.432010  0.451985  0.473925  0.530619\n",
            "170.0  0.416322  0.432833  0.451567  0.472263  0.521089\n",
            "180.0  0.420815  0.436459  0.454508  0.474709  0.522630\n",
            "200.0  0.436908  0.450511  0.467132  0.486521  0.534620\n",
            "270.0  0.646494  0.640291  0.644306  0.659517  0.706424\n",
            "GOR actual\n",
            "              30.0         40.0         50.0         60.0         80.0\n",
            "150.0   344.848198   412.336417   495.590823   598.313273   886.239571\n",
            "170.0   371.928467   440.521194   526.340502   633.851945   943.617352\n",
            "180.0   395.586637   465.754040   554.461456   666.683172   994.914498\n",
            "200.0   469.985143   545.661575   644.041939   771.390232  1155.199084\n",
            "270.0  1440.609396  1557.003924  1741.360646  2004.129393  2857.541300\n"
          ],
          "name": "stdout"
        }
      ]
    },
    {
      "cell_type": "markdown",
      "metadata": {
        "id": "DlDYbrjeMH5D",
        "colab_type": "text"
      },
      "source": [
        "# Test the fluid characterisation by comparing to PVT data\n",
        "The bubble point pressure is determined by an experiment called Constant Composition Expansion (CCE). It's also called Constant Mass Expansion (CME) experiment or Pressure-Volume (PV) relationship. ... The cell pressure is controlled by a positive displacement pump and recorded on an accurate pressure gauge."
      ]
    },
    {
      "cell_type": "code",
      "metadata": {
        "id": "FJwXt1d3MFON",
        "colab_type": "code",
        "outputId": "7ba61084-4b54-4b40-a853-c651a7a1a49e",
        "colab": {
          "base_uri": "https://localhost:8080/",
          "height": 598
        }
      },
      "source": [
        "\n",
        "pressure = [555.3, 500.0, 400.0, 350.0, 300.0, 250.0, 230.0, 190.0, 150.0, 100.0, 50.0, 46.1]\n",
        "temperature = [273.15+73.0, 273.15+73.0, 273.15+73.0, 273.15+73.0, 273.15+73.0, 273.15+73.0, 273.15+73.0, 273.15+73.0, 273.15+73.0, 273.15+73.0, 273.15+73.0, 273.15+73.0]\n",
        "\n",
        "relativevolume = []\n",
        "liquidrelativevolume = []\n",
        "Zgas =  []\n",
        "Yfactor = []\n",
        "isothermalcompressibility = []\n",
        "\n",
        "CME(characterizedFluid,pressure,temperature,relativevolume, liquidrelativevolume,Zgas,Yfactor,isothermalcompressibility)\n",
        "\n",
        "plt.figure(figsize=(20, 5))\n",
        "plt.subplot(131)\n",
        "plt.plot(pressure, relativevolume, \"o\")\n",
        "plt.xlabel('Pressure [bara]')\n",
        "plt.ylabel('relative volume [-]')\n",
        "plt.subplot(132)\n",
        "plt.plot(pressure, Yfactor, \"o\")\n",
        "plt.xlabel('Pressure [bara]')\n",
        "plt.ylabel('Yfactor [-]')\n",
        "plt.subplot(133)\n",
        "plt.plot(pressure, isothermalcompressibility, \"o\")\n",
        "plt.xlabel('Pressure [bara]')\n",
        "plt.ylabel('isothermalcompressibility [1/bar]')\n",
        "plt.show()\n",
        "\n",
        "Yfactorarray= np.asarray([relativevolume,Yfactor,Zgas, isothermalcompressibility,liquidrelativevolume])\n",
        "pressurearray= np.asarray(pressure)\n",
        "temperaturearray= np.asarray(temperature)\n",
        "YfactorFrame = pd.DataFrame(Yfactorarray.transpose(),index=pressurearray, columns=[\"relativevolume\", \"Yfactor\", \"Zgas\", \"isothermalcompressibility\", \"liquidrelativevolume\"])\n",
        "print(\"YfactorFrame\")\n",
        "print(YfactorFrame.head(20).to_string())\n",
        "print()"
      ],
      "execution_count": 6,
      "outputs": [
        {
          "output_type": "display_data",
          "data": {
            "image/png": "[encoded data removed]",
            "text/plain": [
              "<Figure size 1440x360 with 3 Axes>"
            ]
          },
          "metadata": {
            "tags": [],
            "needs_background": "light"
          }
        },
        {
          "output_type": "stream",
          "text": [
            "YfactorFrame\n",
            "       relativevolume   Yfactor      Zgas  isothermalcompressibility  liquidrelativevolume\n",
            "555.3        0.873271  0.000000  1.287465                   0.000666              0.000000\n",
            "500.0        0.909032  0.000000  1.206724                   0.000792              0.000000\n",
            "400.0        1.000000  0.000000  1.061986                   0.001155              0.000000\n",
            "350.0        1.067002  0.000000  0.991499                   0.001459              0.000000\n",
            "300.0        1.160220  0.000000  0.924103                   0.001927              0.000000\n",
            "250.0        1.300197  0.000000  0.862994                   0.002699              0.000000\n",
            "230.0        1.380925  1.940356  0.000000                   0.000000              0.224073\n",
            "190.0        1.609054  1.814721  0.000000                   0.000000              0.454497\n",
            "150.0        2.010253  1.649752  0.000000                   0.000000              0.738572\n",
            "100.0        3.119478  1.415443  0.000000                   0.000000              1.038081\n",
            "50.0         6.779382  1.211202  0.000000                   0.000000              1.123465\n",
            "46.1         7.409375  1.197744  0.000000                   0.000000              1.119760\n",
            "\n"
          ],
          "name": "stdout"
        }
      ]
    },
    {
      "cell_type": "code",
      "metadata": {
        "id": "K6EDXN873fEr",
        "colab_type": "code",
        "outputId": "0341f47c-3512-4ca0-bfca-ffe4cb515ce6",
        "colab": {
          "base_uri": "https://localhost:8080/",
          "height": 228
        }
      },
      "source": [
        "relativevolume"
      ],
      "execution_count": 7,
      "outputs": [
        {
          "output_type": "execute_result",
          "data": {
            "text/plain": [
              "[0.8732707212051751,\n",
              " 0.9090320247835836,\n",
              " 1.0000000110128593,\n",
              " 1.0670021958606246,\n",
              " 1.1602200905184328,\n",
              " 1.3001968274942879,\n",
              " 1.380925195883498,\n",
              " 1.609054171257369,\n",
              " 2.010252834481752,\n",
              " 3.1194783483193453,\n",
              " 6.779382303054049,\n",
              " 7.40937482826102]"
            ]
          },
          "metadata": {
            "tags": []
          },
          "execution_count": 7
        }
      ]
    }
  ]
}