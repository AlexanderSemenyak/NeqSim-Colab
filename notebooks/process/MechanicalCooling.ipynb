{
  "nbformat": 4,
  "nbformat_minor": 0,
  "metadata": {
    "colab": {
      "name": "MechanicalCooling.ipynb",
      "provenance": [],
      "collapsed_sections": [],
      "include_colab_link": true
    },
    "kernelspec": {
      "name": "python3",
      "display_name": "Python 3"
    }
  },
  "cells": [
    {
      "cell_type": "markdown",
      "metadata": {
        "id": "view-in-github",
        "colab_type": "text"
      },
      "source": [
        "<a href=\"https://colab.research.google.com/github/EvenSol/NeqSim-Colab/blob/master/notebooks/process/MechanicalCooling.ipynb\" target=\"_parent\"><img src=\"https://colab.research.google.com/assets/colab-badge.svg\" alt=\"Open In Colab\"/></a>"
      ]
    },
    {
      "cell_type": "code",
      "metadata": {
        "id": "c7oLiYgcEV2Y",
        "colab_type": "code",
        "cellView": "form",
        "colab": {}
      },
      "source": [
        "#@title Mechanical Cooling\n",
        "#@markdown Refrigeration is the process of cooling a space, substance, or system to lower and/or maintain its temperature below the ambient one (while the removed heat is rejected at a higher temperature). In other words, refrigeration means artificial (human-made) cooling[1][2]. Heat is removed from a low-temperature reservoir and transferred to a high-temperature reservoir. The work of heat transfer is traditionally driven by mechanical means, but can also be driven by heat, magnetism, electricity, laser, or other means. Refrigeration has many applications, including, but not limited to: household refrigerators, industrial freezers, cryogenics, and air conditioning. Heat pumps may use the heat output of the refrigeration process, and also may be designed to be reversible, but are otherwise similar to air conditioning units.\n",
        "%%capture\n",
        "!pip install neqsim\n",
        "import neqsim\n",
        "from neqsim.thermo.thermoTools import *\n",
        "import matplotlib\n",
        "import numpy as np\n",
        "import matplotlib.pyplot as plt\n",
        "import math\n",
        "%matplotlib inline"
      ],
      "execution_count": 0,
      "outputs": []
    },
    {
      "cell_type": "code",
      "metadata": {
        "id": "9Kkz5ZeLEyRv",
        "colab_type": "code",
        "cellView": "form",
        "outputId": "0d41c58a-4e9b-4ebe-86f4-6b4b91971da3",
        "colab": {
          "base_uri": "https://localhost:8080/",
          "height": 421
        }
      },
      "source": [
        "#@title  Mechanical Cooling Demo\n",
        "#@markdown Introduction to mechanical cooling\n",
        "from IPython.display import YouTubeVideo\n",
        "YouTubeVideo('CSrhZzSA7aQ', width=600, height=400)"
      ],
      "execution_count": 2,
      "outputs": [
        {
          "output_type": "execute_result",
          "data": {
            "text/html": [
              "\n",
              "        <iframe\n",
              "            width=\"600\"\n",
              "            height=\"400\"\n",
              "            src=\"https://www.youtube.com/embed/CSrhZzSA7aQ\"\n",
              "            frameborder=\"0\"\n",
              "            allowfullscreen\n",
              "        ></iframe>\n",
              "        "
            ],
            "text/plain": [
              "<IPython.lib.display.YouTubeVideo at 0x7fb85873e128>"
            ],
            "image/jpeg": "[encoded data removed]"
          },
          "metadata": {
            "tags": []
          },
          "execution_count": 2
        }
      ]
    },
    {
      "cell_type": "markdown",
      "metadata": {
        "id": "xTC71x4TSnM2",
        "colab_type": "text"
      },
      "source": [
        "#A propane cooling loop\n",
        "\n",
        "Propane refrigeration is a type of compression refrigeration. Propane (R290) has been used successfully in industrial refrigeration for many years, and is emerging as an increasingly viable alternative for homes and businesses. Propane's operating pressures and temperatures are well suited for use in air conditioning equipment, but because of propane’s flammability, great care is required in the manufacture, installation and servicing of equipment that uses it as a refrigerant.\n",
        "\n",
        "https://en.wikipedia.org/wiki/Propane_refrigeration"
      ]
    },
    {
      "cell_type": "code",
      "metadata": {
        "id": "DTyTtX_ySid2",
        "colab_type": "code",
        "colab": {
          "base_uri": "https://localhost:8080/",
          "height": 50
        },
        "outputId": "6c8cc816-20ef-40c6-e996-27ca6f419e4a"
      },
      "source": [
        "import neqsim\n",
        "from neqsim.thermo.thermoTools import *\n",
        "from neqsim.process import stream,clearProcess,runProcess, pump, heater, cooler, expander, valve, compressor, heater\n",
        "fluid_1 = fluid(\"srk\")\n",
        "fluid_1.addComponent(\"propane\", 1.0)\n",
        "\n",
        "fluid_1.setPressure(15.0, \"bara\")\n",
        "fluid_1.setTemperature(30.0, \"C\")\n",
        "fluid_1.setTotalFlowRate(1000.0, \"kg/hr\")\n",
        "\n",
        "clearProcess()\n",
        "stream_1 = stream(fluid_1)\n",
        "stream_1.setSpecification(\"bubT\");\n",
        "stream_1.run();\n",
        "\n",
        "JTvalve = valve(stream_1, 1.0)\n",
        "\n",
        "cooler_1 = cooler(JTvalve.getOutStream())\n",
        "cooler_1.setSpecification(\"out stream\");\n",
        "\n",
        "stream_2 = stream(cooler_1.getOutStream())\n",
        "stream_2.setSpecification(\"dewT\");\n",
        "stream_2.getThermoSystem().setTemperature(273.15  - 30.0);\n",
        "stream_2.run()\n",
        "\n",
        "cooler_1.setOutStream(stream_2);\n",
        "JTvalve.setOutletPressure(stream_2.getPressure());\n",
        "\n",
        "compressor_1 = compressor(stream_2, 10.0);\n",
        "compressor_1.setSpecification(\"out stream\")\n",
        "compressor_1.setOutletPressure(stream_1.getPressure())\n",
        "\n",
        "heater = heater(compressor_1.getOutStream())\n",
        "\n",
        "runProcess()\n",
        "\n",
        "print(\"Compressor power \", compressor_1.getTotalWork()/1e3, \" kW\")\n",
        "print(\"Cooling duty \", cooler_1.getDuty()/1e3, \" kW\")"
      ],
      "execution_count": 6,
      "outputs": [
        {
          "output_type": "stream",
          "text": [
            "Compressor power  24.63212365992675  kW\n",
            "Cooling duty  72.87521619975152  kW\n"
          ],
          "name": "stdout"
        }
      ]
    }
  ]
}