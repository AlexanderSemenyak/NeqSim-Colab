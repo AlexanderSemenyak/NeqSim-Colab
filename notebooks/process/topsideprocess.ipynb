{
  "nbformat": 4,
  "nbformat_minor": 0,
  "metadata": {
    "colab": {
      "name": "topsideprocess.ipynb",
      "provenance": [],
      "include_colab_link": true
    },
    "kernelspec": {
      "name": "python3",
      "display_name": "Python 3"
    }
  },
  "cells": [
    {
      "cell_type": "markdown",
      "metadata": {
        "id": "view-in-github",
        "colab_type": "text"
      },
      "source": [
        "<a href=\"https://colab.research.google.com/github/EvenSol/NeqSim-Colab/blob/master/notebooks/process/topsideprocess.ipynb\" target=\"_parent\"><img src=\"https://colab.research.google.com/assets/colab-badge.svg\" alt=\"Open In Colab\"/></a>"
      ]
    },
    {
      "cell_type": "code",
      "metadata": {
        "id": "z0Zitu7MqRMt",
        "colab_type": "code",
        "cellView": "form",
        "colab": {}
      },
      "source": [
        "#@title Simulation and design of a top side process\n",
        "#@markdown This notebook describes how to set up a topside process and simulate it using neqsim. It will also go throught some steps of equipment sizing.\n",
        "%%capture\n",
        "!pip install neqsim"
      ],
      "execution_count": 0,
      "outputs": []
    },
    {
      "cell_type": "markdown",
      "metadata": {
        "id": "gib4PI1UjiwW",
        "colab_type": "text"
      },
      "source": [
        ""
      ]
    },
    {
      "cell_type": "code",
      "metadata": {
        "id": "7rjloaFE3dXo",
        "colab_type": "code",
        "cellView": "form",
        "outputId": "34c14d63-27fe-4c7f-e09c-96dda9d4d8e4",
        "colab": {
          "base_uri": "https://localhost:8080/",
          "height": 421
        }
      },
      "source": [
        "#@title Introduction to Oil & Gas facilities Design\n",
        "#@markdown This video gives an intriduction to Oil & Gas facilities Design\n",
        "from IPython.display import YouTubeVideo\n",
        "YouTubeVideo('ALfV6CNAQhU', width=600, height=400)"
      ],
      "execution_count": 2,
      "outputs": [
        {
          "output_type": "execute_result",
          "data": {
            "text/html": [
              "\n",
              "        <iframe\n",
              "            width=\"600\"\n",
              "            height=\"400\"\n",
              "            src=\"https://www.youtube.com/embed/ALfV6CNAQhU\"\n",
              "            frameborder=\"0\"\n",
              "            allowfullscreen\n",
              "        ></iframe>\n",
              "        "
            ],
            "text/plain": [
              "<IPython.lib.display.YouTubeVideo at 0x7f3db143d2b0>"
            ],
            "image/jpeg": "[encoded data removed]"
          },
          "metadata": {
            "tags": []
          },
          "execution_count": 2
        }
      ]
    },
    {
      "cell_type": "markdown",
      "metadata": {
        "id": "hj71ZcjW4ZV8",
        "colab_type": "text"
      },
      "source": [
        "# Defining a well stream\n",
        "Al simulations will start by defining a well stream as feed to the process plant. In the following example we set up a well stream using NeqSim."
      ]
    },
    {
      "cell_type": "code",
      "metadata": {
        "id": "zksSoMCQ4N3m",
        "colab_type": "code",
        "colab": {}
      },
      "source": [
        "#@title Defining a well stram\n",
        "from neqsim.thermo import fluid, phaseenvelope\n",
        "from neqsim.process import clearProcess, stream, valve, separator, compressor, runProcess, viewProcess, heater, mixer, recycle\n",
        "\n",
        "feedPressure = 30.0\n",
        "\n",
        "\n",
        "# Start by creating a fluid in neqsim\n",
        "fluid1 = fluid(\"srk\")  # create a fluid using the SRK-EoS\n",
        "fluid1.addComponent(\"nitrogen\", 1.0)\n",
        "fluid1.addComponent(\"CO2\", 2.0)\n",
        "fluid1.addComponent(\"methane\", 85.0)\n",
        "fluid1.addComponent(\"ethane\", 5.0)\n",
        "fluid1.addComponent(\"propane\", 3.0)\n",
        "fluid1.addComponent(\"i-butane\", 2.0)\n",
        "fluid1.addComponent(\"n-butane\", 2.0)\n",
        "fluid1.addComponent(\"n-hexane\", 1.1)\n",
        "fluid1.addComponent(\"n-heptane\", 2.1)\n",
        "fluid1.addComponent(\"n-octane\", 1.1)\n",
        "fluid1.addComponent(\"n-nonane\", 0.51)\n",
        "fluid1.addComponent(\"nC10\", 5.1)\n",
        "fluid1.setMixingRule('classic')\n",
        "fluid1.setTemperature(35.15, \"C\")\n",
        "fluid1.setPressure(feedPressure, \"bara\")\n",
        "fluid1.setTotalFlowRate(5.0, \"MSm3/day\")"
      ],
      "execution_count": 0,
      "outputs": []
    },
    {
      "cell_type": "markdown",
      "metadata": {
        "id": "iLy37UQQ4o1b",
        "colab_type": "text"
      },
      "source": [
        "# Setting up a top side process\n",
        "A top side process is defined starting with the well stream to an inlet separator. In the follwoing example we set up and simulate a standard top side rprocess in NeqSim."
      ]
    },
    {
      "cell_type": "code",
      "metadata": {
        "id": "mi11Rl_O3sts",
        "colab_type": "code",
        "outputId": "fb175140-0c32-45d4-efa6-4580bc936725",
        "colab": {
          "base_uri": "https://localhost:8080/",
          "height": 85
        }
      },
      "source": [
        "#@title Setting up a topside process simultion using NeqSim\n",
        "from neqsim.thermo import fluid, phaseenvelope\n",
        "from neqsim.process import clearProcess, stream, valve, separator, compressor, runProcess, viewProcess, heater, mixer, recycle\n",
        "\n",
        "MPpressure = 10.0\n",
        "LPpressure = 2.1\n",
        "\n",
        "clearProcess()\n",
        "stream1 = stream(fluid1)\n",
        "separator1 = separator(stream1, \"inlet separator\")\n",
        "valve1 = valve(separator1.getLiquidOutStream(), MPpressure, \"HP oil valve\")\n",
        "separator2 = separator(valve1.getOutStream(), \"MP separator\")\n",
        "valve2 = valve(separator2.getLiquidOutStream(), LPpressure)\n",
        "separator3 = separator(valve2.getOutStream(), \"LP separator\")\n",
        "\n",
        "compressorLP1 = compressor(separator3.getGasOutStream(), MPpressure)\n",
        "coolerMP1 = heater(compressorLP1.getOutStream())\n",
        "coolerMP1.setOutTemperature(303.0)\n",
        "scrubberLP = separator(coolerMP1.getOutStream())\n",
        "\n",
        "recycleLP = recycle(scrubberLP.getLiquidOutStream())\n",
        "#separator2.addStream(recycleLP.getOutStream())\n",
        "\n",
        "mixerLP = mixer()\n",
        "mixerLP.addStream(scrubberLP.getGasOutStream())\n",
        "mixerLP.addStream(separator2.getGasOutStream())\n",
        "\n",
        "compressorMP1 = compressor(mixerLP.getOutStream(), feedPressure)\n",
        "coolerMP1 = heater(compressorMP1.getOutStream())\n",
        "coolerMP1.setOutTemperature(303.0)\n",
        "scrubberMP1 = separator(coolerMP1.getOutStream())\n",
        "\n",
        "recycleMP = recycle(scrubberMP1.getLiquidOutStream())\n",
        "#separator1.addStream(recycleMP.getOutStream())\n",
        "\n",
        "mixer1 = mixer()\n",
        "mixer1.addStream(scrubberMP1.getGasOutStream())\n",
        "mixer1.addStream(separator1.getGasOutStream())\n",
        "\n",
        "compressor1 = compressor(mixer1.getOutStream(), 60.0)  # add compressor and set out pressure\n",
        "compressor1.setIsentropicEfficiency(0.8)\n",
        "cooler1 = heater(compressor1.getOutStream())\n",
        "cooler1.setOutTemperature(303.0)\n",
        "compressor2 = compressor(cooler1.getOutStream(), 120.0)\n",
        "compressor2.setIsentropicEfficiency(0.77)\n",
        "\n",
        "runProcess()\n",
        "\n",
        "print(\"LPcompressor power \", compressorLP1.getPower()/1e6, \" MW\")\n",
        "print(\"MPcompressor power \", compressorMP1.getPower()/1e6, \" MW\")\n",
        "print(\"compressor1 power \", compressor1.getPower()/1e6, \" MW\")\n",
        "print(\"compressor2 power \", compressor2.getPower()/1e6, \" MW\")"
      ],
      "execution_count": 4,
      "outputs": [
        {
          "output_type": "stream",
          "text": [
            "LPcompressor power  0.1055013986601853  MW\n",
            "MPcompressor power  0.1863916649363183  MW\n",
            "compressor1 power  4.901964623055502  MW\n",
            "compressor2 power  4.730187342087689  MW\n"
          ],
          "name": "stdout"
        }
      ]
    },
    {
      "cell_type": "markdown",
      "metadata": {
        "id": "EODMSFsH5OJM",
        "colab_type": "text"
      },
      "source": [
        "# Calculating the mechanical design\n",
        "A mechanical design can be automaically calculated using the built in design rules in NeqSim. A design of a separato is given in the following example."
      ]
    },
    {
      "cell_type": "code",
      "metadata": {
        "id": "XVro7AdE5hw4",
        "colab_type": "code",
        "outputId": "f29d2c20-7be6-4736-b05e-7b38ee5aff66",
        "colab": {
          "base_uri": "https://localhost:8080/",
          "height": 68
        }
      },
      "source": [
        "separator1.getMechanicalDesign().setMaxOperationPressure(150.0);\n",
        "separator1.addSeparatorSection(\"tray\", \"\");\n",
        "separator1.getMechanicalDesign().calcDesign();\n",
        "sepDesign = separator1.getMechanicalDesign()\n",
        "\n",
        "print(\"Inlet seperator module length \", sepDesign.getModuleLength(), \" m\")\n",
        "print(\"Inlet seperator module height \", sepDesign.getModuleHeight(), \" m\")\n",
        "print(\"Inlet separartor module total weight \", sepDesign.getWeightTotal(), \" kg\")"
      ],
      "execution_count": 5,
      "outputs": [
        {
          "output_type": "stream",
          "text": [
            "Inlet seperator module length  16.345214279857778  m\n",
            "Inlet seperator module height  5.3587238079620745  m\n",
            "Inlet separartor module total weight  21648.87882923371  kg\n"
          ],
          "name": "stdout"
        }
      ]
    }
  ]
}