{
  "nbformat": 4,
  "nbformat_minor": 0,
  "metadata": {
    "colab": {
      "name": "producedwatertreatment.ipynb",
      "provenance": [],
      "collapsed_sections": [],
      "authorship_tag": "ABX9TyPwMI6XrKh88lxtzVQE0/9b",
      "include_colab_link": true
    },
    "kernelspec": {
      "name": "python3",
      "display_name": "Python 3"
    }
  },
  "cells": [
    {
      "cell_type": "markdown",
      "metadata": {
        "id": "view-in-github",
        "colab_type": "text"
      },
      "source": [
        "<a href=\"https://colab.research.google.com/github/EvenSol/NeqSim-Colab/blob/master/notebooks/process/producedwatertreatment.ipynb\" target=\"_parent\"><img src=\"https://colab.research.google.com/assets/colab-badge.svg\" alt=\"Open In Colab\"/></a>"
      ]
    },
    {
      "cell_type": "code",
      "metadata": {
        "id": "7GFyaPyKBoqR",
        "cellView": "form"
      },
      "source": [
        "#@title Simulation of produced water treatment\n",
        "#@markdown Introduction to process simualtion of produced water treatment\n",
        "%%capture\n",
        "!pip install neqsim\n",
        "from neqsim.process import openprocess\n",
        "import neqsim\n",
        "from neqsim.thermo.thermoTools import *\n",
        "import matplotlib\n",
        "import numpy as np\n",
        "import matplotlib.pyplot as plt\n",
        "import math\n",
        "import pandas as pd"
      ],
      "execution_count": 2,
      "outputs": []
    },
    {
      "cell_type": "markdown",
      "metadata": {
        "id": "f8m_EOIsFBCr"
      },
      "source": [
        "#Litterature\n",
        "\n",
        "https://vmecompanies.com/produced-water-treatment/\n",
        "\n",
        "https://www.filtsep.com/water-and-wastewater/features/oil-and-gas-water-treatment-in-oil-and-gas/\n",
        "\n",
        "https://www.filtsep.com/water-and-wastewater/features/oil-and-gas-treatment-and-discharge-of-produced/\n"
      ]
    },
    {
      "cell_type": "markdown",
      "metadata": {
        "id": "uK2W4IMyFx8q"
      },
      "source": [
        "#Simulation of produced water treatment using NeqSim\n",
        "THe CPA-EoS in NeqSIm is well suted for simulating solubilities of oil in water and water in oil for a varity of reservoir fluids and process conditions.\n",
        "In the following example we will simulate a typical topside separation and water treatment process using NeqSim."
      ]
    },
    {
      "cell_type": "markdown",
      "metadata": {
        "id": "Tprp5cocGPyS"
      },
      "source": [
        "#1. Defining the well stream"
      ]
    },
    {
      "cell_type": "code",
      "metadata": {
        "id": "IqPQgZ9XIUL5",
        "outputId": "8e74011c-a0b0-431f-8601-3befc8a830af",
        "colab": {
          "base_uri": "https://localhost:8080/"
        }
      },
      "source": [
        "# Create a gas-condensate fluid\n",
        "gascondensate = {'ComponentName':  ['water', \"nitrogen\", \"CO2\", \"methane\", \"ethane\", \"propane\", \"i-butane\", \"n-butane\", \"i-pentane\", \"n-pentane\", \"n-hexane\", \"C7\", \"C8\", \"C9\", \"C10\", \"C11\", \"C12\", \"C13\", \"C14\", \"C15\", \"C16\", \"C17\", \"C18\", \"C19\", \"C20\"], \n",
        "        'MolarComposition[-]':  [0.0, 0.53, 3.3, 72.98, 7.68, 4.1, 0.7, 1.42, 0.54, 0.67, 0.85, 1.33, 1.33, 0.78, 0.61, 0.42, 0.33, 0.42, 0.24, 0.3, 0.17, 0.21, 0.15, 0.15, 0.8], \n",
        "        'MolarMass[kg/mol]': [None, None,None, None,None,None,None,None,None,None,None,0.0913, 0.1041, 0.1188, 0.136, 0.150, 0.164, 0.179, 0.188, 0.204, 0.216, 0.236, 0.253, 0.27, 0.391],\n",
        "        'RelativeDensity[-]': [None, None,None, None,None,None,None,None,None,None,None, 0.746, 0.768, 0.79, 0.787, 0.793, 0.804, 0.817, 0.83, 0.835, 0.843, 0.837, 0.84, 0.85, 0.877]\n",
        "  } \n",
        "\n",
        "gascondensatedf = pd.DataFrame(gascondensate) \n",
        "print(\"Gas Condensate Fluid:\\n\")\n",
        "print(gascondensatedf.head(30).to_string())\n",
        "gascondensateFluid = fluid_df(gascondensatedf, lastIsPlusFraction=True).autoSelectModel()"
      ],
      "execution_count": 34,
      "outputs": [
        {
          "output_type": "stream",
          "text": [
            "Gas Condensate Fluid:\n",
            "\n",
            "   ComponentName  MolarComposition[-]  MolarMass[kg/mol]  RelativeDensity[-]\n",
            "0          water                 0.00                NaN                 NaN\n",
            "1       nitrogen                 0.53                NaN                 NaN\n",
            "2            CO2                 3.30                NaN                 NaN\n",
            "3        methane                72.98                NaN                 NaN\n",
            "4         ethane                 7.68                NaN                 NaN\n",
            "5        propane                 4.10                NaN                 NaN\n",
            "6       i-butane                 0.70                NaN                 NaN\n",
            "7       n-butane                 1.42                NaN                 NaN\n",
            "8      i-pentane                 0.54                NaN                 NaN\n",
            "9      n-pentane                 0.67                NaN                 NaN\n",
            "10      n-hexane                 0.85                NaN                 NaN\n",
            "11            C7                 1.33             0.0913               0.746\n",
            "12            C8                 1.33             0.1041               0.768\n",
            "13            C9                 0.78             0.1188               0.790\n",
            "14           C10                 0.61             0.1360               0.787\n",
            "15           C11                 0.42             0.1500               0.793\n",
            "16           C12                 0.33             0.1640               0.804\n",
            "17           C13                 0.42             0.1790               0.817\n",
            "18           C14                 0.24             0.1880               0.830\n",
            "19           C15                 0.30             0.2040               0.835\n",
            "20           C16                 0.17             0.2160               0.843\n",
            "21           C17                 0.21             0.2360               0.837\n",
            "22           C18                 0.15             0.2530               0.840\n",
            "23           C19                 0.15             0.2700               0.850\n",
            "24           C20                 0.80             0.3910               0.877\n"
          ],
          "name": "stdout"
        }
      ]
    },
    {
      "cell_type": "markdown",
      "metadata": {
        "id": "huZyUJDyInJZ"
      },
      "source": [
        "#2. Defining the water stream\n",
        "\n"
      ]
    },
    {
      "cell_type": "code",
      "metadata": {
        "id": "5xBDbkmNIs6B",
        "outputId": "676aef8a-dcd2-452b-cc66-c52ac9546be6",
        "colab": {
          "base_uri": "https://localhost:8080/"
        }
      },
      "source": [
        "# Create a gas-condensate fluid\n",
        "water = {'ComponentName':  [\"water\"], \n",
        "        'MolarComposition[-]':  [1.0]\n",
        "  } \n",
        "\n",
        "waterdf = pd.DataFrame(water) \n",
        "print(\"Water:\\n\")\n",
        "print(waterdf.head(30).to_string())\n",
        "waterFluid = fluid_df(waterdf)"
      ],
      "execution_count": 35,
      "outputs": [
        {
          "output_type": "stream",
          "text": [
            "Water:\n",
            "\n",
            "  ComponentName  MolarComposition[-]\n",
            "0         water                  1.0\n"
          ],
          "name": "stdout"
        }
      ]
    },
    {
      "cell_type": "markdown",
      "metadata": {
        "id": "Ea4-_U59IgPK"
      },
      "source": [
        "#2. Creating the separation process"
      ]
    },
    {
      "cell_type": "code",
      "metadata": {
        "id": "_Qj-22FmQlsJ",
        "outputId": "e8c59e11-b8a0-4cf8-940d-5a35427ab34a",
        "colab": {
          "base_uri": "https://localhost:8080/"
        }
      },
      "source": [
        "from neqsim.thermo import fluid\n",
        "from neqsim.process import clearProcess, stream, valve, runProcess, viewProcess, mixer, recycle,separator3phase\n",
        "\n",
        "\n",
        "clearProcess()\n",
        "reservoirFluidStream = stream(gascondensateFluid)\n",
        "reservoirFluidStream.setFlowRate(5.3, 'MSm3/day')\n",
        "reservoirFluidStream.setPressure(85.2, 'bara')\n",
        "reservoirFluidStream.setTemperature(65.1, 'C')\n",
        "\n",
        "waterStream = stream(waterFluid)\n",
        "waterStream.setFlowRate(1090500.0, 'kg/day')\n",
        "waterStream.setPressure(85.2, 'bara')\n",
        "waterStream.setTemperature(65.1, 'C')\n",
        "\n",
        "feedMixer = mixer()\n",
        "feedMixer.addStream(reservoirFluidStream)\n",
        "feedMixer.addStream(waterStream)\n",
        "\n",
        "inletSeparator = separator3phase(feedMixer.getOutStream(), \"1st stage separator\")\n",
        "\n",
        "waterDpValve = valve(inletSeparator.getWaterOutStream(), 1.01325, 'water depressurising valve')\n",
        "\n",
        "waterDegasingDrum = separator(waterDpValve.getOutStream(), \"water degassing drum\")\n",
        "\n",
        "gasToFlare = waterDegasingDrum.getGasOutStream()\n",
        "\n",
        "runProcess()\n",
        "\n",
        "print('gas to flare ', gasToFlare.getFlowRate('Sm3/hr'), ' Sm3/hr')\n",
        "print('composition of gas to flare:')\n",
        "printFrame(gasToFlare.getFluid())"
      ],
      "execution_count": 38,
      "outputs": [
        {
          "output_type": "stream",
          "text": [
            "gas to flare  122.3304202261253  Sm3/hr\n",
            "composition of gas to flare:\n",
            "                           total                   gas                       \n",
            "              water   1.83365E-1            1.83365E-1        [mole fraction]\n",
            "           nitrogen   2.14096E-3            2.14096E-3        [mole fraction]\n",
            "                CO2   2.45746E-1            2.45746E-1        [mole fraction]\n",
            "            methane   4.98614E-1            4.98614E-1        [mole fraction]\n",
            "             ethane   6.10116E-2            6.10116E-2        [mole fraction]\n",
            "            propane   6.67219E-3            6.67219E-3        [mole fraction]\n",
            "           i-butane   9.24706E-4            9.24706E-4        [mole fraction]\n",
            "           n-butane   1.07827E-3            1.07827E-3        [mole fraction]\n",
            "          i-pentane    7.7464E-5             7.7464E-5        [mole fraction]\n",
            "          n-pentane   1.17062E-4            1.17062E-4        [mole fraction]\n",
            "           n-hexane   4.84537E-5            4.84537E-5        [mole fraction]\n",
            "              C7_PC   1.65159E-4            1.65159E-4        [mole fraction]\n",
            "              C8_PC   3.51034E-5            3.51034E-5        [mole fraction]\n",
            "              C9_PC   3.96677E-6            3.96677E-6        [mole fraction]\n",
            "             C10_PC   1.30964E-7            1.30964E-7        [mole fraction]\n",
            "             C11_PC   1.25824E-8            1.25824E-8        [mole fraction]\n",
            "             C12_PC   2.42769E-9            2.42769E-9        [mole fraction]\n",
            "             C13_PC   1.01127E-9            1.01127E-9        [mole fraction]\n",
            "             C14_PC  5.25034E-10           5.25034E-10        [mole fraction]\n",
            "             C15_PC  1.58319E-10           1.58319E-10        [mole fraction]\n",
            "             C16_PC  5.27458E-11           5.27458E-11        [mole fraction]\n",
            "             C17_PC  5.45381E-12           5.45381E-12        [mole fraction]\n",
            "             C18_PC  1.24313E-12           1.24313E-12        [mole fraction]\n",
            "             C19_PC  1.04935E-12           1.04935E-12        [mole fraction]\n",
            "          C20-21_PC  2.89329E-12           2.89329E-12        [mole fraction]\n",
            "          C22-24_PC  8.75853E-13           8.75853E-13        [mole fraction]\n",
            "          C25-27_PC  2.27578E-13           2.27578E-13        [mole fraction]\n",
            "          C28-31_PC  1.11612E-13           1.11612E-13        [mole fraction]\n",
            "          C32-36_PC  6.60619E-14           6.60619E-14        [mole fraction]\n",
            "          C37-44_PC  4.58105E-15           4.58105E-15        [mole fraction]\n",
            "          C45-79_PC  3.87232E-18           3.87232E-18        [mole fraction]\n",
            "                                                                             \n",
            "            Density                         9.02742E-1               [kg/m^3]\n",
            "      PhaseFraction                                1E0        [mole fraction]\n",
            "          MolarMass    2.44605E1             2.44605E1              [kg/kmol]\n",
            "           Z factor                         9.95849E-1                    [-]\n",
            " Heat Capacity (Cp)                          1.61413E0              [kJ/kg*K]\n",
            " Heat Capacity (Cv)                          1.26143E0              [kJ/kg*K]\n",
            "     Speed of Sound                          3.78192E2                [m/sec]\n",
            "           Enthalpy    8.64984E1             8.64984E1                [kJ/kg]\n",
            "            Entropy   7.09699E-1            7.09699E-1              [kJ/kg*K]\n",
            "     JT coefficient                           1.5697E0                [K/bar]\n",
            "                                                                             \n",
            "          Viscosity                         1.31405E-5             [kg/m*sec]\n",
            "       Conductivity                         2.90557E-2                [W/m*K]\n",
            "     SurfaceTension                                                     [N/m]\n",
            "                                                                             \n",
            "                                                                             \n",
            "                                                                             \n",
            "           Pressure                            1.01325                  [bar]\n",
            "        Temperature                 331.58139299692243                    [K]\n",
            "                                                                             \n",
            "              Model               CPAs-SRK-EOS-statoil                      -\n",
            "        Mixing Rule                      classic-CPA_T                      -\n",
            "                                                                             \n",
            "             Stream                                                         -\n",
            "                                                                             \n",
            "                                                                             \n",
            "                                                                             \n",
            "                                                                             \n"
          ],
          "name": "stdout"
        }
      ]
    }
  ]
}