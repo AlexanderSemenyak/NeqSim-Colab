{
  "nbformat": 4,
  "nbformat_minor": 0,
  "metadata": {
    "colab": {
      "name": "gas-oil-separation.ipynb",
      "provenance": [],
      "include_colab_link": true
    },
    "kernelspec": {
      "name": "python3",
      "display_name": "Python 3"
    }
  },
  "cells": [
    {
      "cell_type": "markdown",
      "metadata": {
        "id": "view-in-github",
        "colab_type": "text"
      },
      "source": [
        "<a href=\"https://colab.research.google.com/github/EvenSol/NeqSim-Colab/blob/master/notebooks/process/gas_oil_separation.ipynb\" target=\"_parent\"><img src=\"https://colab.research.google.com/assets/colab-badge.svg\" alt=\"Open In Colab\"/></a>"
      ]
    },
    {
      "cell_type": "code",
      "metadata": {
        "id": "EOMrtRGIL0XG",
        "colab_type": "code",
        "cellView": "form",
        "colab": {}
      },
      "source": [
        "#@title Design of oil and gas separation equipment\n",
        "#@markdown This notebook gives an interactive introduction to calculation of oil and gas separation processes\n",
        "%%capture\n",
        "!pip install py4j\n",
        "!pip install --upgrade -q gspread\n",
        "!rm -rf testneqsim\n",
        "!git clone https://github.com/EvenSol/NeqSim-Colab.git\n",
        "!cd NeqSim-Colab\n",
        "!pip install NeqSim-Colab/lib/neqsim-*.whl\n",
        "import neqsim\n",
        "from neqsim.thermo.thermoTools import *\n",
        "import matplotlib\n",
        "import numpy as np\n",
        "import matplotlib.pyplot as plt\n",
        "import math\n",
        "%matplotlib inline"
      ],
      "execution_count": 0,
      "outputs": []
    },
    {
      "cell_type": "markdown",
      "metadata": {
        "id": "1OD0jMhlXPX-",
        "colab_type": "text"
      },
      "source": [
        "##Oil and gas separation\n",
        "An oil/gas separator is a pressure vessel used for separating a well stream into gaseous and liquid components. They are installed either in an onshore processing station or on an offshore platform. Based on the vessel configurations, the oil/gas separators can be divided into horizontal, vertical, or spherical separators. In teams of fluids to be separated, the oil/gas separators can be grouped into gas/liquid two-phase separator or oil/gas/water three-phase separator. Based on separation function, the oil/gas separators can also classified into primary phase separator, test separator, high-pressure separator, low-pressure separator, deliquilizer, degasser, etc. To meet process requirements, the oil/gas separators are normally designed in stages, in which the first stage separator is used for priliminary phase separation, while the second and third stage separator are applied for further treatment of each individual phase (gas, oil and water). Depending on a specific application, oil/gas separators are also called deliquilizer or degasser. The deliquilizers are used to remove dispersed droplets from a bulk gas stream; while the degassers are designed to remove contaimined gas bubbles from the bulk liquid stream.\n"
      ]
    },
    {
      "cell_type": "code",
      "metadata": {
        "id": "XZRddlSl36Et",
        "colab_type": "code",
        "cellView": "form",
        "outputId": "fe66bb7c-b80c-4cd7-b08a-318a2b0e2fc1",
        "colab": {
          "base_uri": "https://localhost:8080/",
          "height": 421
        }
      },
      "source": [
        "#@title Introduction to separation of oil and gas\n",
        "#@markdown This video gives an intriduction to separation of oil and gas\n",
        "from IPython.display import YouTubeVideo\n",
        "YouTubeVideo('4AVdtGsU354', width=600, height=400)"
      ],
      "execution_count": 2,
      "outputs": [
        {
          "output_type": "execute_result",
          "data": {
            "text/html": [
              "\n",
              "        <iframe\n",
              "            width=\"600\"\n",
              "            height=\"400\"\n",
              "            src=\"https://www.youtube.com/embed/4AVdtGsU354\"\n",
              "            frameborder=\"0\"\n",
              "            allowfullscreen\n",
              "        ></iframe>\n",
              "        "
            ],
            "text/plain": [
              "<IPython.lib.display.YouTubeVideo at 0x7f4f6c7973c8>"
            ],
            "image/jpeg": "[encoded data removed]"
          },
          "metadata": {
            "tags": []
          },
          "execution_count": 2
        }
      ]
    },
    {
      "cell_type": "markdown",
      "metadata": {
        "id": "cxzSC_FtW8KZ",
        "colab_type": "text"
      },
      "source": [
        "## Gas separation equipment\n",
        "Gas scrubbers are a very important part of a gas processing plant. Together with heat exchangers and compressors they form the hart of process for obtaining the hydrocarbon dew point specifications in an off-shore plant. The process diagram below highlights some of the heat exchangers and gas scrubbers used for obtaining the specified hydrocarbon dew point. \n",
        "\n",
        "The main purpose for a gas scrubber is to remove smaller amount of liquids from the gas. A vessel may be classified as a scrubber if the liquid amount is below 3-5 volume %. Vessels for larger liquid amounts will be classified as separators. A gas scrubber can have many purposes. One is as mention to actively remove liquid from the gas in combination with a cooler. The other main purpose is to protect other types of equipment in a process, for instance compressors (normally named suction drum) and contactors like dryers and CO2 removal unit. For these units the scrubber may be integrated in the bottom of the contactor. In distillation columns and contactors a gas scrubber (often called a demisting section) is also located in the top of the tower in order to remove droplets of absorber chemicals (like TEG and MDEA) from the gas again. \n",
        "\n",
        "##Design of a gas scrubber\n",
        "The maximum velocity of a gas in a gas scrubber is calculate as:\n",
        "\n",
        "$V_t=K\\times\\sqrt\\frac{\\rho_g-\\rho_l}{\\rho_g}$\n",
        "\n",
        "The scrubber internal diameter can be calculated as\n",
        "\n",
        "$Q=A\\times V_t$ where $A= \\frac{\\pi}{4}\\times D^2$"
      ]
    },
    {
      "cell_type": "markdown",
      "metadata": {
        "id": "DsMNdDi9Z-Nj",
        "colab_type": "text"
      },
      "source": [
        "## Example: Design of a gas scrubber\n",
        "\n",
        "A natural gas with some liquid condesate will be separated in a gas scubber. The gas flow rate is 10 MSm^3/day and the feed gas composition is as given in the python script below. The temperature and pressure of the stream is 35 C and 60 bara. Estimate the maximum gas velocity and minimum internal diameter of the gas scrubber based on a gas load factor of 0.1."
      ]
    },
    {
      "cell_type": "code",
      "metadata": {
        "id": "NtVNKIuAb4rD",
        "colab_type": "code",
        "outputId": "06477829-1021-45ec-bb67-c535c889de1b",
        "colab": {
          "base_uri": "https://localhost:8080/",
          "height": 85
        }
      },
      "source": [
        "\n",
        "gas_flow = 10.0 #@param {type:\"number\"}\n",
        "gas_pressure = 60.0 #@param {type:\"number\"}\n",
        "gas_temperature = 35.0 #@param {type:\"number\"}\n",
        "gas_load_factor = 0.1 #@param {type:\"number\"}\n",
        "\n",
        "from neqsim.thermo import fluid\n",
        "from neqsim import methods\n",
        "from neqsim.process import clearProcess, heater, stream, runProcess\n",
        "\n",
        "# Start by creating a fluid in neqsim\n",
        "fluid1 = fluid(\"srk\")  # create a fluid using the SRK-Eo\n",
        "fluid1.addComponent(\"CO2\", 2.0)\n",
        "fluid1.addComponent(\"methane\", 85.0)\n",
        "fluid1.addComponent(\"ethane\", 5.0)\n",
        "fluid1.addComponent(\"propane\", 3.0)\n",
        "fluid1.addComponent(\"i-butane\", 2.0)\n",
        "fluid1.addComponent(\"n-butane\", 2.0)\n",
        "fluid1.addComponent(\"n-heptane\", 22.0)\n",
        "fluid1.setMixingRule('classic')\n",
        "fluid1.setTemperature(gas_temperature, \"C\")\n",
        "fluid1.setPressure(gas_pressure, \"bara\")\n",
        "fluid1.setTotalFlowRate(gas_flow, \"MSm3/day\")\n",
        "\n",
        "TPflash(fluid1)\n",
        "fluid1.initPhysicalProperties()\n",
        "flowRate = fluid1.getFlowRate(\"m3/sec\")\n",
        "gas_density = fluid1.getPhase(\"gas\").getDensity(\"kg/m3\")\n",
        "oil_density = fluid1.getPhase(\"oil\").getDensity(\"kg/m3\")\n",
        "\n",
        "V_t = gas_load_factor*math.sqrt((oil_density-gas_density)/gas_density)\n",
        "\n",
        "A_scrub = flowRate/V_t\n",
        "\n",
        "D_scrub = math.sqrt(A_scrub/(3.14/4.0))\n",
        "\n",
        "print(\"gas density \", round(gas_density,3), \" [kg/m3)]\")\n",
        "print(\"oil density \", round(oil_density,3), \" [kg/m3]\")\n",
        "print(\"Maximum gas velocity \", round(V_t,3), \" [m/sec]\")\n",
        "print(\"Minimum scrubber internal diameter \", round(D_scrub,3), \" [m]\")\n",
        "\n",
        "\n"
      ],
      "execution_count": 10,
      "outputs": [
        {
          "output_type": "stream",
          "text": [
            "gas density  49.016  [kg/m3)]\n",
            "oil density  609.041  [kg/m3]\n",
            "Maximum gas velocity  0.338  [m/sec]\n",
            "Minimum scrubber internal diameter  2.367  [m]\n"
          ],
          "name": "stdout"
        }
      ]
    },
    {
      "cell_type": "markdown",
      "metadata": {
        "id": "hXJAyb7uIyiW",
        "colab_type": "text"
      },
      "source": [
        "Do the same example using water as liquid phase using the feed composition given inthe script below. Compare the results of separation of oil and water."
      ]
    },
    {
      "cell_type": "code",
      "metadata": {
        "id": "wAHHRA_ZJBOH",
        "colab_type": "code",
        "outputId": "a48b6414-4901-4ab3-d85c-461757abe02e",
        "colab": {
          "base_uri": "https://localhost:8080/",
          "height": 85
        }
      },
      "source": [
        "# Start by creating a fluid in neqsim\n",
        "fluid2 = fluid(\"srk\")  # create a fluid using the SRK-Eo\n",
        "fluid2.addComponent(\"CO2\", 2.0)\n",
        "fluid2.addComponent(\"methane\", 85.0)\n",
        "fluid2.addComponent(\"ethane\", 5.0)\n",
        "fluid2.addComponent(\"propane\", 3.0)\n",
        "fluid2.addComponent(\"i-butane\", 2.0)\n",
        "fluid2.addComponent(\"n-butane\", 2.0)\n",
        "fluid2.addComponent(\"water\", 22.0)\n",
        "fluid2.setMixingRule(2)\n",
        "fluid2.setTemperature(gas_temperature, \"C\")\n",
        "fluid2.setPressure(gas_pressure, \"bara\")\n",
        "fluid2.setTotalFlowRate(gas_flow, \"MSm3/day\")\n",
        "\n",
        "TPflash(fluid2)\n",
        "fluid2.initPhysicalProperties()\n",
        "flowRate = fluid2.getFlowRate(\"m3/sec\")\n",
        "gas_density = fluid2.getPhase(\"gas\").getDensity(\"kg/m3\")\n",
        "water_density = fluid2.getPhase(\"aqueous\").getDensity(\"kg/m3\")\n",
        "\n",
        "V_t = gas_load_factor*math.sqrt((water_density-gas_density)/gas_density)\n",
        "\n",
        "A_scrub = flowRate/V_t\n",
        "\n",
        "D_scrub = math.sqrt(A_scrub/(3.14/4.0))\n",
        "\n",
        "print(\"gas density \", round(gas_density,3), \" [kg/m3)]\")\n",
        "print(\"water density \", round(water_density,3), \" [kg/m3]\")\n",
        "print(\"Maximum gas velocity \", round(V_t,3), \" [m/sec]\")\n",
        "print(\"Minimum scrubber internal diameter \", round(D_scrub,3), \" [m]\")"
      ],
      "execution_count": 11,
      "outputs": [
        {
          "output_type": "stream",
          "text": [
            "gas density  53.817  [kg/m3)]\n",
            "water density  993.582  [kg/m3]\n",
            "Maximum gas velocity  0.418  [m/sec]\n",
            "Minimum scrubber internal diameter  2.143  [m]\n"
          ],
          "name": "stdout"
        }
      ]
    }
  ]
}