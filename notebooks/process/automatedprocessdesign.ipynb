{
  "nbformat": 4,
  "nbformat_minor": 0,
  "metadata": {
    "colab": {
      "name": "automatedprocessdesign.ipynb",
      "provenance": [],
      "authorship_tag": "ABX9TyMDlRHLO0rGv18tkdWzpnir",
      "include_colab_link": true
    },
    "kernelspec": {
      "name": "python3",
      "display_name": "Python 3"
    }
  },
  "cells": [
    {
      "cell_type": "markdown",
      "metadata": {
        "id": "view-in-github",
        "colab_type": "text"
      },
      "source": [
        "<a href=\"https://colab.research.google.com/github/EvenSol/NeqSim-Colab/blob/master/notebooks/process/automatedprocessdesign.ipynb\" target=\"_parent\"><img src=\"https://colab.research.google.com/assets/colab-badge.svg\" alt=\"Open In Colab\"/></a>"
      ]
    },
    {
      "cell_type": "code",
      "metadata": {
        "id": "ylKgUNRj6PSV"
      },
      "source": [
        "To be implemented"
      ],
      "execution_count": null,
      "outputs": []
    },
    {
      "cell_type": "markdown",
      "metadata": {
        "id": "eGMfD3_26UB_"
      },
      "source": [
        "#Litterature\n",
        "https://ntnuopen.ntnu.no/ntnu-xmlui/handle/11250/2561545?show=full&locale-attribute=en\n",
        "\n"
      ]
    }
  ]
}