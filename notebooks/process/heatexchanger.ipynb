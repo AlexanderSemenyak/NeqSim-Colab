{
  "nbformat": 4,
  "nbformat_minor": 0,
  "metadata": {
    "colab": {
      "name": "heatexchanger.ipynb",
      "version": "0.3.2",
      "provenance": [],
      "include_colab_link": true
    },
    "kernelspec": {
      "name": "python3",
      "display_name": "Python 3"
    }
  },
  "cells": [
    {
      "cell_type": "markdown",
      "metadata": {
        "id": "view-in-github",
        "colab_type": "text"
      },
      "source": [
        "<a href=\"https://colab.research.google.com/github/EvenSol/NeqSim-Colab/blob/master/notebooks/process/heatexchanger.ipynb\" target=\"_parent\"><img src=\"https://colab.research.google.com/assets/colab-badge.svg\" alt=\"Open In Colab\"/></a>"
      ]
    },
    {
      "cell_type": "code",
      "metadata": {
        "id": "CEdjZZHBo3y_",
        "colab_type": "code",
        "cellView": "form",
        "colab": {}
      },
      "source": [
        "#@title Calculation of shell and tube heat exchangers\n",
        "#@markdown This section gives and introduction to design of shell and tube heat exchangers.\n",
        "%%capture\n",
        "!pip install py4j\n",
        "!pip install --upgrade -q gspread\n",
        "!rm -rf testneqsim\n",
        "!git clone https://github.com/EvenSol/NeqSim-Colab.git\n",
        "!cd NeqSim-Colab\n",
        "!pip install NeqSim-Colab/lib/neqsim-*.whl\n",
        "import neqsim\n",
        "from neqsim.thermo.thermoTools import *\n",
        "import matplotlib\n",
        "import numpy as np\n",
        "import matplotlib.pyplot as plt\n",
        "import math\n",
        "%matplotlib inline"
      ],
      "execution_count": 0,
      "outputs": []
    },
    {
      "cell_type": "markdown",
      "metadata": {
        "id": "5t6c9swXIE-y",
        "colab_type": "text"
      },
      "source": [
        "###Theory\n",
        "A number of web pages describe the fundamental theory of heat exchange. MIT has published a web course with a [simple introduction to heat treansfer and heat exchangers](http://web.mit.edu/16.unified/www/FALL/thermodynamics/notes/node131.html). "
      ]
    },
    {
      "cell_type": "code",
      "metadata": {
        "id": "X8RVCLq35hX_",
        "colab_type": "code",
        "cellView": "form",
        "outputId": "6fef6a53-3676-4fde-bd62-cc8e07c89b2a",
        "colab": {
          "base_uri": "https://localhost:8080/",
          "height": 421
        }
      },
      "source": [
        "#@title Introduction to shell and tube heat exchangers\n",
        "#@markdown This video gives introduction to shell and tube heat exchangers\n",
        "from IPython.display import YouTubeVideo\n",
        "YouTubeVideo('zUjTa5BajxQ', width=600, height=400)"
      ],
      "execution_count": 2,
      "outputs": [
        {
          "output_type": "execute_result",
          "data": {
            "text/html": [
              "\n",
              "        <iframe\n",
              "            width=\"600\"\n",
              "            height=\"400\"\n",
              "            src=\"https://www.youtube.com/embed/zUjTa5BajxQ\"\n",
              "            frameborder=\"0\"\n",
              "            allowfullscreen\n",
              "        ></iframe>\n",
              "        "
            ],
            "text/plain": [
              "<IPython.lib.display.YouTubeVideo at 0x7fee77f7f048>"
            ],
            "image/jpeg": "[encoded data removed]"
          },
          "metadata": {
            "tags": []
          },
          "execution_count": 2
        }
      ]
    },
    {
      "cell_type": "markdown",
      "metadata": {
        "id": "FxWhofMrD1po",
        "colab_type": "text"
      },
      "source": [
        "### Design of a shell and tube heat exchanger\n",
        "\n",
        "The duty of a heat exchanger is calculated using general equation \n",
        "\n",
        "$Q=U \\times A \\times LMTD $\n",
        "\n",
        "Where ''Q'' is the exchanged heat duty (in watt), ''U'' is the heat transfer coefficient (in watts per Kelvin per square meter) and ''A'' is the exchange area. LMTD is the [log mean temperature difference](https://en.wikipedia.org/wiki/Logarithmic_mean_temperature_difference) given by the equation:\n",
        "\n",
        "$LMTD=\\frac{\\Delta T_A - \\Delta T_B}{\\ln \\left( \\frac{\\Delta T_A}{\\Delta T_B} \\right ) }$ \n",
        "\n",
        "\n",
        "where $\\Delta T_A$ is the temperature difference between the two streams at end ''A'', and $\\Delta T_B$ is the temperature difference between the two streams at end ''B''. \n",
        "\n",
        "The process simulation will give the necessary duty (Q) for a heat exchanger. "
      ]
    },
    {
      "cell_type": "markdown",
      "metadata": {
        "id": "zPpoaJyhL1PL",
        "colab_type": "text"
      },
      "source": [
        "###Example\n",
        "1. Estimate to duty of a heat exchager needed to cool 1 $MSm^3/day$ of a natural gas at 100 bara from $100 ^\\circ C $ to 30 $ ^\\circ C $\n",
        "2. Use a shell and tube heat echanger to heat the gas. Assume an overall heat transfer coefficient of 100 $\\frac{W}{m^2 \\times K}$. The gas will be cooled using sea water with an inlet temperature of 12  $ ^\\circ C $ and an outlet temperature of 80  $ ^\\circ C $. Estimate the neccesary heat exchanger area. "
      ]
    },
    {
      "cell_type": "code",
      "metadata": {
        "id": "aj2BENL9Lj0E",
        "colab_type": "code",
        "colab": {
          "base_uri": "https://localhost:8080/",
          "height": 69
        },
        "cellView": "form",
        "outputId": "24a97c12-ba31-4160-8fc0-1f27b6a9a6b3"
      },
      "source": [
        "U_Wm2K = 100.0 #@param {type:\"number\"}\n",
        "gas_flow = 1.0 #@param {type:\"number\"}\n",
        "gas_inlet_pressure = 100.0 #@param {type:\"number\"}\n",
        "gas_inlet_temperature = 100.0 #@param {type:\"number\"}\n",
        "gas_outlet_temperature = 30.0 #@param {type:\"number\"}\n",
        "water_inlet_temperature = 12.0 #@param {type:\"number\"}\n",
        "water_outlet_temperature = 12.0 #@param {type:\"number\"}\n",
        "\n",
        "from neqsim.thermo import fluid\n",
        "from neqsim import methods\n",
        "from neqsim.process import clearProcess, heater, stream, runProcess\n",
        "\n",
        "# Start by creating a fluid in neqsim\n",
        "fluid1 = fluid(\"srk\")  # create a fluid using the SRK-Eo\n",
        "fluid1.addComponent(\"CO2\", 2.0)\n",
        "fluid1.addComponent(\"methane\", 85.0)\n",
        "fluid1.addComponent(\"ethane\", 5.0)\n",
        "fluid1.addComponent(\"propane\", 3.0)\n",
        "fluid1.addComponent(\"i-butane\", 2.0)\n",
        "fluid1.addComponent(\"n-butane\", 2.0)\n",
        "fluid1.setMixingRule(2)\n",
        "fluid1.setTemperature(gas_inlet_temperature, \"C\")\n",
        "fluid1.setPressure(gas_inlet_pressure, \"bara\")\n",
        "fluid1.setTotalFlowRate(gas_flow, \"MSm3/day\")\n",
        "\n",
        "clearProcess()\n",
        "stream1 = stream(fluid1)\n",
        "cooler1 = heater(stream1)\n",
        "cooler1.setOutTemperature(273.15+gas_outlet_temperature)\n",
        "runProcess()\n",
        "\n",
        "deltaTA = gas_inlet_temperature-water_outlet_temperature\n",
        "deltaTB = gas_outlet_temperature-water_inlet_temperature\n",
        "\n",
        "LMTD = deltaTA-deltaTB/(math.log(deltaTA/deltaTB))\n",
        "\n",
        "Q = -cooler1.getEnergyInput()\n",
        "A = Q/U_Wm2K/LMTD\n",
        "print(\"LMTD \", round(LMTD,3), \" degC\")\n",
        "print(\"heat exchanger duty \", round(cooler1.getEnergyInput()/1e6,3), \" MW\")\n",
        "print(\"heat exchanger area \", round(A,3), \" m^2\")"
      ],
      "execution_count": 19,
      "outputs": [
        {
          "output_type": "stream",
          "text": [
            "LMTD  76.658  degC\n",
            "heat exchanger duty  -1.935  MW\n",
            "heat exchanger area  252.405  m^2\n"
          ],
          "name": "stdout"
        }
      ]
    }
  ]
}