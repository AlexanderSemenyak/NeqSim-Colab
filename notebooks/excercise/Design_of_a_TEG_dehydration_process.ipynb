{
  "nbformat": 4,
  "nbformat_minor": 0,
  "metadata": {
    "colab": {
      "name": "Design_of_a_TEG_dehydration_process.ipynb",
      "provenance": [],
      "collapsed_sections": [],
      "include_colab_link": true
    },
    "kernelspec": {
      "name": "python3",
      "display_name": "Python 3"
    }
  },
  "cells": [
    {
      "cell_type": "markdown",
      "metadata": {
        "id": "view-in-github",
        "colab_type": "text"
      },
      "source": [
        "<a href=\"https://colab.research.google.com/github/EvenSol/NeqSim-Colab/blob/master/notebooks/excercise/Design_of_a_TEG_dehydration_process.ipynb\" target=\"_parent\"><img src=\"https://colab.research.google.com/assets/colab-badge.svg\" alt=\"Open In Colab\"/></a>"
      ]
    },
    {
      "cell_type": "markdown",
      "metadata": {
        "id": "T62go0Ujyz-d",
        "colab_type": "text"
      },
      "source": [
        "# Example 18.3 from Cambell\n",
        "\n",
        "Calculate the circulation rate of 98.7 wt% of lean TEG needed to dry 1 MSm3/day of gas at 70 bara and $40 ^{\\circ}C$ in a six tray absorber (1.5 theoretical stages) to achieve a water content of 117 kg/MSm3. THe inlet gas is saturated with water (1100 kg water/MSm3)."
      ]
    },
    {
      "cell_type": "markdown",
      "metadata": {
        "id": "tq94WaOOLo2t",
        "colab_type": "text"
      },
      "source": [
        "## Calculate the circulation rate using the equiations from Campbell book\n",
        "\n",
        "The following equiations will be used in the calculations:\n",
        "\n",
        "$E_a=\\frac{W_{N+1}-W_1}{W_{N+1}-W_0} = \\frac{A^{N+1}-A}{A^{N+1}-1}$ (18.2) \n",
        "\n",
        "Where $W_N+1$ is the water content in (kg water/MSm3) in the feed gas (1100 kg/MSm3). $W_1$ is the water content in the dehydrated gas (117 kg/MSm3). A is the absorption factor calculates as A=L/VK. Where V and L is gas and liquid flow rate in mol/hr. K is the equilibrium constant.\n",
        "\n",
        "$W_0$ is given by raults law and is calculated from: \n",
        "\n",
        "$W_0=W\\cdot \\gamma_{water} \\cdot x_{water} $ (18.4)\n",
        "\n",
        "Where $\\gamma_{water}$ is the activity coefficient of water in lean TEG, and $x_{water}$ is the mol fraction of water in the lean TEG. From figure 18.7 we read at $40 ^{\\circ}C$ and 98.7 wt% TEG: $\\gamma_{water}=0.66$\n",
        "\n",
        "$x_{water}=\\frac{\\frac{100-X_{gl}}{18}}{\\frac{100-X_{gl}}{18}+\\frac{X_gl}{150}}$\n",
        "\n",
        "THe equilibrium constant for water is calculated from:\n",
        "\n",
        "$K_{water}=\\frac{y_{water}}{x_{water}}=\\gamma \\cdot \\frac{P_{sat_water}}{P} = \\gamma_{water} \\cdot W_{sat}/B$\n",
        "\n",
        "Where B is kg gas/MSm3 and is  calculated assuming a molar mass of about 20.0 gr/mol of gas.\n",
        "\n",
        "$B=\\frac{n}{V} \\cdot M = \\frac{P}{RT} \\cdot M = \\frac{101325}{8.314*288.15} \\cdot 20.0 = 761000 \\frac{kg}{MSm^3}$\n"
      ]
    },
    {
      "cell_type": "code",
      "metadata": {
        "id": "8BDEFUcsME_c",
        "colab_type": "code",
        "outputId": "1be312c4-f977-47c6-8c2d-57634339c7ff",
        "colab": {
          "base_uri": "https://localhost:8080/",
          "height": 247
        }
      },
      "source": [
        "GasFlowRate = 1.0 # MSm3/day\n",
        "WNp1 = 1100.0 # kg water/MSm^3 (saturated at inlet)\n",
        "W1 = 117.0 # kg water/MSm3\n",
        "Np1 = 1.5 # Number of equilibrium stages\n",
        "wtLeanTEG = 98.7\n",
        "print(\"Number of equilibrium stages \",Np1)\n",
        "x0 = (100.0-wtLeanTEG)/18.0/((100.0-wtLeanTEG)/18.0+wtLeanTEG/150.0) # mole fraction water in lean TEG\n",
        "print(\"x0 \" , x0, \" [mol water/mol tot]\")\n",
        "\n",
        "gamma = 0.66 #activity coefficient of water\n",
        "\n",
        "W0 = WNp1*gamma*x0 #water content in equilibrium with lean TEG\n",
        "print(\"W0 \" , W0,\" kg/MSm3\")\n",
        "\n",
        "Ea = (WNp1-W1)/(WNp1-W0) #absorption efficiency calulated from relative water removal from gas\n",
        "print(\"Ea \" , Ea,\" -\")\n",
        "\n",
        "## setting up a function to solve A \n",
        "def func(A):\n",
        "        return (pow(A,Np1+1.0)-A)/(pow(A,Np1+1.0)-1.0)-Ea\n",
        "\n",
        "from scipy.optimize import fsolve\n",
        "solveA = fsolve(func, 0.1) # solve absorption factor using 0.1 as initial guess\n",
        "A = solveA[0]\n",
        "print('A ', A)\n",
        "Ea2 = (pow(A,Np1+1.0)-A)/(pow(A,Np1+1.0)-1.0)\n",
        "print(\"Ea2 \" , Ea2,\" -\")\n",
        "\n",
        "\n",
        "VSm3hr = GasFlowRate*1e6/24.0 # MSm3/hr\n",
        "molperm3 = 101325.0/8.314/288.15  #mol/Sm3\n",
        "Vmolhr = VSm3hr*molperm3/1000.0 # mol/hr\n",
        "print(\"V_mol/hr \" , Vmolhr,\" kmol/hr\")\n",
        "\n",
        "B = 101325/(8.314*(273.15+40.0))*1e6 * 20.0/1000.0 #calculate B assuming molar mass of gas of 20.0 gr/mol\n",
        "# in this case we use B from book\n",
        "B = 761000.0\n",
        "\n",
        "K = WNp1*gamma/B # Calculating equilibrium constant\n",
        "print(\"K equilibrium constant water \" , K,\" [-]\")\n",
        "Lmolhr =  A*Vmolhr*K\n",
        "print(\"TEG mol/hr \" , Lmolhr,\" kmol/hr\")\n",
        "\n",
        "molecularW = (1.0-x0)*150.0 + x0*18.0\n",
        "print(\"molecularW\" , molecularW,\" gr/mol\")\n",
        "massRateTEG = molecularW * Lmolhr\n",
        "print(\"mass rate glycol \" , massRateTEG,\" kg TEG/hr\")\n",
        "\n",
        "densityTEG = 1.12 #kg/liter\n",
        "\n",
        "\n",
        "absRateWater = (WNp1-W1)/24.0\n",
        "print(\"absorption rate water \" , absRateWater,\" kg water/hr\")\n",
        "\n",
        "circRatio = massRateTEG/densityTEG/absRateWater\n",
        "print(\"circulation ratio TEG/water \" , circRatio,\" liter TEG/kg water\")\n"
      ],
      "execution_count": 0,
      "outputs": [
        {
          "output_type": "stream",
          "text": [
            "Number of equilibrium stages  1.5\n",
            "x0  0.09890444309190485  [mol water/mol tot]\n",
            "W0  71.80462568472292  kg/MSm3\n",
            "Ea  0.9560439820638419  -\n",
            "A  7.312899327464227\n",
            "Ea2  0.9560439820638403  -\n",
            "V_mol/hr  1762.2873614416887  kmol/hr\n",
            "K equilibrium constant water  0.0009540078843626807  [-]\n",
            "TEG mol/hr  12.294709886685112  kmol/hr\n",
            "molecularW 136.94461351186857  gr/mol\n",
            "mass rate glycol  1683.694293672642  kg TEG/hr\n",
            "absorption rate water  40.958333333333336  kg water/hr\n",
            "circulation ratio TEG/water  36.703116414895554  liter TEG/kg water\n"
          ],
          "name": "stdout"
        }
      ]
    },
    {
      "cell_type": "markdown",
      "metadata": {
        "id": "YOe36M4jXfW_",
        "colab_type": "text"
      },
      "source": [
        "# HYSYS calculation\n",
        "See HYSYS simulation file"
      ]
    }
  ]
}