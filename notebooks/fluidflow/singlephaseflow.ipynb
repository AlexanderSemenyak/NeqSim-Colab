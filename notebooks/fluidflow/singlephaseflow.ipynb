{
  "nbformat": 4,
  "nbformat_minor": 0,
  "metadata": {
    "colab": {
      "name": "singlephaseflow.ipynb",
      "provenance": [],
      "authorship_tag": "ABX9TyMyVe5u55X+oKoFn1Dpp1qK",
      "include_colab_link": true
    },
    "kernelspec": {
      "name": "python3",
      "display_name": "Python 3"
    }
  },
  "cells": [
    {
      "cell_type": "markdown",
      "metadata": {
        "id": "view-in-github",
        "colab_type": "text"
      },
      "source": [
        "<a href=\"https://colab.research.google.com/github/EvenSol/NeqSim-Colab/blob/master/notebooks/fluidflow/singlephaseflow.ipynb\" target=\"_parent\"><img src=\"https://colab.research.google.com/assets/colab-badge.svg\" alt=\"Open In Colab\"/></a>"
      ]
    },
    {
      "cell_type": "code",
      "metadata": {
        "id": "Vou_dQ1rSje6"
      },
      "source": [
        ""
      ],
      "execution_count": null,
      "outputs": []
    },
    {
      "cell_type": "markdown",
      "metadata": {
        "id": "2HUFfnDrSlug"
      },
      "source": [
        "#Litterature\n",
        "https://petrowiki.org/Pressure_drop_evaluation_along_pipelines"
      ]
    },
    {
      "cell_type": "markdown",
      "metadata": {
        "id": "fwfg0eEg_llA"
      },
      "source": [
        "#Solving adiabatic flow in a gas pipeline"
      ]
    },
    {
      "cell_type": "code",
      "metadata": {
        "id": "P01EVCyJ_D9s"
      },
      "source": [
        "# Start by creating a fluid in neqsim\n",
        "fluid1 = fluid(\"srk\")  # create a fluid using the SRK-Eo\n",
        "fluid1.addComponent(\"methane\", 95.0)\n",
        "fluid1.addComponent(\"ethane\", 5.0)\n",
        "fluid1.setMixingRule(2)\n",
        "fluid1.setTemperature(88.15, \"C\")\n",
        "fluid1.setPressure(150.0, \"bara\")\n",
        "fluid1.setTotalFlowRate(50.0, \"MSm3/day\")\n",
        "\n",
        "TPflash(fluid1)\n",
        "fluid1.initPhysicalProperties()\n",
        "\n",
        "clearProcess()\n",
        "stream1 = stream(fluid1)\n",
        "\n",
        "deltaElevation = 0.0\n",
        "pipeLength = 500000.0\n",
        "roughness= 15.0e-6\n",
        "diameter = 1.1\n",
        "pipeSimple = pipe(stream1, pipeLength, deltaElevation, diameter, roughness)\n",
        "runProcess()"
      ],
      "execution_count": null,
      "outputs": []
    },
    {
      "cell_type": "markdown",
      "metadata": {
        "id": "vXcIn9un_tBJ"
      },
      "source": [
        "#General solver for flow in a gas pipeline"
      ]
    },
    {
      "cell_type": "code",
      "metadata": {
        "id": "OXeGHPnCSnWj"
      },
      "source": [
        "from neqsim import methods\n",
        "from neqsim.thermo import fluid, TPflash\n",
        "from neqsim.process import pipe, pipeline, clearProcess, stream, runProcess\n",
        "\n",
        "# Start by creating a fluid in neqsim\n",
        "fluid1 = fluid(\"srk\")  # create a fluid using the SRK-Eo\n",
        "fluid1.addComponent(\"methane\", 85.0)\n",
        "fluid1.addComponent(\"ethane\", 5.0)\n",
        "fluid1.setMixingRule(2)\n",
        "fluid1.setTemperature(88.15, \"C\")\n",
        "fluid1.setPressure(150.0, \"bara\")\n",
        "fluid1.setTotalFlowRate(50.0, \"MSm3/day\")\n",
        "\n",
        "TPflash(fluid1)\n",
        "fluid1.initPhysicalProperties()\n",
        "\n",
        "diameter = [1.0, 1.0, 1.0]\n",
        "roughness = [15.0e-6, 15.0e-6, 15.0e-6]\n",
        "position = [0.0, 1000.0, 5000.0]\n",
        "height = [0.0, 0.0, 0.0]\n",
        "outtemperatures =[278.15, 278.15, 278.15]\n",
        "outHeatU = [15.0, 15.0, 15.0]\n",
        "wallHeatU = [15.0, 15.0, 15.0]\n",
        "\n",
        "clearProcess()\n",
        "stream1 = stream(fluid1)\n",
        "pipe1 = pipeline(stream1, position, diameter, height, outtemperatures, roughness, outHeatU,wallHeatU)\n",
        "runProcess()\n",
        "\n"
      ],
      "execution_count": null,
      "outputs": []
    }
  ]
}