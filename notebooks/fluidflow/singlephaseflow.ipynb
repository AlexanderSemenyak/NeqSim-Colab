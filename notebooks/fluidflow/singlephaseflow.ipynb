{
  "nbformat": 4,
  "nbformat_minor": 0,
  "metadata": {
    "colab": {
      "name": "singlephaseflow.ipynb",
      "provenance": [],
      "authorship_tag": "ABX9TyPUUStEPokJ+GoZw9dSo3nP",
      "include_colab_link": true
    },
    "kernelspec": {
      "name": "python3",
      "display_name": "Python 3"
    }
  },
  "cells": [
    {
      "cell_type": "markdown",
      "metadata": {
        "id": "view-in-github",
        "colab_type": "text"
      },
      "source": [
        "<a href=\"https://colab.research.google.com/github/EvenSol/NeqSim-Colab/blob/master/notebooks/fluidflow/singlephaseflow.ipynb\" target=\"_parent\"><img src=\"https://colab.research.google.com/assets/colab-badge.svg\" alt=\"Open In Colab\"/></a>"
      ]
    },
    {
      "cell_type": "code",
      "metadata": {
        "id": "Vou_dQ1rSje6"
      },
      "source": [
        ""
      ],
      "execution_count": null,
      "outputs": []
    },
    {
      "cell_type": "markdown",
      "metadata": {
        "id": "2HUFfnDrSlug"
      },
      "source": [
        "#Litterature\n",
        "https://petrowiki.org/Pressure_drop_evaluation_along_pipelines"
      ]
    },
    {
      "cell_type": "code",
      "metadata": {
        "id": "OXeGHPnCSnWj"
      },
      "source": [
        ""
      ],
      "execution_count": null,
      "outputs": []
    }
  ]
}