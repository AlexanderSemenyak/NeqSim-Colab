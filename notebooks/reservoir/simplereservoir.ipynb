{
  "nbformat": 4,
  "nbformat_minor": 0,
  "metadata": {
    "colab": {
      "name": "simplereservoir.ipynb",
      "provenance": [],
      "include_colab_link": true
    },
    "kernelspec": {
      "name": "python3",
      "display_name": "Python 3"
    }
  },
  "cells": [
    {
      "cell_type": "markdown",
      "metadata": {
        "id": "view-in-github",
        "colab_type": "text"
      },
      "source": [
        "<a href=\"https://colab.research.google.com/github/EvenSol/NeqSim-Colab/blob/master/notebooks/reservoir/simplereservoir.ipynb\" target=\"_parent\"><img src=\"https://colab.research.google.com/assets/colab-badge.svg\" alt=\"Open In Colab\"/></a>"
      ]
    },
    {
      "cell_type": "code",
      "metadata": {
        "cellView": "form",
        "id": "EbEbhy9hvF7i",
        "outputId": "a63e1a7a-2660-4785-b441-513b5bdfbf11"
      },
      "source": [
        "#@title A simplified reservoir simulation model\n",
        "#@markdown In this section we will use a simplified reservoir simulation model based in constant volume - temperature flashes. This will be used for developing fluid input to further gas processing calculations.\n",
        "#@markdown <br><br>This document is part of the module [\"Introduction to Gas Processing using NeqSim in Colab\"](https://colab.research.google.com/github/EvenSol/NeqSim-Colab/blob/master/notebooks/examples_of_NeqSim_in_Colab.ipynb#scrollTo=_eRtkQnHpL70).\n",
        "#%%capture\n",
        "!pip install neqsim\n",
        "import neqsim\n",
        "from neqsim.thermo.thermoTools import *\n",
        "from neqsim.process.processTools import simplereservoir\n",
        "import matplotlib\n",
        "import numpy as np\n",
        "import matplotlib.pyplot as plt\n",
        "import math\n",
        "plt.style.use('classic')\n",
        "%matplotlib inline\n"
      ],
      "execution_count": null,
      "outputs": [
        {
          "output_type": "stream",
          "text": [
            "Requirement already satisfied: neqsim in c:\\appl\\anaconda3\\lib\\site-packages (2.2)\n",
            "Requirement already satisfied: numpy in c:\\appl\\anaconda3\\lib\\site-packages (from neqsim) (1.16.4)\n",
            "Requirement already satisfied: py4j in c:\\appl\\anaconda3\\lib\\site-packages (from neqsim) (0.10.9.1)\n",
            "Requirement already satisfied: matplotlib in c:\\appl\\anaconda3\\lib\\site-packages (from neqsim) (3.1.0)\n",
            "Requirement already satisfied: cycler>=0.10 in c:\\appl\\anaconda3\\lib\\site-packages (from matplotlib->neqsim) (0.10.0)\n",
            "Requirement already satisfied: kiwisolver>=1.0.1 in c:\\appl\\anaconda3\\lib\\site-packages (from matplotlib->neqsim) (1.1.0)\n",
            "Requirement already satisfied: pyparsing!=2.0.4,!=2.1.2,!=2.1.6,>=2.0.1 in c:\\appl\\anaconda3\\lib\\site-packages (from matplotlib->neqsim) (2.4.2)\n",
            "Requirement already satisfied: python-dateutil>=2.1 in c:\\appl\\anaconda3\\lib\\site-packages (from matplotlib->neqsim) (2.8.0)\n",
            "Requirement already satisfied: six in c:\\appl\\anaconda3\\lib\\site-packages (from cycler>=0.10->matplotlib->neqsim) (1.12.0)\n",
            "Requirement already satisfied: setuptools in c:\\appl\\anaconda3\\lib\\site-packages (from kiwisolver>=1.0.1->matplotlib->neqsim) (41.0.1)\n"
          ],
          "name": "stdout"
        }
      ]
    },
    {
      "cell_type": "markdown",
      "metadata": {
        "id": "sVE0XWti5qav"
      },
      "source": [
        "# Reservoir simulation - the tank model\n",
        "One of the representations of reservoir models is called the Tank Model, is also called \"the building block of reservoir simulators\", it is a zero dimensional model, because just like in the example of the oil MBE equation, the difference between the initial oil and the final oil entering the reservoir is the Cumulative net withdrawal. The tank model takes the average values for the whole properties of the reservoir by assuming that there is no oil entering the reservoir. However, the tank model cannot represent sandbars and average them out as a whole due to variation of lithology, but instead it can average out the components within. In this case, because of the expansion of fluids complications, the MBE equation together with Darcy's Law are used to describe the behavior of each component. This new model is a one- dimensional simulator because it has more than one component in one direction and one component in the other two directions. \n",
        "\n",
        "Ref.: https://wiki.seg.org/wiki/Reservoir_simulation"
      ]
    },
    {
      "cell_type": "code",
      "metadata": {
        "id": "HqFMKNfG5qaw"
      },
      "source": [
        "fluid1 = fluid('srk')\n",
        "fluid1.addComponent(\"nitrogen\", 0.100)\n",
        "fluid1.addComponent(\"CO2\", 0.100)\n",
        "fluid1.addComponent(\"methane\", 30.00)\n",
        "fluid1.addComponent(\"ethane\", 1.0)\n",
        "fluid1.addComponent(\"propane\", 1.0)\n",
        "fluid1.addComponent(\"i-butane\", 1.0)\n",
        "fluid1.addComponent(\"n-butane\", 1.0)\n",
        "fluid1.addComponent(\"n-hexane\", 0.1)\n",
        "fluid1.addComponent(\"n-heptane\", 0.1)\n",
        "fluid1.addComponent(\"n-nonane\", 1.0)\n",
        "fluid1.addComponent(\"nC10\", 1.0)\n",
        "fluid1.addComponent(\"nC12\", 3.0)\n",
        "fluid1.addComponent(\"nC15\", 3.0)\n",
        "fluid1.addComponent(\"nC20\", 3.0)\n",
        "fluid1.addComponent(\"water\", 11.0)\n",
        "fluid1.setMixingRule(2)\n",
        "fluid1.setMultiPhaseCheck(True)\n",
        "\n",
        "fluid1.setPressure(100.0, 'bara')\n",
        "fluid1.setTemperature(100.0, 'C')\n",
        "\n",
        "TPflash(fluid1)\n",
        "\n",
        "reservoirOps = simplereservoir(fluid1, \"Well 1 reservoir\", gasvolume=5.0 * 1e7, oilvolume=552.0 * 1e6, watervolume=10.0e6)\n",
        "\n",
        "producedGasStream = reservoirOps.addGasProducer(\"SLP_A32562G\")\n",
        "producedGasStream.setFlowRate(0.01, \"MSm3/day\")\n",
        "\n",
        "injectionGasStream = reservoirOps.addGasInjector(\"SLP_A32562GI\")\n",
        "fluidComposition(injectionGasStream.getFluid(), [0.0, 1.0, 0.0, 0.0, 0.0, 0.0, 0.0, 0.0, 0.0, 0.0, 0.0, 0.0, 0.0, 0.0,0.0])\n",
        "injectionGasStream.setFlowRate(1.1, \"MSm3/day\")\n",
        "\n",
        "injectionWaterStream = reservoirOps.addWaterInjector(\"SLP_A32562W\")\n",
        "injectionWaterStream.setFlowRate(10000000.1, \"kg/day\")\n",
        "\n",
        "producedOilStream = reservoirOps.addOilProducer(\"SLP_A32562O\")\n",
        "producedOilStream.setFlowRate(50000000.0, \"kg/day\")\n",
        "\n",
        "\n",
        "deltat = 24*60*60.0*365\n",
        "time = []\n",
        "pressure = []\n",
        "gasvolume = []\n",
        "watervolume = []\n",
        "oilvolume = []\n",
        "wateringas = []\n",
        "totalproducedoe = []\n",
        "co2reservoirgas = []\n",
        "\n",
        "for t in range(10):\n",
        "    reservoirOps.runTransient(deltat)\n",
        "    time.append(t*deltat/(24*60*60.0*365))\n",
        "    pressure.append(reservoirOps.getReservoirFluid().getPressure('bara'))\n",
        "    gasvolume.append(reservoirOps.getReservoirFluid().getPhase(\"gas\").getVolume(\"m3\"))\n",
        "    oilvolume.append(reservoirOps.getReservoirFluid().getPhase(\"oil\").getVolume(\"m3\"))\n",
        "    watervolume.append(reservoirOps.getReservoirFluid().getPhase(\"aqueous\").getVolume(\"m3\"))\n",
        "    wateringas.append(reservoirOps.getReservoirFluid().getPhase(\"gas\").getComponent('water').getx())\n",
        "    totalproducedoe.append(reservoirOps.getProductionTotal('MSm3 oe'))\n",
        "    co2reservoirgas.append(reservoirOps.getReservoirFluid().getComponent('CO2').getz())\n",
        "\n",
        "\n",
        "plt.rcParams['figure.figsize'] = [10, 20]\n",
        "fig, ax = plt.subplots()\n",
        "plt.subplot(7, 1, 1)\n",
        "plt.plot(time, pressure)\n",
        "plt.xlabel('Year [-]')\n",
        "plt.ylabel('Pressure [bara]')\n",
        "plt.subplot(7, 1, 2)\n",
        "plt.plot(time, gasvolume)\n",
        "plt.xlabel('Year [-]')\n",
        "plt.ylabel('gasVol [m3]')\n",
        "plt.subplot(7, 1, 3)\n",
        "plt.plot(time, oilvolume)\n",
        "plt.xlabel('Year [-]')\n",
        "plt.ylabel('oilVol [m3]')\n",
        "plt.subplot(7, 1, 4)\n",
        "plt.plot(time, watervolume)\n",
        "plt.xlabel('Year [-]')\n",
        "plt.ylabel('waterVol [m3]')\n",
        "plt.subplot(7, 1, 5)\n",
        "plt.plot(time, wateringas)\n",
        "plt.xlabel('Year [-]')\n",
        "plt.ylabel('water in gas [-]')\n",
        "plt.subplot(7, 1, 6)\n",
        "plt.plot(time, totalproducedoe)\n",
        "plt.xlabel('Year [-]')\n",
        "plt.ylabel('Total production [MSm3 oe]')\n",
        "plt.subplot(7, 1, 7)\n",
        "plt.plot(time, co2reservoirgas)\n",
        "plt.xlabel('Year [-]')\n",
        "plt.ylabel('CO2 in reservoir gas [mole frac]')\n",
        "\n",
        "\n",
        "\n"
      ],
      "execution_count": null,
      "outputs": []
    },
    {
      "cell_type": "code",
      "metadata": {
        "id": "r4wsTuOD5qaw"
      },
      "source": [
        ""
      ],
      "execution_count": null,
      "outputs": []
    }
  ]
}