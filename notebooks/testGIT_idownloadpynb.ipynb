{
  "nbformat": 4,
  "nbformat_minor": 0,
  "metadata": {
    "colab": {
      "name": "Copy of testGIT.idownloadpynb",
      "version": "0.3.2",
      "provenance": [],
      "toc_visible": true,
      "include_colab_link": true
    },
    "kernelspec": {
      "name": "python3",
      "display_name": "Python 3"
    }
  },
  "cells": [
    {
      "cell_type": "markdown",
      "metadata": {
        "id": "view-in-github",
        "colab_type": "text"
      },
      "source": [
        "<a href=\"https://colab.research.google.com/github/EvenSol/testneqsim/blob/master/testGIT_idownloadpynb.ipynb\" target=\"_parent\"><img src=\"https://colab.research.google.com/assets/colab-badge.svg\" alt=\"Open In Colab\"/></a>"
      ]
    },
    {
      "metadata": {
        "id": "mtrgxeuiQxhV",
        "colab_type": "text"
      },
      "cell_type": "markdown",
      "source": [
        "# Install NeqSim"
      ]
    },
    {
      "metadata": {
        "id": "fcOvkrWJSroF",
        "colab_type": "text"
      },
      "cell_type": "markdown",
      "source": [
        "## Install NeqSim\n",
        "\n",
        "Cloning for GIThub"
      ]
    },
    {
      "metadata": {
        "id": "EFcS9KUUSqwl",
        "colab_type": "code",
        "colab": {
          "base_uri": "https://localhost:8080/",
          "height": 303
        },
        "cellView": "code",
        "outputId": "21be97d8-4e6c-45a7-99e8-cc9fa830f859"
      },
      "cell_type": "code",
      "source": [
        "#@title Initialize NeqSim\n",
        "#@Install requred packages\n",
        "!pip install py4j\n",
        "!rm -rf testneqsim\n",
        "!git clone https://github.com/EvenSol/testneqsim.git\n",
        "!cd testneqsim\n",
        "!pip install testneqsim/neqsim-0.0.1-py3-none-any.whl"
      ],
      "execution_count": 1,
      "outputs": [
        {
          "output_type": "stream",
          "text": [
            "Collecting py4j\n",
            "\u001b[?25l  Downloading https://files.pythonhosted.org/packages/04/de/2d314a921ef4c20b283e1de94e0780273678caac901564df06b948e4ba9b/py4j-0.10.8.1-py2.py3-none-any.whl (196kB)\n",
            "\u001b[K    100% |████████████████████████████████| 204kB 26.3MB/s \n",
            "\u001b[?25hInstalling collected packages: py4j\n",
            "Successfully installed py4j-0.10.8.1\n",
            "Cloning into 'testneqsim'...\n",
            "remote: Enumerating objects: 6, done.\u001b[K\n",
            "remote: Counting objects: 100% (6/6), done.\u001b[K\n",
            "remote: Compressing objects: 100% (6/6), done.\u001b[K\n",
            "remote: Total 49 (delta 2), reused 0 (delta 0), pack-reused 43\u001b[K\n",
            "Unpacking objects: 100% (49/49), done.\n",
            "Processing ./testneqsim/neqsim-0.0.1-py3-none-any.whl\n",
            "Requirement already satisfied: py4j in /usr/local/lib/python3.6/dist-packages (from neqsim==0.0.1) (0.10.8.1)\n",
            "Installing collected packages: neqsim\n",
            "Successfully installed neqsim-0.0.1\n"
          ],
          "name": "stdout"
        }
      ]
    },
    {
      "metadata": {
        "id": "BU8GvKUli-6t",
        "colab_type": "text"
      },
      "cell_type": "markdown",
      "source": [
        "##Import NeqSim packages\n",
        "\n",
        "Start by importing the NeqSim libraries and packages used for plotting."
      ]
    },
    {
      "metadata": {
        "id": "LUgEeV22cKRy",
        "colab_type": "code",
        "colab": {}
      },
      "cell_type": "code",
      "source": [
        "import neqsim\n",
        "from neqsim.thermo.thermoTools import *\n",
        "import matplotlib\n",
        "import numpy as np\n",
        "import matplotlib.pyplot as plt\n",
        "import math\n",
        "%matplotlib inline"
      ],
      "execution_count": 0,
      "outputs": []
    },
    {
      "metadata": {
        "id": "xtMeK3MpQtoO",
        "colab_type": "text"
      },
      "cell_type": "markdown",
      "source": [
        "# Vapour pressure calculations"
      ]
    },
    {
      "metadata": {
        "id": "54l478JqRZ0M",
        "colab_type": "text"
      },
      "cell_type": "markdown",
      "source": [
        "## Calculation of vapour pressure curve"
      ]
    },
    {
      "metadata": {
        "id": "is1SEVPKkT6z",
        "colab_type": "code",
        "outputId": "22f03737-832c-4655-f032-bcc6ccefd70d",
        "colab": {
          "base_uri": "https://localhost:8080/",
          "height": 332
        }
      },
      "cell_type": "code",
      "source": [
        "fluid1 = fluid('srk') #create a fluid using the SRK-EoS\n",
        "fluid1.addComponent('propane', 1.0) #adding 1 mole methane to the fluid\n",
        "fluid1.setTemperature(111.0) # setting an initial temperature of -160 deg C\n",
        "fluid1.setPressure(1.0)\n",
        "bubt(fluid1)\n",
        "print('methane buble point temperature ', fluid1.getTemperature('C'), \" at pressure \", fluid1.getPressure('bara'))\n",
        "print('methane entalpy of vaporization ', (fluid1.getPhase('gas').getEnthalpy('kJ/kg')-fluid1.getPhase('oil').getEnthalpy('kJ/kg'), ' kJ/kg'))\n",
        "\n",
        "def bubleP(pressure):\n",
        "    fluid1.setPressure(pressure)\n",
        "    bubt(fluid1)\n",
        "    return fluid1.getTemperature('C')\n",
        "\n",
        "pressure = np.arange(1.0, 11.0, 1.0)\n",
        "temperature = [bubleP(P) for P in pressure]\n",
        "\n",
        "plt.plot(temperature, pressure)\n",
        "plt.xlabel('Temperature [C]')\n",
        "plt.ylabel('Pressure [bara]')"
      ],
      "execution_count": 6,
      "outputs": [
        {
          "output_type": "stream",
          "text": [
            "methane buble point temperature  -42.17772086617717  at pressure  1.0\n",
            "methane entalpy of vaporization  (303.40514081044967, ' kJ/kg')\n"
          ],
          "name": "stdout"
        },
        {
          "output_type": "execute_result",
          "data": {
            "text/plain": [
              "Text(0, 0.5, 'Pressure [bara]')"
            ]
          },
          "metadata": {
            "tags": []
          },
          "execution_count": 6
        },
        {
          "output_type": "display_data",
          "data": {
            "image/png": "[encoded data removed]",
            "text/plain": [
              "<Figure size 432x288 with 1 Axes>"
            ]
          },
          "metadata": {
            "tags": []
          }
        }
      ]
    },
    {
      "metadata": {
        "id": "HWlI2HuvSVAP",
        "colab_type": "text"
      },
      "cell_type": "markdown",
      "source": [
        "## Calculation of phase envelope\n",
        "\n",
        "Calculation of phase envelope...."
      ]
    },
    {
      "metadata": {
        "id": "fpuPGEkZ_40c",
        "colab_type": "code",
        "outputId": "fd8a75a7-ad42-44de-c934-a80450a300cf",
        "colab": {
          "base_uri": "https://localhost:8080/",
          "height": 313
        }
      },
      "cell_type": "code",
      "source": [
        "thermoSystem = neqsim.thermo.system.SystemSrkEos(280.0,10.0)\n",
        "thermoSystem.addComponent(\"nitrogen\", 1.0)\n",
        "thermoSystem.addComponent(\"methane\", 10.0)\n",
        "thermoSystem.addComponent(\"ethane\", 4.0)\n",
        "thermoSystem.addComponent(\"propane\", 2.0)\n",
        "thermoSystem.addComponent(\"i-butane\", 1.0)\n",
        "thermoSystem.addComponent(\"n-butane\", 1.0)\n",
        "thermoSystem.addComponent(\"nC10\", 1.0)\n",
        "\n",
        "thermoOps = neqsim.thermodynamicOperations.ThermodynamicOperations(thermoSystem)\n",
        "thermoOps.calcPTphaseEnvelope()\n",
        "\n",
        "plt.plot(list(thermoOps.getOperation().get(\"dewT\")),list(thermoOps.getOperation().get(\"dewP\")), label=\"dew point\")\n",
        "plt.plot(list(thermoOps.getOperation().get(\"bubT\")),list(thermoOps.getOperation().get(\"bubP\")), label=\"bubble point\")\n",
        "plt.title('PT envelope')\n",
        "plt.xlabel('Temperature [\\u00B0C]')\n",
        "plt.ylabel('Pressure [bar]')\n",
        "plt.legend()\n",
        "plt.show()"
      ],
      "execution_count": 7,
      "outputs": [
        {
          "output_type": "display_data",
          "data": {
            "image/png": "[encoded data removed]",
            "text/plain": [
              "<Figure size 432x288 with 1 Axes>"
            ]
          },
          "metadata": {
            "tags": []
          }
        }
      ]
    },
    {
      "metadata": {
        "id": "jls-zRjuRAwy",
        "colab_type": "text"
      },
      "cell_type": "markdown",
      "source": [
        "# Hydrate calculations"
      ]
    },
    {
      "metadata": {
        "id": "2seJn3LZREYb",
        "colab_type": "text"
      },
      "cell_type": "markdown",
      "source": [
        "## How to find hydrate temperature\n",
        "\n",
        "Hydrate temperatures can be found ..."
      ]
    },
    {
      "metadata": {
        "id": "vp1emV-XAEGW",
        "colab_type": "code",
        "outputId": "ec696422-402c-457a-ad26-215a1c3adcd1",
        "colab": {
          "base_uri": "https://localhost:8080/",
          "height": 34
        }
      },
      "cell_type": "code",
      "source": [
        "pressure = 150.0 #@param {type:\"number\"}\n",
        "thermoSystem = neqsim.thermo.system.SystemSrkEos(280.0,pressure)\n",
        "thermoSystem.addComponent(\"methane\", 90.0)\n",
        "thermoSystem.addComponent(\"ethane\", 10.0)\n",
        "thermoSystem.addComponent(\"propane\", 1.0)\n",
        "thermoSystem.addComponent(\"water\", 4.0)\n",
        "thermoSystem.setHydrateCheck(True);\n",
        "thermoOps = neqsim.thermodynamicOperations.ThermodynamicOperations(thermoSystem)\n",
        "thermoOps.hydrateFormationTemperature()\n",
        "\n",
        "print(\"Hydrate equilibrium temperature \", thermoSystem.getTemperature()-273.15, \" C\")"
      ],
      "execution_count": 9,
      "outputs": [
        {
          "output_type": "stream",
          "text": [
            "Hydrate equilibrium temperature  21.31220453897521  C\n"
          ],
          "name": "stdout"
        }
      ]
    }
  ]
}