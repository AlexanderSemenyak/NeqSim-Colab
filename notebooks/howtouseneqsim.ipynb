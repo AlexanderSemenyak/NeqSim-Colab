{
  "nbformat": 4,
  "nbformat_minor": 0,
  "metadata": {
    "colab": {
      "name": "howtouseneqsim.ipynb",
      "version": "0.3.2",
      "provenance": [],
      "collapsed_sections": [],
      "include_colab_link": true
    },
    "kernelspec": {
      "name": "python3",
      "display_name": "Python 3"
    }
  },
  "cells": [
    {
      "cell_type": "markdown",
      "metadata": {
        "id": "view-in-github",
        "colab_type": "text"
      },
      "source": [
        "<a href=\"https://colab.research.google.com/github/EvenSol/NeqSim-Colab/blob/master/notebooks/howtouseneqsim.ipynb\" target=\"_parent\"><img src=\"https://colab.research.google.com/assets/colab-badge.svg\" alt=\"Open In Colab\"/></a>"
      ]
    },
    {
      "cell_type": "code",
      "metadata": {
        "id": "em7r_nM7_Qb9",
        "colab_type": "code",
        "colab": {}
      },
      "source": [
        "#@title Download an install neqsim python package\n",
        "#@markdown The first step of using neqsim in Colab will be to download the neqsim python package, and install it using pip. The py4j library is neccesary for using the neqsim java library from python.\n",
        "%%capture\n",
        "!pip install py4j\n",
        "!pip install --upgrade -q gspread\n",
        "!rm -rf testneqsim\n",
        "!git clone https://github.com/EvenSol/NeqSim-Colab.git\n",
        "!cd NeqSim-Colab\n",
        "!pip install NeqSim-Colab/lib/neqsim-*.whl"
      ],
      "execution_count": 0,
      "outputs": []
    },
    {
      "cell_type": "code",
      "metadata": {
        "id": "2Fe6fiYmDP8m",
        "colab_type": "code",
        "colab": {}
      },
      "source": [
        "#@title Import the neqsim packagee in python\n",
        "#@markdown This example shos how to import the neqsim package in puthon\n",
        "import neqsim\n",
        "from neqsim.thermo.thermoTools import *\n",
        "import matplotlib\n",
        "import numpy as np\n",
        "import matplotlib.pyplot as plt\n",
        "import math\n",
        "%matplotlib inline"
      ],
      "execution_count": 0,
      "outputs": []
    },
    {
      "cell_type": "code",
      "metadata": {
        "id": "9Kkz5ZeLEyRv",
        "colab_type": "code",
        "cellView": "both",
        "outputId": "a3bd8074-8c0c-43f7-dc4e-f5344dfaa634",
        "colab": {
          "base_uri": "https://localhost:8080/",
          "height": 247
        }
      },
      "source": [
        "#@title  Example create a fluid in neqsim, run a TPflash, and report properties of the fluid\n",
        "#@markdown A standard calculation in neqsim will be to create a fluid and perofrm various unit operations. In this exampl we will run a TPflash for a three component fluid.\n",
        "\n",
        "eosname = 'srk' #@param [\"srk\", \"pr\", \"cpa\"]\n",
        "mixingRule = 'classic' #@param [\"classic\", \"HV\"]\n",
        "componentName1 = \"methane\" #@param [\"CO2\", \"nitrogen\", \"methane\", \"ethane\", \"propane\", \"n-hexane\", \"n-heptane\", \"water\"]\n",
        "componentName2 = \"n-heptane\" #@param [\"CO2\", \"nitrogen\", \"methane\", \"ethane\", \"propane\", \"n-hexane\", \"n-heptane\", \"water\"]\n",
        "componentName3 = \"water\" #@param [\"CO2\", \"nitrogen\", \"methane\", \"ethane\", \"propane\", \"n-hexane\", \"n-heptane\", \"water\"]\n",
        "\n",
        "molescomponent1 = 1.0 #@param {type:\"number\"}\n",
        "molescomponent2 = 1.0  #@param {type:\"number\"}\n",
        "molescomponent3 = 1.0  #@param {type:\"number\"}\n",
        "\n",
        "# Creating a fluid in neqsim\n",
        "fluid1 = fluid(eosname) #create a fluid using the SRK-EoS\n",
        "fluid1.addComponent(componentName1, molescomponent1)\n",
        "fluid1.addComponent(componentName2, molescomponent2)\n",
        "fluid1.addComponent(componentName3, molescomponent3)\n",
        "fluid1.setMixingRule(mixingRule)\n",
        "fluid1.setMultiPhaseCheck(True)\n",
        "\n",
        "TPflash(fluid1)\n",
        "fluid1.initPhysicalProperties()\n",
        "\n",
        "print('number of phases ', fluid1.getNumberOfPhases(), '-')\n",
        "\n",
        "if fluid1.hasPhaseType(\"gas\"):\n",
        "    phaseNumber = fluid1.getPhaseNumberOfPhase(\"gas\")\n",
        "    gasFractionc = fluid1.getMoleFraction(phaseNumber) * 100\n",
        "    gasMolarVolume = 1.0 / fluid1.getPhase(phaseNumber).getDensity(\"mol/m3\")\n",
        "    gasVolumeFraction = fluid1.getCorrectedVolumeFraction(phaseNumber) * 100\n",
        "    gasDensity = fluid1.getPhase(phaseNumber).getDensity(\"kg/m3\")\n",
        "    gasZ = fluid1.getPhase(phaseNumber).getZ()\n",
        "    gasMolarMass = fluid1.getPhase(phaseNumber).getMolarMass() * 1000\n",
        "    gasEnthalpy = fluid1.getPhase(phaseNumber).getEnthalpy(\"J/mol\")\n",
        "    gasWtFraction = fluid1.getWtFraction(phaseNumber) * 100\n",
        "    gasKappa = fluid1.getPhase(phaseNumber).getGamma()\n",
        "    gasViscosity = fluid1.getPhase(phaseNumber).getViscosity(\"kg/msec\")\n",
        "    gasThermalConductivity = fluid1.getPhase(phaseNumber).getConductivity(\"W/mK\")\n",
        "    gasSoundSpeed = fluid1.getPhase(phaseNumber).getSoundSpeed()\n",
        "    gasJouleThomsonCoefficient = fluid1.getPhase(phaseNumber).getJouleThomsonCoefficient() / 1e5\n",
        "    print('gas fractionc ', round(gasFractionc,3), ' mol%')\n",
        "    print('gas density ', round(gasDensity,3), ' kg/m3')\n",
        "    print('gas molar mass ', round(gasMolarMass,3), ' kg/mol')\n",
        "    print('gas viscosity ', round(gasViscosity,7), ' kg/msec')\n",
        "\n",
        "if fluid1.hasPhaseType(\"oil\"):\n",
        "    phaseNumber = fluid1.getPhaseNumberOfPhase(\"oil\")\n",
        "    oilFractionc = fluid1.getMoleFraction(phaseNumber) * 100\n",
        "    oilMolarVolume = 1.0 / fluid1.getPhase(phaseNumber).getDensity(\"mol/m3\")\n",
        "    oilVolumeFraction = fluid1.getCorrectedVolumeFraction(phaseNumber) * 100\n",
        "    oilDensity = fluid1.getPhase(phaseNumber).getDensity(\"kg/m3\")\n",
        "    oilZ = fluid1.getPhase(phaseNumber).getZ()\n",
        "    oilMolarMass = fluid1.getPhase(phaseNumber).getMolarMass() * 1000\n",
        "    oilEnthalpy = fluid1.getPhase(phaseNumber).getEnthalpy(\"J/mol\")\n",
        "    oilWtFraction = fluid1.getWtFraction(phaseNumber) * 100\n",
        "    oilKappa = fluid1.getPhase(phaseNumber).getGamma()\n",
        "    oilViscosity = fluid1.getPhase(phaseNumber).getViscosity(\"kg/msec\")\n",
        "    oilThermalConductivity = fluid1.getPhase(phaseNumber).getConductivity(\"W/mK\")\n",
        "    oilSoundSpeed = fluid1.getPhase(phaseNumber).getSoundSpeed()\n",
        "    oilJouleThomsonCoefficient = fluid1.getPhase(phaseNumber).getJouleThomsonCoefficient() / 1e5\n",
        "    print('oil fractionc ', round(oilFractionc,3), ' mol%')\n",
        "    print('oil density ', round(oilDensity,3), ' kg/m3')\n",
        "    print('oil molar mass ', round(oilMolarMass,3), ' kg/mol')\n",
        "    print('oil viscosity ', round(oilViscosity,6), ' kg/msec')\n",
        "\n",
        "if fluid1.hasPhaseType(\"aqueous\"):\n",
        "    phaseNumber = fluid1.getPhaseNumberOfPhase(\"aqueous\")\n",
        "    aqueousFractionc = fluid1.getMoleFraction(phaseNumber) * 100\n",
        "    aqueousMolarVolume = 1.0 / fluid1.getPhase(phaseNumber).getDensity(\"mol/m3\")\n",
        "    aqueousVolumeFraction = fluid1.getCorrectedVolumeFraction(phaseNumber) * 100\n",
        "    aqueousDensity = fluid1.getPhase(phaseNumber).getDensity(\"kg/m3\")\n",
        "    aqueousZ = fluid1.getPhase(phaseNumber).getZ()\n",
        "    aqueousMolarMass = fluid1.getPhase(phaseNumber).getMolarMass() * 1000\n",
        "    aqueousEnthalpy = fluid1.getPhase(phaseNumber).getEnthalpy(\"J/mol\")\n",
        "    aqueousWtFraction = fluid1.getWtFraction(phaseNumber) * 100\n",
        "    aqueousKappa = fluid1.getPhase(phaseNumber).getGamma()\n",
        "    aqueousViscosity = fluid1.getPhase(phaseNumber).getViscosity(\"kg/msec\")\n",
        "    aqueousThermalConductivity = fluid1.getPhase(phaseNumber).getConductivity(\"W/mK\")\n",
        "    aqueousSoundSpeed = fluid1.getPhase(phaseNumber).getSoundSpeed()\n",
        "    aqueousJouleThomsonCoefficient = fluid1.getPhase(phaseNumber).getJouleThomsonCoefficient() / 1e5\n",
        "    print('aqueous fractionc ', round(aqueousFractionc,3), ' mol%')\n",
        "    print('aqueous density ', round(aqueousDensity,3), ' kg/m3')\n",
        "    print('aqueous molar mass ', round(aqueousMolarMass,3), ' kg/mol')\n",
        "    print('aqueous viscosity ', round(aqueousViscosity,6), ' kg/msec')\n"
      ],
      "execution_count": 21,
      "outputs": [
        {
          "output_type": "stream",
          "text": [
            "number of phases  3 -\n",
            "gas fractionc  36.217  mol%\n",
            "gas density  0.868  kg/m3\n",
            "gas molar mass  21.165  kg/mol\n",
            "gas viscosity  1.08e-05  kg/msec\n",
            "oil fractionc  31.306  mol%\n",
            "oil density  691.323  kg/m3\n",
            "oil molar mass  99.784  kg/mol\n",
            "oil viscosity  0.000432  kg/msec\n",
            "aqueous fractionc  32.477  mol%\n",
            "aqueous density  1001.724  kg/m3\n",
            "aqueous molar mass  18.015  kg/mol\n",
            "aqueous viscosity  0.000892  kg/msec\n"
          ],
          "name": "stdout"
        }
      ]
    }
  ]
}