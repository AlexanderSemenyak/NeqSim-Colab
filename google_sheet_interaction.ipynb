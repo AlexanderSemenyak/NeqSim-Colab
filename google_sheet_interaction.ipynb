{
  "nbformat": 4,
  "nbformat_minor": 0,
  "metadata": {
    "colab": {
      "name": "google sheet interaction.ipynb",
      "version": "0.3.2",
      "provenance": [],
      "toc_visible": true,
      "include_colab_link": true
    },
    "kernelspec": {
      "name": "python3",
      "display_name": "Python 3"
    }
  },
  "cells": [
    {
      "cell_type": "markdown",
      "metadata": {
        "id": "view-in-github",
        "colab_type": "text"
      },
      "source": [
        "<a href=\"https://colab.research.google.com/github/EvenSol/testneqsim/blob/master/google_sheet_interaction.ipynb\" target=\"_parent\"><img src=\"https://colab.research.google.com/assets/colab-badge.svg\" alt=\"Open In Colab\"/></a>"
      ]
    },
    {
      "metadata": {
        "id": "v7cWi1smrVEJ",
        "colab_type": "code",
        "colab": {
          "base_uri": "https://localhost:8080/",
          "height": 196
        },
        "outputId": "9ac5ed4a-0dc0-42a2-cb0d-d50f7cc0ba38"
      },
      "cell_type": "code",
      "source": [
        "#@title Use of NeqSim in Googel Sheets\n",
        "#@\n",
        "!pip install py4j\n",
        "!pip install --upgrade -q gspread\n",
        "!rm -rf testneqsim\n",
        "!git clone https://github.com/EvenSol/testneqsim.git\n",
        "!cd testneqsim\n",
        "!pip install testneqsim/neqsim-0.0.1-py3-none-any.whl\n",
        "import neqsim\n",
        "from neqsim.thermo.thermoTools import *\n",
        "import matplotlib\n",
        "import numpy as np\n",
        "import matplotlib.pyplot as plt\n",
        "import math\n",
        "%matplotlib inline"
      ],
      "execution_count": 4,
      "outputs": [
        {
          "output_type": "stream",
          "text": [
            "Requirement already satisfied: py4j in /usr/local/lib/python3.6/dist-packages (0.10.8.1)\n",
            "Cloning into 'testneqsim'...\n",
            "remote: Enumerating objects: 9, done.\u001b[K\n",
            "remote: Counting objects: 100% (9/9), done.\u001b[K\n",
            "remote: Compressing objects: 100% (9/9), done.\u001b[K\n",
            "remote: Total 52 (delta 4), reused 0 (delta 0), pack-reused 43\u001b[K\n",
            "Unpacking objects: 100% (52/52), done.\n",
            "Requirement already satisfied: neqsim==0.0.1 from file:///content/testneqsim/neqsim-0.0.1-py3-none-any.whl in /usr/local/lib/python3.6/dist-packages (0.0.1)\n",
            "Requirement already satisfied: py4j in /usr/local/lib/python3.6/dist-packages (from neqsim==0.0.1) (0.10.8.1)\n"
          ],
          "name": "stdout"
        }
      ]
    },
    {
      "metadata": {
        "id": "_URKJgmwrYox",
        "colab_type": "text"
      },
      "cell_type": "markdown",
      "source": [
        "# How to connect and create a Google sheet"
      ]
    },
    {
      "metadata": {
        "id": "13qtyOSCsKv_",
        "colab_type": "code",
        "colab": {}
      },
      "cell_type": "code",
      "source": [
        "from google.colab import auth\n",
        "auth.authenticate_user()\n",
        "\n",
        "import gspread\n",
        "from oauth2client.client import GoogleCredentials\n",
        "sheetTitle = 'a new neqsim spread sheet'  #@param {type:\"string\"}\n",
        "gc = gspread.authorize(GoogleCredentials.get_application_default())\n",
        "sh = gc.create(sheetTitle)"
      ],
      "execution_count": 0,
      "outputs": []
    },
    {
      "metadata": {
        "id": "3xfXatvQscib",
        "colab_type": "text"
      },
      "cell_type": "markdown",
      "source": [
        "# Writing values to a google sheet"
      ]
    },
    {
      "metadata": {
        "id": "VtyDU0HVsieT",
        "colab_type": "code",
        "colab": {
          "base_uri": "https://localhost:8080/",
          "height": 158
        },
        "outputId": "0065c700-1e90-444f-d04b-e37abe647862"
      },
      "cell_type": "code",
      "source": [
        "# Open our new sheet and add some data.\n",
        "worksheet = gc.open(sheetTitle).sheet1\n",
        "worksheet.clear()\n",
        "\n",
        "componentName = 'methane' #@param {type:\"string\"}\n",
        "minPressure = 10.0 #@param {type:\"number\"}\n",
        "maxPressure = 30.0 #@param {type:\"number\"}\n",
        "\n",
        "fluid1 = fluid('srk') #create a fluid using the SRK-EoS\n",
        "fluid1.addComponent('propane', 1.0) #adding 1 mole methane to the fluid\n",
        "fluid1.setTemperature(111.0) # setting an initial temperature of -160 deg C\n",
        "fluid1.setPressure(1.0)\n",
        "bubt(fluid1)\n",
        "print('methane buble point temperature ', fluid1.getTemperature('C'), \" at pressure \", fluid1.getPressure('bara'))\n",
        "print('methane entalpy of vaporization ', (fluid1.getPhase('gas').getEnthalpy('kJ/kg')-fluid1.getPhase('oil').getEnthalpy('kJ/kg'), ' kJ/kg'))\n",
        "\n",
        "def bubleP(pressure):\n",
        "    fluid1.setPressure(pressure)\n",
        "    bubt(fluid1)\n",
        "    return fluid1.getTemperature('C')\n",
        "\n",
        "pressure = np.arange(minPressure, maxPressure, 1.0)\n",
        "temperature = [bubleP(P) for P in pressure]\n",
        "\n",
        "print(pressure.size)\n",
        "cell_list = worksheet.range('A2:A'+str(pressure.size+1))\n",
        "cell_list2 = worksheet.range('B2:B'+str(pressure.size+1))\n",
        "\n",
        "i=0\n",
        "for cell in cell_list:\n",
        "  cell.value = pressure[i]\n",
        "  i +=1\n",
        "\n",
        "i=0\n",
        "for cell in cell_list2:\n",
        "  cell.value = temperature[i]\n",
        "  i +=1\n",
        "  \n",
        "  \n",
        "worksheet.update_cells(cell_list)\n",
        "worksheet.update_cells(cell_list2)\n"
      ],
      "execution_count": 44,
      "outputs": [
        {
          "output_type": "stream",
          "text": [
            "methane buble point temperature  -42.17772086617717  at pressure  1.0\n",
            "methane entalpy of vaporization  (303.40514081044967, ' kJ/kg')\n",
            "29\n"
          ],
          "name": "stdout"
        },
        {
          "output_type": "execute_result",
          "data": {
            "text/plain": [
              "{'spreadsheetId': '1ilOefyPXayYqu6e98sNDkIEPVbNekgUpZgrvaX5-JEI',\n",
              " 'updatedCells': 29,\n",
              " 'updatedColumns': 1,\n",
              " 'updatedRange': \"'Ark 1'!B2:B30\",\n",
              " 'updatedRows': 29}"
            ]
          },
          "metadata": {
            "tags": []
          },
          "execution_count": 44
        }
      ]
    }
  ]
}