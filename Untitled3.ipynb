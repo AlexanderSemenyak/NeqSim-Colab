{
  "nbformat": 4,
  "nbformat_minor": 0,
  "metadata": {
    "colab": {
      "name": "Untitled3.ipynb",
      "version": "0.3.2",
      "provenance": [],
      "include_colab_link": true
    },
    "kernelspec": {
      "name": "python3",
      "display_name": "Python 3"
    }
  },
  "cells": [
    {
      "cell_type": "markdown",
      "metadata": {
        "id": "view-in-github",
        "colab_type": "text"
      },
      "source": [
        "<a href=\"https://colab.research.google.com/github/EvenSol/test1/blob/master/Untitled3.ipynb\" target=\"_parent\"><img src=\"https://colab.research.google.com/assets/colab-badge.svg\" alt=\"Open In Colab\"/></a>"
      ]
    },
    {
      "metadata": {
        "id": "aofL9OE7Z8ek",
        "colab_type": "code",
        "colab": {
          "base_uri": "https://localhost:8080/",
          "height": 493
        },
        "outputId": "1bc03509-aafb-4959-bc45-c37e50f90926"
      },
      "cell_type": "code",
      "source": [
        "#!pip install py4j\n",
        "#!wget https://github.com/EvenSol/test1/blob/master/neqsim-0.0.1-py3-none-any.whl\n",
        "#!pip uninstall neqsim\n",
        "!pip install neqsim-0.0.1-py3-none-any.whl"
      ],
      "execution_count": 12,
      "outputs": [
        {
          "output_type": "stream",
          "text": [
            "Processing ./neqsim-0.0.1-py3-none-any.whl\n",
            "\u001b[31mException:\n",
            "Traceback (most recent call last):\n",
            "  File \"/usr/local/lib/python3.6/dist-packages/pip/_internal/cli/base_command.py\", line 179, in main\n",
            "    status = self.run(options, args)\n",
            "  File \"/usr/local/lib/python3.6/dist-packages/pip/_internal/commands/install.py\", line 315, in run\n",
            "    resolver.resolve(requirement_set)\n",
            "  File \"/usr/local/lib/python3.6/dist-packages/pip/_internal/resolve.py\", line 131, in resolve\n",
            "    self._resolve_one(requirement_set, req)\n",
            "  File \"/usr/local/lib/python3.6/dist-packages/pip/_internal/resolve.py\", line 294, in _resolve_one\n",
            "    abstract_dist = self._get_abstract_dist_for(req_to_install)\n",
            "  File \"/usr/local/lib/python3.6/dist-packages/pip/_internal/resolve.py\", line 242, in _get_abstract_dist_for\n",
            "    self.require_hashes\n",
            "  File \"/usr/local/lib/python3.6/dist-packages/pip/_internal/operations/prepare.py\", line 334, in prepare_linked_requirement\n",
            "    progress_bar=self.progress_bar\n",
            "  File \"/usr/local/lib/python3.6/dist-packages/pip/_internal/download.py\", line 865, in unpack_url\n",
            "    unpack_file_url(link, location, download_dir, hashes=hashes)\n",
            "  File \"/usr/local/lib/python3.6/dist-packages/pip/_internal/download.py\", line 763, in unpack_file_url\n",
            "    unpack_file(from_path, location, content_type, link)\n",
            "  File \"/usr/local/lib/python3.6/dist-packages/pip/_internal/utils/misc.py\", line 626, in unpack_file\n",
            "    flatten=not filename.endswith('.whl')\n",
            "  File \"/usr/local/lib/python3.6/dist-packages/pip/_internal/utils/misc.py\", line 503, in unzip_file\n",
            "    zip = zipfile.ZipFile(zipfp, allowZip64=True)\n",
            "  File \"/usr/lib/python3.6/zipfile.py\", line 1131, in __init__\n",
            "    self._RealGetContents()\n",
            "  File \"/usr/lib/python3.6/zipfile.py\", line 1198, in _RealGetContents\n",
            "    raise BadZipFile(\"File is not a zip file\")\n",
            "zipfile.BadZipFile: File is not a zip file\u001b[0m\n"
          ],
          "name": "stdout"
        }
      ]
    },
    {
      "metadata": {
        "id": "r5MYU_7Ebq0V",
        "colab_type": "code",
        "colab": {
          "base_uri": "https://localhost:8080/",
          "height": 190
        },
        "outputId": "d15f8294-a223-478d-ee99-022d95c45de8"
      },
      "cell_type": "code",
      "source": [
        "from google.colab import drive\n",
        "drive.mount('/content/gdrive')\n",
        "#!pip install py4j\n",
        "#!pip uninstall neqsim\n",
        "!pip install /content/gdrive/'My Drive'/'Colab Notebooks'/neqsim-0.0.1-py3-none-any.whl"
      ],
      "execution_count": 5,
      "outputs": [
        {
          "output_type": "stream",
          "text": [
            "Go to this URL in a browser: https://accounts.google.com/o/oauth2/auth?client_id=947318989803-6bn6qk8qdgf4n4g3pfee6491hc0brc4i.apps.googleusercontent.com&redirect_uri=urn%3Aietf%3Awg%3Aoauth%3A2.0%3Aoob&scope=email%20https%3A%2F%2Fwww.googleapis.com%2Fauth%2Fdocs.test%20https%3A%2F%2Fwww.googleapis.com%2Fauth%2Fdrive%20https%3A%2F%2Fwww.googleapis.com%2Fauth%2Fdrive.photos.readonly%20https%3A%2F%2Fwww.googleapis.com%2Fauth%2Fpeopleapi.readonly&response_type=code\n",
            "\n",
            "Enter your authorization code:\n",
            "··········\n",
            "Mounted at /content/gdrive\n",
            "Processing ./gdrive/My Drive/Colab Notebooks/neqsim-0.0.1-py3-none-any.whl\n",
            "Requirement already satisfied: py4j in /usr/local/lib/python3.6/dist-packages (from neqsim==0.0.1) (0.10.8.1)\n",
            "Installing collected packages: neqsim\n",
            "Successfully installed neqsim-0.0.1\n"
          ],
          "name": "stdout"
        }
      ]
    },
    {
      "metadata": {
        "id": "IIKDfB60cEyp",
        "colab_type": "code",
        "colab": {
          "base_uri": "https://localhost:8080/",
          "height": 476
        },
        "outputId": "5b0e67fa-2864-4610-bb8f-844857c22f12"
      },
      "cell_type": "code",
      "source": [
        "!pip uninstall neqsim\n",
        "!pip install neqsim-0.0.1-py3-none-any.whl"
      ],
      "execution_count": 11,
      "outputs": [
        {
          "output_type": "stream",
          "text": [
            "\u001b[33mSkipping neqsim as it is not installed.\u001b[0m\n",
            "Processing ./neqsim-0.0.1-py3-none-any.whl\n",
            "\u001b[31mException:\n",
            "Traceback (most recent call last):\n",
            "  File \"/usr/local/lib/python3.6/dist-packages/pip/_internal/cli/base_command.py\", line 179, in main\n",
            "    status = self.run(options, args)\n",
            "  File \"/usr/local/lib/python3.6/dist-packages/pip/_internal/commands/install.py\", line 315, in run\n",
            "    resolver.resolve(requirement_set)\n",
            "  File \"/usr/local/lib/python3.6/dist-packages/pip/_internal/resolve.py\", line 131, in resolve\n",
            "    self._resolve_one(requirement_set, req)\n",
            "  File \"/usr/local/lib/python3.6/dist-packages/pip/_internal/resolve.py\", line 294, in _resolve_one\n",
            "    abstract_dist = self._get_abstract_dist_for(req_to_install)\n",
            "  File \"/usr/local/lib/python3.6/dist-packages/pip/_internal/resolve.py\", line 242, in _get_abstract_dist_for\n",
            "    self.require_hashes\n",
            "  File \"/usr/local/lib/python3.6/dist-packages/pip/_internal/operations/prepare.py\", line 334, in prepare_linked_requirement\n",
            "    progress_bar=self.progress_bar\n",
            "  File \"/usr/local/lib/python3.6/dist-packages/pip/_internal/download.py\", line 865, in unpack_url\n",
            "    unpack_file_url(link, location, download_dir, hashes=hashes)\n",
            "  File \"/usr/local/lib/python3.6/dist-packages/pip/_internal/download.py\", line 763, in unpack_file_url\n",
            "    unpack_file(from_path, location, content_type, link)\n",
            "  File \"/usr/local/lib/python3.6/dist-packages/pip/_internal/utils/misc.py\", line 626, in unpack_file\n",
            "    flatten=not filename.endswith('.whl')\n",
            "  File \"/usr/local/lib/python3.6/dist-packages/pip/_internal/utils/misc.py\", line 519, in unzip_file\n",
            "    fp = zip.open(name)\n",
            "  File \"/usr/lib/python3.6/zipfile.py\", line 1396, in open\n",
            "    raise BadZipFile(\"Bad magic number for file header\")\n",
            "zipfile.BadZipFile: Bad magic number for file header\u001b[0m\n"
          ],
          "name": "stdout"
        }
      ]
    },
    {
      "metadata": {
        "id": "LUgEeV22cKRy",
        "colab_type": "code",
        "colab": {}
      },
      "cell_type": "code",
      "source": [
        ""
      ],
      "execution_count": 0,
      "outputs": []
    }
  ]
}